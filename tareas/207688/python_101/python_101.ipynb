{
 "cells": [
  {
   "cell_type": "code",
   "execution_count": 1,
   "metadata": {},
   "outputs": [
    {
     "name": "stdout",
     "output_type": "stream",
     "text": [
      "Midiendo tiempos...\n",
      "Tiempo promedio sin optimización: 0.0856 segundos\n",
      "Tiempo promedio con numpy: 0.0038 segundos\n",
      "Tiempo promedio con joblib: 2.7606 segundos\n"
     ]
    }
   ],
   "source": [
    "import numpy as np\n",
    "import time\n",
    "from joblib import Parallel, delayed\n",
    "import multiprocessing\n",
    "\n",
    "# Función costosa para simular trabajo computacional\n",
    "def expensive_function(x):\n",
    "    return x ** 2\n",
    "\n",
    "# Sin optimización (for loop estándar)\n",
    "def regular_for_loop(n):\n",
    "    result = []\n",
    "    for i in range(n):\n",
    "        result.append(expensive_function(i))\n",
    "    return result\n",
    "\n",
    "# Optimización con numpy (vectorización)\n",
    "def vectorized_with_numpy(n):\n",
    "    array = np.arange(n)\n",
    "    return array ** 2\n",
    "\n",
    "# Paralelización con joblib\n",
    "def parallel_with_joblib(n):\n",
    "    return Parallel(n_jobs=-1)(delayed(expensive_function)(i) for i in range(n))\n",
    "\n",
    "# Paralelización con multiprocessing\n",
    "def parallel_with_multiprocessing(n):\n",
    "    pool = multiprocessing.Pool()\n",
    "    result = pool.map(expensive_function, range(n))\n",
    "    pool.close()\n",
    "    pool.join()\n",
    "    return result\n",
    "\n",
    "# Función para medir tiempo de ejecución promedio\n",
    "def measure_time(func, n, iterations=10):\n",
    "    times = []\n",
    "    for _ in range(iterations):\n",
    "        start = time.time()\n",
    "        func(n)\n",
    "        end = time.time()\n",
    "        times.append(end - start)\n",
    "    return np.mean(times)\n",
    "\n",
    "if __name__ == \"__main__\":\n",
    "    n = 10**6  # Número de iteraciones del for loop\n",
    "    iterations = 5  # Cuántas veces medir el tiempo para calcular el promedio\n",
    "\n",
    "    # Tiempo promedio para cada enfoque\n",
    "    print(\"Midiendo tiempos...\")\n",
    "\n",
    "    regular_time = measure_time(regular_for_loop, n, iterations)\n",
    "    print(f\"Tiempo promedio sin optimización: {regular_time:.4f} segundos\")\n",
    "\n",
    "    numpy_time = measure_time(vectorized_with_numpy, n, iterations)\n",
    "    print(f\"Tiempo promedio con numpy: {numpy_time:.4f} segundos\")\n",
    "\n",
    "    joblib_time = measure_time(parallel_with_joblib, n, iterations)\n",
    "    print(f\"Tiempo promedio con joblib: {joblib_time:.4f} segundos\")\n",
    "\n",
    "    multiprocessing_time = measure_time(parallel_with_multiprocessing, n, iterations)\n",
    "    print(f\"Tiempo promedio con multiprocessing: {multiprocessing_time:.4f} segundos\")\n"
   ]
  },
  {
   "cell_type": "code",
   "execution_count": null,
   "metadata": {},
   "outputs": [],
   "source": []
  }
 ],
 "metadata": {
  "kernelspec": {
   "display_name": ".venv",
   "language": "python",
   "name": "python3"
  },
  "language_info": {
   "codemirror_mode": {
    "name": "ipython",
    "version": 3
   },
   "file_extension": ".py",
   "mimetype": "text/x-python",
   "name": "python",
   "nbconvert_exporter": "python",
   "pygments_lexer": "ipython3",
   "version": "3.12.6"
  }
 },
 "nbformat": 4,
 "nbformat_minor": 2
}
