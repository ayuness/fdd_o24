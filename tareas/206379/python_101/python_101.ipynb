{
 "cells": [
  {
   "cell_type": "code",
   "execution_count": 19,
   "metadata": {},
   "outputs": [],
   "source": [
    "import numpy as np\n",
    "import time\n",
    "import pandas as pd"
   ]
  },
  {
   "cell_type": "markdown",
   "metadata": {},
   "source": [
    "# INTRO NUMPY\n"
   ]
  },
  {
   "cell_type": "markdown",
   "metadata": {},
   "source": [
    "### Creacion de for computacionalmente pesado"
   ]
  },
  {
   "cell_type": "code",
   "execution_count": 28,
   "metadata": {},
   "outputs": [],
   "source": [
    "\n",
    "# Crear un bucle for computacionalmente pesado\n",
    "def heavy_computation(arr):\n",
    "    result = []\n",
    "    tiempos = []\n",
    "    for i in range(100):\n",
    "        inicio= time.time()\n",
    "        for x in arr:\n",
    "            result.append(x ** 2 + np.sin(x) - np.log(x + 1))\n",
    "        final= time.time()\n",
    "        tiempos.append((final-inicio)*1000)\n",
    "    df = pd.DataFrame(tiempos, columns=['Tiempo (ms)'])\n",
    "\n",
    "    return tiempos, df"
   ]
  },
  {
   "cell_type": "markdown",
   "metadata": {},
   "source": [
    "### Vectorizacion de for usando numpy"
   ]
  },
  {
   "cell_type": "code",
   "execution_count": 13,
   "metadata": {},
   "outputs": [],
   "source": [
    "# Vectorizar el bucle usando NumPy\n",
    "def vectorized_computation(arr):\n",
    "    return arr ** 2 + np.sin(arr) - np.log(arr + 1) "
   ]
  },
  {
   "cell_type": "markdown",
   "metadata": {},
   "source": [
    "### Proceso de paralelizacion usando joblib"
   ]
  },
  {
   "cell_type": "code",
   "execution_count": 30,
   "metadata": {},
   "outputs": [],
   "source": [
    "from joblib import Parallel, delayed\n",
    "\n",
    "# Función para una sola iteración\n",
    "def single_computation(x):\n",
    "    return x ** 2 + np.sin(x) - np.log(x + 1)\n",
    "\n",
    "# Paralelizar usando joblib\n",
    "# OBJETO PARALLEL QUE USA TODOS LOS NUCLEOS DISPONIBLES Y APLICA LA FUNCION AL ARRAY\n",
    "def parallel_computation(arr):\n",
    "    tiempos=[]\n",
    "    for i in range(100):\n",
    "        inicio= time.time()\n",
    "        result = Parallel(n_jobs=-1)(delayed(single_computation)(x) for x in arr)\n",
    "        end = time.time()\n",
    "        tiempos.append((end-inicio) * 1000)\n",
    "    df = pd.DataFrame(tiempos, columns=['Tiempo (ms)'])\n",
    "    return tiempos, df\n",
    "    \n"
   ]
  },
  {
   "cell_type": "markdown",
   "metadata": {},
   "source": [
    "### Proceso de multiprocessing"
   ]
  },
  {
   "cell_type": "code",
   "execution_count": 36,
   "metadata": {},
   "outputs": [],
   "source": [
    "import multiprocessing as mp\n",
    "\n",
    "# Función para una sola iteración\n",
    "def single_computation(x):\n",
    "    return x ** 2 + np.sin(x) - np.log(x + 1)\n",
    "\n",
    "# Paralelizar usando multiprocessing\n",
    "# POOL DE PROCESOS CON TODOS LOS NUCLEOS DEL CPU\n",
    "def parallel_computation_mp(arr):\n",
    "    tiempos=[]\n",
    "    for i in range(100):\n",
    "        with mp.Pool(mp.cpu_count()) as pool:\n",
    "            inicio= time.time()\n",
    "            result = pool.map(single_computation, arr)\n",
    "            final= time.time()\n",
    "            tiempos.append((final-inicio) *1000)\n",
    "    df = pd.DataFrame(tiempos, columns=['Tiempo (ms)'])\n",
    "    return tiempos, df"
   ]
  },
  {
   "cell_type": "markdown",
   "metadata": {},
   "source": [
    "### Resultados Paralelo Y ForLoop Normal"
   ]
  },
  {
   "cell_type": "code",
   "execution_count": 38,
   "metadata": {},
   "outputs": [
    {
     "name": "stdout",
     "output_type": "stream",
     "text": [
      "[20.238876342773438, 16.70098304748535, 18.105745315551758, 20.982980728149414, 17.245054244995117, 22.433042526245117, 20.72286605834961, 20.953893661499023, 18.518447875976562, 20.492076873779297, 16.45946502685547, 17.601490020751953, 21.364688873291016, 18.056154251098633, 17.981529235839844, 17.761945724487305, 19.78611946105957, 21.315336227416992, 21.494150161743164, 19.83165740966797, 17.629146575927734, 22.78280258178711, 23.409366607666016, 18.549203872680664, 22.22156524658203, 23.467540740966797, 21.586179733276367, 17.322778701782227, 23.962974548339844, 18.037796020507812, 20.880699157714844, 19.00959014892578, 20.548343658447266, 16.36219024658203, 22.207021713256836, 21.250247955322266, 16.001462936401367, 20.014286041259766, 21.205425262451172, 20.325660705566406, 20.71523666381836, 16.742944717407227, 17.913818359375, 25.927305221557617, 21.55137062072754, 20.552635192871094, 21.600961685180664, 20.218372344970703, 22.28260040283203, 20.179033279418945, 16.52240753173828, 23.053407669067383, 24.41239356994629, 22.375106811523438, 23.14591407775879, 19.939661026000977, 18.125057220458984, 19.075393676757812, 20.40719985961914, 18.90707015991211, 22.380352020263672, 18.72110366821289, 20.908117294311523, 20.194292068481445, 22.17268943786621, 17.29106903076172, 21.00205421447754, 20.048141479492188, 18.973112106323242, 21.06165885925293, 23.28777313232422, 22.024869918823242, 19.344329833984375, 20.616531372070312, 20.0192928314209, 19.806623458862305, 20.050525665283203, 16.631364822387695, 22.748231887817383, 17.453908920288086, 21.825551986694336, 18.031835556030273, 21.136760711669922, 19.657373428344727, 20.033836364746094, 19.525766372680664, 24.59096908569336, 20.150423049926758, 23.526906967163086, 22.68195152282715, 26.428937911987305, 22.21369743347168, 23.331403732299805, 22.152423858642578, 22.496700286865234, 23.426294326782227, 20.735979080200195, 19.315242767333984, 22.988557815551758, 17.666339874267578]\n",
      "    Tiempo (ms)\n",
      "0     20.238876\n",
      "1     16.700983\n",
      "2     18.105745\n",
      "3     20.982981\n",
      "4     17.245054\n",
      "..          ...\n",
      "95    23.426294\n",
      "96    20.735979\n",
      "97    19.315243\n",
      "98    22.988558\n",
      "99    17.666340\n",
      "\n",
      "[100 rows x 1 columns]\n"
     ]
    }
   ],
   "source": [
    "# Datos de entrada\n",
    "# CREA EL VECTOR INICIAL\n",
    "data = np.random.rand(10000)\n",
    "vector = vectorized_computation(data)\n",
    "\n",
    "# Resultados De ForLoop Normal\n",
    "resultados, df = heavy_computation(vector)\n",
    "print(resultados)\n",
    "print(df)\n",
    "\n",
    "# Resultados de Computacion Paralela\n",
    "resultados, df = parallel_computation(vector)\n",
    "print(resultados)\n",
    "print(df)\n"
   ]
  },
  {
   "cell_type": "markdown",
   "metadata": {},
   "source": [
    "### Resultados Computacion Multiprocesada"
   ]
  },
  {
   "cell_type": "code",
   "execution_count": 39,
   "metadata": {},
   "outputs": [
    {
     "name": "stdout",
     "output_type": "stream",
     "text": [
      "[21.655559539794922, 21.950721740722656, 24.369239807128906, 20.620107650756836, 19.916534423828125, 16.33286476135254, 17.14944839477539, 21.16537094116211, 16.479015350341797, 21.622180938720703, 16.223907470703125, 16.442060470581055, 18.8448429107666, 20.49541473388672, 19.508838653564453, 20.007610321044922, 19.94180679321289, 17.111539840698242, 16.300678253173828, 18.027305603027344, 19.719839096069336, 19.437789916992188, 19.143104553222656, 20.30658721923828, 21.462202072143555, 20.563602447509766, 20.921707153320312, 20.02573013305664, 20.488262176513672, 20.859956741333008, 19.423723220825195, 16.905546188354492, 18.676280975341797, 16.703367233276367, 21.161794662475586, 20.107746124267578, 19.14381980895996, 23.03457260131836, 18.876314163208008, 23.00262451171875, 21.281003952026367, 20.01190185546875, 20.603418350219727, 19.584178924560547, 17.148733139038086, 18.275022506713867, 20.785808563232422, 20.392894744873047, 16.298294067382812, 22.39680290222168, 20.509958267211914, 22.278785705566406, 16.811132431030273, 19.196033477783203, 20.7061767578125, 23.094892501831055, 20.108461380004883, 20.38121223449707, 21.364688873291016, 19.098520278930664, 18.877267837524414, 20.90167999267578, 21.01922035217285, 19.32215690612793, 21.303892135620117, 20.92766761779785, 19.97995376586914, 19.663095474243164, 19.817590713500977, 17.72761344909668, 16.413450241088867, 22.005796432495117, 17.109394073486328, 20.689964294433594, 18.585920333862305, 17.283916473388672, 21.668195724487305, 22.722721099853516, 20.682811737060547, 18.505334854125977, 20.60079574584961, 19.918203353881836, 22.821426391601562, 20.46370506286621, 21.93164825439453, 16.400575637817383, 22.585153579711914, 21.205663681030273, 16.405344009399414, 17.656564712524414, 20.515918731689453, 20.68042755126953, 18.91016960144043, 21.08621597290039, 20.48492431640625, 20.70450782775879, 19.021987915039062, 18.956422805786133, 19.684553146362305, 19.857406616210938]\n",
      "    Tiempo (ms)\n",
      "0     21.655560\n",
      "1     21.950722\n",
      "2     24.369240\n",
      "3     20.620108\n",
      "4     19.916534\n",
      "..          ...\n",
      "95    20.704508\n",
      "96    19.021988\n",
      "97    18.956423\n",
      "98    19.684553\n",
      "99    19.857407\n",
      "\n",
      "[100 rows x 1 columns]\n"
     ]
    }
   ],
   "source": [
    "# Resultados de Computacion Multiprocesada\n",
    "resultados, df = parallel_computation_mp(vector)\n",
    "print(resultados)\n",
    "print(df)"
   ]
  }
 ],
 "metadata": {
  "kernelspec": {
   "display_name": "Python 3",
   "language": "python",
   "name": "python3"
  },
  "language_info": {
   "codemirror_mode": {
    "name": "ipython",
    "version": 3
   },
   "file_extension": ".py",
   "mimetype": "text/x-python",
   "name": "python",
   "nbconvert_exporter": "python",
   "pygments_lexer": "ipython3",
   "version": "3.10.12"
  }
 },
 "nbformat": 4,
 "nbformat_minor": 2
}
