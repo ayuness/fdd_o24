{
 "cells": [
  {
   "cell_type": "markdown",
   "metadata": {},
   "source": [
    "<a target=\"_blank\" href=\"https://colab.research.google.com/github/sonder-art/fdd_o23/blob/main/codigo/polars/04_ejercicio_polars.ipynb\">\n",
    "  <img src=\"https://colab.research.google.com/assets/colab-badge.svg\" alt=\"Open In Colab\"/>\n",
    "</a>"
   ]
  },
  {
   "cell_type": "code",
   "execution_count": 20,
   "metadata": {},
   "outputs": [],
   "source": [
    "#!pip install polars"
   ]
  },
  {
   "cell_type": "code",
   "execution_count": 21,
   "metadata": {},
   "outputs": [],
   "source": [
    "import polars as pl\n",
    "import random\n",
    "import string\n"
   ]
  },
  {
   "cell_type": "markdown",
   "metadata": {},
   "source": [
    "# Generacion de Datos"
   ]
  },
  {
   "cell_type": "code",
   "execution_count": 22,
   "metadata": {},
   "outputs": [
    {
     "data": {
      "text/html": [
       "<div><style>\n",
       ".dataframe > thead > tr,\n",
       ".dataframe > tbody > tr {\n",
       "  text-align: right;\n",
       "  white-space: pre-wrap;\n",
       "}\n",
       "</style>\n",
       "<small>shape: (5, 6)</small><table border=\"1\" class=\"dataframe\"><thead><tr><th>id_venta</th><th>producto</th><th>cantidad</th><th>precio_unitario</th><th>fecha_venta</th><th>cliente_id</th></tr><tr><td>i64</td><td>str</td><td>i64</td><td>f64</td><td>object</td><td>i64</td></tr></thead><tbody><tr><td>1</td><td>&quot;ecyll&quot;</td><td>13</td><td>30.150223</td><td>2011-06-17 00:00:00.alias(&quot;datetime&quot;).strict_cast(Date).alias(&quot;date&quot;)</td><td>4869</td></tr><tr><td>2</td><td>&quot;rwvfh&quot;</td><td>10</td><td>56.175811</td><td>2016-03-22 00:00:00.alias(&quot;datetime&quot;).strict_cast(Date).alias(&quot;date&quot;)</td><td>2888</td></tr><tr><td>3</td><td>&quot;ayvup&quot;</td><td>2</td><td>72.33966</td><td>2017-12-06 00:00:00.alias(&quot;datetime&quot;).strict_cast(Date).alias(&quot;date&quot;)</td><td>3209</td></tr><tr><td>4</td><td>&quot;vobvn&quot;</td><td>11</td><td>62.712441</td><td>2010-09-21 00:00:00.alias(&quot;datetime&quot;).strict_cast(Date).alias(&quot;date&quot;)</td><td>3796</td></tr><tr><td>5</td><td>&quot;gfhvo&quot;</td><td>13</td><td>48.958299</td><td>2020-02-27 00:00:00.alias(&quot;datetime&quot;).strict_cast(Date).alias(&quot;date&quot;)</td><td>4513</td></tr></tbody></table></div>"
      ],
      "text/plain": [
       "shape: (5, 6)\n",
       "┌──────────┬──────────┬──────────┬─────────────────┬─────────────────────────────────┬────────────┐\n",
       "│ id_venta ┆ producto ┆ cantidad ┆ precio_unitario ┆ fecha_venta                     ┆ cliente_id │\n",
       "│ ---      ┆ ---      ┆ ---      ┆ ---             ┆ ---                             ┆ ---        │\n",
       "│ i64      ┆ str      ┆ i64      ┆ f64             ┆ object                          ┆ i64        │\n",
       "╞══════════╪══════════╪══════════╪═════════════════╪═════════════════════════════════╪════════════╡\n",
       "│ 1        ┆ ecyll    ┆ 13       ┆ 30.150223       ┆ 2011-06-17 00:00:00.alias(\"dat… ┆ 4869       │\n",
       "│ 2        ┆ rwvfh    ┆ 10       ┆ 56.175811       ┆ 2016-03-22 00:00:00.alias(\"dat… ┆ 2888       │\n",
       "│ 3        ┆ ayvup    ┆ 2        ┆ 72.33966        ┆ 2017-12-06 00:00:00.alias(\"dat… ┆ 3209       │\n",
       "│ 4        ┆ vobvn    ┆ 11       ┆ 62.712441       ┆ 2010-09-21 00:00:00.alias(\"dat… ┆ 3796       │\n",
       "│ 5        ┆ gfhvo    ┆ 13       ┆ 48.958299       ┆ 2020-02-27 00:00:00.alias(\"dat… ┆ 4513       │\n",
       "└──────────┴──────────┴──────────┴─────────────────┴─────────────────────────────────┴────────────┘"
      ]
     },
     "execution_count": 22,
     "metadata": {},
     "output_type": "execute_result"
    }
   ],
   "source": [
    "# Funciones auxiliares para generar datos\n",
    "def random_string(length=5):\n",
    "    letters = string.ascii_lowercase\n",
    "    return ''.join(random.choice(letters) for i in range(length))\n",
    "\n",
    "def generate_data(n=1000):\n",
    "    data = {\n",
    "        \"id_venta\": list(range(1, n + 1)),\n",
    "        \"producto\": [random_string() for _ in range(n)],\n",
    "        \"cantidad\": [random.randint(1, 20) for _ in range(n)],\n",
    "        \"precio_unitario\": [random.uniform(10, 100) for _ in range(n)],\n",
    "        \"fecha_venta\": [pl.date(random.randint(2010, 2022), random.randint(1, 12), random.randint(1, 28)) for _ in range(n)],\n",
    "        \"cliente_id\": [random.randint(1000, 5000) for _ in range(n)]\n",
    "    }\n",
    "    return pl.DataFrame(data)\n",
    "\n",
    "# Generar el DataFrame\n",
    "df = generate_data()\n",
    "df.head()"
   ]
  },
  {
   "cell_type": "code",
   "execution_count": 23,
   "metadata": {},
   "outputs": [
    {
     "data": {
      "text/html": [
       "<i>naive plan: (run <b>LazyFrame.explain(optimized=True)</b> to see the optimized plan)</i>\n",
       "    <p></p>\n",
       "    <div>DF [\"id_venta\", \"producto\", \"cantidad\", \"precio_unitario\"]; PROJECT */6 COLUMNS; SELECTION: None</div>"
      ],
      "text/plain": [
       "<LazyFrame at 0x7F86C4A92080>"
      ]
     },
     "execution_count": 23,
     "metadata": {},
     "output_type": "execute_result"
    }
   ],
   "source": [
    "df = df.lazy()\n",
    "df"
   ]
  },
  {
   "cell_type": "markdown",
   "metadata": {},
   "source": [
    "# Limpieza de Datos"
   ]
  },
  {
   "cell_type": "markdown",
   "metadata": {},
   "source": [
    "Utilizando Polars en modo Lazy, realice las siguientes operaciones de limpieza y manipulación de datos:\n",
    "\n",
    "    1. `Filtrar` las ventas con cantidades menores a 5.\n",
    "    2. `Agregar` una nueva columna llamada total_venta, que sea el resultado de multiplicar cantidad por precio_unitario.\n",
    "    3. `Eliminar` la columna precio_unitario después de crear total_venta.\n",
    "    4. `Agrupar` los datos por producto y calcular el total vendido y la cantidad total vendida por producto.\n",
    "    5. `Ordenar` los resultados por el total vendido en orden descendente."
   ]
  },
  {
   "cell_type": "markdown",
   "metadata": {},
   "source": [
    "Todo esto lo debes de realizar en una sola linea de codigo"
   ]
  },
  {
   "cell_type": "code",
   "execution_count": 24,
   "metadata": {},
   "outputs": [
    {
     "name": "stdout",
     "output_type": "stream",
     "text": [
      "shape: (198, 3)\n",
      "┌──────────┬───────────────┬────────────────────────┐\n",
      "│ producto ┆ total_vendido ┆ cantidad_total_vendida │\n",
      "│ ---      ┆ ---           ┆ ---                    │\n",
      "│ str      ┆ f64           ┆ i64                    │\n",
      "╞══════════╪═══════════════╪════════════════════════╡\n",
      "│ wuanz    ┆ 392.641767    ┆ 4                      │\n",
      "│ mrzus    ┆ 379.464266    ┆ 4                      │\n",
      "│ ourah    ┆ 373.526537    ┆ 4                      │\n",
      "│ pxade    ┆ 370.196011    ┆ 4                      │\n",
      "│ jvvfr    ┆ 356.427658    ┆ 4                      │\n",
      "│ …        ┆ …             ┆ …                      │\n",
      "│ jlrla    ┆ 15.241239     ┆ 1                      │\n",
      "│ inodj    ┆ 13.07095      ┆ 1                      │\n",
      "│ bbgsp    ┆ 12.688378     ┆ 1                      │\n",
      "│ wodmy    ┆ 12.625703     ┆ 1                      │\n",
      "│ jtqpy    ┆ 11.891441     ┆ 1                      │\n",
      "└──────────┴───────────────┴────────────────────────┘\n"
     ]
    }
   ],
   "source": [
    "\n",
    "lazy_df = df.lazy()\n",
    "\n",
    "df_resultado = (\n",
    "    lazy_df\n",
    "    .filter(pl.col(\"cantidad\") < 5)  # 1. Filtrar ventas con cantidades menores a 5\n",
    "    .with_columns((pl.col(\"cantidad\") * pl.col(\"precio_unitario\")).alias(\"total_venta\"))  # 2. Agregar columna total_venta\n",
    "    .drop(\"precio_unitario\")  # 3. Eliminar columna precio_unitario\n",
    "    .group_by(\"producto\")  # 4. Agrupar por producto\n",
    "    .agg([\n",
    "        pl.sum(\"total_venta\").alias(\"total_vendido\"),  # Total vendido por producto\n",
    "        pl.sum(\"cantidad\").alias(\"cantidad_total_vendida\")  # Cantidad total vendida por producto\n",
    "    ])\n",
    "    .sort(\"total_vendido\", descending=True)  # 5. Ordenar por total vendido en orden descendente\n",
    ")\n",
    "\n",
    "# Ejecutar las operaciones y obtener el DataFrame en modo Lazy\n",
    "resultado = df_resultado.collect()\n",
    "\n",
    "# Visualizar el resultado\n",
    "print(resultado)\n"
   ]
  },
  {
   "cell_type": "markdown",
   "metadata": {},
   "source": [
    "# Guarda el resultado en un archivo `parquet`"
   ]
  },
  {
   "cell_type": "markdown",
   "metadata": {},
   "source": [
    "Guarda el resultado en un archivo parquet que se llame `resultados.parquet`"
   ]
  },
  {
   "cell_type": "code",
   "execution_count": 25,
   "metadata": {},
   "outputs": [],
   "source": [
    "def write_parquet_polars(dataframe):\n",
    "    dataframe.write_parquet(\"resultados.parquet\")\n",
    "\n",
    "write_parquet_polars(resultado)"
   ]
  },
  {
   "cell_type": "markdown",
   "metadata": {},
   "source": [
    "# Lee Parquet"
   ]
  },
  {
   "cell_type": "markdown",
   "metadata": {},
   "source": [
    "Crea codigo para leer en polars el archivo parquet"
   ]
  },
  {
   "cell_type": "code",
   "execution_count": 26,
   "metadata": {},
   "outputs": [],
   "source": [
    "def read_parquet_polars(file_name):\n",
    "    return pl.read_parquet(file_name)\n",
    "\n",
    "df = read_parquet_polars('resultados.parquet')"
   ]
  },
  {
   "cell_type": "code",
   "execution_count": 27,
   "metadata": {},
   "outputs": [
    {
     "data": {
      "text/html": [
       "<div><style>\n",
       ".dataframe > thead > tr,\n",
       ".dataframe > tbody > tr {\n",
       "  text-align: right;\n",
       "  white-space: pre-wrap;\n",
       "}\n",
       "</style>\n",
       "<small>shape: (198, 3)</small><table border=\"1\" class=\"dataframe\"><thead><tr><th>producto</th><th>total_vendido</th><th>cantidad_total_vendida</th></tr><tr><td>str</td><td>f64</td><td>i64</td></tr></thead><tbody><tr><td>&quot;wuanz&quot;</td><td>392.641767</td><td>4</td></tr><tr><td>&quot;mrzus&quot;</td><td>379.464266</td><td>4</td></tr><tr><td>&quot;ourah&quot;</td><td>373.526537</td><td>4</td></tr><tr><td>&quot;pxade&quot;</td><td>370.196011</td><td>4</td></tr><tr><td>&quot;jvvfr&quot;</td><td>356.427658</td><td>4</td></tr><tr><td>&hellip;</td><td>&hellip;</td><td>&hellip;</td></tr><tr><td>&quot;jlrla&quot;</td><td>15.241239</td><td>1</td></tr><tr><td>&quot;inodj&quot;</td><td>13.07095</td><td>1</td></tr><tr><td>&quot;bbgsp&quot;</td><td>12.688378</td><td>1</td></tr><tr><td>&quot;wodmy&quot;</td><td>12.625703</td><td>1</td></tr><tr><td>&quot;jtqpy&quot;</td><td>11.891441</td><td>1</td></tr></tbody></table></div>"
      ],
      "text/plain": [
       "shape: (198, 3)\n",
       "┌──────────┬───────────────┬────────────────────────┐\n",
       "│ producto ┆ total_vendido ┆ cantidad_total_vendida │\n",
       "│ ---      ┆ ---           ┆ ---                    │\n",
       "│ str      ┆ f64           ┆ i64                    │\n",
       "╞══════════╪═══════════════╪════════════════════════╡\n",
       "│ wuanz    ┆ 392.641767    ┆ 4                      │\n",
       "│ mrzus    ┆ 379.464266    ┆ 4                      │\n",
       "│ ourah    ┆ 373.526537    ┆ 4                      │\n",
       "│ pxade    ┆ 370.196011    ┆ 4                      │\n",
       "│ jvvfr    ┆ 356.427658    ┆ 4                      │\n",
       "│ …        ┆ …             ┆ …                      │\n",
       "│ jlrla    ┆ 15.241239     ┆ 1                      │\n",
       "│ inodj    ┆ 13.07095      ┆ 1                      │\n",
       "│ bbgsp    ┆ 12.688378     ┆ 1                      │\n",
       "│ wodmy    ┆ 12.625703     ┆ 1                      │\n",
       "│ jtqpy    ┆ 11.891441     ┆ 1                      │\n",
       "└──────────┴───────────────┴────────────────────────┘"
      ]
     },
     "execution_count": 27,
     "metadata": {},
     "output_type": "execute_result"
    }
   ],
   "source": [
    "df"
   ]
  }
 ],
 "metadata": {
  "kernelspec": {
   "display_name": ".venv",
   "language": "python",
   "name": "python3"
  },
  "language_info": {
   "codemirror_mode": {
    "name": "ipython",
    "version": 3
   },
   "file_extension": ".py",
   "mimetype": "text/x-python",
   "name": "python",
   "nbconvert_exporter": "python",
   "pygments_lexer": "ipython3",
   "version": "3.10.12"
  }
 },
 "nbformat": 4,
 "nbformat_minor": 2
}
