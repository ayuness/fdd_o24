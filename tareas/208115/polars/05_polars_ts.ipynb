{
 "cells": [
  {
   "cell_type": "code",
   "execution_count": 135,
   "metadata": {},
   "outputs": [
    {
     "name": "stdout",
     "output_type": "stream",
     "text": [
      "Requirement already satisfied: numpy in /Users/emiliahernandez/Desktop/fuentes/fdd_o24/tareas/208115/.venv/lib/python3.12/site-packages (2.0.2)\n"
     ]
    }
   ],
   "source": [
    "! pip install numpy"
   ]
  },
  {
   "cell_type": "code",
   "execution_count": 136,
   "metadata": {},
   "outputs": [],
   "source": [
    "import polars as pl\n",
    "import numpy as np\n",
    "import random\n",
    "from datetime import datetime, timedelta"
   ]
  },
  {
   "cell_type": "markdown",
   "metadata": {},
   "source": [
    "# Descripcion"
   ]
  },
  {
   "cell_type": "markdown",
   "metadata": {},
   "source": [
    "Los datos son notificaciones de dispositivos GPS en Mexico. En promedio generan notificaciones automatizadas cada 5 minutos si el carro esta encendido, y 30 si esta apagado.  \n",
    "\n",
    "Cada notificacion esta acompannada de un evento de lo que esta ocurriendo, y trae la latitud y longitud.  \n",
    "\n",
    "El objetico es predecir si un vehiculo esta siendo robado de acuerdo a sus notificaciones, por lo que el primer paso seria limpiar datos y hacer ingenieria de variables.\n",
    "\n",
    "Trata de hacerlo **lazy** si puedes."
   ]
  },
  {
   "cell_type": "code",
   "execution_count": 137,
   "metadata": {},
   "outputs": [],
   "source": [
    "def generate_dummy_data(num_cars, start_time, end_time, working_hours_interval, non_working_hours_interval):\n",
    "    data = []\n",
    "\n",
    "    # Define the latitude and longitude ranges for Mexico\n",
    "    min_latitude, max_latitude = 14.5388, 32.7186\n",
    "    min_longitude, max_longitude = -118.4662, -86.7104\n",
    "\n",
    "    for car_id in range(num_cars):\n",
    "        current_time = start_time\n",
    "\n",
    "        # Generate random initial latitude and longitude for each car\n",
    "        latitude = random.uniform(min_latitude, max_latitude)\n",
    "        longitude = random.uniform(min_longitude, max_longitude)\n",
    "\n",
    "        while current_time < end_time:\n",
    "            if current_time.weekday() < 5 and 9 <= current_time.hour < 17:\n",
    "                # Working hours (Monday to Friday, 9 AM to 5 PM)\n",
    "                interval = working_hours_interval\n",
    "            else:\n",
    "                # Non-working hours\n",
    "                interval = non_working_hours_interval\n",
    "\n",
    "            # Generate notification with 99% probability\n",
    "            if random.random() < 0.99:\n",
    "                notification = random.choice([\"low_fuel\", \"tire_pressure\", \"engine_check\", None])\n",
    "                data.append((f\"car_{car_id}\", current_time.isoformat(), latitude, longitude, notification))\n",
    "\n",
    "            # Generate additional notifications between intervals\n",
    "            while True:\n",
    "                additional_interval = random.expovariate(1 / (interval / 2))\n",
    "                additional_time = current_time + timedelta(minutes=additional_interval)\n",
    "                if additional_time >= current_time + timedelta(minutes=interval):\n",
    "                    break\n",
    "                notification = random.choice([\"low_fuel\", \"tire_pressure\", \"engine_check\", None])\n",
    "                data.append((f\"car_{car_id}\", additional_time.isoformat(), latitude, longitude, notification))\n",
    "\n",
    "            # Update latitude and longitude for car movement\n",
    "            latitude += random.uniform(-0.01, 0.01)\n",
    "            longitude += random.uniform(-0.01, 0.01)\n",
    "\n",
    "            # Check if the car is among the 1% that can have 100 notifications within 5 minutes\n",
    "            if random.random() < 0.01:\n",
    "                burst_start_time = current_time + timedelta(minutes=random.uniform(0, interval))\n",
    "                burst_end_time = burst_start_time + timedelta(minutes=5)\n",
    "                while current_time < burst_end_time:\n",
    "                    notification = random.choice([\"low_fuel\", \"tire_pressure\", \"engine_check\", None])\n",
    "                    data.append((f\"car_{car_id}\", current_time.isoformat(), latitude, longitude, notification))\n",
    "                    current_time += timedelta(seconds=random.uniform(1, 10))\n",
    "\n",
    "            current_time += timedelta(minutes=interval)\n",
    "\n",
    "    # Create a Polars DataFrame from the generated data\n",
    "    df = pl.DataFrame(\n",
    "        {\n",
    "            \"car_id\": [record[0] for record in data],\n",
    "            \"timestamp\": [record[1] for record in data],\n",
    "            \"latitude\": [record[2] for record in data],\n",
    "            \"longitude\": [record[3] for record in data],\n",
    "            \"notification\": [record[4] for record in data],\n",
    "        }\n",
    "    )\n",
    "\n",
    "    return df.lazy()"
   ]
  },
  {
   "cell_type": "code",
   "execution_count": 138,
   "metadata": {},
   "outputs": [
    {
     "name": "stdout",
     "output_type": "stream",
     "text": [
      "naive plan: (run LazyFrame.explain(optimized=True) to see the optimized plan)\n",
      "\n",
      "SLICE[offset: 0, len: 5]\n",
      "  DF [\"car_id\", \"timestamp\", \"latitude\", \"longitude\"]; PROJECT */5 COLUMNS; SELECTION: None\n"
     ]
    }
   ],
   "source": [
    "num_cars = 1000\n",
    "start_time = datetime(2023, 1, 1, 0, 0, 0)  # Start of the week\n",
    "end_time = start_time + timedelta(weeks=1)  # End of the week\n",
    "working_hours_interval = 5  # Interval of 5 minutes during working hours\n",
    "non_working_hours_interval = 30  # Interval of 30 minutes during non-working hours\n",
    "\n",
    "# Generate the dummy data\n",
    "data = generate_dummy_data(num_cars, start_time, end_time, working_hours_interval, non_working_hours_interval)\n",
    "\n",
    "# Print the first few rows of the generated data\n",
    "print(data.head())"
   ]
  },
  {
   "cell_type": "code",
   "execution_count": 139,
   "metadata": {},
   "outputs": [
    {
     "data": {
      "text/html": [
       "<div><style>\n",
       ".dataframe > thead > tr,\n",
       ".dataframe > tbody > tr {\n",
       "  text-align: right;\n",
       "  white-space: pre-wrap;\n",
       "}\n",
       "</style>\n",
       "<small>shape: (6_278_133, 5)</small><table border=\"1\" class=\"dataframe\"><thead><tr><th>car_id</th><th>timestamp</th><th>latitude</th><th>longitude</th><th>notification</th></tr><tr><td>str</td><td>str</td><td>f64</td><td>f64</td><td>str</td></tr></thead><tbody><tr><td>&quot;car_0&quot;</td><td>&quot;2023-01-01T00:00:00&quot;</td><td>23.942326</td><td>-106.280889</td><td>&quot;engine_check&quot;</td></tr><tr><td>&quot;car_0&quot;</td><td>&quot;2023-01-01T00:10:10.408727&quot;</td><td>23.942326</td><td>-106.280889</td><td>&quot;tire_pressure&quot;</td></tr><tr><td>&quot;car_0&quot;</td><td>&quot;2023-01-01T00:30:00&quot;</td><td>23.934415</td><td>-106.289279</td><td>null</td></tr><tr><td>&quot;car_0&quot;</td><td>&quot;2023-01-01T00:49:30.390179&quot;</td><td>23.934415</td><td>-106.289279</td><td>&quot;tire_pressure&quot;</td></tr><tr><td>&quot;car_0&quot;</td><td>&quot;2023-01-01T00:58:38.675105&quot;</td><td>23.934415</td><td>-106.289279</td><td>&quot;tire_pressure&quot;</td></tr><tr><td>&hellip;</td><td>&hellip;</td><td>&hellip;</td><td>&hellip;</td><td>&hellip;</td></tr><tr><td>&quot;car_999&quot;</td><td>&quot;2023-01-07T22:38:41.574654&quot;</td><td>26.825027</td><td>-88.032093</td><td>&quot;engine_check&quot;</td></tr><tr><td>&quot;car_999&quot;</td><td>&quot;2023-01-07T23:04:39.630977&quot;</td><td>26.825385</td><td>-88.033536</td><td>&quot;engine_check&quot;</td></tr><tr><td>&quot;car_999&quot;</td><td>&quot;2023-01-07T23:34:39.630977&quot;</td><td>26.825386</td><td>-88.03489</td><td>null</td></tr><tr><td>&quot;car_999&quot;</td><td>&quot;2023-01-07T23:43:46.323022&quot;</td><td>26.825386</td><td>-88.03489</td><td>null</td></tr><tr><td>&quot;car_999&quot;</td><td>&quot;2023-01-07T23:41:24.267459&quot;</td><td>26.825386</td><td>-88.03489</td><td>null</td></tr></tbody></table></div>"
      ],
      "text/plain": [
       "shape: (6_278_133, 5)\n",
       "┌─────────┬────────────────────────────┬───────────┬─────────────┬───────────────┐\n",
       "│ car_id  ┆ timestamp                  ┆ latitude  ┆ longitude   ┆ notification  │\n",
       "│ ---     ┆ ---                        ┆ ---       ┆ ---         ┆ ---           │\n",
       "│ str     ┆ str                        ┆ f64       ┆ f64         ┆ str           │\n",
       "╞═════════╪════════════════════════════╪═══════════╪═════════════╪═══════════════╡\n",
       "│ car_0   ┆ 2023-01-01T00:00:00        ┆ 23.942326 ┆ -106.280889 ┆ engine_check  │\n",
       "│ car_0   ┆ 2023-01-01T00:10:10.408727 ┆ 23.942326 ┆ -106.280889 ┆ tire_pressure │\n",
       "│ car_0   ┆ 2023-01-01T00:30:00        ┆ 23.934415 ┆ -106.289279 ┆ null          │\n",
       "│ car_0   ┆ 2023-01-01T00:49:30.390179 ┆ 23.934415 ┆ -106.289279 ┆ tire_pressure │\n",
       "│ car_0   ┆ 2023-01-01T00:58:38.675105 ┆ 23.934415 ┆ -106.289279 ┆ tire_pressure │\n",
       "│ …       ┆ …                          ┆ …         ┆ …           ┆ …             │\n",
       "│ car_999 ┆ 2023-01-07T22:38:41.574654 ┆ 26.825027 ┆ -88.032093  ┆ engine_check  │\n",
       "│ car_999 ┆ 2023-01-07T23:04:39.630977 ┆ 26.825385 ┆ -88.033536  ┆ engine_check  │\n",
       "│ car_999 ┆ 2023-01-07T23:34:39.630977 ┆ 26.825386 ┆ -88.03489   ┆ null          │\n",
       "│ car_999 ┆ 2023-01-07T23:43:46.323022 ┆ 26.825386 ┆ -88.03489   ┆ null          │\n",
       "│ car_999 ┆ 2023-01-07T23:41:24.267459 ┆ 26.825386 ┆ -88.03489   ┆ null          │\n",
       "└─────────┴────────────────────────────┴───────────┴─────────────┴───────────────┘"
      ]
     },
     "execution_count": 139,
     "metadata": {},
     "output_type": "execute_result"
    }
   ],
   "source": [
    "data.collect()"
   ]
  },
  {
   "cell_type": "markdown",
   "metadata": {},
   "source": [
    "## Limpieza de datos"
   ]
  },
  {
   "cell_type": "markdown",
   "metadata": {},
   "source": [
    "### Timestamp"
   ]
  },
  {
   "cell_type": "markdown",
   "metadata": {},
   "source": [
    "Convierte el `timestamp` que actualmente es string a formato de tiempo en polars"
   ]
  },
  {
   "cell_type": "code",
   "execution_count": 140,
   "metadata": {},
   "outputs": [
    {
     "name": "stderr",
     "output_type": "stream",
     "text": [
      "/var/folders/5x/v_n3jdfd003f7mqj3m9j1k0h0000gn/T/ipykernel_72241/1932326200.py:3: ChronoFormatWarning: Detected the pattern `.%f` in the chrono format string. This pattern should not be used to parse values after a decimal point. Use `%.f` instead. See the full specification: https://docs.rs/chrono/latest/chrono/format/strftime\n",
      "  .str.strptime(pl.Datetime, format=\"%Y-%m-%dT%H:%M:%S.%f\", strict=False)\n"
     ]
    }
   ],
   "source": [
    "data = data.with_columns(\n",
    "    pl.col(\"timestamp\")\n",
    "    .str.strptime(pl.Datetime, format=\"%Y-%m-%dT%H:%M:%S.%f\", strict=False)\n",
    "    .alias(\"timestamp\")\n",
    ")\n"
   ]
  },
  {
   "cell_type": "code",
   "execution_count": 141,
   "metadata": {},
   "outputs": [
    {
     "data": {
      "text/html": [
       "<div><style>\n",
       ".dataframe > thead > tr,\n",
       ".dataframe > tbody > tr {\n",
       "  text-align: right;\n",
       "  white-space: pre-wrap;\n",
       "}\n",
       "</style>\n",
       "<small>shape: (6_278_133, 5)</small><table border=\"1\" class=\"dataframe\"><thead><tr><th>car_id</th><th>timestamp</th><th>latitude</th><th>longitude</th><th>notification</th></tr><tr><td>str</td><td>datetime[μs]</td><td>f64</td><td>f64</td><td>str</td></tr></thead><tbody><tr><td>&quot;car_0&quot;</td><td>null</td><td>23.942326</td><td>-106.280889</td><td>&quot;engine_check&quot;</td></tr><tr><td>&quot;car_0&quot;</td><td>2023-01-01 00:10:10.000408</td><td>23.942326</td><td>-106.280889</td><td>&quot;tire_pressure&quot;</td></tr><tr><td>&quot;car_0&quot;</td><td>null</td><td>23.934415</td><td>-106.289279</td><td>null</td></tr><tr><td>&quot;car_0&quot;</td><td>2023-01-01 00:49:30.000390</td><td>23.934415</td><td>-106.289279</td><td>&quot;tire_pressure&quot;</td></tr><tr><td>&quot;car_0&quot;</td><td>2023-01-01 00:58:38.000675</td><td>23.934415</td><td>-106.289279</td><td>&quot;tire_pressure&quot;</td></tr><tr><td>&hellip;</td><td>&hellip;</td><td>&hellip;</td><td>&hellip;</td><td>&hellip;</td></tr><tr><td>&quot;car_999&quot;</td><td>2023-01-07 22:38:41.000574</td><td>26.825027</td><td>-88.032093</td><td>&quot;engine_check&quot;</td></tr><tr><td>&quot;car_999&quot;</td><td>2023-01-07 23:04:39.000630</td><td>26.825385</td><td>-88.033536</td><td>&quot;engine_check&quot;</td></tr><tr><td>&quot;car_999&quot;</td><td>2023-01-07 23:34:39.000630</td><td>26.825386</td><td>-88.03489</td><td>null</td></tr><tr><td>&quot;car_999&quot;</td><td>2023-01-07 23:43:46.000323</td><td>26.825386</td><td>-88.03489</td><td>null</td></tr><tr><td>&quot;car_999&quot;</td><td>2023-01-07 23:41:24.000267</td><td>26.825386</td><td>-88.03489</td><td>null</td></tr></tbody></table></div>"
      ],
      "text/plain": [
       "shape: (6_278_133, 5)\n",
       "┌─────────┬────────────────────────────┬───────────┬─────────────┬───────────────┐\n",
       "│ car_id  ┆ timestamp                  ┆ latitude  ┆ longitude   ┆ notification  │\n",
       "│ ---     ┆ ---                        ┆ ---       ┆ ---         ┆ ---           │\n",
       "│ str     ┆ datetime[μs]               ┆ f64       ┆ f64         ┆ str           │\n",
       "╞═════════╪════════════════════════════╪═══════════╪═════════════╪═══════════════╡\n",
       "│ car_0   ┆ null                       ┆ 23.942326 ┆ -106.280889 ┆ engine_check  │\n",
       "│ car_0   ┆ 2023-01-01 00:10:10.000408 ┆ 23.942326 ┆ -106.280889 ┆ tire_pressure │\n",
       "│ car_0   ┆ null                       ┆ 23.934415 ┆ -106.289279 ┆ null          │\n",
       "│ car_0   ┆ 2023-01-01 00:49:30.000390 ┆ 23.934415 ┆ -106.289279 ┆ tire_pressure │\n",
       "│ car_0   ┆ 2023-01-01 00:58:38.000675 ┆ 23.934415 ┆ -106.289279 ┆ tire_pressure │\n",
       "│ …       ┆ …                          ┆ …         ┆ …           ┆ …             │\n",
       "│ car_999 ┆ 2023-01-07 22:38:41.000574 ┆ 26.825027 ┆ -88.032093  ┆ engine_check  │\n",
       "│ car_999 ┆ 2023-01-07 23:04:39.000630 ┆ 26.825385 ┆ -88.033536  ┆ engine_check  │\n",
       "│ car_999 ┆ 2023-01-07 23:34:39.000630 ┆ 26.825386 ┆ -88.03489   ┆ null          │\n",
       "│ car_999 ┆ 2023-01-07 23:43:46.000323 ┆ 26.825386 ┆ -88.03489   ┆ null          │\n",
       "│ car_999 ┆ 2023-01-07 23:41:24.000267 ┆ 26.825386 ┆ -88.03489   ┆ null          │\n",
       "└─────────┴────────────────────────────┴───────────┴─────────────┴───────────────┘"
      ]
     },
     "execution_count": 141,
     "metadata": {},
     "output_type": "execute_result"
    }
   ],
   "source": [
    "data.collect()"
   ]
  },
  {
   "cell_type": "markdown",
   "metadata": {},
   "source": [
    "### Ingenieria de variables"
   ]
  },
  {
   "cell_type": "markdown",
   "metadata": {},
   "source": [
    "Dado que va a entrar a un modelo de machine learning es encesario que todas las variables sean numericas, y esten en formnato tidy. Cada observacion en una fila, y cada variable en una columna. Por lo tanto se decidio crear estadisticos y agregar los datos a intervalos uniformes de `x` minutos.  \n",
    "\n",
    "Por ejemplo, colapsar toda la informacion que ocurrion en el intervalo, como el numero de notificaciones en esos 5 minutos, el promedio entre notificaciones, y el tipo de notificaciones."
   ]
  },
  {
   "cell_type": "markdown",
   "metadata": {},
   "source": [
    "Existen varias formas de hacer esto, puedes hacerlo con `group_by` primero para crear las nuevas variables, o `group_by` (`rolling`, `dynamic`) usando operaciones sobre listas. Utiliza claude o chat_gpt"
   ]
  },
  {
   "cell_type": "markdown",
   "metadata": {},
   "source": [
    "1. Crea una nueva variable que compute la diferencia de tiempo entre notificaciones del mismo vehiculo. Piensa como lo vas a hacer. Llama a esta variable `notification_time`\n",
    "   \n"
   ]
  },
  {
   "cell_type": "code",
   "execution_count": 142,
   "metadata": {},
   "outputs": [],
   "source": [
    "#dynamic fija el mundo en 5 minutos, el rolling se para en cada observación y \n",
    "#se fija 5 minutos atrás\n",
    "# Compute notification_time and distance\n",
    "data = data.with_columns(\n",
    "    pl.col(\"timestamp\").diff().over(\"car_id\").alias(\"notification_time\")\n",
    " )\n",
    "\n"
   ]
  },
  {
   "cell_type": "code",
   "execution_count": 143,
   "metadata": {},
   "outputs": [
    {
     "data": {
      "text/html": [
       "<div><style>\n",
       ".dataframe > thead > tr,\n",
       ".dataframe > tbody > tr {\n",
       "  text-align: right;\n",
       "  white-space: pre-wrap;\n",
       "}\n",
       "</style>\n",
       "<small>shape: (6_278_133, 6)</small><table border=\"1\" class=\"dataframe\"><thead><tr><th>car_id</th><th>timestamp</th><th>latitude</th><th>longitude</th><th>notification</th><th>notification_time</th></tr><tr><td>str</td><td>datetime[μs]</td><td>f64</td><td>f64</td><td>str</td><td>duration[μs]</td></tr></thead><tbody><tr><td>&quot;car_0&quot;</td><td>null</td><td>23.942326</td><td>-106.280889</td><td>&quot;engine_check&quot;</td><td>null</td></tr><tr><td>&quot;car_0&quot;</td><td>2023-01-01 00:10:10.000408</td><td>23.942326</td><td>-106.280889</td><td>&quot;tire_pressure&quot;</td><td>null</td></tr><tr><td>&quot;car_0&quot;</td><td>null</td><td>23.934415</td><td>-106.289279</td><td>null</td><td>null</td></tr><tr><td>&quot;car_0&quot;</td><td>2023-01-01 00:49:30.000390</td><td>23.934415</td><td>-106.289279</td><td>&quot;tire_pressure&quot;</td><td>null</td></tr><tr><td>&quot;car_0&quot;</td><td>2023-01-01 00:58:38.000675</td><td>23.934415</td><td>-106.289279</td><td>&quot;tire_pressure&quot;</td><td>9m 8s 285µs</td></tr><tr><td>&hellip;</td><td>&hellip;</td><td>&hellip;</td><td>&hellip;</td><td>&hellip;</td><td>&hellip;</td></tr><tr><td>&quot;car_999&quot;</td><td>2023-01-07 22:38:41.000574</td><td>26.825027</td><td>-88.032093</td><td>&quot;engine_check&quot;</td><td>-20m -32s -41µs</td></tr><tr><td>&quot;car_999&quot;</td><td>2023-01-07 23:04:39.000630</td><td>26.825385</td><td>-88.033536</td><td>&quot;engine_check&quot;</td><td>25m 58s 56µs</td></tr><tr><td>&quot;car_999&quot;</td><td>2023-01-07 23:34:39.000630</td><td>26.825386</td><td>-88.03489</td><td>null</td><td>30m</td></tr><tr><td>&quot;car_999&quot;</td><td>2023-01-07 23:43:46.000323</td><td>26.825386</td><td>-88.03489</td><td>null</td><td>9m 6s 999693µs</td></tr><tr><td>&quot;car_999&quot;</td><td>2023-01-07 23:41:24.000267</td><td>26.825386</td><td>-88.03489</td><td>null</td><td>-2m -22s -56µs</td></tr></tbody></table></div>"
      ],
      "text/plain": [
       "shape: (6_278_133, 6)\n",
       "┌─────────┬─────────────────┬───────────┬─────────────┬───────────────┬───────────────────┐\n",
       "│ car_id  ┆ timestamp       ┆ latitude  ┆ longitude   ┆ notification  ┆ notification_time │\n",
       "│ ---     ┆ ---             ┆ ---       ┆ ---         ┆ ---           ┆ ---               │\n",
       "│ str     ┆ datetime[μs]    ┆ f64       ┆ f64         ┆ str           ┆ duration[μs]      │\n",
       "╞═════════╪═════════════════╪═══════════╪═════════════╪═══════════════╪═══════════════════╡\n",
       "│ car_0   ┆ null            ┆ 23.942326 ┆ -106.280889 ┆ engine_check  ┆ null              │\n",
       "│ car_0   ┆ 2023-01-01      ┆ 23.942326 ┆ -106.280889 ┆ tire_pressure ┆ null              │\n",
       "│         ┆ 00:10:10.000408 ┆           ┆             ┆               ┆                   │\n",
       "│ car_0   ┆ null            ┆ 23.934415 ┆ -106.289279 ┆ null          ┆ null              │\n",
       "│ car_0   ┆ 2023-01-01      ┆ 23.934415 ┆ -106.289279 ┆ tire_pressure ┆ null              │\n",
       "│         ┆ 00:49:30.000390 ┆           ┆             ┆               ┆                   │\n",
       "│ car_0   ┆ 2023-01-01      ┆ 23.934415 ┆ -106.289279 ┆ tire_pressure ┆ 9m 8s 285µs       │\n",
       "│         ┆ 00:58:38.000675 ┆           ┆             ┆               ┆                   │\n",
       "│ …       ┆ …               ┆ …         ┆ …           ┆ …             ┆ …                 │\n",
       "│ car_999 ┆ 2023-01-07      ┆ 26.825027 ┆ -88.032093  ┆ engine_check  ┆ -20m -32s -41µs   │\n",
       "│         ┆ 22:38:41.000574 ┆           ┆             ┆               ┆                   │\n",
       "│ car_999 ┆ 2023-01-07      ┆ 26.825385 ┆ -88.033536  ┆ engine_check  ┆ 25m 58s 56µs      │\n",
       "│         ┆ 23:04:39.000630 ┆           ┆             ┆               ┆                   │\n",
       "│ car_999 ┆ 2023-01-07      ┆ 26.825386 ┆ -88.03489   ┆ null          ┆ 30m               │\n",
       "│         ┆ 23:34:39.000630 ┆           ┆             ┆               ┆                   │\n",
       "│ car_999 ┆ 2023-01-07      ┆ 26.825386 ┆ -88.03489   ┆ null          ┆ 9m 6s 999693µs    │\n",
       "│         ┆ 23:43:46.000323 ┆           ┆             ┆               ┆                   │\n",
       "│ car_999 ┆ 2023-01-07      ┆ 26.825386 ┆ -88.03489   ┆ null          ┆ -2m -22s -56µs    │\n",
       "│         ┆ 23:41:24.000267 ┆           ┆             ┆               ┆                   │\n",
       "└─────────┴─────────────────┴───────────┴─────────────┴───────────────┴───────────────────┘"
      ]
     },
     "execution_count": 143,
     "metadata": {},
     "output_type": "execute_result"
    }
   ],
   "source": [
    "data.collect()"
   ]
  },
  {
   "cell_type": "markdown",
   "metadata": {},
   "source": [
    "2. Crea una nueva variable que compute la distancia que viajo el vehiculo desde la ultima notificacion. Llamala `distance`"
   ]
  },
  {
   "cell_type": "code",
   "execution_count": 144,
   "metadata": {},
   "outputs": [
    {
     "data": {
      "text/html": [
       "<div><style>\n",
       ".dataframe > thead > tr,\n",
       ".dataframe > tbody > tr {\n",
       "  text-align: right;\n",
       "  white-space: pre-wrap;\n",
       "}\n",
       "</style>\n",
       "<small>shape: (6_278_133, 7)</small><table border=\"1\" class=\"dataframe\"><thead><tr><th>car_id</th><th>timestamp</th><th>latitude</th><th>longitude</th><th>notification</th><th>notification_time</th><th>distance</th></tr><tr><td>str</td><td>datetime[μs]</td><td>f64</td><td>f64</td><td>str</td><td>duration[μs]</td><td>f64</td></tr></thead><tbody><tr><td>&quot;car_0&quot;</td><td>null</td><td>23.942326</td><td>-106.280889</td><td>&quot;engine_check&quot;</td><td>null</td><td>0.0</td></tr><tr><td>&quot;car_0&quot;</td><td>2023-01-01 00:10:10.000408</td><td>23.942326</td><td>-106.280889</td><td>&quot;tire_pressure&quot;</td><td>null</td><td>2.450245</td></tr><tr><td>&quot;car_0&quot;</td><td>null</td><td>23.934415</td><td>-106.289279</td><td>null</td><td>null</td><td>0.0</td></tr><tr><td>&quot;car_0&quot;</td><td>2023-01-01 00:49:30.000390</td><td>23.934415</td><td>-106.289279</td><td>&quot;tire_pressure&quot;</td><td>null</td><td>0.0</td></tr><tr><td>&quot;car_0&quot;</td><td>2023-01-01 00:58:38.000675</td><td>23.934415</td><td>-106.289279</td><td>&quot;tire_pressure&quot;</td><td>9m 8s 285µs</td><td>0.0</td></tr><tr><td>&hellip;</td><td>&hellip;</td><td>&hellip;</td><td>&hellip;</td><td>&hellip;</td><td>&hellip;</td><td>&hellip;</td></tr><tr><td>&quot;car_999&quot;</td><td>2023-01-07 22:38:41.000574</td><td>26.825027</td><td>-88.032093</td><td>&quot;engine_check&quot;</td><td>-20m -32s -41µs</td><td>0.297365</td></tr><tr><td>&quot;car_999&quot;</td><td>2023-01-07 23:04:39.000630</td><td>26.825385</td><td>-88.033536</td><td>&quot;engine_check&quot;</td><td>25m 58s 56µs</td><td>0.268635</td></tr><tr><td>&quot;car_999&quot;</td><td>2023-01-07 23:34:39.000630</td><td>26.825386</td><td>-88.03489</td><td>null</td><td>30m</td><td>0.0</td></tr><tr><td>&quot;car_999&quot;</td><td>2023-01-07 23:43:46.000323</td><td>26.825386</td><td>-88.03489</td><td>null</td><td>9m 6s 999693µs</td><td>0.0</td></tr><tr><td>&quot;car_999&quot;</td><td>2023-01-07 23:41:24.000267</td><td>26.825386</td><td>-88.03489</td><td>null</td><td>-2m -22s -56µs</td><td>null</td></tr></tbody></table></div>"
      ],
      "text/plain": [
       "shape: (6_278_133, 7)\n",
       "┌─────────┬─────────────────┬───────────┬─────────────┬───────────────┬─────────────────┬──────────┐\n",
       "│ car_id  ┆ timestamp       ┆ latitude  ┆ longitude   ┆ notification  ┆ notification_ti ┆ distance │\n",
       "│ ---     ┆ ---             ┆ ---       ┆ ---         ┆ ---           ┆ me              ┆ ---      │\n",
       "│ str     ┆ datetime[μs]    ┆ f64       ┆ f64         ┆ str           ┆ ---             ┆ f64      │\n",
       "│         ┆                 ┆           ┆             ┆               ┆ duration[μs]    ┆          │\n",
       "╞═════════╪═════════════════╪═══════════╪═════════════╪═══════════════╪═════════════════╪══════════╡\n",
       "│ car_0   ┆ null            ┆ 23.942326 ┆ -106.280889 ┆ engine_check  ┆ null            ┆ 0.0      │\n",
       "│ car_0   ┆ 2023-01-01      ┆ 23.942326 ┆ -106.280889 ┆ tire_pressure ┆ null            ┆ 2.450245 │\n",
       "│         ┆ 00:10:10.000408 ┆           ┆             ┆               ┆                 ┆          │\n",
       "│ car_0   ┆ null            ┆ 23.934415 ┆ -106.289279 ┆ null          ┆ null            ┆ 0.0      │\n",
       "│ car_0   ┆ 2023-01-01      ┆ 23.934415 ┆ -106.289279 ┆ tire_pressure ┆ null            ┆ 0.0      │\n",
       "│         ┆ 00:49:30.000390 ┆           ┆             ┆               ┆                 ┆          │\n",
       "│ car_0   ┆ 2023-01-01      ┆ 23.934415 ┆ -106.289279 ┆ tire_pressure ┆ 9m 8s 285µs     ┆ 0.0      │\n",
       "│         ┆ 00:58:38.000675 ┆           ┆             ┆               ┆                 ┆          │\n",
       "│ …       ┆ …               ┆ …         ┆ …           ┆ …             ┆ …               ┆ …        │\n",
       "│ car_999 ┆ 2023-01-07      ┆ 26.825027 ┆ -88.032093  ┆ engine_check  ┆ -20m -32s -41µs ┆ 0.297365 │\n",
       "│         ┆ 22:38:41.000574 ┆           ┆             ┆               ┆                 ┆          │\n",
       "│ car_999 ┆ 2023-01-07      ┆ 26.825385 ┆ -88.033536  ┆ engine_check  ┆ 25m 58s 56µs    ┆ 0.268635 │\n",
       "│         ┆ 23:04:39.000630 ┆           ┆             ┆               ┆                 ┆          │\n",
       "│ car_999 ┆ 2023-01-07      ┆ 26.825386 ┆ -88.03489   ┆ null          ┆ 30m             ┆ 0.0      │\n",
       "│         ┆ 23:34:39.000630 ┆           ┆             ┆               ┆                 ┆          │\n",
       "│ car_999 ┆ 2023-01-07      ┆ 26.825386 ┆ -88.03489   ┆ null          ┆ 9m 6s 999693µs  ┆ 0.0      │\n",
       "│         ┆ 23:43:46.000323 ┆           ┆             ┆               ┆                 ┆          │\n",
       "│ car_999 ┆ 2023-01-07      ┆ 26.825386 ┆ -88.03489   ┆ null          ┆ -2m -22s -56µs  ┆ null     │\n",
       "│         ┆ 23:41:24.000267 ┆           ┆             ┆               ┆                 ┆          │\n",
       "└─────────┴─────────────────┴───────────┴─────────────┴───────────────┴─────────────────┴──────────┘"
      ]
     },
     "execution_count": 144,
     "metadata": {},
     "output_type": "execute_result"
    }
   ],
   "source": [
    "# Radius of Earth in kilometers\n",
    "R = 6371.0\n",
    "\n",
    "# Convert latitude and longitude columns to radians\n",
    "data = data.with_columns([\n",
    "    (pl.col(\"latitude\") * np.pi / 180).alias(\"lat_rad\"),\n",
    "    (pl.col(\"longitude\") * np.pi / 180).alias(\"lon_rad\"),\n",
    "])\n",
    "\n",
    "# Calculate Haversine distance with correct usage of sin, cos, and arcsin as chained methods\n",
    "data = data.with_columns([\n",
    "    (2 * R * (\n",
    "        (pl.col(\"lat_rad\").shift(-1) - pl.col(\"lat_rad\")).sin().pow(2) +\n",
    "        (pl.col(\"lat_rad\").cos() * pl.col(\"lat_rad\").shift(-1).cos() *\n",
    "         (pl.col(\"lon_rad\").shift(-1) - pl.col(\"lon_rad\")).sin().pow(2))\n",
    "    ).sqrt().arcsin()).over(\"car_id\").alias(\"distance\")\n",
    "])\n",
    "\n",
    "# Drop the intermediate columns if no longer needed\n",
    "data = data.drop([\"lat_rad\", \"lon_rad\"])\n",
    "\n",
    "# Collect and display the results\n",
    "data_df = data.collect()\n",
    "data_df\n"
   ]
  },
  {
   "cell_type": "code",
   "execution_count": 145,
   "metadata": {},
   "outputs": [
    {
     "data": {
      "text/html": [
       "<div><style>\n",
       ".dataframe > thead > tr,\n",
       ".dataframe > tbody > tr {\n",
       "  text-align: right;\n",
       "  white-space: pre-wrap;\n",
       "}\n",
       "</style>\n",
       "<small>shape: (722_599, 7)</small><table border=\"1\" class=\"dataframe\"><thead><tr><th>car_id</th><th>timestamp</th><th>latitude</th><th>longitude</th><th>notification</th><th>notification_time</th><th>distance</th></tr><tr><td>str</td><td>datetime[μs]</td><td>f64</td><td>f64</td><td>str</td><td>duration[μs]</td><td>f64</td></tr></thead><tbody><tr><td>&quot;car_0&quot;</td><td>2023-01-01 00:10:10.000408</td><td>23.942326</td><td>-106.280889</td><td>&quot;tire_pressure&quot;</td><td>null</td><td>2.450245</td></tr><tr><td>&quot;car_0&quot;</td><td>2023-01-01 00:34:33.000875</td><td>23.934415</td><td>-106.289279</td><td>&quot;low_fuel&quot;</td><td>-19m -7s -999589µs</td><td>2.286143</td></tr><tr><td>&quot;car_0&quot;</td><td>2023-01-01 01:02:19.000377</td><td>23.943221</td><td>-106.283476</td><td>&quot;low_fuel&quot;</td><td>-1m -28s -999905µs</td><td>1.845762</td></tr><tr><td>&quot;car_0&quot;</td><td>2023-01-01 01:51:42.000530</td><td>23.950506</td><td>-106.279124</td><td>&quot;low_fuel&quot;</td><td>-6m -51s -999688µs</td><td>1.420448</td></tr><tr><td>&quot;car_0&quot;</td><td>2023-01-01 02:09:01.000802</td><td>23.955025</td><td>-106.274186</td><td>&quot;engine_check&quot;</td><td>6m 22s</td><td>1.876723</td></tr><tr><td>&hellip;</td><td>&hellip;</td><td>&hellip;</td><td>&hellip;</td><td>&hellip;</td><td>&hellip;</td><td>&hellip;</td></tr><tr><td>&quot;car_999&quot;</td><td>2023-01-07 20:46:10.000650</td><td>26.821184</td><td>-88.049384</td><td>&quot;engine_check&quot;</td><td>11m 31s 20µs</td><td>1.234179</td></tr><tr><td>&quot;car_999&quot;</td><td>2023-01-07 21:08:00.000734</td><td>26.820049</td><td>-88.043297</td><td>null</td><td>3m 21s 104µs</td><td>1.450274</td></tr><tr><td>&quot;car_999&quot;</td><td>2023-01-07 22:13:03.000694</td><td>26.821351</td><td>-88.036137</td><td>null</td><td>3m 44s 999986µs</td><td>1.145487</td></tr><tr><td>&quot;car_999&quot;</td><td>2023-01-07 22:38:41.000574</td><td>26.825027</td><td>-88.032093</td><td>&quot;engine_check&quot;</td><td>-20m -32s -41µs</td><td>0.297365</td></tr><tr><td>&quot;car_999&quot;</td><td>2023-01-07 23:04:39.000630</td><td>26.825385</td><td>-88.033536</td><td>&quot;engine_check&quot;</td><td>25m 58s 56µs</td><td>0.268635</td></tr></tbody></table></div>"
      ],
      "text/plain": [
       "shape: (722_599, 7)\n",
       "┌─────────┬─────────────────┬───────────┬─────────────┬───────────────┬─────────────────┬──────────┐\n",
       "│ car_id  ┆ timestamp       ┆ latitude  ┆ longitude   ┆ notification  ┆ notification_ti ┆ distance │\n",
       "│ ---     ┆ ---             ┆ ---       ┆ ---         ┆ ---           ┆ me              ┆ ---      │\n",
       "│ str     ┆ datetime[μs]    ┆ f64       ┆ f64         ┆ str           ┆ ---             ┆ f64      │\n",
       "│         ┆                 ┆           ┆             ┆               ┆ duration[μs]    ┆          │\n",
       "╞═════════╪═════════════════╪═══════════╪═════════════╪═══════════════╪═════════════════╪══════════╡\n",
       "│ car_0   ┆ 2023-01-01      ┆ 23.942326 ┆ -106.280889 ┆ tire_pressure ┆ null            ┆ 2.450245 │\n",
       "│         ┆ 00:10:10.000408 ┆           ┆             ┆               ┆                 ┆          │\n",
       "│ car_0   ┆ 2023-01-01      ┆ 23.934415 ┆ -106.289279 ┆ low_fuel      ┆ -19m -7s        ┆ 2.286143 │\n",
       "│         ┆ 00:34:33.000875 ┆           ┆             ┆               ┆ -999589µs       ┆          │\n",
       "│ car_0   ┆ 2023-01-01      ┆ 23.943221 ┆ -106.283476 ┆ low_fuel      ┆ -1m -28s        ┆ 1.845762 │\n",
       "│         ┆ 01:02:19.000377 ┆           ┆             ┆               ┆ -999905µs       ┆          │\n",
       "│ car_0   ┆ 2023-01-01      ┆ 23.950506 ┆ -106.279124 ┆ low_fuel      ┆ -6m -51s        ┆ 1.420448 │\n",
       "│         ┆ 01:51:42.000530 ┆           ┆             ┆               ┆ -999688µs       ┆          │\n",
       "│ car_0   ┆ 2023-01-01      ┆ 23.955025 ┆ -106.274186 ┆ engine_check  ┆ 6m 22s          ┆ 1.876723 │\n",
       "│         ┆ 02:09:01.000802 ┆           ┆             ┆               ┆                 ┆          │\n",
       "│ …       ┆ …               ┆ …         ┆ …           ┆ …             ┆ …               ┆ …        │\n",
       "│ car_999 ┆ 2023-01-07      ┆ 26.821184 ┆ -88.049384  ┆ engine_check  ┆ 11m 31s 20µs    ┆ 1.234179 │\n",
       "│         ┆ 20:46:10.000650 ┆           ┆             ┆               ┆                 ┆          │\n",
       "│ car_999 ┆ 2023-01-07      ┆ 26.820049 ┆ -88.043297  ┆ null          ┆ 3m 21s 104µs    ┆ 1.450274 │\n",
       "│         ┆ 21:08:00.000734 ┆           ┆             ┆               ┆                 ┆          │\n",
       "│ car_999 ┆ 2023-01-07      ┆ 26.821351 ┆ -88.036137  ┆ null          ┆ 3m 44s 999986µs ┆ 1.145487 │\n",
       "│         ┆ 22:13:03.000694 ┆           ┆             ┆               ┆                 ┆          │\n",
       "│ car_999 ┆ 2023-01-07      ┆ 26.825027 ┆ -88.032093  ┆ engine_check  ┆ -20m -32s -41µs ┆ 0.297365 │\n",
       "│         ┆ 22:38:41.000574 ┆           ┆             ┆               ┆                 ┆          │\n",
       "│ car_999 ┆ 2023-01-07      ┆ 26.825385 ┆ -88.033536  ┆ engine_check  ┆ 25m 58s 56µs    ┆ 0.268635 │\n",
       "│         ┆ 23:04:39.000630 ┆           ┆             ┆               ┆                 ┆          │\n",
       "└─────────┴─────────────────┴───────────┴─────────────┴───────────────┴─────────────────┴──────────┘"
      ]
     },
     "execution_count": 145,
     "metadata": {},
     "output_type": "execute_result"
    }
   ],
   "source": [
    "#checo que no hice una estupidez\n",
    "data.filter(pl.col(\"distance\") > 0).collect()"
   ]
  },
  {
   "cell_type": "markdown",
   "metadata": {},
   "source": [
    "3. Crea intervalos de `x` minutos por carro. Como el numero de notificaciones en esos intervalos no es uniforme tienes que buscar funciones de polars especificas, pero ademas tienen que ser por vehiculo, pues tienen que ser del mismo. Revisa las funciones de `group_by` `dynamic` y `rolling`.\n",
    "   1. Computa la media, mediana, varianza, max y min de `notification_time` los intervalos de `x` minutos\n",
    "   2. Computa la media, mediana, varianza, max y min de `distance`\n"
   ]
  },
  {
   "cell_type": "code",
   "execution_count": 146,
   "metadata": {},
   "outputs": [
    {
     "name": "stdout",
     "output_type": "stream",
     "text": [
      "Rows with null timestamps: 1\n"
     ]
    }
   ],
   "source": [
    "# Step 1: Fill nulls, ensuring `notification_time` stays as `duration[μs]`\n",
    "data = data.with_columns([\n",
    "    pl.col(\"timestamp\").fill_null(strategy=\"forward\").cast(pl.Datetime)\n",
    "])\n",
    "\n",
    "# Check if there are any remaining null values in 'timestamp'\n",
    "null_timestamps = data.filter(pl.col(\"timestamp\").is_null()).collect()\n",
    "print(\"Rows with null timestamps:\", null_timestamps.shape[0])"
   ]
  },
  {
   "cell_type": "code",
   "execution_count": 147,
   "metadata": {},
   "outputs": [
    {
     "data": {
      "text/html": [
       "<div><style>\n",
       ".dataframe > thead > tr,\n",
       ".dataframe > tbody > tr {\n",
       "  text-align: right;\n",
       "  white-space: pre-wrap;\n",
       "}\n",
       "</style>\n",
       "<small>shape: (1, 7)</small><table border=\"1\" class=\"dataframe\"><thead><tr><th>car_id</th><th>timestamp</th><th>latitude</th><th>longitude</th><th>notification</th><th>notification_time</th><th>distance</th></tr><tr><td>str</td><td>datetime[μs]</td><td>f64</td><td>f64</td><td>str</td><td>duration[μs]</td><td>f64</td></tr></thead><tbody><tr><td>&quot;car_0&quot;</td><td>null</td><td>23.942326</td><td>-106.280889</td><td>&quot;engine_check&quot;</td><td>null</td><td>0.0</td></tr></tbody></table></div>"
      ],
      "text/plain": [
       "shape: (1, 7)\n",
       "┌────────┬──────────────┬───────────┬─────────────┬──────────────┬───────────────────┬──────────┐\n",
       "│ car_id ┆ timestamp    ┆ latitude  ┆ longitude   ┆ notification ┆ notification_time ┆ distance │\n",
       "│ ---    ┆ ---          ┆ ---       ┆ ---         ┆ ---          ┆ ---               ┆ ---      │\n",
       "│ str    ┆ datetime[μs] ┆ f64       ┆ f64         ┆ str          ┆ duration[μs]      ┆ f64      │\n",
       "╞════════╪══════════════╪═══════════╪═════════════╪══════════════╪═══════════════════╪══════════╡\n",
       "│ car_0  ┆ null         ┆ 23.942326 ┆ -106.280889 ┆ engine_check ┆ null              ┆ 0.0      │\n",
       "└────────┴──────────────┴───────────┴─────────────┴──────────────┴───────────────────┴──────────┘"
      ]
     },
     "execution_count": 147,
     "metadata": {},
     "output_type": "execute_result"
    }
   ],
   "source": [
    "null_timestamps"
   ]
  },
  {
   "cell_type": "code",
   "execution_count": 148,
   "metadata": {},
   "outputs": [],
   "source": [
    "#el unico que nos queda lo rellenamos backqrds aunque en producción sea perdida de tiempo\n",
    "data = data.with_columns([\n",
    "    pl.col(\"timestamp\").fill_null(strategy=\"backward\").cast(pl.Datetime)\n",
    "])"
   ]
  },
  {
   "cell_type": "code",
   "execution_count": 149,
   "metadata": {},
   "outputs": [
    {
     "name": "stdout",
     "output_type": "stream",
     "text": [
      "Rows with null timestamps: 0\n"
     ]
    },
    {
     "data": {
      "text/html": [
       "<div><style>\n",
       ".dataframe > thead > tr,\n",
       ".dataframe > tbody > tr {\n",
       "  text-align: right;\n",
       "  white-space: pre-wrap;\n",
       "}\n",
       "</style>\n",
       "<small>shape: (0, 7)</small><table border=\"1\" class=\"dataframe\"><thead><tr><th>car_id</th><th>timestamp</th><th>latitude</th><th>longitude</th><th>notification</th><th>notification_time</th><th>distance</th></tr><tr><td>str</td><td>datetime[μs]</td><td>f64</td><td>f64</td><td>str</td><td>duration[μs]</td><td>f64</td></tr></thead><tbody></tbody></table></div>"
      ],
      "text/plain": [
       "shape: (0, 7)\n",
       "┌────────┬──────────────┬──────────┬───────────┬──────────────┬───────────────────┬──────────┐\n",
       "│ car_id ┆ timestamp    ┆ latitude ┆ longitude ┆ notification ┆ notification_time ┆ distance │\n",
       "│ ---    ┆ ---          ┆ ---      ┆ ---       ┆ ---          ┆ ---               ┆ ---      │\n",
       "│ str    ┆ datetime[μs] ┆ f64      ┆ f64       ┆ str          ┆ duration[μs]      ┆ f64      │\n",
       "╞════════╪══════════════╪══════════╪═══════════╪══════════════╪═══════════════════╪══════════╡\n",
       "└────────┴──────────────┴──────────┴───────────┴──────────────┴───────────────────┴──────────┘"
      ]
     },
     "execution_count": 149,
     "metadata": {},
     "output_type": "execute_result"
    }
   ],
   "source": [
    "\n",
    "# Check if there are any remaining null values in 'timestamp'\n",
    "null_timestamps = data.filter(pl.col(\"timestamp\").is_null()).collect()\n",
    "print(\"Rows with null timestamps:\", null_timestamps.shape[0])\n",
    "null_timestamps"
   ]
  },
  {
   "cell_type": "code",
   "execution_count": 150,
   "metadata": {},
   "outputs": [
    {
     "data": {
      "text/html": [
       "<div><style>\n",
       ".dataframe > thead > tr,\n",
       ".dataframe > tbody > tr {\n",
       "  text-align: right;\n",
       "  white-space: pre-wrap;\n",
       "}\n",
       "</style>\n",
       "<small>shape: (0, 7)</small><table border=\"1\" class=\"dataframe\"><thead><tr><th>car_id</th><th>timestamp</th><th>latitude</th><th>longitude</th><th>notification</th><th>notification_time</th><th>distance</th></tr><tr><td>str</td><td>datetime[μs]</td><td>f64</td><td>f64</td><td>str</td><td>duration[μs]</td><td>f64</td></tr></thead><tbody></tbody></table></div>"
      ],
      "text/plain": [
       "shape: (0, 7)\n",
       "┌────────┬──────────────┬──────────┬───────────┬──────────────┬───────────────────┬──────────┐\n",
       "│ car_id ┆ timestamp    ┆ latitude ┆ longitude ┆ notification ┆ notification_time ┆ distance │\n",
       "│ ---    ┆ ---          ┆ ---      ┆ ---       ┆ ---          ┆ ---               ┆ ---      │\n",
       "│ str    ┆ datetime[μs] ┆ f64      ┆ f64       ┆ str          ┆ duration[μs]      ┆ f64      │\n",
       "╞════════╪══════════════╪══════════╪═══════════╪══════════════╪═══════════════════╪══════════╡\n",
       "└────────┴──────────────┴──────────┴───────────┴──────────────┴───────────────────┴──────────┘"
      ]
     },
     "execution_count": 150,
     "metadata": {},
     "output_type": "execute_result"
    }
   ],
   "source": [
    "data.filter(pl.col(\"car_id\").is_null()).collect()"
   ]
  },
  {
   "cell_type": "code",
   "execution_count": 151,
   "metadata": {},
   "outputs": [
    {
     "data": {
      "text/html": [
       "<div><style>\n",
       ".dataframe > thead > tr,\n",
       ".dataframe > tbody > tr {\n",
       "  text-align: right;\n",
       "  white-space: pre-wrap;\n",
       "}\n",
       "</style>\n",
       "<small>shape: (6_278_133, 7)</small><table border=\"1\" class=\"dataframe\"><thead><tr><th>car_id</th><th>timestamp</th><th>latitude</th><th>longitude</th><th>notification</th><th>notification_time</th><th>distance</th></tr><tr><td>str</td><td>datetime[μs]</td><td>f64</td><td>f64</td><td>str</td><td>duration[μs]</td><td>f64</td></tr></thead><tbody><tr><td>&quot;car_0&quot;</td><td>2023-01-01 00:10:10.000408</td><td>23.942326</td><td>-106.280889</td><td>&quot;engine_check&quot;</td><td>0µs</td><td>0.0</td></tr><tr><td>&quot;car_0&quot;</td><td>2023-01-01 00:10:10.000408</td><td>23.942326</td><td>-106.280889</td><td>&quot;tire_pressure&quot;</td><td>0µs</td><td>2.450245</td></tr><tr><td>&quot;car_0&quot;</td><td>2023-01-01 00:10:10.000408</td><td>23.934415</td><td>-106.289279</td><td>null</td><td>0µs</td><td>0.0</td></tr><tr><td>&quot;car_0&quot;</td><td>2023-01-01 00:49:30.000390</td><td>23.934415</td><td>-106.289279</td><td>&quot;tire_pressure&quot;</td><td>0µs</td><td>0.0</td></tr><tr><td>&quot;car_0&quot;</td><td>2023-01-01 00:58:38.000675</td><td>23.934415</td><td>-106.289279</td><td>&quot;tire_pressure&quot;</td><td>9m 8s 285µs</td><td>0.0</td></tr><tr><td>&hellip;</td><td>&hellip;</td><td>&hellip;</td><td>&hellip;</td><td>&hellip;</td><td>&hellip;</td><td>&hellip;</td></tr><tr><td>&quot;car_999&quot;</td><td>2023-01-07 22:38:41.000574</td><td>26.825027</td><td>-88.032093</td><td>&quot;engine_check&quot;</td><td>-20m -32s -41µs</td><td>0.297365</td></tr><tr><td>&quot;car_999&quot;</td><td>2023-01-07 23:04:39.000630</td><td>26.825385</td><td>-88.033536</td><td>&quot;engine_check&quot;</td><td>25m 58s 56µs</td><td>0.268635</td></tr><tr><td>&quot;car_999&quot;</td><td>2023-01-07 23:34:39.000630</td><td>26.825386</td><td>-88.03489</td><td>null</td><td>30m</td><td>0.0</td></tr><tr><td>&quot;car_999&quot;</td><td>2023-01-07 23:43:46.000323</td><td>26.825386</td><td>-88.03489</td><td>null</td><td>9m 6s 999693µs</td><td>0.0</td></tr><tr><td>&quot;car_999&quot;</td><td>2023-01-07 23:41:24.000267</td><td>26.825386</td><td>-88.03489</td><td>null</td><td>-2m -22s -56µs</td><td>0.0</td></tr></tbody></table></div>"
      ],
      "text/plain": [
       "shape: (6_278_133, 7)\n",
       "┌─────────┬─────────────────┬───────────┬─────────────┬───────────────┬─────────────────┬──────────┐\n",
       "│ car_id  ┆ timestamp       ┆ latitude  ┆ longitude   ┆ notification  ┆ notification_ti ┆ distance │\n",
       "│ ---     ┆ ---             ┆ ---       ┆ ---         ┆ ---           ┆ me              ┆ ---      │\n",
       "│ str     ┆ datetime[μs]    ┆ f64       ┆ f64         ┆ str           ┆ ---             ┆ f64      │\n",
       "│         ┆                 ┆           ┆             ┆               ┆ duration[μs]    ┆          │\n",
       "╞═════════╪═════════════════╪═══════════╪═════════════╪═══════════════╪═════════════════╪══════════╡\n",
       "│ car_0   ┆ 2023-01-01      ┆ 23.942326 ┆ -106.280889 ┆ engine_check  ┆ 0µs             ┆ 0.0      │\n",
       "│         ┆ 00:10:10.000408 ┆           ┆             ┆               ┆                 ┆          │\n",
       "│ car_0   ┆ 2023-01-01      ┆ 23.942326 ┆ -106.280889 ┆ tire_pressure ┆ 0µs             ┆ 2.450245 │\n",
       "│         ┆ 00:10:10.000408 ┆           ┆             ┆               ┆                 ┆          │\n",
       "│ car_0   ┆ 2023-01-01      ┆ 23.934415 ┆ -106.289279 ┆ null          ┆ 0µs             ┆ 0.0      │\n",
       "│         ┆ 00:10:10.000408 ┆           ┆             ┆               ┆                 ┆          │\n",
       "│ car_0   ┆ 2023-01-01      ┆ 23.934415 ┆ -106.289279 ┆ tire_pressure ┆ 0µs             ┆ 0.0      │\n",
       "│         ┆ 00:49:30.000390 ┆           ┆             ┆               ┆                 ┆          │\n",
       "│ car_0   ┆ 2023-01-01      ┆ 23.934415 ┆ -106.289279 ┆ tire_pressure ┆ 9m 8s 285µs     ┆ 0.0      │\n",
       "│         ┆ 00:58:38.000675 ┆           ┆             ┆               ┆                 ┆          │\n",
       "│ …       ┆ …               ┆ …         ┆ …           ┆ …             ┆ …               ┆ …        │\n",
       "│ car_999 ┆ 2023-01-07      ┆ 26.825027 ┆ -88.032093  ┆ engine_check  ┆ -20m -32s -41µs ┆ 0.297365 │\n",
       "│         ┆ 22:38:41.000574 ┆           ┆             ┆               ┆                 ┆          │\n",
       "│ car_999 ┆ 2023-01-07      ┆ 26.825385 ┆ -88.033536  ┆ engine_check  ┆ 25m 58s 56µs    ┆ 0.268635 │\n",
       "│         ┆ 23:04:39.000630 ┆           ┆             ┆               ┆                 ┆          │\n",
       "│ car_999 ┆ 2023-01-07      ┆ 26.825386 ┆ -88.03489   ┆ null          ┆ 30m             ┆ 0.0      │\n",
       "│         ┆ 23:34:39.000630 ┆           ┆             ┆               ┆                 ┆          │\n",
       "│ car_999 ┆ 2023-01-07      ┆ 26.825386 ┆ -88.03489   ┆ null          ┆ 9m 6s 999693µs  ┆ 0.0      │\n",
       "│         ┆ 23:43:46.000323 ┆           ┆             ┆               ┆                 ┆          │\n",
       "│ car_999 ┆ 2023-01-07      ┆ 26.825386 ┆ -88.03489   ┆ null          ┆ -2m -22s -56µs  ┆ 0.0      │\n",
       "│         ┆ 23:41:24.000267 ┆           ┆             ┆               ┆                 ┆          │\n",
       "└─────────┴─────────────────┴───────────┴─────────────┴───────────────┴─────────────────┴──────────┘"
      ]
     },
     "execution_count": 151,
     "metadata": {},
     "output_type": "execute_result"
    }
   ],
   "source": [
    "data = data.with_columns([\n",
    "    pl.col(\"notification_time\").fill_null(pl.duration(microseconds=0)),\n",
    "    pl.col(\"distance\").fill_null(0.0)\n",
    "])\n",
    "data.collect()"
   ]
  },
  {
   "cell_type": "code",
   "execution_count": 152,
   "metadata": {},
   "outputs": [
    {
     "data": {
      "text/html": [
       "<div><style>\n",
       ".dataframe > thead > tr,\n",
       ".dataframe > tbody > tr {\n",
       "  text-align: right;\n",
       "  white-space: pre-wrap;\n",
       "}\n",
       "</style>\n",
       "<small>shape: (0, 7)</small><table border=\"1\" class=\"dataframe\"><thead><tr><th>car_id</th><th>timestamp</th><th>latitude</th><th>longitude</th><th>notification</th><th>notification_time</th><th>distance</th></tr><tr><td>str</td><td>datetime[μs]</td><td>f64</td><td>f64</td><td>str</td><td>duration[μs]</td><td>f64</td></tr></thead><tbody></tbody></table></div>"
      ],
      "text/plain": [
       "shape: (0, 7)\n",
       "┌────────┬──────────────┬──────────┬───────────┬──────────────┬───────────────────┬──────────┐\n",
       "│ car_id ┆ timestamp    ┆ latitude ┆ longitude ┆ notification ┆ notification_time ┆ distance │\n",
       "│ ---    ┆ ---          ┆ ---      ┆ ---       ┆ ---          ┆ ---               ┆ ---      │\n",
       "│ str    ┆ datetime[μs] ┆ f64      ┆ f64       ┆ str          ┆ duration[μs]      ┆ f64      │\n",
       "╞════════╪══════════════╪══════════╪═══════════╪══════════════╪═══════════════════╪══════════╡\n",
       "└────────┴──────────────┴──────────┴───────────┴──────────────┴───────────────────┴──────────┘"
      ]
     },
     "execution_count": 152,
     "metadata": {},
     "output_type": "execute_result"
    }
   ],
   "source": [
    "data.filter(pl.col(\"notification_time\").is_null()).collect()"
   ]
  },
  {
   "cell_type": "code",
   "execution_count": 153,
   "metadata": {},
   "outputs": [
    {
     "data": {
      "text/html": [
       "<div><style>\n",
       ".dataframe > thead > tr,\n",
       ".dataframe > tbody > tr {\n",
       "  text-align: right;\n",
       "  white-space: pre-wrap;\n",
       "}\n",
       "</style>\n",
       "<small>shape: (0, 7)</small><table border=\"1\" class=\"dataframe\"><thead><tr><th>car_id</th><th>timestamp</th><th>latitude</th><th>longitude</th><th>notification</th><th>notification_time</th><th>distance</th></tr><tr><td>str</td><td>datetime[μs]</td><td>f64</td><td>f64</td><td>str</td><td>duration[μs]</td><td>f64</td></tr></thead><tbody></tbody></table></div>"
      ],
      "text/plain": [
       "shape: (0, 7)\n",
       "┌────────┬──────────────┬──────────┬───────────┬──────────────┬───────────────────┬──────────┐\n",
       "│ car_id ┆ timestamp    ┆ latitude ┆ longitude ┆ notification ┆ notification_time ┆ distance │\n",
       "│ ---    ┆ ---          ┆ ---      ┆ ---       ┆ ---          ┆ ---               ┆ ---      │\n",
       "│ str    ┆ datetime[μs] ┆ f64      ┆ f64       ┆ str          ┆ duration[μs]      ┆ f64      │\n",
       "╞════════╪══════════════╪══════════╪═══════════╪══════════════╪═══════════════════╪══════════╡\n",
       "└────────┴──────────────┴──────────┴───────────┴──────────────┴───────────────────┴──────────┘"
      ]
     },
     "execution_count": 153,
     "metadata": {},
     "output_type": "execute_result"
    }
   ],
   "source": [
    "data.filter(pl.col(\"distance\").is_null()).collect()"
   ]
  },
  {
   "cell_type": "code",
   "execution_count": 154,
   "metadata": {},
   "outputs": [
    {
     "data": {
      "text/html": [
       "<div><style>\n",
       ".dataframe > thead > tr,\n",
       ".dataframe > tbody > tr {\n",
       "  text-align: right;\n",
       "  white-space: pre-wrap;\n",
       "}\n",
       "</style>\n",
       "<small>shape: (6_278_133, 7)</small><table border=\"1\" class=\"dataframe\"><thead><tr><th>car_id</th><th>timestamp</th><th>latitude</th><th>longitude</th><th>notification</th><th>notification_time</th><th>distance</th></tr><tr><td>str</td><td>datetime[μs]</td><td>f64</td><td>f64</td><td>str</td><td>duration[μs]</td><td>f64</td></tr></thead><tbody><tr><td>&quot;car_0&quot;</td><td>2023-01-01 00:10:10.000408</td><td>23.942326</td><td>-106.280889</td><td>&quot;engine_check&quot;</td><td>0µs</td><td>0.0</td></tr><tr><td>&quot;car_0&quot;</td><td>2023-01-01 00:10:10.000408</td><td>23.942326</td><td>-106.280889</td><td>&quot;tire_pressure&quot;</td><td>0µs</td><td>2.450245</td></tr><tr><td>&quot;car_0&quot;</td><td>2023-01-01 00:10:10.000408</td><td>23.934415</td><td>-106.289279</td><td>null</td><td>0µs</td><td>0.0</td></tr><tr><td>&quot;car_0&quot;</td><td>2023-01-01 00:49:30.000390</td><td>23.934415</td><td>-106.289279</td><td>&quot;tire_pressure&quot;</td><td>0µs</td><td>0.0</td></tr><tr><td>&quot;car_0&quot;</td><td>2023-01-01 00:58:38.000675</td><td>23.934415</td><td>-106.289279</td><td>&quot;tire_pressure&quot;</td><td>9m 8s 285µs</td><td>0.0</td></tr><tr><td>&hellip;</td><td>&hellip;</td><td>&hellip;</td><td>&hellip;</td><td>&hellip;</td><td>&hellip;</td><td>&hellip;</td></tr><tr><td>&quot;car_999&quot;</td><td>2023-01-07 22:38:41.000574</td><td>26.825027</td><td>-88.032093</td><td>&quot;engine_check&quot;</td><td>-20m -32s -41µs</td><td>0.297365</td></tr><tr><td>&quot;car_999&quot;</td><td>2023-01-07 23:04:39.000630</td><td>26.825385</td><td>-88.033536</td><td>&quot;engine_check&quot;</td><td>25m 58s 56µs</td><td>0.268635</td></tr><tr><td>&quot;car_999&quot;</td><td>2023-01-07 23:34:39.000630</td><td>26.825386</td><td>-88.03489</td><td>null</td><td>30m</td><td>0.0</td></tr><tr><td>&quot;car_999&quot;</td><td>2023-01-07 23:43:46.000323</td><td>26.825386</td><td>-88.03489</td><td>null</td><td>9m 6s 999693µs</td><td>0.0</td></tr><tr><td>&quot;car_999&quot;</td><td>2023-01-07 23:41:24.000267</td><td>26.825386</td><td>-88.03489</td><td>null</td><td>-2m -22s -56µs</td><td>0.0</td></tr></tbody></table></div>"
      ],
      "text/plain": [
       "shape: (6_278_133, 7)\n",
       "┌─────────┬─────────────────┬───────────┬─────────────┬───────────────┬─────────────────┬──────────┐\n",
       "│ car_id  ┆ timestamp       ┆ latitude  ┆ longitude   ┆ notification  ┆ notification_ti ┆ distance │\n",
       "│ ---     ┆ ---             ┆ ---       ┆ ---         ┆ ---           ┆ me              ┆ ---      │\n",
       "│ str     ┆ datetime[μs]    ┆ f64       ┆ f64         ┆ str           ┆ ---             ┆ f64      │\n",
       "│         ┆                 ┆           ┆             ┆               ┆ duration[μs]    ┆          │\n",
       "╞═════════╪═════════════════╪═══════════╪═════════════╪═══════════════╪═════════════════╪══════════╡\n",
       "│ car_0   ┆ 2023-01-01      ┆ 23.942326 ┆ -106.280889 ┆ engine_check  ┆ 0µs             ┆ 0.0      │\n",
       "│         ┆ 00:10:10.000408 ┆           ┆             ┆               ┆                 ┆          │\n",
       "│ car_0   ┆ 2023-01-01      ┆ 23.942326 ┆ -106.280889 ┆ tire_pressure ┆ 0µs             ┆ 2.450245 │\n",
       "│         ┆ 00:10:10.000408 ┆           ┆             ┆               ┆                 ┆          │\n",
       "│ car_0   ┆ 2023-01-01      ┆ 23.934415 ┆ -106.289279 ┆ null          ┆ 0µs             ┆ 0.0      │\n",
       "│         ┆ 00:10:10.000408 ┆           ┆             ┆               ┆                 ┆          │\n",
       "│ car_0   ┆ 2023-01-01      ┆ 23.934415 ┆ -106.289279 ┆ tire_pressure ┆ 0µs             ┆ 0.0      │\n",
       "│         ┆ 00:49:30.000390 ┆           ┆             ┆               ┆                 ┆          │\n",
       "│ car_0   ┆ 2023-01-01      ┆ 23.934415 ┆ -106.289279 ┆ tire_pressure ┆ 9m 8s 285µs     ┆ 0.0      │\n",
       "│         ┆ 00:58:38.000675 ┆           ┆             ┆               ┆                 ┆          │\n",
       "│ …       ┆ …               ┆ …         ┆ …           ┆ …             ┆ …               ┆ …        │\n",
       "│ car_999 ┆ 2023-01-07      ┆ 26.825027 ┆ -88.032093  ┆ engine_check  ┆ -20m -32s -41µs ┆ 0.297365 │\n",
       "│         ┆ 22:38:41.000574 ┆           ┆             ┆               ┆                 ┆          │\n",
       "│ car_999 ┆ 2023-01-07      ┆ 26.825385 ┆ -88.033536  ┆ engine_check  ┆ 25m 58s 56µs    ┆ 0.268635 │\n",
       "│         ┆ 23:04:39.000630 ┆           ┆             ┆               ┆                 ┆          │\n",
       "│ car_999 ┆ 2023-01-07      ┆ 26.825386 ┆ -88.03489   ┆ null          ┆ 30m             ┆ 0.0      │\n",
       "│         ┆ 23:34:39.000630 ┆           ┆             ┆               ┆                 ┆          │\n",
       "│ car_999 ┆ 2023-01-07      ┆ 26.825386 ┆ -88.03489   ┆ null          ┆ 9m 6s 999693µs  ┆ 0.0      │\n",
       "│         ┆ 23:43:46.000323 ┆           ┆             ┆               ┆                 ┆          │\n",
       "│ car_999 ┆ 2023-01-07      ┆ 26.825386 ┆ -88.03489   ┆ null          ┆ -2m -22s -56µs  ┆ 0.0      │\n",
       "│         ┆ 23:41:24.000267 ┆           ┆             ┆               ┆                 ┆          │\n",
       "└─────────┴─────────────────┴───────────┴─────────────┴───────────────┴─────────────────┴──────────┘"
      ]
     },
     "execution_count": 154,
     "metadata": {},
     "output_type": "execute_result"
    }
   ],
   "source": [
    "data.sort([\"car_id\", \"timestamp\"])\n",
    "data.collect()"
   ]
  },
  {
   "cell_type": "code",
   "execution_count": 155,
   "metadata": {},
   "outputs": [],
   "source": [
    "data = data.with_columns([\n",
    "    pl.col(\"timestamp\").fill_null(strategy=\"forward\").cast(pl.Datetime),\n",
    "    pl.col(\"notification_time\").fill_null(pl.duration(microseconds=0)),\n",
    "    pl.col(\"distance\").fill_null(0.0).cast(pl.Float64)\n",
    "]).sort([\"car_id\", \"timestamp\"]).collect() "
   ]
  },
  {
   "cell_type": "code",
   "execution_count": 156,
   "metadata": {},
   "outputs": [],
   "source": [
    "# Step 2: Convert to LazyFrame after sorting and handle aggregation\n",
    "data = data.lazy()"
   ]
  },
  {
   "cell_type": "code",
   "execution_count": 157,
   "metadata": {},
   "outputs": [
    {
     "name": "stderr",
     "output_type": "stream",
     "text": [
      "/var/folders/5x/v_n3jdfd003f7mqj3m9j1k0h0000gn/T/ipykernel_72241/2645413454.py:4: DeprecationWarning: The argument `by` for `LazyFrame.group_by_dynamic` is deprecated. It has been renamed to `group_by`.\n",
      "  .group_by_dynamic(\n"
     ]
    },
    {
     "data": {
      "text/html": [
       "<div><style>\n",
       ".dataframe > thead > tr,\n",
       ".dataframe > tbody > tr {\n",
       "  text-align: right;\n",
       "  white-space: pre-wrap;\n",
       "}\n",
       "</style>\n",
       "<small>shape: (1_312_278, 12)</small><table border=\"1\" class=\"dataframe\"><thead><tr><th>car_id</th><th>timestamp</th><th>mean_notification_time</th><th>median_notification_time</th><th>var_notification_time</th><th>max_notification_time</th><th>min_notification_time</th><th>mean_distance</th><th>median_distance</th><th>var_distance</th><th>max_distance</th><th>min_distance</th></tr><tr><td>str</td><td>datetime[μs]</td><td>duration[μs]</td><td>duration[μs]</td><td>duration[μs]</td><td>duration[μs]</td><td>duration[μs]</td><td>f64</td><td>f64</td><td>f64</td><td>f64</td><td>f64</td></tr></thead><tbody><tr><td>&quot;car_0&quot;</td><td>2023-01-01 00:10:00</td><td>0µs</td><td>0µs</td><td>0µs</td><td>0µs</td><td>0µs</td><td>0.816748</td><td>0.0</td><td>2.001233</td><td>2.450245</td><td>0.0</td></tr><tr><td>&quot;car_0&quot;</td><td>2023-01-01 00:30:00</td><td>-11m -4s -333388µs</td><td>-14m -5s -575µs</td><td>4096715d 17h 20m 29s 912ms</td><td>0µs</td><td>-19m -7s -999589µs</td><td>0.762048</td><td>0.0</td><td>1.74215</td><td>2.286143</td><td>0.0</td></tr><tr><td>&quot;car_0&quot;</td><td>2023-01-01 00:35:00</td><td>3m 36s 999839µs</td><td>3m 36s 999839µs</td><td>null</td><td>3m 36s 999839µs</td><td>3m 36s 999839µs</td><td>0.0</td><td>0.0</td><td>null</td><td>0.0</td><td>0.0</td></tr><tr><td>&quot;car_0&quot;</td><td>2023-01-01 00:45:00</td><td>-5m -56s -499853µs</td><td>-5m -56s -499853µs</td><td>2941947d 19h 19m 38s 43232µs</td><td>0µs</td><td>-11m -52s -999706µs</td><td>0.0</td><td>0.0</td><td>0.0</td><td>0.0</td><td>0.0</td></tr><tr><td>&quot;car_0&quot;</td><td>2023-01-01 00:50:00</td><td>17m 24s 231µs</td><td>17m 24s 231µs</td><td>null</td><td>17m 24s 231µs</td><td>17m 24s 231µs</td><td>0.0</td><td>0.0</td><td>null</td><td>0.0</td><td>0.0</td></tr><tr><td>&hellip;</td><td>&hellip;</td><td>&hellip;</td><td>&hellip;</td><td>&hellip;</td><td>&hellip;</td><td>&hellip;</td><td>&hellip;</td><td>&hellip;</td><td>&hellip;</td><td>&hellip;</td><td>&hellip;</td></tr><tr><td>&quot;car_999&quot;</td><td>2023-01-07 22:55:00</td><td>15m 52s 250145µs</td><td>19m 54s 499824µs</td><td>4078504d 22h 37m 43s 172864µs</td><td>22m 28s 586µs</td><td>1m 12s 348µs</td><td>0.0</td><td>0.0</td><td>0.0</td><td>0.0</td><td>0.0</td></tr><tr><td>&quot;car_999&quot;</td><td>2023-01-07 23:00:00</td><td>25m 58s 56µs</td><td>25m 58s 56µs</td><td>null</td><td>25m 58s 56µs</td><td>25m 58s 56µs</td><td>0.268635</td><td>0.268635</td><td>null</td><td>0.268635</td><td>0.268635</td></tr><tr><td>&quot;car_999&quot;</td><td>2023-01-07 23:30:00</td><td>30m</td><td>30m</td><td>null</td><td>30m</td><td>30m</td><td>0.0</td><td>0.0</td><td>null</td><td>0.0</td><td>0.0</td></tr><tr><td>&quot;car_999&quot;</td><td>2023-01-07 23:35:00</td><td>0µs</td><td>0µs</td><td>null</td><td>0µs</td><td>0µs</td><td>0.0</td><td>0.0</td><td>null</td><td>0.0</td><td>0.0</td></tr><tr><td>&quot;car_999&quot;</td><td>2023-01-07 23:40:00</td><td>3m 22s 499818µs</td><td>3m 22s 499818µs</td><td>2747226d 11m 1s 31488µs</td><td>9m 6s 999693µs</td><td>-2m -22s -56µs</td><td>0.0</td><td>0.0</td><td>0.0</td><td>0.0</td><td>0.0</td></tr></tbody></table></div>"
      ],
      "text/plain": [
       "shape: (1_312_278, 12)\n",
       "┌─────────┬────────────┬───────────┬───────────┬───┬───────────┬───────────┬───────────┬───────────┐\n",
       "│ car_id  ┆ timestamp  ┆ mean_noti ┆ median_no ┆ … ┆ median_di ┆ var_dista ┆ max_dista ┆ min_dista │\n",
       "│ ---     ┆ ---        ┆ fication_ ┆ tificatio ┆   ┆ stance    ┆ nce       ┆ nce       ┆ nce       │\n",
       "│ str     ┆ datetime[μ ┆ time      ┆ n_time    ┆   ┆ ---       ┆ ---       ┆ ---       ┆ ---       │\n",
       "│         ┆ s]         ┆ ---       ┆ ---       ┆   ┆ f64       ┆ f64       ┆ f64       ┆ f64       │\n",
       "│         ┆            ┆ duration[ ┆ duration[ ┆   ┆           ┆           ┆           ┆           │\n",
       "│         ┆            ┆ μs]       ┆ μs]       ┆   ┆           ┆           ┆           ┆           │\n",
       "╞═════════╪════════════╪═══════════╪═══════════╪═══╪═══════════╪═══════════╪═══════════╪═══════════╡\n",
       "│ car_0   ┆ 2023-01-01 ┆ 0µs       ┆ 0µs       ┆ … ┆ 0.0       ┆ 2.001233  ┆ 2.450245  ┆ 0.0       │\n",
       "│         ┆ 00:10:00   ┆           ┆           ┆   ┆           ┆           ┆           ┆           │\n",
       "│ car_0   ┆ 2023-01-01 ┆ -11m -4s  ┆ -14m -5s  ┆ … ┆ 0.0       ┆ 1.74215   ┆ 2.286143  ┆ 0.0       │\n",
       "│         ┆ 00:30:00   ┆ -333388µs ┆ -575µs    ┆   ┆           ┆           ┆           ┆           │\n",
       "│ car_0   ┆ 2023-01-01 ┆ 3m 36s    ┆ 3m 36s    ┆ … ┆ 0.0       ┆ null      ┆ 0.0       ┆ 0.0       │\n",
       "│         ┆ 00:35:00   ┆ 999839µs  ┆ 999839µs  ┆   ┆           ┆           ┆           ┆           │\n",
       "│ car_0   ┆ 2023-01-01 ┆ -5m -56s  ┆ -5m -56s  ┆ … ┆ 0.0       ┆ 0.0       ┆ 0.0       ┆ 0.0       │\n",
       "│         ┆ 00:45:00   ┆ -499853µs ┆ -499853µs ┆   ┆           ┆           ┆           ┆           │\n",
       "│ car_0   ┆ 2023-01-01 ┆ 17m 24s   ┆ 17m 24s   ┆ … ┆ 0.0       ┆ null      ┆ 0.0       ┆ 0.0       │\n",
       "│         ┆ 00:50:00   ┆ 231µs     ┆ 231µs     ┆   ┆           ┆           ┆           ┆           │\n",
       "│ …       ┆ …          ┆ …         ┆ …         ┆ … ┆ …         ┆ …         ┆ …         ┆ …         │\n",
       "│ car_999 ┆ 2023-01-07 ┆ 15m 52s   ┆ 19m 54s   ┆ … ┆ 0.0       ┆ 0.0       ┆ 0.0       ┆ 0.0       │\n",
       "│         ┆ 22:55:00   ┆ 250145µs  ┆ 499824µs  ┆   ┆           ┆           ┆           ┆           │\n",
       "│ car_999 ┆ 2023-01-07 ┆ 25m 58s   ┆ 25m 58s   ┆ … ┆ 0.268635  ┆ null      ┆ 0.268635  ┆ 0.268635  │\n",
       "│         ┆ 23:00:00   ┆ 56µs      ┆ 56µs      ┆   ┆           ┆           ┆           ┆           │\n",
       "│ car_999 ┆ 2023-01-07 ┆ 30m       ┆ 30m       ┆ … ┆ 0.0       ┆ null      ┆ 0.0       ┆ 0.0       │\n",
       "│         ┆ 23:30:00   ┆           ┆           ┆   ┆           ┆           ┆           ┆           │\n",
       "│ car_999 ┆ 2023-01-07 ┆ 0µs       ┆ 0µs       ┆ … ┆ 0.0       ┆ null      ┆ 0.0       ┆ 0.0       │\n",
       "│         ┆ 23:35:00   ┆           ┆           ┆   ┆           ┆           ┆           ┆           │\n",
       "│ car_999 ┆ 2023-01-07 ┆ 3m 22s    ┆ 3m 22s    ┆ … ┆ 0.0       ┆ 0.0       ┆ 0.0       ┆ 0.0       │\n",
       "│         ┆ 23:40:00   ┆ 499818µs  ┆ 499818µs  ┆   ┆           ┆           ┆           ┆           │\n",
       "└─────────┴────────────┴───────────┴───────────┴───┴───────────┴───────────┴───────────┴───────────┘"
      ]
     },
     "execution_count": 157,
     "metadata": {},
     "output_type": "execute_result"
    }
   ],
   "source": [
    "# Step 3: Perform dynamic grouping and aggregation on the now sorted LazyFrame\n",
    "x_minutes = 5\n",
    "data_aggregated = (data\n",
    "    .group_by_dynamic(\n",
    "        index_column=\"timestamp\",\n",
    "        every=f\"{x_minutes}m\",\n",
    "        by=\"car_id\"\n",
    "    )\n",
    "    .agg([\n",
    "        pl.col(\"notification_time\").mean().alias(\"mean_notification_time\"),\n",
    "        pl.col(\"notification_time\").median().alias(\"median_notification_time\"),\n",
    "        pl.col(\"notification_time\").var().alias(\"var_notification_time\"),\n",
    "        pl.col(\"notification_time\").max().alias(\"max_notification_time\"),\n",
    "        pl.col(\"notification_time\").min().alias(\"min_notification_time\"),\n",
    "        pl.col(\"distance\").mean().alias(\"mean_distance\"),\n",
    "        pl.col(\"distance\").median().alias(\"median_distance\"),\n",
    "        pl.col(\"distance\").var().alias(\"var_distance\"),\n",
    "        pl.col(\"distance\").max().alias(\"max_distance\"),\n",
    "        pl.col(\"distance\").min().alias(\"min_distance\"),\n",
    "    ])\n",
    ")\n",
    "\n",
    "# Collect and display results\n",
    "result = data_aggregated.collect()\n",
    "result"
   ]
  },
  {
   "cell_type": "markdown",
   "metadata": {},
   "source": []
  }
 ],
 "metadata": {
  "kernelspec": {
   "display_name": ".venv",
   "language": "python",
   "name": "python3"
  },
  "language_info": {
   "codemirror_mode": {
    "name": "ipython",
    "version": 3
   },
   "file_extension": ".py",
   "mimetype": "text/x-python",
   "name": "python",
   "nbconvert_exporter": "python",
   "pygments_lexer": "ipython3",
   "version": "3.12.7"
  }
 },
 "nbformat": 4,
 "nbformat_minor": 2
}
