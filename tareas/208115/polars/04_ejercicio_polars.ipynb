{
 "cells": [
  {
   "cell_type": "markdown",
   "metadata": {},
   "source": [
    "<a target=\"_blank\" href=\"https://colab.research.google.com/github/sonder-art/fdd_o23/blob/main/codigo/polars/04_ejercicio_polars.ipynb\">\n",
    "  <img src=\"https://colab.research.google.com/assets/colab-badge.svg\" alt=\"Open In Colab\"/>\n",
    "</a>"
   ]
  },
  {
   "cell_type": "code",
   "execution_count": null,
   "metadata": {},
   "outputs": [],
   "source": [
    "#!pip install polars"
   ]
  },
  {
   "cell_type": "code",
   "execution_count": 1,
   "metadata": {},
   "outputs": [],
   "source": [
    "import polars as pl\n",
    "import random\n",
    "import string\n"
   ]
  },
  {
   "cell_type": "markdown",
   "metadata": {},
   "source": [
    "# Generacion de Datos"
   ]
  },
  {
   "cell_type": "code",
   "execution_count": 2,
   "metadata": {},
   "outputs": [
    {
     "data": {
      "text/html": [
       "<div><style>\n",
       ".dataframe > thead > tr,\n",
       ".dataframe > tbody > tr {\n",
       "  text-align: right;\n",
       "  white-space: pre-wrap;\n",
       "}\n",
       "</style>\n",
       "<small>shape: (5, 6)</small><table border=\"1\" class=\"dataframe\"><thead><tr><th>id_venta</th><th>producto</th><th>cantidad</th><th>precio_unitario</th><th>fecha_venta</th><th>cliente_id</th></tr><tr><td>i64</td><td>str</td><td>i64</td><td>f64</td><td>object</td><td>i64</td></tr></thead><tbody><tr><td>1</td><td>&quot;bwutf&quot;</td><td>12</td><td>21.908184</td><td>2011-12-23 00:00:00.alias(&quot;datetime&quot;).strict_cast(Date).alias(&quot;date&quot;)</td><td>2891</td></tr><tr><td>2</td><td>&quot;purcj&quot;</td><td>13</td><td>56.930169</td><td>2021-02-12 00:00:00.alias(&quot;datetime&quot;).strict_cast(Date).alias(&quot;date&quot;)</td><td>4646</td></tr><tr><td>3</td><td>&quot;tutdx&quot;</td><td>10</td><td>20.278388</td><td>2012-03-05 00:00:00.alias(&quot;datetime&quot;).strict_cast(Date).alias(&quot;date&quot;)</td><td>1087</td></tr><tr><td>4</td><td>&quot;runqb&quot;</td><td>12</td><td>38.246668</td><td>2012-03-08 00:00:00.alias(&quot;datetime&quot;).strict_cast(Date).alias(&quot;date&quot;)</td><td>3397</td></tr><tr><td>5</td><td>&quot;htvkr&quot;</td><td>12</td><td>57.738777</td><td>2022-06-05 00:00:00.alias(&quot;datetime&quot;).strict_cast(Date).alias(&quot;date&quot;)</td><td>1256</td></tr></tbody></table></div>"
      ],
      "text/plain": [
       "shape: (5, 6)\n",
       "┌──────────┬──────────┬──────────┬─────────────────┬─────────────────────────────────┬────────────┐\n",
       "│ id_venta ┆ producto ┆ cantidad ┆ precio_unitario ┆ fecha_venta                     ┆ cliente_id │\n",
       "│ ---      ┆ ---      ┆ ---      ┆ ---             ┆ ---                             ┆ ---        │\n",
       "│ i64      ┆ str      ┆ i64      ┆ f64             ┆ object                          ┆ i64        │\n",
       "╞══════════╪══════════╪══════════╪═════════════════╪═════════════════════════════════╪════════════╡\n",
       "│ 1        ┆ bwutf    ┆ 12       ┆ 21.908184       ┆ 2011-12-23 00:00:00.alias(\"dat… ┆ 2891       │\n",
       "│ 2        ┆ purcj    ┆ 13       ┆ 56.930169       ┆ 2021-02-12 00:00:00.alias(\"dat… ┆ 4646       │\n",
       "│ 3        ┆ tutdx    ┆ 10       ┆ 20.278388       ┆ 2012-03-05 00:00:00.alias(\"dat… ┆ 1087       │\n",
       "│ 4        ┆ runqb    ┆ 12       ┆ 38.246668       ┆ 2012-03-08 00:00:00.alias(\"dat… ┆ 3397       │\n",
       "│ 5        ┆ htvkr    ┆ 12       ┆ 57.738777       ┆ 2022-06-05 00:00:00.alias(\"dat… ┆ 1256       │\n",
       "└──────────┴──────────┴──────────┴─────────────────┴─────────────────────────────────┴────────────┘"
      ]
     },
     "execution_count": 2,
     "metadata": {},
     "output_type": "execute_result"
    }
   ],
   "source": [
    "# Funciones auxiliares para generar datos\n",
    "def random_string(length=5):\n",
    "    letters = string.ascii_lowercase\n",
    "    return ''.join(random.choice(letters) for i in range(length))\n",
    "\n",
    "def generate_data(n=1000):\n",
    "    data = {\n",
    "        \"id_venta\": list(range(1, n + 1)),\n",
    "        \"producto\": [random_string() for _ in range(n)],\n",
    "        \"cantidad\": [random.randint(1, 20) for _ in range(n)],\n",
    "        \"precio_unitario\": [random.uniform(10, 100) for _ in range(n)],\n",
    "        \"fecha_venta\": [pl.date(random.randint(2010, 2022), random.randint(1, 12), random.randint(1, 28)) for _ in range(n)],\n",
    "        \"cliente_id\": [random.randint(1000, 5000) for _ in range(n)]\n",
    "    }\n",
    "    return pl.DataFrame(data)\n",
    "\n",
    "# Generar el DataFrame\n",
    "df = generate_data()\n",
    "df.head()"
   ]
  },
  {
   "cell_type": "code",
   "execution_count": 3,
   "metadata": {},
   "outputs": [
    {
     "data": {
      "text/html": [
       "<i>naive plan: (run <b>LazyFrame.explain(optimized=True)</b> to see the optimized plan)</i>\n",
       "    <p></p>\n",
       "    <div>DF [\"id_venta\", \"producto\", \"cantidad\", \"precio_unitario\"]; PROJECT */6 COLUMNS; SELECTION: None</div>"
      ],
      "text/plain": [
       "<LazyFrame at 0x107AA74A0>"
      ]
     },
     "execution_count": 3,
     "metadata": {},
     "output_type": "execute_result"
    }
   ],
   "source": [
    "df = df.lazy()\n",
    "df"
   ]
  },
  {
   "cell_type": "markdown",
   "metadata": {},
   "source": [
    "# Limpieza de Datos"
   ]
  },
  {
   "cell_type": "markdown",
   "metadata": {},
   "source": [
    "Utilizando Polars en modo Lazy, realice las siguientes operaciones de limpieza y manipulación de datos:\n",
    "\n",
    "    1. `Filtrar` las ventas con cantidades menores a 5.\n",
    "    2. `Agregar` una nueva columna llamada total_venta, que sea el resultado de multiplicar cantidad por precio_unitario.\n",
    "    3. `Eliminar` la columna precio_unitario después de crear total_venta.\n",
    "    4. `Agrupar` los datos por producto y calcular el total vendido y la cantidad total vendida por producto.\n",
    "    5. `Ordenar` los resultados por el total vendido en orden descendente."
   ]
  },
  {
   "cell_type": "markdown",
   "metadata": {},
   "source": [
    "Todo esto lo debes de realizar en una sola linea de codigo"
   ]
  },
  {
   "cell_type": "code",
   "execution_count": 4,
   "metadata": {},
   "outputs": [
    {
     "name": "stdout",
     "output_type": "stream",
     "text": [
      "shape: (806, 3)\n",
      "┌──────────┬───────────────┬────────────────────────┐\n",
      "│ producto ┆ total_vendido ┆ cantidad_total_vendida │\n",
      "│ ---      ┆ ---           ┆ ---                    │\n",
      "│ str      ┆ f64           ┆ i64                    │\n",
      "╞══════════╪═══════════════╪════════════════════════╡\n",
      "│ sgdvw    ┆ 1951.875877   ┆ 20                     │\n",
      "│ vmajn    ┆ 1893.229615   ┆ 20                     │\n",
      "│ xzaqq    ┆ 1892.459543   ┆ 19                     │\n",
      "│ fauam    ┆ 1885.251115   ┆ 19                     │\n",
      "│ mvhbq    ┆ 1852.555393   ┆ 19                     │\n",
      "│ …        ┆ …             ┆ …                      │\n",
      "│ lkkku    ┆ 64.484945     ┆ 5                      │\n",
      "│ lflrn    ┆ 63.22095      ┆ 5                      │\n",
      "│ ewdkp    ┆ 58.184666     ┆ 5                      │\n",
      "│ enwsx    ┆ 54.701273     ┆ 5                      │\n",
      "│ lzjsx    ┆ 52.810163     ┆ 5                      │\n",
      "└──────────┴───────────────┴────────────────────────┘\n"
     ]
    }
   ],
   "source": [
    "\n",
    "lazy_df = df.lazy()\n",
    "\n",
    "# Realizar las operaciones de limpieza y manipulación\n",
    "resultado = (\n",
    "    lazy_df\n",
    "    .filter(pl.col(\"cantidad\") >= 5)\n",
    "    .with_columns((pl.col(\"cantidad\") * pl.col(\"precio_unitario\")).alias(\"total_venta\"))\n",
    "   \n",
    "    .drop(\"precio_unitario\")\n",
    "    .group_by(\"producto\")\n",
    "    .agg([\n",
    "        pl.sum(\"total_venta\").alias(\"total_vendido\"),\n",
    "        pl.sum(\"cantidad\").alias(\"cantidad_total_vendida\"),\n",
    "        \n",
    "    ])\n",
    "    .sort(\"total_vendido\", descending = True)\n",
    ")\n",
    "\n",
    "  \n",
    "\n",
    "# Ejecutar y mostrar los resultados\n",
    "resultado_df = resultado.collect()\n",
    "print(resultado_df)\n"
   ]
  },
  {
   "cell_type": "markdown",
   "metadata": {},
   "source": [
    "# Guarda el resultado en un archivo `parquet`"
   ]
  },
  {
   "cell_type": "markdown",
   "metadata": {},
   "source": [
    "Guarda el resultado en un archivo parquet que se llame `resultados.parquet`"
   ]
  },
  {
   "cell_type": "code",
   "execution_count": 5,
   "metadata": {},
   "outputs": [],
   "source": [
    "# Tu codigo aqui\n",
    "resultado_df = resultado.collect()\n",
    "\n",
    "# Guardar el DataFrame en un archivo Parquet\n",
    "resultado_df.write_parquet(\"resultado.parquet\")"
   ]
  },
  {
   "cell_type": "markdown",
   "metadata": {},
   "source": [
    "# Lee Parquet"
   ]
  },
  {
   "cell_type": "markdown",
   "metadata": {},
   "source": [
    "Crea codigo para leer en polars el archivo parquet"
   ]
  },
  {
   "cell_type": "code",
   "execution_count": 6,
   "metadata": {},
   "outputs": [
    {
     "name": "stdout",
     "output_type": "stream",
     "text": [
      "shape: (5, 3)\n",
      "┌──────────┬───────────────┬────────────────────────┐\n",
      "│ producto ┆ total_vendido ┆ cantidad_total_vendida │\n",
      "│ ---      ┆ ---           ┆ ---                    │\n",
      "│ str      ┆ f64           ┆ i64                    │\n",
      "╞══════════╪═══════════════╪════════════════════════╡\n",
      "│ sgdvw    ┆ 1951.875877   ┆ 20                     │\n",
      "│ vmajn    ┆ 1893.229615   ┆ 20                     │\n",
      "│ xzaqq    ┆ 1892.459543   ┆ 19                     │\n",
      "│ fauam    ┆ 1885.251115   ┆ 19                     │\n",
      "│ mvhbq    ┆ 1852.555393   ┆ 19                     │\n",
      "└──────────┴───────────────┴────────────────────────┘\n"
     ]
    }
   ],
   "source": [
    "# Tu codigo aqui\n",
    "df = pl.read_parquet(\"resultado.parquet\")\n",
    "\n",
    "# Mostrar las primeras filas del DataFrame\n",
    "print(df.head())"
   ]
  }
 ],
 "metadata": {
  "kernelspec": {
   "display_name": ".venv",
   "language": "python",
   "name": "python3"
  },
  "language_info": {
   "codemirror_mode": {
    "name": "ipython",
    "version": 3
   },
   "file_extension": ".py",
   "mimetype": "text/x-python",
   "name": "python",
   "nbconvert_exporter": "python",
   "pygments_lexer": "ipython3",
   "version": "3.12.7"
  }
 },
 "nbformat": 4,
 "nbformat_minor": 2
}
