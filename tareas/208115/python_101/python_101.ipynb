{
  "nbformat": 4,
  "nbformat_minor": 0,
  "metadata": {
    "colab": {
      "provenance": []
    },
    "kernelspec": {
      "name": "python3",
      "display_name": "Python 3"
    },
    "language_info": {
      "name": "python"
    }
  },
  "cells": [
    {
      "cell_type": "code",
      "execution_count": 17,
      "metadata": {
        "colab": {
          "base_uri": "https://localhost:8080/"
        },
        "id": "VZBIwT8Wc_63",
        "outputId": "b40d74a6-6b02-450f-ef8d-d06611844eea"
      },
      "outputs": [
        {
          "output_type": "stream",
          "name": "stdout",
          "text": [
            "Tiempo con bucle 'for' original: 0.4208524227142334 segundos\n",
            "Tiempo con vectorización usando NumPy: 0.0025131702423095703 segundos\n",
            "Tiempo con paralelización usando joblib: 12.326667547225952 segundos\n",
            "Tiempo con paralelización usando multiprocessing: 3.3550472259521484 segundos\n"
          ]
        }
      ],
      "source": [
        "import numpy as np\n",
        "import time\n",
        "from joblib import Parallel, delayed\n",
        "import multiprocessing as mp\n",
        "\n",
        "# Crear dos arreglos grandes\n",
        "size = 10**6  # Un millón de elementos\n",
        "array_a = np.arange(size)\n",
        "array_b = np.arange(size)\n",
        "\n",
        "start_time = time.time()\n",
        "result_for = []\n",
        "for i in range(size):\n",
        "    result_for.append(array_a[i] * array_b[i])\n",
        "end_time = time.time()\n",
        "\n",
        "print(f\"Tiempo con bucle 'for' original: {end_time - start_time} segundos\")\n",
        "\n",
        "start_time = time.time()\n",
        "result_vectorized = array_a * array_b\n",
        "end_time = time.time()\n",
        "\n",
        "print(f\"Tiempo con vectorización usando NumPy: {end_time - start_time} segundos\")\n",
        "\n",
        "# Función para multiplicar elementos (utilizada en joblib)\n",
        "def multiply_elements(i):\n",
        "    return array_a[i] * array_b[i]\n",
        "\n",
        "start_time = time.time()\n",
        "result_joblib = Parallel(n_jobs=-1)(delayed(multiply_elements)(i) for i in range(size))\n",
        "end_time = time.time()\n",
        "\n",
        "print(f\"Tiempo con paralelización usando joblib: {end_time - start_time} segundos\")\n",
        "\n",
        "# Función para multiplicar elementos (utilizada en multiprocessing)\n",
        "def multiply_elements_mp(i):\n",
        "    return array_a[i] * array_b[i]\n",
        "\n",
        "start_time = time.time()\n",
        "\n",
        "# Crear un pool de procesos\n",
        "with mp.Pool(processes=mp.cpu_count()) as pool:\n",
        "    result_multiprocessing = pool.map(multiply_elements_mp, range(size))\n",
        "\n",
        "end_time = time.time()\n",
        "\n",
        "print(f\"Tiempo con paralelización usando multiprocessing: {end_time - start_time} segundos\")"
      ]
    },
    {
      "cell_type": "code",
      "source": [
        "\n",
        "import numpy as np\n",
        "import time\n",
        "from joblib import Parallel, delayed\n",
        "import multiprocessing as mp\n",
        "import matplotlib.pyplot as plt\n",
        "\n",
        "# Crear dos arreglos grandes\n",
        "size = 10**6  # Un millón de elementos\n",
        "array_a = np.arange(size)\n",
        "array_b = np.arange(size)\n",
        "n_runs = 5  # Número de veces que se ejecutará cada método\n",
        "\n"
      ],
      "metadata": {
        "id": "eB7TsZmJdpfr"
      },
      "execution_count": 18,
      "outputs": []
    },
    {
      "cell_type": "code",
      "source": [
        "# Función para medir el tiempo del bucle 'for' original\n",
        "def time_for_loop():\n",
        "    start_time = time.time()\n",
        "    result_for = []\n",
        "    for i in range(size):\n",
        "        result_for.append(array_a[i] * array_b[i])\n",
        "    end_time = time.time()\n",
        "    return end_time - start_time\n",
        "\n",
        "# Función para medir el tiempo de la vectorización con NumPy\n",
        "def time_vectorization():\n",
        "    start_time = time.time()\n",
        "    result_vectorized = array_a * array_b\n",
        "    end_time = time.time()\n",
        "    return end_time - start_time\n",
        "\n",
        "# Función para medir el tiempo de la paralelización con joblib\n",
        "def multiply_elements(i):\n",
        "    return array_a[i] * array_b[i]\n",
        "\n",
        "def time_joblib():\n",
        "    start_time = time.time()\n",
        "    result_joblib = Parallel(n_jobs=-1)(delayed(multiply_elements)(i) for i in range(size))\n",
        "    end_time = time.time()\n",
        "    return end_time - start_time\n",
        "\n",
        "# Función para medir el tiempo de la paralelización con multiprocessing\n",
        "def multiply_elements_mp(i):\n",
        "    return array_a[i] * array_b[i]\n",
        "\n",
        "def time_multiprocessing():\n",
        "    start_time = time.time()\n",
        "    with mp.Pool(processes=mp.cpu_count()) as pool:\n",
        "        result_multiprocessing = pool.map(multiply_elements_mp, range(size))\n",
        "    end_time = time.time()\n",
        "    return end_time - start_time\n",
        "\n",
        "\n"
      ],
      "metadata": {
        "id": "wmmO5o5Qd3tR"
      },
      "execution_count": 19,
      "outputs": []
    },
    {
      "cell_type": "code",
      "source": [
        "# Ejecutar cada método varias veces y recolectar los tiempos\n",
        "times_for_loop = [time_for_loop() for _ in range(n_runs)]\n",
        "times_vectorization = [time_vectorization() for _ in range(n_runs)]\n",
        "times_joblib = [time_joblib() for _ in range(n_runs)]\n",
        "times_multiprocessing = [time_multiprocessing() for _ in range(n_runs)]\n",
        "\n",
        "\n"
      ],
      "metadata": {
        "id": "wwMhZXyNeAXh"
      },
      "execution_count": 20,
      "outputs": []
    },
    {
      "cell_type": "code",
      "source": [
        "import pandas as pd\n",
        "\n",
        "# Crear un DataFrame con los tiempos\n",
        "df_times = pd.DataFrame({\n",
        "    'for_loop': times_for_loop,\n",
        "    'vectorization': times_vectorization,\n",
        "    'joblib': times_joblib,\n",
        "    'multiprocessing': times_multiprocessing\n",
        "})\n",
        "\n",
        "# Calcular estadísticas básicas\n",
        "stats_summary = df_times.describe().loc[['mean', 'std', 'min', 'max']]\n",
        "print(stats_summary)\n",
        "\n"
      ],
      "metadata": {
        "colab": {
          "base_uri": "https://localhost:8080/"
        },
        "id": "u87yYvjpeEzY",
        "outputId": "ef2bbb01-0e5a-46b2-8222-d37bb75c071c"
      },
      "execution_count": 21,
      "outputs": [
        {
          "output_type": "stream",
          "name": "stdout",
          "text": [
            "      for_loop  vectorization     joblib  multiprocessing\n",
            "mean  0.359747       0.002976  12.512905         3.834416\n",
            "std   0.024685       0.002060   0.690996         0.354984\n",
            "min   0.338081       0.002007  12.056915         3.475327\n",
            "max   0.401988       0.006660  13.728028         4.296478\n"
          ]
        }
      ]
    },
    {
      "cell_type": "code",
      "source": [
        "# Configurar el estilo del gráfico\n",
        "plt.style.use('seaborn-darkgrid')\n",
        "\n",
        "# Crear un gráfico de barras con las medias y desviaciones estándar\n",
        "plt.figure(figsize=(12, 6))\n",
        "\n",
        "methods = ['for_loop', 'vectorization', 'joblib', 'multiprocessing']\n",
        "mean_times = df_times.mean()\n",
        "std_times = df_times.std()\n",
        "\n",
        "plt.bar(methods, mean_times, yerr=std_times, capsize=5, color=['skyblue', 'lightgreen', 'salmon', 'lightcoral'])\n",
        "plt.xlabel('Métodos')\n",
        "plt.ylabel('Tiempo de Ejecución (segundos)')\n",
        "plt.title('Comparación de Tiempos de Ejecución')\n",
        "plt.xticks(rotation=45)\n",
        "plt.tight_layout()\n",
        "plt.show()\n"
      ],
      "metadata": {
        "colab": {
          "base_uri": "https://localhost:8080/",
          "height": 536
        },
        "id": "u1UCPo0lf5PN",
        "outputId": "ffadaaf8-e665-4cab-d7b9-5e3e14ccf56b"
      },
      "execution_count": 22,
      "outputs": [
        {
          "output_type": "stream",
          "name": "stderr",
          "text": [
            "<ipython-input-22-d07803b71761>:2: MatplotlibDeprecationWarning: The seaborn styles shipped by Matplotlib are deprecated since 3.6, as they no longer correspond to the styles shipped by seaborn. However, they will remain available as 'seaborn-v0_8-<style>'. Alternatively, directly use the seaborn API instead.\n",
            "  plt.style.use('seaborn-darkgrid')\n"
          ]
        },
        {
          "output_type": "display_data",
          "data": {
            "text/plain": [
              "<Figure size 1200x600 with 1 Axes>"
            ],
            "image/png": "[encoded data removed]"
          },
          "metadata": {}
        }
      ]
    }
  ]
}