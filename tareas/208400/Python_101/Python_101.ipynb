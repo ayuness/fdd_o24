{
  "nbformat": 4,
  "nbformat_minor": 0,
  "metadata": {
    "colab": {
      "provenance": [],
      "authorship_tag": "ABX9TyPVMHxfW1VwgtOvFsIFmrxC",
      "include_colab_link": true
    },
    "kernelspec": {
      "name": "python3",
      "display_name": "Python 3"
    },
    "language_info": {
      "name": "python"
    }
  },
  "cells": [
    {
      "cell_type": "markdown",
      "metadata": {
        "id": "view-in-github",
        "colab_type": "text"
      },
      "source": [
        "<a href=\"https://colab.research.google.com/github/DI3GOM/fdd_o24/blob/main/tareas/208400/Python_101/Python_101.ipynb\" target=\"_parent\"><img src=\"https://colab.research.google.com/assets/colab-badge.svg\" alt=\"Open In Colab\"/></a>"
      ]
    },
    {
      "cell_type": "code",
      "source": [
        "!pip install numpy joblib"
      ],
      "metadata": {
        "colab": {
          "base_uri": "https://localhost:8080/"
        },
        "id": "5Xo_qA1beznU",
        "outputId": "218de512-d142-4e8a-aabf-22d3a6787b2e"
      },
      "execution_count": null,
      "outputs": [
        {
          "output_type": "stream",
          "name": "stdout",
          "text": [
            "Requirement already satisfied: numpy in /usr/local/lib/python3.10/dist-packages (1.26.4)\n",
            "Requirement already satisfied: joblib in /usr/local/lib/python3.10/dist-packages (1.4.2)\n"
          ]
        }
      ]
    },
    {
      "cell_type": "code",
      "execution_count": null,
      "metadata": {
        "colab": {
          "base_uri": "https://localhost:8080/"
        },
        "id": "MGp6l54XddKB",
        "outputId": "b154f9ab-6ad1-4aa6-8e0e-6f2713ece340"
      },
      "outputs": [
        {
          "output_type": "stream",
          "name": "stdout",
          "text": [
            "Tiempo de ejecución vectorizado: 0.03844594955444336 segundos\n",
            "Tiempo de ejecución con joblib: 1.2306454181671143 segundos\n",
            "Tiempo de ejecución con multiprocessing: 0.12023162841796875 segundos\n"
          ]
        }
      ],
      "source": [
        "import numpy as np\n",
        "from joblib import Parallel, delayed\n",
        "import multiprocessing\n",
        "import time\n",
        "\n",
        "# Ejemplo de un \"for\" computacionalmente pesado\n",
        "def heavy_computation(x):\n",
        "  return np.sum(np.sin(x)**2)\n",
        "\n",
        "# Vectorización con NumPy\n",
        "x = np.arange(1000000)\n",
        "start_time = time.time()\n",
        "vectorized_result = heavy_computation(x)\n",
        "end_time = time.time()\n",
        "print(f\"Tiempo de ejecución vectorizado: {end_time - start_time} segundos\")\n",
        "\n",
        "# Paralelización con joblib\n",
        "# ... (código anterior) ...\n",
        "\n",
        "# Paralelización con joblib\n",
        "n_jobs = multiprocessing.cpu_count()  # Obtener el número de núcleos disponibles\n",
        "start_time = time.time()\n",
        "parallel_result = Parallel(n_jobs=n_jobs)(delayed(heavy_computation)(i) for i in np.array_split(x, n_jobs))\n",
        "end_time = time.time()\n",
        "print(f\"Tiempo de ejecución con joblib: {end_time - start_time} segundos\")\n",
        "\n",
        "# ... (código posterior) ...\n",
        "\n",
        "# Paralelización con multiprocessing\n",
        "start_time = time.time()\n",
        "pool = multiprocessing.Pool(processes=multiprocessing.cpu_count())\n",
        "multiprocessing_result = pool.map(heavy_computation, np.array_split(x, multiprocessing.cpu_count()))\n",
        "pool.close()\n",
        "pool.join()\n",
        "end_time = time.time()\n",
        "print(f\"Tiempo de ejecución con multiprocessing: {end_time - start_time} segundos\")"
      ]
    }
  ]
}