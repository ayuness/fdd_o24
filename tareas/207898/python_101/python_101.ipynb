{
 "cells": [
  {
   "cell_type": "code",
   "execution_count": 1,
   "metadata": {},
   "outputs": [
    {
     "name": "stdout",
     "output_type": "stream",
     "text": [
      "Tiempo del bucle for: 0.0761101245880127\n",
      "Tiempo de NumPy: 0.05525493621826172\n",
      "Tiempo de joblib: 2.629676342010498\n",
      "Tiempo de multiprocessing: 0.7764229774475098\n"
     ]
    }
   ],
   "source": [
    "import numpy as np\n",
    "import time\n",
    "from joblib import Parallel, delayed\n",
    "import multiprocessing\n",
    "\n",
    "# Crea dos listas grandes\n",
    "a = list(range(1000000))\n",
    "b = list(range(1000000, 2000000))\n",
    "\n",
    "# Tiempo del bucle for\n",
    "start = time.time()\n",
    "c = []\n",
    "for i in range(len(a)):\n",
    "    c.append(a[i] + b[i])\n",
    "end = time.time()\n",
    "print(\"Tiempo del bucle for:\", end - start)\n",
    "\n",
    "# Tiempo de NumPy\n",
    "start = time.time()\n",
    "a = np.array(a)\n",
    "b = np.array(b)\n",
    "c = a + b\n",
    "end = time.time()\n",
    "print(\"Tiempo de NumPy:\", end - start)\n",
    "\n",
    "# Tiempo de joblib\n",
    "start = time.time()\n",
    "def suma(i):\n",
    "    return a[i] + b[i]\n",
    "c = Parallel(n_jobs=2)(delayed(suma)(i) for i in range(len(a)))\n",
    "end = time.time()\n",
    "print(\"Tiempo de joblib:\", end - start)\n",
    "\n",
    "# Tiempo de multiprocessing\n",
    "start = time.time()\n",
    "def suma(i):\n",
    "    return a[i] + b[i]\n",
    "pool = multiprocessing.Pool(processes=2)\n",
    "c = pool.map(suma, range(len(a)))\n",
    "pool.close()\n",
    "end = time.time()\n",
    "print(\"Tiempo de multiprocessing:\", end - start)"
   ]
  },
  {
   "cell_type": "code",
   "execution_count": 2,
   "metadata": {},
   "outputs": [],
   "source": [
    "import numpy as np\n",
    "import time\n",
    "from joblib import Parallel, delayed\n",
    "import multiprocessing\n",
    "import matplotlib.pyplot as plt\n",
    "\n",
    "# Función para la suma\n",
    "def suma(x, y):\n",
    "  return x + y"
   ]
  },
  {
   "cell_type": "code",
   "execution_count": 3,
   "metadata": {},
   "outputs": [],
   "source": [
    "# Función para simular los experimentos\n",
    "def simular(n_simulations):\n",
    "  results = []\n",
    "  for _ in range(n_simulations):\n",
    "    # Crear listas grandes\n",
    "    a = list(range(1000000))\n",
    "    b = list(range(1000000, 2000000))\n",
    "\n",
    "    # Bucle for\n",
    "    start = time.time()\n",
    "    c = []\n",
    "    for i in range(len(a)):\n",
    "      c.append(a[i] + b[i])\n",
    "    end = time.time()\n",
    "    for_time = end - start\n",
    "\n",
    "    # NumPy\n",
    "    start = time.time()\n",
    "    a = np.array(a)\n",
    "    b = np.array(b)\n",
    "    c = a + b\n",
    "    end = time.time()\n",
    "    numpy_time = end - start\n",
    "\n",
    "    # joblib\n",
    "    start = time.time()\n",
    "    c = Parallel(n_jobs=2)(delayed(suma)(a[i], b[i]) for i in range(len(a)))\n",
    "    end = time.time()\n",
    "    joblib_time = end - start\n",
    "\n",
    "    # multiprocessing\n",
    "    start = time.time()\n",
    "    pool = multiprocessing.Pool(processes=2)\n",
    "    c = pool.starmap(suma, zip(a, b))\n",
    "    pool.close()\n",
    "    end = time.time()\n",
    "    multiprocessing_time = end - start\n",
    "\n",
    "    # Guardar resultados\n",
    "    results.append({\n",
    "        \"for\": for_time,\n",
    "        \"numpy\": numpy_time,\n",
    "        \"joblib\": joblib_time,\n",
    "        \"multiprocessing\": multiprocessing_time\n",
    "    })\n",
    "  return results"
   ]
  },
  {
   "cell_type": "code",
   "execution_count": 4,
   "metadata": {},
   "outputs": [
    {
     "name": "stdout",
     "output_type": "stream",
     "text": [
      "Estadísticas del bucle for:\n",
      "  Media: 0.051150035858154294\n",
      "  Desviación estándar: 0.0045712988495004115\n",
      "Estadísticas de NumPy:\n",
      "  Media: 0.0558875560760498\n",
      "  Desviación estándar: 0.002686637850618954\n",
      "Estadísticas de joblib:\n",
      "  Media: 5.196506428718567\n",
      "  Desviación estándar: 0.19484316283640227\n",
      "Estadísticas de multiprocessing:\n",
      "  Media: 3.072630000114441\n",
      "  Desviación estándar: 0.12123674181544766\n"
     ]
    },
    {
     "name": "stderr",
     "output_type": "stream",
     "text": [
      "/tmp/ipykernel_1384/3007265288.py:27: MatplotlibDeprecationWarning: The 'labels' parameter of boxplot() has been renamed 'tick_labels' since Matplotlib 3.9; support for the old name will be dropped in 3.11.\n",
      "  plt.boxplot([for_times, numpy_times, joblib_times, multiprocessing_times],\n"
     ]
    },
    {
     "data": {
      "image/png": "[encoded data removed]",
      "text/plain": [
       "<Figure size 1000x600 with 1 Axes>"
      ]
     },
     "metadata": {},
     "output_type": "display_data"
    }
   ],
   "source": [
    "# Función para analizar resultados\n",
    "def analizar_resultados(results):\n",
    "  for_times = [r['for'] for r in results]\n",
    "  numpy_times = [r['numpy'] for r in results]\n",
    "  joblib_times = [r['joblib'] for r in results]\n",
    "  multiprocessing_times = [r['multiprocessing'] for r in results]\n",
    "\n",
    "  # Estadísticas básicas\n",
    "  print(\"Estadísticas del bucle for:\")\n",
    "  print(f\"  Media: {np.mean(for_times)}\")\n",
    "  print(f\"  Desviación estándar: {np.std(for_times)}\")\n",
    "\n",
    "  print(\"Estadísticas de NumPy:\")\n",
    "  print(f\"  Media: {np.mean(numpy_times)}\")\n",
    "  print(f\"  Desviación estándar: {np.std(numpy_times)}\")\n",
    "\n",
    "  print(\"Estadísticas de joblib:\")\n",
    "  print(f\"  Media: {np.mean(joblib_times)}\")\n",
    "  print(f\"  Desviación estándar: {np.std(joblib_times)}\")\n",
    "\n",
    "  print(\"Estadísticas de multiprocessing:\")\n",
    "  print(f\"  Media: {np.mean(multiprocessing_times)}\")\n",
    "  print(f\"  Desviación estándar: {np.std(multiprocessing_times)}\")\n",
    "\n",
    "  # Gráfico\n",
    "  plt.figure(figsize=(10, 6))\n",
    "  plt.boxplot([for_times, numpy_times, joblib_times, multiprocessing_times],\n",
    "              labels=['for', 'numpy', 'joblib', 'multiprocessing'])\n",
    "  plt.ylabel(\"Tiempo de ejecución (segundos)\")\n",
    "  plt.title(\"Comparación de tiempos de ejecución\")\n",
    "  plt.show()\n",
    "\n",
    "# Ejecutar simulaciones\n",
    "resultados = simular(10)\n",
    "\n",
    "# Analizar resultados\n",
    "analizar_resultados(resultados)"
   ]
  }
 ],
 "metadata": {
  "kernelspec": {
   "display_name": ".venv",
   "language": "python",
   "name": "python3"
  },
  "language_info": {
   "codemirror_mode": {
    "name": "ipython",
    "version": 3
   },
   "file_extension": ".py",
   "mimetype": "text/x-python",
   "name": "python",
   "nbconvert_exporter": "python",
   "pygments_lexer": "ipython3",
   "version": "3.10.12"
  }
 },
 "nbformat": 4,
 "nbformat_minor": 2
}
