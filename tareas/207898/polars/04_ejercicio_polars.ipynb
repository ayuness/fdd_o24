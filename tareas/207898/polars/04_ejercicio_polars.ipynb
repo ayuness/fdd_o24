{
 "cells": [
  {
   "cell_type": "markdown",
   "metadata": {},
   "source": [
    "<a target=\"_blank\" href=\"https://colab.research.google.com/github/sonder-art/fdd_o23/blob/main/codigo/polars/04_ejercicio_polars.ipynb\">\n",
    "  <img src=\"https://colab.research.google.com/assets/colab-badge.svg\" alt=\"Open In Colab\"/>\n",
    "</a>"
   ]
  },
  {
   "cell_type": "code",
   "execution_count": null,
   "metadata": {},
   "outputs": [],
   "source": [
    "#!pip install polars"
   ]
  },
  {
   "cell_type": "code",
   "execution_count": null,
   "metadata": {},
   "outputs": [],
   "source": [
    "import polars as pl\n",
    "import random\n",
    "import string"
   ]
  },
  {
   "cell_type": "markdown",
   "metadata": {},
   "source": [
    "# Generacion de Datos"
   ]
  },
  {
   "cell_type": "code",
   "execution_count": 2,
   "metadata": {},
   "outputs": [
    {
     "data": {
      "text/html": [
       "<div><style>\n",
       ".dataframe > thead > tr,\n",
       ".dataframe > tbody > tr {\n",
       "  text-align: right;\n",
       "  white-space: pre-wrap;\n",
       "}\n",
       "</style>\n",
       "<small>shape: (5, 6)</small><table border=\"1\" class=\"dataframe\"><thead><tr><th>id_venta</th><th>producto</th><th>cantidad</th><th>precio_unitario</th><th>fecha_venta</th><th>cliente_id</th></tr><tr><td>i64</td><td>str</td><td>i64</td><td>f64</td><td>object</td><td>i64</td></tr></thead><tbody><tr><td>1</td><td>&quot;hngdl&quot;</td><td>4</td><td>76.521722</td><td>2013-04-18 00:00:00.alias(&quot;datetime&quot;).strict_cast(Date).alias(&quot;date&quot;)</td><td>4105</td></tr><tr><td>2</td><td>&quot;qihza&quot;</td><td>19</td><td>48.414261</td><td>2014-12-01 00:00:00.alias(&quot;datetime&quot;).strict_cast(Date).alias(&quot;date&quot;)</td><td>2010</td></tr><tr><td>3</td><td>&quot;xzjbn&quot;</td><td>11</td><td>34.133727</td><td>2017-09-12 00:00:00.alias(&quot;datetime&quot;).strict_cast(Date).alias(&quot;date&quot;)</td><td>3066</td></tr><tr><td>4</td><td>&quot;eqwtf&quot;</td><td>12</td><td>74.642879</td><td>2016-03-16 00:00:00.alias(&quot;datetime&quot;).strict_cast(Date).alias(&quot;date&quot;)</td><td>2309</td></tr><tr><td>5</td><td>&quot;nkxtc&quot;</td><td>4</td><td>41.231704</td><td>2014-06-06 00:00:00.alias(&quot;datetime&quot;).strict_cast(Date).alias(&quot;date&quot;)</td><td>1790</td></tr></tbody></table></div>"
      ],
      "text/plain": [
       "shape: (5, 6)\n",
       "┌──────────┬──────────┬──────────┬─────────────────┬─────────────────────────────────┬────────────┐\n",
       "│ id_venta ┆ producto ┆ cantidad ┆ precio_unitario ┆ fecha_venta                     ┆ cliente_id │\n",
       "│ ---      ┆ ---      ┆ ---      ┆ ---             ┆ ---                             ┆ ---        │\n",
       "│ i64      ┆ str      ┆ i64      ┆ f64             ┆ object                          ┆ i64        │\n",
       "╞══════════╪══════════╪══════════╪═════════════════╪═════════════════════════════════╪════════════╡\n",
       "│ 1        ┆ hngdl    ┆ 4        ┆ 76.521722       ┆ 2013-04-18 00:00:00.alias(\"dat… ┆ 4105       │\n",
       "│ 2        ┆ qihza    ┆ 19       ┆ 48.414261       ┆ 2014-12-01 00:00:00.alias(\"dat… ┆ 2010       │\n",
       "│ 3        ┆ xzjbn    ┆ 11       ┆ 34.133727       ┆ 2017-09-12 00:00:00.alias(\"dat… ┆ 3066       │\n",
       "│ 4        ┆ eqwtf    ┆ 12       ┆ 74.642879       ┆ 2016-03-16 00:00:00.alias(\"dat… ┆ 2309       │\n",
       "│ 5        ┆ nkxtc    ┆ 4        ┆ 41.231704       ┆ 2014-06-06 00:00:00.alias(\"dat… ┆ 1790       │\n",
       "└──────────┴──────────┴──────────┴─────────────────┴─────────────────────────────────┴────────────┘"
      ]
     },
     "execution_count": 2,
     "metadata": {},
     "output_type": "execute_result"
    }
   ],
   "source": [
    "# Funciones auxiliares para generar datos\n",
    "def random_string(length=5):\n",
    "    letters = string.ascii_lowercase\n",
    "    return ''.join(random.choice(letters) for i in range(length))\n",
    "\n",
    "def generate_data(n=1000):\n",
    "    data = {\n",
    "        \"id_venta\": list(range(1, n + 1)),\n",
    "        \"producto\": [random_string() for _ in range(n)],\n",
    "        \"cantidad\": [random.randint(1, 20) for _ in range(n)],\n",
    "        \"precio_unitario\": [random.uniform(10, 100) for _ in range(n)],\n",
    "        \"fecha_venta\": [pl.date(random.randint(2010, 2022), random.randint(1, 12), random.randint(1, 28)) for _ in range(n)],\n",
    "        \"cliente_id\": [random.randint(1000, 5000) for _ in range(n)]\n",
    "    }\n",
    "    return pl.DataFrame(data)\n",
    "\n",
    "# Generar el DataFrame\n",
    "df = generate_data()\n",
    "df.head()"
   ]
  },
  {
   "cell_type": "code",
   "execution_count": 37,
   "metadata": {},
   "outputs": [
    {
     "data": {
      "text/html": [
       "<i>naive plan: (run <b>LazyFrame.explain(optimized=True)</b> to see the optimized plan)</i>\n",
       "    <p></p>\n",
       "    <div>DF [\"id_venta\", \"producto\", \"cantidad\", \"precio_unitario\"]; PROJECT */6 COLUMNS; SELECTION: None</div>"
      ],
      "text/plain": [
       "<LazyFrame at 0x7F0F293A7010>"
      ]
     },
     "execution_count": 37,
     "metadata": {},
     "output_type": "execute_result"
    }
   ],
   "source": [
    "df = df.lazy()\n",
    "df"
   ]
  },
  {
   "cell_type": "markdown",
   "metadata": {},
   "source": [
    "# Limpieza de Datos"
   ]
  },
  {
   "cell_type": "markdown",
   "metadata": {},
   "source": [
    "Utilizando Polars en modo Lazy, realice las siguientes operaciones de limpieza y manipulación de datos:\n",
    "\n",
    "    1. `Filtrar` las ventas con cantidades menores a 5.\n",
    "    2. `Agregar` una nueva columna llamada total_venta, que sea el resultado de multiplicar cantidad por precio_unitario.\n",
    "    3. `Eliminar` la columna precio_unitario después de crear total_venta.\n",
    "    4. `Agrupar` los datos por producto y calcular el total vendido y la cantidad total vendida por producto.\n",
    "    5. `Ordenar` los resultados por el total vendido en orden descendente."
   ]
  },
  {
   "cell_type": "markdown",
   "metadata": {},
   "source": [
    "Todo esto lo debes de realizar en una sola linea de codigo"
   ]
  },
  {
   "cell_type": "markdown",
   "metadata": {},
   "source": [
    "### Esta es la respuesta correcta jeje\n",
    "    "
   ]
  },
  {
   "cell_type": "code",
   "execution_count": 6,
   "metadata": {},
   "outputs": [
    {
     "data": {
      "text/html": [
       "<div><style>\n",
       ".dataframe > thead > tr,\n",
       ".dataframe > tbody > tr {\n",
       "  text-align: right;\n",
       "  white-space: pre-wrap;\n",
       "}\n",
       "</style>\n",
       "<small>shape: (201, 3)</small><table border=\"1\" class=\"dataframe\"><thead><tr><th>producto</th><th>total_vendido</th><th>cantidad_total_vendida</th></tr><tr><td>str</td><td>f64</td><td>i64</td></tr></thead><tbody><tr><td>&quot;jqkcs&quot;</td><td>397.144761</td><td>4</td></tr><tr><td>&quot;jknzs&quot;</td><td>388.545899</td><td>4</td></tr><tr><td>&quot;zojxx&quot;</td><td>367.071627</td><td>4</td></tr><tr><td>&quot;akcae&quot;</td><td>359.953472</td><td>4</td></tr><tr><td>&quot;yanrn&quot;</td><td>356.026327</td><td>4</td></tr><tr><td>&hellip;</td><td>&hellip;</td><td>&hellip;</td></tr><tr><td>&quot;yhjmn&quot;</td><td>19.279604</td><td>1</td></tr><tr><td>&quot;janlh&quot;</td><td>17.219368</td><td>1</td></tr><tr><td>&quot;itmfe&quot;</td><td>13.88584</td><td>1</td></tr><tr><td>&quot;altac&quot;</td><td>13.561419</td><td>1</td></tr><tr><td>&quot;mkpwf&quot;</td><td>10.201399</td><td>1</td></tr></tbody></table></div>"
      ],
      "text/plain": [
       "shape: (201, 3)\n",
       "┌──────────┬───────────────┬────────────────────────┐\n",
       "│ producto ┆ total_vendido ┆ cantidad_total_vendida │\n",
       "│ ---      ┆ ---           ┆ ---                    │\n",
       "│ str      ┆ f64           ┆ i64                    │\n",
       "╞══════════╪═══════════════╪════════════════════════╡\n",
       "│ jqkcs    ┆ 397.144761    ┆ 4                      │\n",
       "│ jknzs    ┆ 388.545899    ┆ 4                      │\n",
       "│ zojxx    ┆ 367.071627    ┆ 4                      │\n",
       "│ akcae    ┆ 359.953472    ┆ 4                      │\n",
       "│ yanrn    ┆ 356.026327    ┆ 4                      │\n",
       "│ …        ┆ …             ┆ …                      │\n",
       "│ yhjmn    ┆ 19.279604     ┆ 1                      │\n",
       "│ janlh    ┆ 17.219368     ┆ 1                      │\n",
       "│ itmfe    ┆ 13.88584      ┆ 1                      │\n",
       "│ altac    ┆ 13.561419     ┆ 1                      │\n",
       "│ mkpwf    ┆ 10.201399     ┆ 1                      │\n",
       "└──────────┴───────────────┴────────────────────────┘"
      ]
     },
     "execution_count": 6,
     "metadata": {},
     "output_type": "execute_result"
    }
   ],
   "source": [
    "\n",
    "\n",
    "lazy_df = df.lazy()\n",
    "\n",
    "resp = lazy_df.filter(pl.col('cantidad') < 5).with_columns((pl.col('cantidad') * pl.col('precio_unitario')).alias('total_venta')).drop('precio_unitario').group_by('producto').agg([ #agg se usa para agregar una columna con el total de la venta y la cantidad total vendida, aggs es una lista de operaciones que se aplican a las columnas\n",
    "        pl.col('total_venta').sum().alias('total_vendido'), \n",
    "        pl.col('cantidad').sum().alias('cantidad_total_vendida')\n",
    "    ]).sort('total_vendido', descending=True) #Se ordena el DataFrame por la columna total_vendido de forma descendente\n",
    "\n",
    "resp.collect()"
   ]
  },
  {
   "cell_type": "code",
   "execution_count": 5,
   "metadata": {},
   "outputs": [
    {
     "name": "stdout",
     "output_type": "stream",
     "text": [
      "shape: (201, 3)\n",
      "┌──────────┬───────────────┬────────────────────────┐\n",
      "│ producto ┆ total_vendido ┆ cantidad_total_vendida │\n",
      "│ ---      ┆ ---           ┆ ---                    │\n",
      "│ str      ┆ f64           ┆ i64                    │\n",
      "╞══════════╪═══════════════╪════════════════════════╡\n",
      "│ jqkcs    ┆ 397.144761    ┆ 4                      │\n",
      "│ jknzs    ┆ 388.545899    ┆ 4                      │\n",
      "│ zojxx    ┆ 367.071627    ┆ 4                      │\n",
      "│ akcae    ┆ 359.953472    ┆ 4                      │\n",
      "│ yanrn    ┆ 356.026327    ┆ 4                      │\n",
      "│ …        ┆ …             ┆ …                      │\n",
      "│ yhjmn    ┆ 19.279604     ┆ 1                      │\n",
      "│ janlh    ┆ 17.219368     ┆ 1                      │\n",
      "│ itmfe    ┆ 13.88584      ┆ 1                      │\n",
      "│ altac    ┆ 13.561419     ┆ 1                      │\n",
      "│ mkpwf    ┆ 10.201399     ┆ 1                      │\n",
      "└──────────┴───────────────┴────────────────────────┘\n"
     ]
    }
   ],
   "source": [
    "lazy_df = df.lazy()\n",
    "\n",
    "resultado = ( #Gracias copilot por existir <3\n",
    "    lazy_df.filter(pl.col('cantidad') < 5) #El filtro se hace sobre la columna cantidad para obtener los productos que se vendieron menos de 5 veces\n",
    "    .with_columns((pl.col('cantidad') * pl.col('precio_unitario')).alias('total_venta')) #with_columns se usa para crear una nueva columna con el total de la venta \n",
    "    .drop('precio_unitario') #Se elimina la columna precio_unitario ya que no se necesita\n",
    "    .group_by('producto').agg([ #agg se usa para agregar una columna con el total de la venta y la cantidad total vendida, aggs es una lista de operaciones que se aplican a las columnas\n",
    "        pl.col('total_venta').sum().alias('total_vendido'), \n",
    "        pl.col('cantidad').sum().alias('cantidad_total_vendida')\n",
    "    ]).sort('total_vendido', descending=True) #Se ordena el DataFrame por la columna total_vendido de forma descendente\n",
    ")\n",
    "\n",
    "\n",
    "\n",
    "# Ejecutar y mostrar los resultados\n",
    "resultado_df = resultado.collect()\n",
    "print(resultado_df)"
   ]
  },
  {
   "cell_type": "markdown",
   "metadata": {},
   "source": [
    "# Guarda el resultado en un archivo `parquet`"
   ]
  },
  {
   "cell_type": "markdown",
   "metadata": {},
   "source": [
    "Guarda el resultado en un archivo parquet que se llame `resultados.parquet`"
   ]
  },
  {
   "cell_type": "code",
   "execution_count": 7,
   "metadata": {},
   "outputs": [],
   "source": [
    "# Tu codigo aqui\n",
    "resultado_df.write_parquet(\"resultados.parquet\")\n",
    "\n"
   ]
  },
  {
   "cell_type": "markdown",
   "metadata": {},
   "source": [
    "# Lee Parquet"
   ]
  },
  {
   "cell_type": "markdown",
   "metadata": {},
   "source": [
    "Crea codigo para leer en polars el archivo parquet"
   ]
  },
  {
   "cell_type": "code",
   "execution_count": 8,
   "metadata": {},
   "outputs": [
    {
     "name": "stdout",
     "output_type": "stream",
     "text": [
      "shape: (201, 3)\n",
      "┌──────────┬───────────────┬────────────────────────┐\n",
      "│ producto ┆ total_vendido ┆ cantidad_total_vendida │\n",
      "│ ---      ┆ ---           ┆ ---                    │\n",
      "│ str      ┆ f64           ┆ i64                    │\n",
      "╞══════════╪═══════════════╪════════════════════════╡\n",
      "│ jqkcs    ┆ 397.144761    ┆ 4                      │\n",
      "│ jknzs    ┆ 388.545899    ┆ 4                      │\n",
      "│ zojxx    ┆ 367.071627    ┆ 4                      │\n",
      "│ akcae    ┆ 359.953472    ┆ 4                      │\n",
      "│ yanrn    ┆ 356.026327    ┆ 4                      │\n",
      "│ …        ┆ …             ┆ …                      │\n",
      "│ yhjmn    ┆ 19.279604     ┆ 1                      │\n",
      "│ janlh    ┆ 17.219368     ┆ 1                      │\n",
      "│ itmfe    ┆ 13.88584      ┆ 1                      │\n",
      "│ altac    ┆ 13.561419     ┆ 1                      │\n",
      "│ mkpwf    ┆ 10.201399     ┆ 1                      │\n",
      "└──────────┴───────────────┴────────────────────────┘\n"
     ]
    }
   ],
   "source": [
    "# Tu codigo aqui\n",
    "df_resultados = pl.read_parquet(\"resultados.parquet\")\n",
    "print(df_resultados)"
   ]
  }
 ],
 "metadata": {
  "kernelspec": {
   "display_name": "Python 3",
   "language": "python",
   "name": "python3"
  },
  "language_info": {
   "codemirror_mode": {
    "name": "ipython",
    "version": 3
   },
   "file_extension": ".py",
   "mimetype": "text/x-python",
   "name": "python",
   "nbconvert_exporter": "python",
   "pygments_lexer": "ipython3",
   "version": "3.10.12"
  }
 },
 "nbformat": 4,
 "nbformat_minor": 2
}
