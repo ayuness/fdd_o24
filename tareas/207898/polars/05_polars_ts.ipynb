{
 "cells": [
  {
   "cell_type": "code",
   "execution_count": 1,
   "metadata": {},
   "outputs": [],
   "source": [
    "import polars as pl\n",
    "import numpy as np\n",
    "import random\n",
    "from datetime import datetime, timedelta"
   ]
  },
  {
   "cell_type": "markdown",
   "metadata": {},
   "source": [
    "# Descripcion"
   ]
  },
  {
   "cell_type": "markdown",
   "metadata": {},
   "source": [
    "Los datos son notificaciones de dispositivos GPS en Mexico. En promedio generan notificaciones automatizadas cada 5 minutos si el carro esta encendido, y 30 si esta apagado.  \n",
    "\n",
    "Cada notificacion esta acompannada de un evento de lo que esta ocurriendo, y trae la latitud y longitud.  \n",
    "\n",
    "El objetico es predecir si un vehiculo esta siendo robado de acuerdo a sus notificaciones, por lo que el primer paso seria limpiar datos y hacer ingenieria de variables.\n",
    "\n",
    "Trata de hacerlo **lazy** si puedes."
   ]
  },
  {
   "cell_type": "code",
   "execution_count": 2,
   "metadata": {},
   "outputs": [],
   "source": [
    "def generate_dummy_data(num_cars, start_time, end_time, working_hours_interval, non_working_hours_interval):\n",
    "    data = []\n",
    "\n",
    "    # Define the latitude and longitude ranges for Mexico\n",
    "    min_latitude, max_latitude = 14.5388, 32.7186\n",
    "    min_longitude, max_longitude = -118.4662, -86.7104\n",
    "\n",
    "    for car_id in range(num_cars):\n",
    "        current_time = start_time\n",
    "\n",
    "        # Generate random initial latitude and longitude for each car\n",
    "        latitude = random.uniform(min_latitude, max_latitude)\n",
    "        longitude = random.uniform(min_longitude, max_longitude)\n",
    "\n",
    "        while current_time < end_time:\n",
    "            if current_time.weekday() < 5 and 9 <= current_time.hour < 17:\n",
    "                # Working hours (Monday to Friday, 9 AM to 5 PM)\n",
    "                interval = working_hours_interval\n",
    "            else:\n",
    "                # Non-working hours\n",
    "                interval = non_working_hours_interval\n",
    "\n",
    "            # Generate notification with 99% probability\n",
    "            if random.random() < 0.99:\n",
    "                notification = random.choice([\"low_fuel\", \"tire_pressure\", \"engine_check\", None]) #Si puede haber nulos\n",
    "                data.append((f\"car_{car_id}\", current_time.isoformat(), latitude, longitude, notification))\n",
    "\n",
    "            # Generate additional notifications between intervals\n",
    "            while True:\n",
    "                additional_interval = random.expovariate(1 / (interval / 2))\n",
    "                additional_time = current_time + timedelta(minutes=additional_interval)\n",
    "                if additional_time >= current_time + timedelta(minutes=interval):\n",
    "                    break\n",
    "                notification = random.choice([\"low_fuel\", \"tire_pressure\", \"engine_check\", None])\n",
    "                data.append((f\"car_{car_id}\", additional_time.isoformat(), latitude, longitude, notification))\n",
    "\n",
    "            # Update latitude and longitude for car movement\n",
    "            latitude += random.uniform(-0.01, 0.01)\n",
    "            longitude += random.uniform(-0.01, 0.01)\n",
    "\n",
    "            # Check if the car is among the 1% that can have 100 notifications within 5 minutes\n",
    "            if random.random() < 0.01:\n",
    "                burst_start_time = current_time + timedelta(minutes=random.uniform(0, interval))\n",
    "                burst_end_time = burst_start_time + timedelta(minutes=5)\n",
    "                while current_time < burst_end_time:\n",
    "                    notification = random.choice([\"low_fuel\", \"tire_pressure\", \"engine_check\", None])\n",
    "                    data.append((f\"car_{car_id}\", current_time.isoformat(), latitude, longitude, notification))\n",
    "                    current_time += timedelta(seconds=random.uniform(1, 10))\n",
    "\n",
    "            current_time += timedelta(minutes=interval)\n",
    "\n",
    "    # Create a Polars DataFrame from the generated data\n",
    "    df = pl.DataFrame(\n",
    "        {\n",
    "            \"car_id\": [record[0] for record in data],\n",
    "            \"timestamp\": [record[1] for record in data],\n",
    "            \"latitude\": [record[2] for record in data],\n",
    "            \"longitude\": [record[3] for record in data],\n",
    "            \"notification\": [record[4] for record in data],\n",
    "        }\n",
    "    )\n",
    "\n",
    "    return df.lazy()"
   ]
  },
  {
   "cell_type": "code",
   "execution_count": 3,
   "metadata": {},
   "outputs": [
    {
     "data": {
      "text/html": [
       "<div><style>\n",
       ".dataframe > thead > tr,\n",
       ".dataframe > tbody > tr {\n",
       "  text-align: right;\n",
       "  white-space: pre-wrap;\n",
       "}\n",
       "</style>\n",
       "<small>shape: (5, 5)</small><table border=\"1\" class=\"dataframe\"><thead><tr><th>car_id</th><th>timestamp</th><th>latitude</th><th>longitude</th><th>notification</th></tr><tr><td>str</td><td>str</td><td>f64</td><td>f64</td><td>str</td></tr></thead><tbody><tr><td>&quot;car_0&quot;</td><td>&quot;2023-01-01T00:00:00&quot;</td><td>25.66055</td><td>-94.37004</td><td>&quot;low_fuel&quot;</td></tr><tr><td>&quot;car_0&quot;</td><td>&quot;2023-01-01T00:17:04.658414&quot;</td><td>25.66055</td><td>-94.37004</td><td>null</td></tr><tr><td>&quot;car_0&quot;</td><td>&quot;2023-01-01T00:04:09.063887&quot;</td><td>25.66055</td><td>-94.37004</td><td>&quot;low_fuel&quot;</td></tr><tr><td>&quot;car_0&quot;</td><td>&quot;2023-01-01T00:03:41.496538&quot;</td><td>25.66055</td><td>-94.37004</td><td>null</td></tr><tr><td>&quot;car_0&quot;</td><td>&quot;2023-01-01T00:03:52.305937&quot;</td><td>25.66055</td><td>-94.37004</td><td>null</td></tr></tbody></table></div>"
      ],
      "text/plain": [
       "shape: (5, 5)\n",
       "┌────────┬────────────────────────────┬──────────┬───────────┬──────────────┐\n",
       "│ car_id ┆ timestamp                  ┆ latitude ┆ longitude ┆ notification │\n",
       "│ ---    ┆ ---                        ┆ ---      ┆ ---       ┆ ---          │\n",
       "│ str    ┆ str                        ┆ f64      ┆ f64       ┆ str          │\n",
       "╞════════╪════════════════════════════╪══════════╪═══════════╪══════════════╡\n",
       "│ car_0  ┆ 2023-01-01T00:00:00        ┆ 25.66055 ┆ -94.37004 ┆ low_fuel     │\n",
       "│ car_0  ┆ 2023-01-01T00:17:04.658414 ┆ 25.66055 ┆ -94.37004 ┆ null         │\n",
       "│ car_0  ┆ 2023-01-01T00:04:09.063887 ┆ 25.66055 ┆ -94.37004 ┆ low_fuel     │\n",
       "│ car_0  ┆ 2023-01-01T00:03:41.496538 ┆ 25.66055 ┆ -94.37004 ┆ null         │\n",
       "│ car_0  ┆ 2023-01-01T00:03:52.305937 ┆ 25.66055 ┆ -94.37004 ┆ null         │\n",
       "└────────┴────────────────────────────┴──────────┴───────────┴──────────────┘"
      ]
     },
     "execution_count": 3,
     "metadata": {},
     "output_type": "execute_result"
    }
   ],
   "source": [
    "num_cars = 1000\n",
    "start_time = datetime(2023, 1, 1, 0, 0, 0)  # Start of the week\n",
    "end_time = start_time + timedelta(weeks=1)  # End of the week\n",
    "working_hours_interval = 5  # Interval of 5 minutes during working hours\n",
    "non_working_hours_interval = 30  # Interval of 30 minutes during non-working hours\n",
    "\n",
    "# Generate the dummy data, este data es \n",
    "data = generate_dummy_data(num_cars, start_time, end_time, working_hours_interval, non_working_hours_interval)\n",
    "\n",
    "# Print the first few rows of the generated data\n",
    "data.head().collect()"
   ]
  },
  {
   "cell_type": "markdown",
   "metadata": {},
   "source": [
    "## Limpieza de datos"
   ]
  },
  {
   "cell_type": "markdown",
   "metadata": {},
   "source": [
    "### Timestamp"
   ]
  },
  {
   "cell_type": "markdown",
   "metadata": {},
   "source": [
    "Convierte el `timestamp` que actualmente es string a formato de tiempo en polars"
   ]
  },
  {
   "cell_type": "code",
   "execution_count": 4,
   "metadata": {},
   "outputs": [
    {
     "name": "stderr",
     "output_type": "stream",
     "text": [
      "/tmp/ipykernel_43369/2386627681.py:1: ChronoFormatWarning: Detected the pattern `.%f` in the chrono format string. This pattern should not be used to parse values after a decimal point. Use `%.f` instead. See the full specification: https://docs.rs/chrono/latest/chrono/format/strftime\n",
      "  data = data.with_columns(pl.col(\"timestamp\").str.strptime(pl.Datetime, format = \"%Y-%m-%dT%H:%M:%S.%f\", strict=False).alias(\"timestamp\"))\n"
     ]
    },
    {
     "name": "stdout",
     "output_type": "stream",
     "text": [
      "shape: (5, 5)\n",
      "┌────────┬────────────────────────────┬──────────┬───────────┬──────────────┐\n",
      "│ car_id ┆ timestamp                  ┆ latitude ┆ longitude ┆ notification │\n",
      "│ ---    ┆ ---                        ┆ ---      ┆ ---       ┆ ---          │\n",
      "│ str    ┆ datetime[μs]               ┆ f64      ┆ f64       ┆ str          │\n",
      "╞════════╪════════════════════════════╪══════════╪═══════════╪══════════════╡\n",
      "│ car_0  ┆ null                       ┆ 25.66055 ┆ -94.37004 ┆ low_fuel     │\n",
      "│ car_0  ┆ 2023-01-01 00:17:04.000658 ┆ 25.66055 ┆ -94.37004 ┆ null         │\n",
      "│ car_0  ┆ 2023-01-01 00:04:09.000063 ┆ 25.66055 ┆ -94.37004 ┆ low_fuel     │\n",
      "│ car_0  ┆ 2023-01-01 00:03:41.000496 ┆ 25.66055 ┆ -94.37004 ┆ null         │\n",
      "│ car_0  ┆ 2023-01-01 00:03:52.000305 ┆ 25.66055 ┆ -94.37004 ┆ null         │\n",
      "└────────┴────────────────────────────┴──────────┴───────────┴──────────────┘\n"
     ]
    }
   ],
   "source": [
    "data = data.with_columns(pl.col(\"timestamp\").str.strptime(pl.Datetime, format = \"%Y-%m-%dT%H:%M:%S.%f\", strict=False).alias(\"timestamp\"))\n",
    "\n",
    "df = data.collect()\n",
    "print(df.head())"
   ]
  },
  {
   "cell_type": "markdown",
   "metadata": {},
   "source": [
    "### Ingenieria de variables"
   ]
  },
  {
   "cell_type": "markdown",
   "metadata": {},
   "source": [
    "Dado que va a entrar a un modelo de machine learning es encesario que todas las variables sean numericas, y esten en formnato tidy. Cada observacion en una fila, y cada variable en una columna. Por lo tanto se decidio crear estadisticos y agregar los datos a intervalos uniformes de `x` minutos.  \n",
    "\n",
    "Por ejemplo, colapsar toda la informacion que ocurrion en el intervalo, como el numero de notificaciones en esos 5 minutos, el promedio entre notificaciones, y el tipo de notificaciones."
   ]
  },
  {
   "cell_type": "markdown",
   "metadata": {},
   "source": [
    "Existen varias formas de hacer esto, puedes hacerlo con `group_by` primero para crear las nuevas variables, o `group_by` (`rolling`, `dynamic`) usando operaciones sobre listas. Utiliza claude o chat_gpt\n",
    "\n",
    "\n",
    "USA ROLLING"
   ]
  },
  {
   "cell_type": "markdown",
   "metadata": {},
   "source": [
    "1. Crea una nueva variable que compute la diferencia de tiempo entre notificaciones del mismo vehiculo. Piensa como lo vas a hacer. Llama a esta variable `notification_time`\n",
    "   \n"
   ]
  },
  {
   "cell_type": "code",
   "execution_count": 5,
   "metadata": {},
   "outputs": [
    {
     "name": "stdout",
     "output_type": "stream",
     "text": [
      "shape: (5, 6)\n",
      "┌────────┬────────────────────────────┬──────────┬───────────┬──────────────┬───────────────────┐\n",
      "│ car_id ┆ timestamp                  ┆ latitude ┆ longitude ┆ notification ┆ notification_time │\n",
      "│ ---    ┆ ---                        ┆ ---      ┆ ---       ┆ ---          ┆ ---               │\n",
      "│ str    ┆ datetime[μs]               ┆ f64      ┆ f64       ┆ str          ┆ i64               │\n",
      "╞════════╪════════════════════════════╪══════════╪═══════════╪══════════════╪═══════════════════╡\n",
      "│ car_0  ┆ null                       ┆ 25.66055 ┆ -94.37004 ┆ low_fuel     ┆ null              │\n",
      "│ car_0  ┆ 2023-01-01 00:17:04.000658 ┆ 25.66055 ┆ -94.37004 ┆ null         ┆ null              │\n",
      "│ car_0  ┆ 2023-01-01 00:04:09.000063 ┆ 25.66055 ┆ -94.37004 ┆ low_fuel     ┆ -775000595        │\n",
      "│ car_0  ┆ 2023-01-01 00:03:41.000496 ┆ 25.66055 ┆ -94.37004 ┆ null         ┆ -27999567         │\n",
      "│ car_0  ┆ 2023-01-01 00:03:52.000305 ┆ 25.66055 ┆ -94.37004 ┆ null         ┆ 10999809          │\n",
      "└────────┴────────────────────────────┴──────────┴───────────┴──────────────┴───────────────────┘\n"
     ]
    }
   ],
   "source": [
    "data = data.with_columns( \n",
    "    pl.col(\"timestamp\").diff().cast(pl.Int64).over(\"car_id\").alias(\"notification_time\")\n",
    ")\n",
    "\n",
    "df = data.collect()\n",
    "print(df.head())"
   ]
  },
  {
   "cell_type": "markdown",
   "metadata": {},
   "source": [
    "2. Crea una nueva variable que compute la distancia que viajo el vehiculo desde la ultima notificacion. Llamala `distance`"
   ]
  },
  {
   "cell_type": "code",
   "execution_count": 8,
   "metadata": {},
   "outputs": [
    {
     "name": "stdout",
     "output_type": "stream",
     "text": [
      "Defaulting to user installation because normal site-packages is not writeable\n",
      "Collecting geopy\n",
      "  Downloading geopy-2.4.1-py3-none-any.whl (125 kB)\n",
      "\u001b[2K     \u001b[90m━━━━━━━━━━━━━━━━━━━━━━━━━━━━━━━━━━━━━\u001b[0m \u001b[32m125.4/125.4 KB\u001b[0m \u001b[31m752.6 kB/s\u001b[0m eta \u001b[36m0:00:00\u001b[0ma \u001b[36m0:00:01\u001b[0m\n",
      "\u001b[?25hCollecting geographiclib<3,>=1.52\n",
      "  Downloading geographiclib-2.0-py3-none-any.whl (40 kB)\n",
      "\u001b[2K     \u001b[90m━━━━━━━━━━━━━━━━━━━━━━━━━━━━━━━━━━━━━━━━\u001b[0m \u001b[32m40.3/40.3 KB\u001b[0m \u001b[31m6.0 MB/s\u001b[0m eta \u001b[36m0:00:00\u001b[0m\n",
      "\u001b[?25hInstalling collected packages: geographiclib, geopy\n",
      "Successfully installed geographiclib-2.0 geopy-2.4.1\n"
     ]
    }
   ],
   "source": [
    "!pip install geopy\n"
   ]
  },
  {
   "cell_type": "code",
   "execution_count": 11,
   "metadata": {},
   "outputs": [
    {
     "name": "stderr",
     "output_type": "stream",
     "text": [
      "/tmp/ipykernel_43369/3516352480.py:16: MapWithoutReturnDtypeWarning: Calling `map_elements` without specifying `return_dtype` can lead to unpredictable results. Specify `return_dtype` to silence this warning.\n",
      "  df = data.collect()\n"
     ]
    },
    {
     "name": "stdout",
     "output_type": "stream",
     "text": [
      "shape: (5, 9)\n",
      "┌────────┬─────────────┬──────────┬───────────┬───┬────────────┬───────────┬────────────┬──────────┐\n",
      "│ car_id ┆ timestamp   ┆ latitude ┆ longitude ┆ … ┆ notificati ┆ latitude0 ┆ longitude0 ┆ distance │\n",
      "│ ---    ┆ ---         ┆ ---      ┆ ---       ┆   ┆ on_time    ┆ ---       ┆ ---        ┆ ---      │\n",
      "│ str    ┆ datetime[μs ┆ f64      ┆ f64       ┆   ┆ ---        ┆ f64       ┆ f64        ┆ f64      │\n",
      "│        ┆ ]           ┆          ┆           ┆   ┆ i64        ┆           ┆            ┆          │\n",
      "╞════════╪═════════════╪══════════╪═══════════╪═══╪════════════╪═══════════╪════════════╪══════════╡\n",
      "│ car_0  ┆ null        ┆ 25.66055 ┆ -94.37004 ┆ … ┆ null       ┆ null      ┆ null       ┆ null     │\n",
      "│ car_0  ┆ 2023-01-01  ┆ 25.66055 ┆ -94.37004 ┆ … ┆ null       ┆ 25.66055  ┆ -94.37004  ┆ 0.0      │\n",
      "│        ┆ 00:17:04.00 ┆          ┆           ┆   ┆            ┆           ┆            ┆          │\n",
      "│        ┆ 0658        ┆          ┆           ┆   ┆            ┆           ┆            ┆          │\n",
      "│ car_0  ┆ 2023-01-01  ┆ 25.66055 ┆ -94.37004 ┆ … ┆ -775000595 ┆ 25.66055  ┆ -94.37004  ┆ 0.0      │\n",
      "│        ┆ 00:04:09.00 ┆          ┆           ┆   ┆            ┆           ┆            ┆          │\n",
      "│        ┆ 0063        ┆          ┆           ┆   ┆            ┆           ┆            ┆          │\n",
      "│ car_0  ┆ 2023-01-01  ┆ 25.66055 ┆ -94.37004 ┆ … ┆ -27999567  ┆ 25.66055  ┆ -94.37004  ┆ 0.0      │\n",
      "│        ┆ 00:03:41.00 ┆          ┆           ┆   ┆            ┆           ┆            ┆          │\n",
      "│        ┆ 0496        ┆          ┆           ┆   ┆            ┆           ┆            ┆          │\n",
      "│ car_0  ┆ 2023-01-01  ┆ 25.66055 ┆ -94.37004 ┆ … ┆ 10999809   ┆ 25.66055  ┆ -94.37004  ┆ 0.0      │\n",
      "│        ┆ 00:03:52.00 ┆          ┆           ┆   ┆            ┆           ┆            ┆          │\n",
      "│        ┆ 0305        ┆          ┆           ┆   ┆            ┆           ┆            ┆          │\n",
      "└────────┴─────────────┴──────────┴───────────┴───┴────────────┴───────────┴────────────┴──────────┘\n"
     ]
    }
   ],
   "source": [
    "from geopy.distance import geodesic\n",
    "def calculaDistance (lat0, lon0, lat, lon):\n",
    "    if lat0 is None or lon0 is None:\n",
    "        return None \n",
    "    return geodesic((lat0, lon0), (lat, lon)).meters\n",
    "\n",
    "data = data.with_columns([\n",
    "    pl.col(\"latitude\").shift(1).over(\"car_id\").alias(\"latitude0\"), \n",
    "    pl.col(\"longitude\").shift(1).over(\"car_id\").alias(\"longitude0\")\n",
    "    ]).with_columns(\n",
    "        pl.struct([\"latitude0\", \"longitude0\", \"latitude\", \"longitude\"])\n",
    "        .map_elements(lambda row: calculaDistance(row[\"latitude0\"], row[\"longitude0\"], row[\"latitude\"], row[\"longitude\"]))\n",
    "                      .alias(\"distance\")\n",
    "    )\n",
    "    \n",
    "df = data.collect()\n",
    "print(df.head())"
   ]
  },
  {
   "cell_type": "markdown",
   "metadata": {},
   "source": [
    "3. Crea intervalos de `x` minutos por carro. Como el numero de notificaciones en esos intervalos no es uniforme tienes que buscar funciones de polars especificas, pero ademas tienen que ser por vehiculo, pues tienen que ser del mismo. Revisa las funciones de `group_by` `dynamic` y `rolling`.\n",
    "   1. Computa la media, mediana, varianza, max y min de `notification_time` los intervalos de `x` minutos\n",
    "   2. Computa la media, mediana, varianza, max y min de `distance`\n"
   ]
  },
  {
   "cell_type": "code",
   "execution_count": 12,
   "metadata": {},
   "outputs": [
    {
     "name": "stdout",
     "output_type": "stream",
     "text": [
      "Esquema inicial:\n",
      "Schema([('car_id', String), ('timestamp', Datetime(time_unit='us', time_zone=None)), ('latitude', Float64), ('longitude', Float64), ('notification', String), ('notification_time', Int64), ('latitude0', Float64), ('longitude0', Float64), ('distance', Unknown)])\n",
      "Datos de 'notification_time':\n"
     ]
    },
    {
     "name": "stderr",
     "output_type": "stream",
     "text": [
      "/tmp/ipykernel_43369/2319535041.py:3: PerformanceWarning: Resolving the schema of a LazyFrame is a potentially expensive operation. Use `LazyFrame.collect_schema()` to get the schema without this warning.\n",
      "  print(data.schema)\n"
     ]
    },
    {
     "name": "stdout",
     "output_type": "stream",
     "text": [
      "shape: (6_297_662, 1)\n",
      "┌───────────────────┐\n",
      "│ notification_time │\n",
      "│ ---               │\n",
      "│ i64               │\n",
      "╞═══════════════════╡\n",
      "│ null              │\n",
      "│ null              │\n",
      "│ -775000595        │\n",
      "│ -27999567         │\n",
      "│ 10999809          │\n",
      "│ …                 │\n",
      "│ 137999717         │\n",
      "│ 837000007         │\n",
      "│ -1339000529       │\n",
      "│ 1783000597        │\n",
      "│ 317999556         │\n",
      "└───────────────────┘\n",
      "Datos de 'distance':\n"
     ]
    },
    {
     "name": "stderr",
     "output_type": "stream",
     "text": [
      "/tmp/ipykernel_43369/2319535041.py:14: MapWithoutReturnDtypeWarning: Calling `map_elements` without specifying `return_dtype` can lead to unpredictable results. Specify `return_dtype` to silence this warning.\n",
      "  print(data.select(\"distance\").collect())\n"
     ]
    },
    {
     "name": "stdout",
     "output_type": "stream",
     "text": [
      "shape: (6_297_662, 1)\n",
      "┌─────────────┐\n",
      "│ distance    │\n",
      "│ ---         │\n",
      "│ f64         │\n",
      "╞═════════════╡\n",
      "│ null        │\n",
      "│ 0.0         │\n",
      "│ 0.0         │\n",
      "│ 0.0         │\n",
      "│ 0.0         │\n",
      "│ …           │\n",
      "│ 0.0         │\n",
      "│ 0.0         │\n",
      "│ 0.0         │\n",
      "│ 1009.896162 │\n",
      "│ 0.0         │\n",
      "└─────────────┘\n",
      "Datos de 'timestamp':\n",
      "shape: (6_297_662, 1)\n",
      "┌────────────────────────────┐\n",
      "│ timestamp                  │\n",
      "│ ---                        │\n",
      "│ datetime[μs]               │\n",
      "╞════════════════════════════╡\n",
      "│ null                       │\n",
      "│ 2023-01-01 00:17:04.000658 │\n",
      "│ 2023-01-01 00:04:09.000063 │\n",
      "│ 2023-01-01 00:03:41.000496 │\n",
      "│ 2023-01-01 00:03:52.000305 │\n",
      "│ …                          │\n",
      "│ 2023-01-07 23:17:26.000649 │\n",
      "│ 2023-01-07 23:31:23.000656 │\n",
      "│ 2023-01-07 23:09:04.000127 │\n",
      "│ 2023-01-07 23:38:47.000724 │\n",
      "│ 2023-01-07 23:44:05.000280 │\n",
      "└────────────────────────────┘\n"
     ]
    }
   ],
   "source": [
    "# Validar esquema inicial\n",
    "print(\"Esquema inicial:\")\n",
    "print(data.schema)\n",
    "\n",
    "# Inspeccionar valores en columnas problemáticas\n",
    "try:\n",
    "    print(\"Datos de 'notification_time':\")\n",
    "    print(data.select(\"notification_time\").collect())\n",
    "except Exception as e:\n",
    "    print(f\"Error en 'notification_time': {e}\")\n",
    "\n",
    "try:\n",
    "    print(\"Datos de 'distance':\")\n",
    "    print(data.select(\"distance\").collect())\n",
    "except Exception as e:\n",
    "    print(f\"Error en 'distance': {e}\")\n",
    "\n",
    "try:\n",
    "    print(\"Datos de 'timestamp':\")\n",
    "    print(data.select(\"timestamp\").collect())\n",
    "except Exception as e:\n",
    "    print(f\"Error en 'timestamp': {e}\")"
   ]
  },
  {
   "cell_type": "code",
   "execution_count": 24,
   "metadata": {},
   "outputs": [
    {
     "ename": "ColumnNotFoundError",
     "evalue": "5m\n\nResolved plan until failure:\n\n\t---> FAILED HERE RESOLVING 'group_by' <---\n WITH_COLUMNS:\n [col(\"timestamp\").dt.truncate([String(5m)]).alias(\"time_interval\")] \n   WITH_COLUMNS:\n   [col(\"timestamp\").dt.truncate([String(5m)]).alias(\"time_interval\")] \n     WITH_COLUMNS:\n     [col(\"latitude0\").as_struct([col(\"longitude0\"), col(\"latitude\"), col(\"longitude\")]).map_list().alias(\"distance\")] \n       WITH_COLUMNS:\n       [col(\"latitude\").shift([dyn int: 1]).over([col(\"car_id\")]).alias(\"latitude0\"), col(\"longitude\").shift([dyn int: 1]).over([col(\"car_id\")]).alias(\"longitude0\")] \n         WITH_COLUMNS:\n         [col(\"latitude0\").as_struct([col(\"longitude0\"), col(\"latitude\"), col(\"longitude\")]).map_list()] \n           WITH_COLUMNS:\n           [col(\"latitude\").shift([dyn int: 1]).over([col(\"car_id\")]).alias(\"latitude0\"), col(\"longitude\").shift([dyn int: 1]).over([col(\"car_id\")]).alias(\"longitude0\")] \n             WITH_COLUMNS:\n             [col(\"timestamp\").diff().strict_cast(Int64).over([col(\"car_id\")]).alias(\"notification_time\")] \n               WITH_COLUMNS:\n               [col(\"timestamp\").str.strptime([String(raise)]).alias(\"timestamp\")] \n                DF [\"car_id\", \"timestamp\", \"latitude\", \"longitude\"]; PROJECT */5 COLUMNS; SELECTION: None",
     "output_type": "error",
     "traceback": [
      "\u001b[0;31m---------------------------------------------------------------------------\u001b[0m",
      "\u001b[0;31mColumnNotFoundError\u001b[0m                       Traceback (most recent call last)",
      "Cell \u001b[0;32mIn[24], line 26\u001b[0m\n\u001b[1;32m     11\u001b[0m data \u001b[38;5;241m=\u001b[39m data\u001b[38;5;241m.\u001b[39mgroup_by([\u001b[38;5;124m\"\u001b[39m\u001b[38;5;124mcar_id\u001b[39m\u001b[38;5;124m\"\u001b[39m, \u001b[38;5;124m\"\u001b[39m\u001b[38;5;124mtime_interval\u001b[39m\u001b[38;5;124m\"\u001b[39m])\u001b[38;5;241m.\u001b[39magg([\n\u001b[1;32m     12\u001b[0m     pl\u001b[38;5;241m.\u001b[39mcol(\u001b[38;5;124m\"\u001b[39m\u001b[38;5;124mnotification_time\u001b[39m\u001b[38;5;124m\"\u001b[39m)\u001b[38;5;241m.\u001b[39mmean()\u001b[38;5;241m.\u001b[39malias(\u001b[38;5;124m\"\u001b[39m\u001b[38;5;124mnotification_time_mean\u001b[39m\u001b[38;5;124m\"\u001b[39m),\n\u001b[1;32m     13\u001b[0m     pl\u001b[38;5;241m.\u001b[39mcol(\u001b[38;5;124m\"\u001b[39m\u001b[38;5;124mnotification_time\u001b[39m\u001b[38;5;124m\"\u001b[39m)\u001b[38;5;241m.\u001b[39mmedian()\u001b[38;5;241m.\u001b[39malias(\u001b[38;5;124m\"\u001b[39m\u001b[38;5;124mnotification_time_median\u001b[39m\u001b[38;5;124m\"\u001b[39m),\n\u001b[0;32m   (...)\u001b[0m\n\u001b[1;32m     22\u001b[0m     pl\u001b[38;5;241m.\u001b[39mcol(\u001b[38;5;124m\"\u001b[39m\u001b[38;5;124mdistance\u001b[39m\u001b[38;5;124m\"\u001b[39m)\u001b[38;5;241m.\u001b[39mmin()\u001b[38;5;241m.\u001b[39malias(\u001b[38;5;124m\"\u001b[39m\u001b[38;5;124mdistance_min\u001b[39m\u001b[38;5;124m\"\u001b[39m),\n\u001b[1;32m     23\u001b[0m ])\n\u001b[1;32m     25\u001b[0m \u001b[38;5;66;03m# Mostrar algunas filas del LazyFrame limpio para validar\u001b[39;00m\n\u001b[0;32m---> 26\u001b[0m df \u001b[38;5;241m=\u001b[39m \u001b[43mdata\u001b[49m\u001b[38;5;241;43m.\u001b[39;49m\u001b[43mcollect\u001b[49m\u001b[43m(\u001b[49m\u001b[43m)\u001b[49m\n\u001b[1;32m     27\u001b[0m \u001b[38;5;28mprint\u001b[39m(df\u001b[38;5;241m.\u001b[39mhead())\n",
      "File \u001b[0;32m~/.local/lib/python3.10/site-packages/polars/lazyframe/frame.py:2055\u001b[0m, in \u001b[0;36mLazyFrame.collect\u001b[0;34m(self, type_coercion, predicate_pushdown, projection_pushdown, simplify_expression, slice_pushdown, comm_subplan_elim, comm_subexpr_elim, cluster_with_columns, collapse_joins, no_optimization, streaming, engine, background, _eager, **_kwargs)\u001b[0m\n\u001b[1;32m   2053\u001b[0m \u001b[38;5;66;03m# Only for testing purposes\u001b[39;00m\n\u001b[1;32m   2054\u001b[0m callback \u001b[38;5;241m=\u001b[39m _kwargs\u001b[38;5;241m.\u001b[39mget(\u001b[38;5;124m\"\u001b[39m\u001b[38;5;124mpost_opt_callback\u001b[39m\u001b[38;5;124m\"\u001b[39m, callback)\n\u001b[0;32m-> 2055\u001b[0m \u001b[38;5;28;01mreturn\u001b[39;00m wrap_df(\u001b[43mldf\u001b[49m\u001b[38;5;241;43m.\u001b[39;49m\u001b[43mcollect\u001b[49m\u001b[43m(\u001b[49m\u001b[43mcallback\u001b[49m\u001b[43m)\u001b[49m)\n",
      "\u001b[0;31mColumnNotFoundError\u001b[0m: 5m\n\nResolved plan until failure:\n\n\t---> FAILED HERE RESOLVING 'group_by' <---\n WITH_COLUMNS:\n [col(\"timestamp\").dt.truncate([String(5m)]).alias(\"time_interval\")] \n   WITH_COLUMNS:\n   [col(\"timestamp\").dt.truncate([String(5m)]).alias(\"time_interval\")] \n     WITH_COLUMNS:\n     [col(\"latitude0\").as_struct([col(\"longitude0\"), col(\"latitude\"), col(\"longitude\")]).map_list().alias(\"distance\")] \n       WITH_COLUMNS:\n       [col(\"latitude\").shift([dyn int: 1]).over([col(\"car_id\")]).alias(\"latitude0\"), col(\"longitude\").shift([dyn int: 1]).over([col(\"car_id\")]).alias(\"longitude0\")] \n         WITH_COLUMNS:\n         [col(\"latitude0\").as_struct([col(\"longitude0\"), col(\"latitude\"), col(\"longitude\")]).map_list()] \n           WITH_COLUMNS:\n           [col(\"latitude\").shift([dyn int: 1]).over([col(\"car_id\")]).alias(\"latitude0\"), col(\"longitude\").shift([dyn int: 1]).over([col(\"car_id\")]).alias(\"longitude0\")] \n             WITH_COLUMNS:\n             [col(\"timestamp\").diff().strict_cast(Int64).over([col(\"car_id\")]).alias(\"notification_time\")] \n               WITH_COLUMNS:\n               [col(\"timestamp\").str.strptime([String(raise)]).alias(\"timestamp\")] \n                DF [\"car_id\", \"timestamp\", \"latitude\", \"longitude\"]; PROJECT */5 COLUMNS; SELECTION: None"
     ]
    }
   ],
   "source": [
    "# 3. Crear intervalos de `x` minutos por carro y calcular estadísticas\n",
    "x = 5\n",
    "\n",
    "# Crear una nueva columna que indique el intervalo de tiempo al que pertenece cada notificación\n",
    "data = data.with_columns(\n",
    "    (pl.col(\"timestamp\").dt.truncate(f'{x}m')).alias(\"time_interval\")\n",
    ")\n",
    "\n",
    "# Agrupar por `car_id` y `time_interval` y calcular estadísticas para `notification_time` y `distance`\n",
    "# Utilizar group_by con las columnas car_id y time_interval\n",
    "data = data.group_by([\"car_id\", \"time_interval\"]).agg([\n",
    "    pl.col(\"notification_time\").mean().alias(\"notification_time_mean\"),\n",
    "    pl.col(\"notification_time\").median().alias(\"notification_time_median\"),\n",
    "    pl.col(\"notification_time\").var().alias(\"notification_time_var\"),\n",
    "    pl.col(\"notification_time\").max().alias(\"notification_time_max\"),\n",
    "    pl.col(\"notification_time\").min().alias(\"notification_time_min\"),\n",
    "    \n",
    "    pl.col(\"distance\").mean().alias(\"distance_mean\"),\n",
    "    pl.col(\"distance\").median().alias(\"distance_median\"),\n",
    "    pl.col(\"distance\").var().alias(\"distance_var\"),\n",
    "    pl.col(\"distance\").max().alias(\"distance_max\"),\n",
    "    pl.col(\"distance\").min().alias(\"distance_min\"),\n",
    "])\n",
    "\n",
    "# Mostrar algunas filas del LazyFrame limpio para validar\n",
    "df = data.collect()\n",
    "print(df.head())"
   ]
  }
 ],
 "metadata": {
  "kernelspec": {
   "display_name": "Python 3",
   "language": "python",
   "name": "python3"
  },
  "language_info": {
   "codemirror_mode": {
    "name": "ipython",
    "version": 3
   },
   "file_extension": ".py",
   "mimetype": "text/x-python",
   "name": "python",
   "nbconvert_exporter": "python",
   "pygments_lexer": "ipython3",
   "version": "3.10.12"
  }
 },
 "nbformat": 4,
 "nbformat_minor": 2
}
