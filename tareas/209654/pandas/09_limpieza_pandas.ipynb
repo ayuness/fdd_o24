{
 "cells": [
  {
   "attachments": {},
   "cell_type": "markdown",
   "metadata": {},
   "source": [
    "# Prediccion de Default en Prestamos\n"
   ]
  },
  {
   "cell_type": "markdown",
   "metadata": {},
   "source": [
    "Para este proyecto utilizaremos un sample de los datos de Lending Club. La idea es predecir si cierto usuario cometera Default basado en informacion que la plataforma recolecta. Esto nos ayudara a mejorar la metodologia/pipeline de prestamo.\n"
   ]
  },
  {
   "attachments": {},
   "cell_type": "markdown",
   "metadata": {},
   "source": [
    "# Descripcion"
   ]
  },
  {
   "attachments": {},
   "cell_type": "markdown",
   "metadata": {},
   "source": [
    "\n",
    "\n",
    "Contiene los prestamos de esta plataforma:\n",
    "\n",
    "    periodo 2007-2017Q3.\n",
    "    887mil observaciones, sample de 100mil\n",
    "    150 variables\n",
    "    Target: loan status\n",
    "\n"
   ]
  },
  {
   "cell_type": "markdown",
   "metadata": {},
   "source": [
    "# Objetivo"
   ]
  },
  {
   "cell_type": "markdown",
   "metadata": {},
   "source": [
    "Realizar un ETL y un EDA"
   ]
  },
  {
   "attachments": {},
   "cell_type": "markdown",
   "metadata": {},
   "source": [
    "## ETL"
   ]
  },
  {
   "attachments": {},
   "cell_type": "markdown",
   "metadata": {},
   "source": [
    "0. Limpia los datos de tal manera que al final del ETL queden en formato `tidy`.\n",
    "1. Asegurate de cargar y leer los datos\n",
    "2. Crea una tabla donde se guarde el nombre de la columna y el tipo de dato: (`column_name`,   `type`).\n",
    "3. Asegurate de pensar cual es el tipo de dato correcto. Porque elejiste strig/object o float o int?. No hay respuestas incorrectas como tal, pero tienes que justificar tu decision.\n",
    "4. Maneja missings o nans de la manera adecuada. Justifica cada decision\n",
    "\n",
    "\n",
    "\n",
    "\n",
    "\n"
   ]
  },
  {
   "attachments": {},
   "cell_type": "markdown",
   "metadata": {},
   "source": [
    "## EDA"
   ]
  },
  {
   "attachments": {},
   "cell_type": "markdown",
   "metadata": {},
   "source": [
    "0. Preparar lo datos para un pipeline de datos\n",
    "1. Quitar columnas inservibles \n",
    "2. Imputar valores\n",
    "3. Mantener replicabildiad y reproducibilidad"
   ]
  },
  {
   "attachments": {},
   "cell_type": "markdown",
   "metadata": {},
   "source": [
    "**No olvides anotar tus justificaciones en celdas para recordar cuando te toque explicarlo.** Puedes agregar el numero de celdas que necesites para poner tu explicacion y el codigo, solo manten la estructura."
   ]
  },
  {
   "attachments": {},
   "cell_type": "markdown",
   "metadata": {},
   "source": [
    "# ETL"
   ]
  },
  {
   "cell_type": "code",
   "execution_count": 1,
   "metadata": {},
   "outputs": [],
   "source": [
    "import pandas as pd\n",
    "import numpy as np"
   ]
  },
  {
   "attachments": {},
   "cell_type": "markdown",
   "metadata": {},
   "source": [
    "Vas a obtener 2 errores, solucionalo con los visto en clase.  \n",
    "Tip: Se arreglan con argumentos adicionales de la funcion `read_csv`  \n",
    "Documentacion: https://pandas.pydata.org/docs/reference/api/pandas.read_csv.html "
   ]
  },
  {
   "cell_type": "code",
   "execution_count": 2,
   "metadata": {},
   "outputs": [
    {
     "data": {
      "text/html": [
       "<div>\n",
       "<style scoped>\n",
       "    .dataframe tbody tr th:only-of-type {\n",
       "        vertical-align: middle;\n",
       "    }\n",
       "\n",
       "    .dataframe tbody tr th {\n",
       "        vertical-align: top;\n",
       "    }\n",
       "\n",
       "    .dataframe thead th {\n",
       "        text-align: right;\n",
       "    }\n",
       "</style>\n",
       "<table border=\"1\" class=\"dataframe\">\n",
       "  <thead>\n",
       "    <tr style=\"text-align: right;\">\n",
       "      <th></th>\n",
       "      <th>Unnamed: 0</th>\n",
       "      <th>id</th>\n",
       "      <th>member_id</th>\n",
       "      <th>loan_amnt</th>\n",
       "      <th>funded_amnt</th>\n",
       "      <th>funded_amnt_inv</th>\n",
       "      <th>term</th>\n",
       "      <th>int_rate</th>\n",
       "      <th>installment</th>\n",
       "      <th>grade</th>\n",
       "      <th>...</th>\n",
       "      <th>hardship_payoff_balance_amount</th>\n",
       "      <th>hardship_last_payment_amount</th>\n",
       "      <th>disbursement_method</th>\n",
       "      <th>debt_settlement_flag</th>\n",
       "      <th>debt_settlement_flag_date</th>\n",
       "      <th>settlement_status</th>\n",
       "      <th>settlement_date</th>\n",
       "      <th>settlement_amount</th>\n",
       "      <th>settlement_percentage</th>\n",
       "      <th>settlement_term</th>\n",
       "    </tr>\n",
       "  </thead>\n",
       "  <tbody>\n",
       "    <tr>\n",
       "      <th>0</th>\n",
       "      <td>0</td>\n",
       "      <td>38098114</td>\n",
       "      <td>NaN</td>\n",
       "      <td>15000.0</td>\n",
       "      <td>15000.0</td>\n",
       "      <td>15000.0</td>\n",
       "      <td>60 months</td>\n",
       "      <td>12.39</td>\n",
       "      <td>336.64</td>\n",
       "      <td>C</td>\n",
       "      <td>...</td>\n",
       "      <td>NaN</td>\n",
       "      <td>NaN</td>\n",
       "      <td>Cash</td>\n",
       "      <td>N</td>\n",
       "      <td>NaN</td>\n",
       "      <td>NaN</td>\n",
       "      <td>NaN</td>\n",
       "      <td>NaN</td>\n",
       "      <td>NaN</td>\n",
       "      <td>NaN</td>\n",
       "    </tr>\n",
       "    <tr>\n",
       "      <th>1</th>\n",
       "      <td>1</td>\n",
       "      <td>36805548</td>\n",
       "      <td>NaN</td>\n",
       "      <td>10400.0</td>\n",
       "      <td>10400.0</td>\n",
       "      <td>10400.0</td>\n",
       "      <td>36 months</td>\n",
       "      <td>6.99</td>\n",
       "      <td>321.08</td>\n",
       "      <td>A</td>\n",
       "      <td>...</td>\n",
       "      <td>NaN</td>\n",
       "      <td>NaN</td>\n",
       "      <td>Cash</td>\n",
       "      <td>N</td>\n",
       "      <td>NaN</td>\n",
       "      <td>NaN</td>\n",
       "      <td>NaN</td>\n",
       "      <td>NaN</td>\n",
       "      <td>NaN</td>\n",
       "      <td>NaN</td>\n",
       "    </tr>\n",
       "    <tr>\n",
       "      <th>2</th>\n",
       "      <td>2</td>\n",
       "      <td>37842129</td>\n",
       "      <td>NaN</td>\n",
       "      <td>21425.0</td>\n",
       "      <td>21425.0</td>\n",
       "      <td>21425.0</td>\n",
       "      <td>60 months</td>\n",
       "      <td>15.59</td>\n",
       "      <td>516.36</td>\n",
       "      <td>D</td>\n",
       "      <td>...</td>\n",
       "      <td>NaN</td>\n",
       "      <td>NaN</td>\n",
       "      <td>Cash</td>\n",
       "      <td>N</td>\n",
       "      <td>NaN</td>\n",
       "      <td>NaN</td>\n",
       "      <td>NaN</td>\n",
       "      <td>NaN</td>\n",
       "      <td>NaN</td>\n",
       "      <td>NaN</td>\n",
       "    </tr>\n",
       "    <tr>\n",
       "      <th>3</th>\n",
       "      <td>3</td>\n",
       "      <td>37612354</td>\n",
       "      <td>NaN</td>\n",
       "      <td>12800.0</td>\n",
       "      <td>12800.0</td>\n",
       "      <td>12800.0</td>\n",
       "      <td>60 months</td>\n",
       "      <td>17.14</td>\n",
       "      <td>319.08</td>\n",
       "      <td>D</td>\n",
       "      <td>...</td>\n",
       "      <td>NaN</td>\n",
       "      <td>NaN</td>\n",
       "      <td>Cash</td>\n",
       "      <td>N</td>\n",
       "      <td>NaN</td>\n",
       "      <td>NaN</td>\n",
       "      <td>NaN</td>\n",
       "      <td>NaN</td>\n",
       "      <td>NaN</td>\n",
       "      <td>NaN</td>\n",
       "    </tr>\n",
       "    <tr>\n",
       "      <th>4</th>\n",
       "      <td>4</td>\n",
       "      <td>37662224</td>\n",
       "      <td>NaN</td>\n",
       "      <td>7650.0</td>\n",
       "      <td>7650.0</td>\n",
       "      <td>7650.0</td>\n",
       "      <td>36 months</td>\n",
       "      <td>13.66</td>\n",
       "      <td>260.20</td>\n",
       "      <td>C</td>\n",
       "      <td>...</td>\n",
       "      <td>NaN</td>\n",
       "      <td>NaN</td>\n",
       "      <td>Cash</td>\n",
       "      <td>N</td>\n",
       "      <td>NaN</td>\n",
       "      <td>NaN</td>\n",
       "      <td>NaN</td>\n",
       "      <td>NaN</td>\n",
       "      <td>NaN</td>\n",
       "      <td>NaN</td>\n",
       "    </tr>\n",
       "    <tr>\n",
       "      <th>...</th>\n",
       "      <td>...</td>\n",
       "      <td>...</td>\n",
       "      <td>...</td>\n",
       "      <td>...</td>\n",
       "      <td>...</td>\n",
       "      <td>...</td>\n",
       "      <td>...</td>\n",
       "      <td>...</td>\n",
       "      <td>...</td>\n",
       "      <td>...</td>\n",
       "      <td>...</td>\n",
       "      <td>...</td>\n",
       "      <td>...</td>\n",
       "      <td>...</td>\n",
       "      <td>...</td>\n",
       "      <td>...</td>\n",
       "      <td>...</td>\n",
       "      <td>...</td>\n",
       "      <td>...</td>\n",
       "      <td>...</td>\n",
       "      <td>...</td>\n",
       "    </tr>\n",
       "    <tr>\n",
       "      <th>99995</th>\n",
       "      <td>99995</td>\n",
       "      <td>22454240</td>\n",
       "      <td>NaN</td>\n",
       "      <td>8400.0</td>\n",
       "      <td>8400.0</td>\n",
       "      <td>8400.0</td>\n",
       "      <td>36 months</td>\n",
       "      <td>9.17</td>\n",
       "      <td>267.79</td>\n",
       "      <td>B</td>\n",
       "      <td>...</td>\n",
       "      <td>NaN</td>\n",
       "      <td>NaN</td>\n",
       "      <td>Cash</td>\n",
       "      <td>N</td>\n",
       "      <td>NaN</td>\n",
       "      <td>NaN</td>\n",
       "      <td>NaN</td>\n",
       "      <td>NaN</td>\n",
       "      <td>NaN</td>\n",
       "      <td>NaN</td>\n",
       "    </tr>\n",
       "    <tr>\n",
       "      <th>99996</th>\n",
       "      <td>99996</td>\n",
       "      <td>11396920</td>\n",
       "      <td>NaN</td>\n",
       "      <td>10000.0</td>\n",
       "      <td>10000.0</td>\n",
       "      <td>10000.0</td>\n",
       "      <td>36 months</td>\n",
       "      <td>12.99</td>\n",
       "      <td>336.90</td>\n",
       "      <td>C</td>\n",
       "      <td>...</td>\n",
       "      <td>NaN</td>\n",
       "      <td>NaN</td>\n",
       "      <td>Cash</td>\n",
       "      <td>N</td>\n",
       "      <td>NaN</td>\n",
       "      <td>NaN</td>\n",
       "      <td>NaN</td>\n",
       "      <td>NaN</td>\n",
       "      <td>NaN</td>\n",
       "      <td>NaN</td>\n",
       "    </tr>\n",
       "    <tr>\n",
       "      <th>99997</th>\n",
       "      <td>99997</td>\n",
       "      <td>8556176</td>\n",
       "      <td>NaN</td>\n",
       "      <td>30000.0</td>\n",
       "      <td>30000.0</td>\n",
       "      <td>30000.0</td>\n",
       "      <td>60 months</td>\n",
       "      <td>20.99</td>\n",
       "      <td>811.44</td>\n",
       "      <td>E</td>\n",
       "      <td>...</td>\n",
       "      <td>NaN</td>\n",
       "      <td>NaN</td>\n",
       "      <td>Cash</td>\n",
       "      <td>N</td>\n",
       "      <td>NaN</td>\n",
       "      <td>NaN</td>\n",
       "      <td>NaN</td>\n",
       "      <td>NaN</td>\n",
       "      <td>NaN</td>\n",
       "      <td>NaN</td>\n",
       "    </tr>\n",
       "    <tr>\n",
       "      <th>99998</th>\n",
       "      <td>99998</td>\n",
       "      <td>24023408</td>\n",
       "      <td>NaN</td>\n",
       "      <td>8475.0</td>\n",
       "      <td>8475.0</td>\n",
       "      <td>8475.0</td>\n",
       "      <td>36 months</td>\n",
       "      <td>24.99</td>\n",
       "      <td>336.92</td>\n",
       "      <td>F</td>\n",
       "      <td>...</td>\n",
       "      <td>NaN</td>\n",
       "      <td>NaN</td>\n",
       "      <td>Cash</td>\n",
       "      <td>N</td>\n",
       "      <td>NaN</td>\n",
       "      <td>NaN</td>\n",
       "      <td>NaN</td>\n",
       "      <td>NaN</td>\n",
       "      <td>NaN</td>\n",
       "      <td>NaN</td>\n",
       "    </tr>\n",
       "    <tr>\n",
       "      <th>99999</th>\n",
       "      <td>99999</td>\n",
       "      <td>24023398</td>\n",
       "      <td>NaN</td>\n",
       "      <td>25000.0</td>\n",
       "      <td>25000.0</td>\n",
       "      <td>25000.0</td>\n",
       "      <td>36 months</td>\n",
       "      <td>10.15</td>\n",
       "      <td>808.45</td>\n",
       "      <td>B</td>\n",
       "      <td>...</td>\n",
       "      <td>NaN</td>\n",
       "      <td>NaN</td>\n",
       "      <td>Cash</td>\n",
       "      <td>N</td>\n",
       "      <td>NaN</td>\n",
       "      <td>NaN</td>\n",
       "      <td>NaN</td>\n",
       "      <td>NaN</td>\n",
       "      <td>NaN</td>\n",
       "      <td>NaN</td>\n",
       "    </tr>\n",
       "  </tbody>\n",
       "</table>\n",
       "<p>100000 rows × 151 columns</p>\n",
       "</div>"
      ],
      "text/plain": [
       "       Unnamed: 0        id  member_id  loan_amnt  funded_amnt  \\\n",
       "0               0  38098114        NaN    15000.0      15000.0   \n",
       "1               1  36805548        NaN    10400.0      10400.0   \n",
       "2               2  37842129        NaN    21425.0      21425.0   \n",
       "3               3  37612354        NaN    12800.0      12800.0   \n",
       "4               4  37662224        NaN     7650.0       7650.0   \n",
       "...           ...       ...        ...        ...          ...   \n",
       "99995       99995  22454240        NaN     8400.0       8400.0   \n",
       "99996       99996  11396920        NaN    10000.0      10000.0   \n",
       "99997       99997   8556176        NaN    30000.0      30000.0   \n",
       "99998       99998  24023408        NaN     8475.0       8475.0   \n",
       "99999       99999  24023398        NaN    25000.0      25000.0   \n",
       "\n",
       "       funded_amnt_inv        term  int_rate  installment grade  ...  \\\n",
       "0              15000.0   60 months     12.39       336.64     C  ...   \n",
       "1              10400.0   36 months      6.99       321.08     A  ...   \n",
       "2              21425.0   60 months     15.59       516.36     D  ...   \n",
       "3              12800.0   60 months     17.14       319.08     D  ...   \n",
       "4               7650.0   36 months     13.66       260.20     C  ...   \n",
       "...                ...         ...       ...          ...   ...  ...   \n",
       "99995           8400.0   36 months      9.17       267.79     B  ...   \n",
       "99996          10000.0   36 months     12.99       336.90     C  ...   \n",
       "99997          30000.0   60 months     20.99       811.44     E  ...   \n",
       "99998           8475.0   36 months     24.99       336.92     F  ...   \n",
       "99999          25000.0   36 months     10.15       808.45     B  ...   \n",
       "\n",
       "      hardship_payoff_balance_amount hardship_last_payment_amount  \\\n",
       "0                                NaN                          NaN   \n",
       "1                                NaN                          NaN   \n",
       "2                                NaN                          NaN   \n",
       "3                                NaN                          NaN   \n",
       "4                                NaN                          NaN   \n",
       "...                              ...                          ...   \n",
       "99995                            NaN                          NaN   \n",
       "99996                            NaN                          NaN   \n",
       "99997                            NaN                          NaN   \n",
       "99998                            NaN                          NaN   \n",
       "99999                            NaN                          NaN   \n",
       "\n",
       "      disbursement_method debt_settlement_flag  debt_settlement_flag_date  \\\n",
       "0                    Cash                    N                        NaN   \n",
       "1                    Cash                    N                        NaN   \n",
       "2                    Cash                    N                        NaN   \n",
       "3                    Cash                    N                        NaN   \n",
       "4                    Cash                    N                        NaN   \n",
       "...                   ...                  ...                        ...   \n",
       "99995                Cash                    N                        NaN   \n",
       "99996                Cash                    N                        NaN   \n",
       "99997                Cash                    N                        NaN   \n",
       "99998                Cash                    N                        NaN   \n",
       "99999                Cash                    N                        NaN   \n",
       "\n",
       "      settlement_status settlement_date settlement_amount  \\\n",
       "0                   NaN             NaN               NaN   \n",
       "1                   NaN             NaN               NaN   \n",
       "2                   NaN             NaN               NaN   \n",
       "3                   NaN             NaN               NaN   \n",
       "4                   NaN             NaN               NaN   \n",
       "...                 ...             ...               ...   \n",
       "99995               NaN             NaN               NaN   \n",
       "99996               NaN             NaN               NaN   \n",
       "99997               NaN             NaN               NaN   \n",
       "99998               NaN             NaN               NaN   \n",
       "99999               NaN             NaN               NaN   \n",
       "\n",
       "      settlement_percentage settlement_term  \n",
       "0                       NaN             NaN  \n",
       "1                       NaN             NaN  \n",
       "2                       NaN             NaN  \n",
       "3                       NaN             NaN  \n",
       "4                       NaN             NaN  \n",
       "...                     ...             ...  \n",
       "99995                   NaN             NaN  \n",
       "99996                   NaN             NaN  \n",
       "99997                   NaN             NaN  \n",
       "99998                   NaN             NaN  \n",
       "99999                   NaN             NaN  \n",
       "\n",
       "[100000 rows x 151 columns]"
      ]
     },
     "execution_count": 2,
     "metadata": {},
     "output_type": "execute_result"
    }
   ],
   "source": [
    "loans = pd.read_csv('https://github.com/sonder-art/fdd_prim_2023/blob/main/codigo/pandas/LoansData_sample.csv.gz?raw=true', compression='gzip', low_memory=False)\n",
    "\n",
    "loans\n"
   ]
  },
  {
   "cell_type": "markdown",
   "metadata": {},
   "source": [
    "## Tabla (column_name, type)"
   ]
  },
  {
   "attachments": {},
   "cell_type": "markdown",
   "metadata": {},
   "source": [
    "Revisa el metodo pd.DataFrame.dtypes. https://pandas.pydata.org/docs/reference/api/pandas.DataFrame.dtypes.html "
   ]
  },
  {
   "cell_type": "code",
   "execution_count": 3,
   "metadata": {},
   "outputs": [
    {
     "name": "stdout",
     "output_type": "stream",
     "text": [
      "               column_name     type\n",
      "0               Unnamed: 0    int64\n",
      "1                       id    int64\n",
      "2                member_id  float64\n",
      "3                loan_amnt  float64\n",
      "4              funded_amnt  float64\n",
      "..                     ...      ...\n",
      "146      settlement_status   object\n",
      "147        settlement_date   object\n",
      "148      settlement_amount  float64\n",
      "149  settlement_percentage  float64\n",
      "150        settlement_term  float64\n",
      "\n",
      "[151 rows x 2 columns]\n"
     ]
    }
   ],
   "source": [
    "column_types = pd.DataFrame(loans.dtypes, columns=['type']).reset_index()\n",
    "column_types.rename(columns={'index': 'column_name'}, inplace=True)\n",
    "\n",
    "print(column_types)"
   ]
  },
  {
   "cell_type": "markdown",
   "metadata": {},
   "source": [
    "## Cargar descripcion de columnas"
   ]
  },
  {
   "attachments": {},
   "cell_type": "markdown",
   "metadata": {},
   "source": [
    "La siguiente tabla tiene una descripcion del significado de cada columna"
   ]
  },
  {
   "cell_type": "code",
   "execution_count": 5,
   "metadata": {},
   "outputs": [
    {
     "name": "stdout",
     "output_type": "stream",
     "text": [
      "Collecting openpyxl\n",
      "  Downloading openpyxl-3.1.5-py2.py3-none-any.whl.metadata (2.5 kB)\n",
      "Collecting et-xmlfile (from openpyxl)\n",
      "  Downloading et_xmlfile-2.0.0-py3-none-any.whl.metadata (2.7 kB)\n",
      "Downloading openpyxl-3.1.5-py2.py3-none-any.whl (250 kB)\n",
      "Downloading et_xmlfile-2.0.0-py3-none-any.whl (18 kB)\n",
      "Installing collected packages: et-xmlfile, openpyxl\n",
      "Successfully installed et-xmlfile-2.0.0 openpyxl-3.1.5\n",
      "\n",
      "\u001b[1m[\u001b[0m\u001b[34;49mnotice\u001b[0m\u001b[1;39;49m]\u001b[0m\u001b[39;49m A new release of pip is available: \u001b[0m\u001b[31;49m24.2\u001b[0m\u001b[39;49m -> \u001b[0m\u001b[32;49m24.3.1\u001b[0m\n",
      "\u001b[1m[\u001b[0m\u001b[34;49mnotice\u001b[0m\u001b[1;39;49m]\u001b[0m\u001b[39;49m To update, run: \u001b[0m\u001b[32;49mpip install --upgrade pip\u001b[0m\n"
     ]
    }
   ],
   "source": [
    "!pip install openpyxl"
   ]
  },
  {
   "cell_type": "code",
   "execution_count": 6,
   "metadata": {},
   "outputs": [],
   "source": [
    "\n",
    "\n",
    "datos_dict = pd.read_excel(\n",
    "    'https://resources.lendingclub.com/LCDataDictionary.xlsx')\n",
    "datos_dict.columns = ['feature', 'description']\n"
   ]
  },
  {
   "cell_type": "code",
   "execution_count": 7,
   "metadata": {},
   "outputs": [
    {
     "data": {
      "text/html": [
       "<div>\n",
       "<style scoped>\n",
       "    .dataframe tbody tr th:only-of-type {\n",
       "        vertical-align: middle;\n",
       "    }\n",
       "\n",
       "    .dataframe tbody tr th {\n",
       "        vertical-align: top;\n",
       "    }\n",
       "\n",
       "    .dataframe thead th {\n",
       "        text-align: right;\n",
       "    }\n",
       "</style>\n",
       "<table border=\"1\" class=\"dataframe\">\n",
       "  <thead>\n",
       "    <tr style=\"text-align: right;\">\n",
       "      <th></th>\n",
       "      <th>feature</th>\n",
       "      <th>description</th>\n",
       "    </tr>\n",
       "  </thead>\n",
       "  <tbody>\n",
       "    <tr>\n",
       "      <th>0</th>\n",
       "      <td>acc_now_delinq</td>\n",
       "      <td>The number of accounts on which the borrower i...</td>\n",
       "    </tr>\n",
       "    <tr>\n",
       "      <th>1</th>\n",
       "      <td>acc_open_past_24mths</td>\n",
       "      <td>Number of trades opened in past 24 months.</td>\n",
       "    </tr>\n",
       "    <tr>\n",
       "      <th>2</th>\n",
       "      <td>addr_state</td>\n",
       "      <td>The state provided by the borrower in the loan...</td>\n",
       "    </tr>\n",
       "    <tr>\n",
       "      <th>3</th>\n",
       "      <td>all_util</td>\n",
       "      <td>Balance to credit limit on all trades</td>\n",
       "    </tr>\n",
       "    <tr>\n",
       "      <th>4</th>\n",
       "      <td>annual_inc</td>\n",
       "      <td>The self-reported annual income provided by th...</td>\n",
       "    </tr>\n",
       "    <tr>\n",
       "      <th>...</th>\n",
       "      <td>...</td>\n",
       "      <td>...</td>\n",
       "    </tr>\n",
       "    <tr>\n",
       "      <th>148</th>\n",
       "      <td>settlement_amount</td>\n",
       "      <td>The loan amount that the borrower has agreed t...</td>\n",
       "    </tr>\n",
       "    <tr>\n",
       "      <th>149</th>\n",
       "      <td>settlement_percentage</td>\n",
       "      <td>The settlement amount as a percentage of the p...</td>\n",
       "    </tr>\n",
       "    <tr>\n",
       "      <th>150</th>\n",
       "      <td>settlement_term</td>\n",
       "      <td>The number of months that the borrower will be...</td>\n",
       "    </tr>\n",
       "    <tr>\n",
       "      <th>151</th>\n",
       "      <td>NaN</td>\n",
       "      <td>NaN</td>\n",
       "    </tr>\n",
       "    <tr>\n",
       "      <th>152</th>\n",
       "      <td>NaN</td>\n",
       "      <td>* Employer Title replaces Employer Name for al...</td>\n",
       "    </tr>\n",
       "  </tbody>\n",
       "</table>\n",
       "<p>153 rows × 2 columns</p>\n",
       "</div>"
      ],
      "text/plain": [
       "                   feature                                        description\n",
       "0           acc_now_delinq  The number of accounts on which the borrower i...\n",
       "1     acc_open_past_24mths         Number of trades opened in past 24 months.\n",
       "2               addr_state  The state provided by the borrower in the loan...\n",
       "3                 all_util              Balance to credit limit on all trades\n",
       "4               annual_inc  The self-reported annual income provided by th...\n",
       "..                     ...                                                ...\n",
       "148      settlement_amount  The loan amount that the borrower has agreed t...\n",
       "149  settlement_percentage  The settlement amount as a percentage of the p...\n",
       "150        settlement_term  The number of months that the borrower will be...\n",
       "151                    NaN                                                NaN\n",
       "152                    NaN  * Employer Title replaces Employer Name for al...\n",
       "\n",
       "[153 rows x 2 columns]"
      ]
     },
     "execution_count": 7,
     "metadata": {},
     "output_type": "execute_result"
    }
   ],
   "source": [
    "datos_dict"
   ]
  },
  {
   "attachments": {},
   "cell_type": "markdown",
   "metadata": {},
   "source": [
    "### Pickle"
   ]
  },
  {
   "attachments": {},
   "cell_type": "markdown",
   "metadata": {},
   "source": [
    "Crea codigo para **guardar** y **cargar** el DataFrame de `datos_dict` creada en las celdas anteriores en formato **pickle**"
   ]
  },
  {
   "cell_type": "code",
   "execution_count": 8,
   "metadata": {},
   "outputs": [],
   "source": [
    "datos_dict.to_pickle(\"datos_dict.pkl\")"
   ]
  },
  {
   "cell_type": "code",
   "execution_count": 9,
   "metadata": {},
   "outputs": [
    {
     "name": "stdout",
     "output_type": "stream",
     "text": [
      "                   feature                                        description\n",
      "0           acc_now_delinq  The number of accounts on which the borrower i...\n",
      "1     acc_open_past_24mths         Number of trades opened in past 24 months.\n",
      "2               addr_state  The state provided by the borrower in the loan...\n",
      "3                 all_util              Balance to credit limit on all trades\n",
      "4               annual_inc  The self-reported annual income provided by th...\n",
      "..                     ...                                                ...\n",
      "148      settlement_amount  The loan amount that the borrower has agreed t...\n",
      "149  settlement_percentage  The settlement amount as a percentage of the p...\n",
      "150        settlement_term  The number of months that the borrower will be...\n",
      "151                    NaN                                                NaN\n",
      "152                    NaN  * Employer Title replaces Employer Name for al...\n",
      "\n",
      "[153 rows x 2 columns]\n"
     ]
    }
   ],
   "source": [
    "datos_dict_cargado = pd.read_pickle(\"datos_dict.pkl\")\n",
    "print(datos_dict_cargado)"
   ]
  },
  {
   "cell_type": "markdown",
   "metadata": {},
   "source": [
    "## Tipos de Datos"
   ]
  },
  {
   "cell_type": "markdown",
   "metadata": {},
   "source": [
    "Realiza las transformaciones o casteos (casting) que creas necesarios a tus datos de tal manera que el typo de dato sea adecuado. Al terminar recrea la tabla `column_types` con los nuevos tipos."
   ]
  },
  {
   "attachments": {},
   "cell_type": "markdown",
   "metadata": {},
   "source": [
    "No olvides anotar tus justificaciones para recordar cuando te toque explicarlo."
   ]
  },
  {
   "cell_type": "code",
   "execution_count": null,
   "metadata": {},
   "outputs": [],
   "source": [
    "loansf=loans\n",
    "#Respaldo de los datos"
   ]
  },
  {
   "cell_type": "code",
   "execution_count": 11,
   "metadata": {},
   "outputs": [
    {
     "name": "stderr",
     "output_type": "stream",
     "text": [
      "/tmp/ipykernel_4586/2732739470.py:4: UserWarning: Could not infer format, so each element will be parsed individually, falling back to `dateutil`. To ensure parsing is consistent and as-expected, please specify a format.\n",
      "  loansf['settlement_date'] = pd.to_datetime(loans['settlement_date'])\n"
     ]
    }
   ],
   "source": [
    "# Manejos de tipos 1\n",
    "# Tu codigo aqui\n",
    "# Convertir fechas a datetime\n",
    "loansf['settlement_date'] = pd.to_datetime(loans['settlement_date'])\n",
    "# Convertir categorías a tipo category\n",
    "loansf['settlement_status'] = loans['settlement_status'].astype('category')"
   ]
  },
  {
   "cell_type": "code",
   "execution_count": null,
   "metadata": {},
   "outputs": [],
   "source": [
    "# Manejos de tipos 2\n",
    "# Tu codigo aqui\n",
    "#loansf['addrState'] = loansf['addrState'].astype(str)\n",
    "#loansf['addrState'] = loansf['addrState'].apply(lambda x: str(x.lower())) \n",
    "#mayusculas a minusculas para facilitar las agrupaciones de datos en descuento, emp y purpose\n",
    "loansf['desc'] = loansf['desc'].astype(str)\n",
    "loansf['desc'] = loansf['desc'].apply(lambda x: str(x.lower()))\n",
    "\n",
    "loansf['emp_title'] = loansf['emp_title'].astype(str)\n",
    "loansf['emp_title'] = loansf['emp_title'].apply(lambda x: str(x.lower()))\n",
    "\n",
    "loansf['purpose'] = loansf['purpose'].astype(str)\n",
    "loansf['purpose'] = loansf['purpose'].apply(lambda x: str(x.lower()))"
   ]
  },
  {
   "cell_type": "code",
   "execution_count": null,
   "metadata": {},
   "outputs": [],
   "source": [
    "loansf['home_ownership'] = loansf['home_ownership'].astype(str)\n",
    "loansf['initial_list_status'] = loansf['initial_list_status'].astype(str)\n",
    "#loansf['reviewStatus'] = loansf['reviewStatus'].astype(str)\n",
    "loansf['disbursement_method'] = loansf['disbursement_method'].astype(str)\n",
    "\n",
    "\n",
    "#todos los posibles valores estan en mayusculas en home ownership, ititial list status y disturbement method\n",
    "\n",
    "loansf['home_ownership'] = loansf['home_ownership'].apply(lambda x: str(x.upper()))\n",
    "loansf['initial_list_status'] = loansf['initial_list_status'].apply(lambda x: str(x.upper()))\n",
    "#loansf['reviewStatus'] = loansf['reviewStatus'].apply(lambda x: str(x.upper()))\n",
    "loansf['disbursement_method'] = loansf['disbursement_method'].apply(lambda x: str(x.upper()))\n",
    "\n",
    "#pedimos que este en los valores dados\n",
    "def hoCheck(cell):\n",
    "    val = ['RENT', 'MORTGAGE', 'OWN', 'OTHER']\n",
    "    if cell not in val:#existe una opcion de otro\n",
    "        cell = 'OTHER'\n",
    "    return cell\n",
    "\n",
    "def ilsCheck(cell):\n",
    "    val = ['W','F']\n",
    "    if cell not in val:\n",
    "        cell = np.nan\n",
    "    return cell\n",
    "\n",
    "# def rsCheck(cell):\n",
    "#     val = ['APPROVED','NOT_APPROVED']\n",
    "#     if cell not in val:\n",
    "#         cell = np.nan\n",
    "#     return cell\n",
    "\n",
    "def dmCheck(cell):\n",
    "    val = ['CASH', 'DIRECT_PAY']\n",
    "    if cell not in val:\n",
    "        cell = np.nan\n",
    "    return cell\n",
    "\n",
    "loansf['home_ownership'] = loansf['home_ownership'].apply(lambda x: hoCheck(x))\n",
    "loansf['initial_list_status'] = loansf['initial_list_status'].apply(lambda x: ilsCheck(x))\n",
    "#loansf['reviewStatus'] = loansf['reviewStatus'].apply(lambda x: rsCheck(x))\n",
    "loansf['disbursement_method'] = loansf['disbursement_method'].apply(lambda x: dmCheck(x))"
   ]
  },
  {
   "cell_type": "code",
   "execution_count": null,
   "metadata": {},
   "outputs": [],
   "source": [
    "# column_types =\n"
   ]
  },
  {
   "attachments": {},
   "cell_type": "markdown",
   "metadata": {},
   "source": [
    "## Manejo de NaNs o missings"
   ]
  },
  {
   "attachments": {},
   "cell_type": "markdown",
   "metadata": {},
   "source": [
    "Maneja los datos de tipos missing. Elije una estrategia adecuada dependiendo del tipo de dato que le asignaste a la columna.\n"
   ]
  },
  {
   "attachments": {},
   "cell_type": "markdown",
   "metadata": {},
   "source": [
    "Crea codigo para **guardar** y **cargar** un archivo JSON en el que se guarde la `estrategia` y `valor` que utilizaste para **imputar**. Por ejemplo: Si hay una columna que se llama `columna 3` y utilizaste la estrategia de imputacion de media, y existe otra llamada `columna 4` y  elegiste la palabra 'missing' el JSON debera contener:  \n",
    "  \n",
    " `{'columna 3':{'estrategia':'mean', 'valor':3.4}, 'columna 4':{'estrategia':'identificador', 'valor':'missing'}}`  \n",
    "\n",
    " De tal manera que para cada columna que tenga un metodo de imputacion apunte a otro diccionario donde el **key** `estrategia` describa de manera sencilla el metodo, y el **key** `valor` el valor usado. En general:   \n",
    " `{'nombre de la columna':{'estrategia':'descripcion de estrategia', 'valor':'valor utilizado'}}`. \n",
    " \n",
    "\n",
    "De utilizar mas de un metodo puedes anidarlos en una lista  \n",
    "  `[{...},{...}]`.  \n",
    "\n",
    "Incluso si la columna utilizada no sufrio imputacion, es necesario que la agregues al JSON.\n",
    "\n",
    "La idea es que cualquier otra persona pueda cargar el el archivo JSON con tu funcion, entender que hiciste y replicarlo facilmente. No existe solo una respuesta correcta, pero tendras que justificar y explicar tus deciciones."
   ]
  },
  {
   "attachments": {},
   "cell_type": "markdown",
   "metadata": {},
   "source": [
    "### Imputacion"
   ]
  },
  {
   "cell_type": "code",
   "execution_count": null,
   "metadata": {},
   "outputs": [
    {
     "data": {
      "text/plain": [
       "\"\\n#es un solo valor \\nloansf=loansf.drop('max_bal_bc')\\ndiccionarioEstrategias['max_bal_bc']={'estrategia': 'drop', 'valor': 'no aplica'}\\n\""
      ]
     },
     "execution_count": 18,
     "metadata": {},
     "output_type": "execute_result"
    }
   ],
   "source": [
    "# Tu codigo aqui\n",
    "\n",
    "#con las imputaciones iremos creando este diccionario :)\n",
    "diccionarioEstrategias={}\n",
    "\n",
    "\n",
    "\"\"\"\n",
    "identificador, tienen missing en lugar de nan para que sea de tipo string\n",
    "valor numerico, le damos un valor para que corran los metodos con esa función\n",
    "\"\"\"\n",
    "\n",
    "loansf['emp_title'] = loansf['emp_title'].fillna('Unspecified')\n",
    "diccionarioEstrategias = {'emp_title': {'estrategia': 'identificador', 'valor': 'Unspecified'}}\n",
    "\n",
    "loansf['emp_length'] = loansf['emp_length'].fillna(0)\n",
    "diccionarioEstrategias['emp_length'] = {'estrategia': 'valor numerico', 'valor': 0}\n",
    "\n",
    "loansf['desc'] = loansf['desc'].fillna('missing')\n",
    "diccionarioEstrategias['desc'] = {'estrategia': 'identificador', 'valor': 'missing'}\n",
    "\n",
    "loansf['hardship_loan_status'] = loansf['hardship_loan_status'].fillna('missing')\n",
    "diccionarioEstrategias['hardship_loan_status'] = {'estrategia': 'identificador', 'valor': 'missing'}\n",
    "\n",
    "\n",
    "loansf['hardship_reason'] = loansf['hardship_reason'].fillna('missing')\n",
    "diccionarioEstrategias['hardship_reason'] = {'estrategia': 'identificador', 'valor': 'missing'}\n",
    "\n",
    "\n",
    "loansf['hardship_status'] = loansf['hardship_status'].fillna('unknown')\n",
    "diccionarioEstrategias['hardship_status'] = {'estrategia': 'rellenar con se desconoce', 'valor': 'unknown'}\n",
    "\n",
    "\n",
    "loansf['hardship_type'] = loansf['hardship_type'].fillna('missing')\n",
    "diccionarioEstrategias['hardship_type'] = {'estrategia': 'identificador', 'valor': 'missing'}\n",
    "\n",
    "loansf['settlement_status'] = loansf['settlement_status'].astype(str)\n",
    "\n",
    "loansf['settlement_status'] = loansf['settlement_status'].fillna('unknown')\n",
    "diccionarioEstrategias['settlement_status'] = {'estrategia': 'rellenar con se desconoce', 'valor': 'unknown'}"
   ]
  },
  {
   "cell_type": "code",
   "execution_count": null,
   "metadata": {},
   "outputs": [
    {
     "name": "stdout",
     "output_type": "stream",
     "text": [
      "0    missing\n",
      "1    missing\n",
      "2    missing\n",
      "3    missing\n",
      "4    missing\n",
      "5    missing\n",
      "6    missing\n",
      "7    missing\n",
      "8    missing\n",
      "9    missing\n",
      "Name: hardship_type, dtype: object\n"
     ]
    }
   ],
   "source": [
    "# TUcodigo aqui\n",
    "print(loansf['hardship_type'].head(10))"
   ]
  },
  {
   "attachments": {},
   "cell_type": "markdown",
   "metadata": {},
   "source": [
    "### Codigo para salvar y cargar JSONs"
   ]
  },
  {
   "cell_type": "code",
   "execution_count": null,
   "metadata": {},
   "outputs": [
    {
     "name": "stdout",
     "output_type": "stream",
     "text": [
      "{'emp_title': {'estrategia': 'identificador', 'valor': 'Unspecified'}, 'emp_length': {'estrategia': 'valor numerico', 'valor': 0}, 'desc': {'estrategia': 'identificador', 'valor': 'missing'}, 'hardship_loan_status': {'estrategia': 'identificador', 'valor': 'missing'}, 'hardship_reason': {'estrategia': 'identificador', 'valor': 'missing'}, 'hardship_status': {'estrategia': 'rellenar con se desconoce', 'valor': 'unknown'}, 'hardship_type': {'estrategia': 'identificador', 'valor': 'missing'}, 'settlement_status': {'estrategia': 'rellenar con se desconoce', 'valor': 'unknown'}}\n"
     ]
    }
   ],
   "source": [
    "import json\n",
    "with open('estrategias.json', 'w') as fp:\n",
    "    json.dump(diccionarioEstrategias, fp)# diccionario a json\n",
    "\n",
    "with open('estrategias.json', 'r') as fp:\n",
    "    estrategias = json.load(fp) #leer json\n",
    "\n",
    "print(estrategias)"
   ]
  }
 ],
 "metadata": {
  "kernelspec": {
   "display_name": ".venv",
   "language": "python",
   "name": "python3"
  },
  "language_info": {
   "codemirror_mode": {
    "name": "ipython",
    "version": 3
   },
   "file_extension": ".py",
   "mimetype": "text/x-python",
   "name": "python",
   "nbconvert_exporter": "python",
   "pygments_lexer": "ipython3",
   "version": "3.12.3"
  },
  "orig_nbformat": 4
 },
 "nbformat": 4,
 "nbformat_minor": 2
}
