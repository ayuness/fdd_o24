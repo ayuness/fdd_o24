{
  "nbformat": 4,
  "nbformat_minor": 0,
  "metadata": {
    "colab": {
      "provenance": []
    },
    "kernelspec": {
      "name": "python3",
      "display_name": "Python 3"
    },
    "language_info": {
      "name": "python"
    }
  },
  "cells": [
    {
      "cell_type": "markdown",
      "source": [
        "Miguel de Jesús Palacios RIvera 209654"
      ],
      "metadata": {
        "id": "ZCOAB54wf7Ej"
      }
    },
    {
      "cell_type": "markdown",
      "source": [
        "Sin gráfico:"
      ],
      "metadata": {
        "id": "nR59fJ2df_9p"
      }
    },
    {
      "cell_type": "code",
      "execution_count": 6,
      "metadata": {
        "colab": {
          "base_uri": "https://localhost:8080/"
        },
        "id": "LsrYuzVsdadP",
        "outputId": "7ed04e83-6bc5-4766-e41d-e9f87597de36"
      },
      "outputs": [
        {
          "output_type": "stream",
          "name": "stdout",
          "text": [
            "Sum using for loop: 33261.49484005203 - Time: 0.034117937088012695 seconds\n",
            "Sum using NumPy: 33261.49484005186 - Time: 0.0013244152069091797 seconds\n",
            "Sum using joblib: 33261.49484005186 - Time: 1.1540131568908691 seconds\n",
            "Sum using multiprocessing: 33261.49484005186 - Time: 0.7009296417236328 seconds\n"
          ]
        }
      ],
      "source": [
        "import numpy as np\n",
        "from joblib import Parallel, delayed\n",
        "import multiprocessing\n",
        "import time\n",
        "\n",
        "# Example array with 100000 random numbers\n",
        "data = np.random.rand(100000)\n",
        "\n",
        "# Function to calculate the square of a number\n",
        "def square(x):\n",
        "  return x**2\n",
        "\n",
        "# 1. Using a for loop\n",
        "start_time = time.time()\n",
        "sum_for = 0\n",
        "for x in data:\n",
        "  sum_for += x**2\n",
        "end_time = time.time()\n",
        "print(f\"Sum using for loop: {sum_for} - Time: {end_time - start_time} seconds\")\n",
        "\n",
        "# 2. Using NumPy vectorization\n",
        "start_time = time.time()\n",
        "sum_np = np.sum(data**2)\n",
        "end_time = time.time()\n",
        "print(f\"Sum using NumPy: {sum_np} - Time: {end_time - start_time} seconds\")\n",
        "\n",
        "# 3. Using joblib\n",
        "start_time = time.time()\n",
        "results = Parallel(n_jobs=-1)(delayed(square)(x) for x in data)\n",
        "sum_joblib = np.sum(results)\n",
        "end_time = time.time()\n",
        "print(f\"Sum using joblib: {sum_joblib} - Time: {end_time - start_time} seconds\")\n",
        "\n",
        "# 4. Using multiprocessing\n",
        "start_time = time.time()\n",
        "pool = multiprocessing.Pool(processes=multiprocessing.cpu_count())\n",
        "results = pool.map(square, data)\n",
        "pool.close()\n",
        "pool.join()\n",
        "sum_multiprocessing = np.sum(results)\n",
        "end_time = time.time()\n",
        "print(f\"Sum using multiprocessing: {sum_multiprocessing} - Time: {end_time - start_time} seconds\")"
      ]
    },
    {
      "cell_type": "markdown",
      "source": [
        "Con gráfico:"
      ],
      "metadata": {
        "id": "K8PjJIsegCp-"
      }
    },
    {
      "cell_type": "code",
      "source": [
        "import numpy as np\n",
        "from joblib import Parallel, delayed\n",
        "import multiprocessing\n",
        "import time\n",
        "import matplotlib.pyplot as plt\n",
        "\n",
        "# Example array with 100000 random numbers\n",
        "data = np.random.rand(100000)\n",
        "\n",
        "# Function to calculate the square of a number\n",
        "def square(x):\n",
        "  return x**2\n",
        "\n",
        "# Number of experiments to run\n",
        "num_experiments = 10\n",
        "\n",
        "# Store the results for each method\n",
        "results = {\n",
        "    \"for\": [],\n",
        "    \"numpy\": [],\n",
        "    \"joblib\": [],\n",
        "    \"multiprocessing\": []\n",
        "}\n",
        "\n",
        "# Run the experiments\n",
        "for _ in range(num_experiments):\n",
        "  # 1. Using a for loop\n",
        "  start_time = time.time()\n",
        "  sum_for = 0\n",
        "  for x in data:\n",
        "    sum_for += x**2\n",
        "  end_time = time.time()\n",
        "  results[\"for\"].append(end_time - start_time)\n",
        "\n",
        "  # 2. Using NumPy vectorization\n",
        "  start_time = time.time()\n",
        "  sum_np = np.sum(data**2)\n",
        "  end_time = time.time()\n",
        "  results[\"numpy\"].append(end_time - start_time)\n",
        "\n",
        "  # 3. Using joblib\n",
        "  start_time = time.time()\n",
        "  temp_results = Parallel(n_jobs=-1)(delayed(square)(x) for x in data)\n",
        "  sum_joblib = np.sum(temp_results)\n",
        "  end_time = time.time()\n",
        "  results[\"joblib\"].append(end_time - start_time)\n",
        "\n",
        "  # 4. Using multiprocessing\n",
        "  start_time = time.time()\n",
        "  pool = multiprocessing.Pool(processes=multiprocessing.cpu_count())\n",
        "  temp_results = pool.map(square, data)\n",
        "  pool.close()\n",
        "  pool.join()\n",
        "  sum_multiprocessing = np.sum(temp_results)\n",
        "  end_time = time.time()\n",
        "  results[\"multiprocessing\"].append(end_time - start_time)\n",
        "\n",
        "# Calculate basic statistics\n",
        "for method, times in results.items():\n",
        "  print(f\"{method}:\")\n",
        "  print(f\"  Mean: {np.mean(times):.4f} seconds\")\n",
        "  print(f\"  Standard Deviation: {np.std(times):.4f} seconds\")\n",
        "\n",
        "# Create a box plot to compare execution times\n",
        "plt.figure(figsize=(10, 6))\n",
        "plt.boxplot(results.values(), labels=results.keys())\n",
        "plt.ylabel(\"Execution Time (seconds)\")\n",
        "plt.title(\"Comparison of Execution Times for Different Methods\")\n",
        "plt.show()"
      ],
      "metadata": {
        "colab": {
          "base_uri": "https://localhost:8080/",
          "height": 753
        },
        "id": "41Fh_IRiDkHp",
        "outputId": "6ab25e80-cae6-4dcd-bd06-3142aafcefca"
      },
      "execution_count": 1,
      "outputs": [
        {
          "output_type": "stream",
          "name": "stdout",
          "text": [
            "for:\n",
            "  Mean: 0.1299 seconds\n",
            "  Standard Deviation: 0.1238 seconds\n",
            "numpy:\n",
            "  Mean: 0.0018 seconds\n",
            "  Standard Deviation: 0.0030 seconds\n",
            "joblib:\n",
            "  Mean: 2.5228 seconds\n",
            "  Standard Deviation: 1.6810 seconds\n",
            "multiprocessing:\n",
            "  Mean: 1.2213 seconds\n",
            "  Standard Deviation: 0.7714 seconds\n"
          ]
        },
        {
          "output_type": "display_data",
          "data": {
            "text/plain": [
              "<Figure size 1000x600 with 1 Axes>"
            ],
            "image/png": "[encoded data removed]"
          },
          "metadata": {}
        }
      ]
    },
    {
      "cell_type": "code",
      "source": [
        "import numpy as np\n",
        "from joblib import Parallel, delayed\n",
        "import multiprocessing\n",
        "import time\n",
        "import matplotlib.pyplot as plt\n",
        "\n",
        "# Example array with 100000 random numbers\n",
        "data = np.random.rand(100000)\n",
        "\n",
        "# Function to calculate the square of a number\n",
        "def square(x):\n",
        "  return x**2\n",
        "\n",
        "# Number of experiments to run\n",
        "num_experiments = 10\n",
        "\n",
        "# Store the results for each method\n",
        "results = {\n",
        "    \"for\": [],\n",
        "    \"numpy\": [],\n",
        "    \"joblib\": [],\n",
        "    \"multiprocessing\": []\n",
        "}\n",
        "\n",
        "# Run the experiments\n",
        "for _ in range(num_experiments):\n",
        "  # 1. Using a for loop\n",
        "  start_time = time.time()\n",
        "  sum_for = 0\n",
        "  for x in data:\n",
        "    sum_for += x**2\n",
        "  end_time = time.time()\n",
        "  results[\"for\"].append(end_time - start_time)\n",
        "\n",
        "  # 2. Using NumPy vectorization\n",
        "  start_time = time.time()\n",
        "  sum_np = np.sum(data**2)\n",
        "  end_time = time.time()\n",
        "  results[\"numpy\"].append(end_time - start_time)\n",
        "\n",
        "  # 3. Using joblib\n",
        "  start_time = time.time()\n",
        "  temp_results = Parallel(n_jobs=-1)(delayed(square)(x) for x in data)\n",
        "  sum_joblib = np.sum(temp_results)\n",
        "  end_time = time.time()\n",
        "  results[\"joblib\"].append(end_time - start_time)\n",
        "\n",
        "  # 4. Using multiprocessing\n",
        "  start_time = time.time()\n",
        "  pool = multiprocessing.Pool(processes=multiprocessing.cpu_count())\n",
        "  temp_results = pool.map(square, data)\n",
        "  pool.close()\n",
        "  pool.join()\n",
        "  sum_multiprocessing = np.sum(temp_results)\n",
        "  end_time = time.time()\n",
        "  results[\"multiprocessing\"].append(end_time - start_time)\n",
        "\n",
        "# Calculate basic statistics\n",
        "for method, times in results.items():\n",
        "  print(f\"{method}:\")\n",
        "  print(f\"  Mean: {np.mean(times):.4f} seconds\")\n",
        "  print(f\"  Standard Deviation: {np.std(times):.4f} seconds\")\n",
        "\n",
        "# Create a box plot to compare execution times\n",
        "plt.figure(figsize=(10, 6))\n",
        "plt.boxplot(results.values(), labels=results.keys())\n",
        "plt.ylabel(\"Execution Time (seconds)\")\n",
        "plt.title(\"Comparison of Execution Times for Different Methods\")\n",
        "plt.show()"
      ],
      "metadata": {
        "id": "jFfVEAaYcQc0"
      },
      "execution_count": null,
      "outputs": []
    }
  ]
}
