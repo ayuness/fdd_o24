{
 "cells": [
  {
   "cell_type": "code",
   "execution_count": 3,
   "metadata": {},
   "outputs": [
    {
     "name": "stderr",
     "output_type": "stream",
     "text": [
      "/usr/lib/python3.12/pty.py:95: RuntimeWarning: Using fork() can cause Polars to deadlock in the child process.\n",
      "In addition, using fork() with Python in general is a recipe for mysterious\n",
      "deadlocks and crashes.\n",
      "\n",
      "The most likely reason you are seeing this error is because you are using the\n",
      "multiprocessing module on Linux, which uses fork() by default. This will be\n",
      "fixed in Python 3.14. Until then, you want to use the \"spawn\" context instead.\n",
      "\n",
      "See https://docs.pola.rs/user-guide/misc/multiprocessing/ for details.\n",
      "\n",
      "  pid, fd = os.forkpty()\n"
     ]
    },
    {
     "name": "stdout",
     "output_type": "stream",
     "text": [
      "Collecting numpy\n",
      "  Downloading numpy-2.1.3-cp312-cp312-manylinux_2_17_x86_64.manylinux2014_x86_64.whl.metadata (62 kB)\n",
      "Downloading numpy-2.1.3-cp312-cp312-manylinux_2_17_x86_64.manylinux2014_x86_64.whl (16.0 MB)\n",
      "\u001b[2K   \u001b[90m━━━━━━━━━━━━━━━━━━━━━━━━━━━━━━━━━━━━━━━━\u001b[0m \u001b[32m16.0/16.0 MB\u001b[0m \u001b[31m743.6 kB/s\u001b[0m eta \u001b[36m0:00:00\u001b[0m00:01\u001b[0m00:02\u001b[0m\n",
      "\u001b[?25hInstalling collected packages: numpy\n",
      "Successfully installed numpy-2.1.3\n"
     ]
    }
   ],
   "source": [
    "!pip install numpy\n",
    "import polars as pl\n",
    "import numpy as np\n",
    "import random\n",
    "from datetime import datetime, timedelta"
   ]
  },
  {
   "cell_type": "markdown",
   "metadata": {},
   "source": [
    "# Descripcion"
   ]
  },
  {
   "cell_type": "markdown",
   "metadata": {},
   "source": [
    "Los datos son notificaciones de dispositivos GPS en Mexico. En promedio generan notificaciones automatizadas cada 5 minutos si el carro esta encendido, y 30 si esta apagado.  \n",
    "\n",
    "Cada notificacion esta acompannada de un evento de lo que esta ocurriendo, y trae la latitud y longitud.  \n",
    "\n",
    "El objetico es predecir si un vehiculo esta siendo robado de acuerdo a sus notificaciones, por lo que el primer paso seria limpiar datos y hacer ingenieria de variables.\n",
    "\n",
    "Trata de hacerlo **lazy** si puedes."
   ]
  },
  {
   "cell_type": "code",
   "execution_count": 7,
   "metadata": {},
   "outputs": [],
   "source": [
    "def generate_dummy_data(num_cars, start_time, end_time, working_hours_interval, non_working_hours_interval):\n",
    "    data = []\n",
    "\n",
    "    # Define the latitude and longitude ranges for Mexico\n",
    "    min_latitude, max_latitude = 14.5388, 32.7186\n",
    "    min_longitude, max_longitude = -118.4662, -86.7104\n",
    "\n",
    "    for car_id in range(num_cars):\n",
    "        current_time = start_time\n",
    "\n",
    "        # Generate random initial latitude and longitude for each car\n",
    "        latitude = random.uniform(min_latitude, max_latitude)\n",
    "        longitude = random.uniform(min_longitude, max_longitude)\n",
    "\n",
    "        while current_time < end_time:\n",
    "            if current_time.weekday() < 5 and 9 <= current_time.hour < 17:\n",
    "                # Working hours (Monday to Friday, 9 AM to 5 PM)\n",
    "                interval = working_hours_interval\n",
    "            else:\n",
    "                # Non-working hours\n",
    "                interval = non_working_hours_interval\n",
    "\n",
    "            # Generate notification with 99% probability\n",
    "            if random.random() < 0.99:\n",
    "                notification = random.choice([\"low_fuel\", \"tire_pressure\", \"engine_check\", None])\n",
    "                data.append((f\"car_{car_id}\", current_time.isoformat(), latitude, longitude, notification))\n",
    "\n",
    "            # Generate additional notifications between intervals\n",
    "            while True:\n",
    "                additional_interval = random.expovariate(1 / (interval / 2))\n",
    "                additional_time = current_time + timedelta(minutes=additional_interval)\n",
    "                if additional_time >= current_time + timedelta(minutes=interval):\n",
    "                    break\n",
    "                notification = random.choice([\"low_fuel\", \"tire_pressure\", \"engine_check\", None])\n",
    "                data.append((f\"car_{car_id}\", additional_time.isoformat(), latitude, longitude, notification))\n",
    "\n",
    "            # Update latitude and longitude for car movement\n",
    "            latitude += random.uniform(-0.01, 0.01)\n",
    "            longitude += random.uniform(-0.01, 0.01)\n",
    "\n",
    "            # Check if the car is among the 1% that can have 100 notifications within 5 minutes\n",
    "            if random.random() < 0.01:\n",
    "                burst_start_time = current_time + timedelta(minutes=random.uniform(0, interval))\n",
    "                burst_end_time = burst_start_time + timedelta(minutes=5)\n",
    "                while current_time < burst_end_time:\n",
    "                    notification = random.choice([\"low_fuel\", \"tire_pressure\", \"engine_check\", None])\n",
    "                    data.append((f\"car_{car_id}\", current_time.isoformat(), latitude, longitude, notification))\n",
    "                    current_time += timedelta(seconds=random.uniform(1, 10))\n",
    "\n",
    "            current_time += timedelta(minutes=interval)\n",
    "\n",
    "    # Create a Polars DataFrame from the generated data\n",
    "    df = pl.DataFrame(\n",
    "        {\n",
    "            \"car_id\": [record[0] for record in data],\n",
    "            \"timestamp\": [record[1] for record in data],\n",
    "            \"latitude\": [record[2] for record in data],\n",
    "            \"longitude\": [record[3] for record in data],\n",
    "            \"notification\": [record[4] for record in data],\n",
    "        }\n",
    "    )\n",
    "\n",
    "    return df.lazy()"
   ]
  },
  {
   "cell_type": "code",
   "execution_count": 8,
   "metadata": {},
   "outputs": [
    {
     "name": "stdout",
     "output_type": "stream",
     "text": [
      "naive plan: (run LazyFrame.explain(optimized=True) to see the optimized plan)\n",
      "\n",
      "SLICE[offset: 0, len: 5]\n",
      "  DF [\"car_id\", \"timestamp\", \"latitude\", \"longitude\"]; PROJECT */5 COLUMNS; SELECTION: None\n"
     ]
    }
   ],
   "source": [
    "num_cars = 1000\n",
    "start_time = datetime(2023, 1, 1, 0, 0, 0)  # Start of the week\n",
    "end_time = start_time + timedelta(weeks=1)  # End of the week\n",
    "working_hours_interval = 5  # Interval of 5 minutes during working hours\n",
    "non_working_hours_interval = 30  # Interval of 30 minutes during non-working hours\n",
    "\n",
    "# Generate the dummy data\n",
    "data = generate_dummy_data(num_cars, start_time, end_time, working_hours_interval, non_working_hours_interval)\n",
    "\n",
    "# Print the first few rows of the generated data\n",
    "print(data.head())"
   ]
  },
  {
   "cell_type": "markdown",
   "metadata": {},
   "source": [
    "## Limpieza de datos"
   ]
  },
  {
   "cell_type": "markdown",
   "metadata": {},
   "source": [
    "### Timestamp"
   ]
  },
  {
   "cell_type": "markdown",
   "metadata": {},
   "source": [
    "Convierte el `timestamp` que actualmente es string a formato de tiempo en polars"
   ]
  },
  {
   "cell_type": "code",
   "execution_count": null,
   "metadata": {},
   "outputs": [
    {
     "name": "stdout",
     "output_type": "stream",
     "text": [
      "shape: (5, 5)\n",
      "┌────────┬────────────────────────────┬───────────┬────────────┬───────────────┐\n",
      "│ car_id ┆ timestamp                  ┆ latitude  ┆ longitude  ┆ notification  │\n",
      "│ ---    ┆ ---                        ┆ ---       ┆ ---        ┆ ---           │\n",
      "│ str    ┆ datetime[μs]               ┆ f64       ┆ f64        ┆ str           │\n",
      "╞════════╪════════════════════════════╪═══════════╪════════════╪═══════════════╡\n",
      "│ car_0  ┆ null                       ┆ 18.219615 ┆ -93.297978 ┆ tire_pressure │\n",
      "│ car_0  ┆ 2024-11-27 00:04:15.000834 ┆ 18.219615 ┆ -93.297978 ┆ engine_check  │\n",
      "│ car_0  ┆ 2024-11-27 00:24:12.000774 ┆ 18.219615 ┆ -93.297978 ┆ low_fuel      │\n",
      "│ car_0  ┆ 2024-11-27 00:15:21.000015 ┆ 18.219615 ┆ -93.297978 ┆ tire_pressure │\n",
      "│ car_0  ┆ 2024-11-27 00:27:42.000888 ┆ 18.219615 ┆ -93.297978 ┆ low_fuel      │\n",
      "└────────┴────────────────────────────┴───────────┴────────────┴───────────────┘\n"
     ]
    },
    {
     "name": "stderr",
     "output_type": "stream",
     "text": [
      "/tmp/ipykernel_6627/3431064136.py:80: ChronoFormatWarning: Detected the pattern `.%f` in the chrono format string. This pattern should not be used to parse values after a decimal point. Use `%.f` instead. See the full specification: https://docs.rs/chrono/latest/chrono/format/strftime\n",
      "  pl.col(\"timestamp\").str.strptime(pl.Datetime, format=\"%Y-%m-%dT%H:%M:%S.%f\", strict=False).alias(\"timestamp\")\n"
     ]
    }
   ],
   "source": [
    "def generate_dummy_data(num_cars, start_time, end_time, working_hours_interval, non_working_hours_interval):\n",
    "    data = []\n",
    "\n",
    "    # Definir los rangos de latitud y longitud\n",
    "    min_latitude, max_latitude = 14.5388, 32.7186\n",
    "    min_longitude, max_longitude = -118.4662, -86.7104\n",
    "\n",
    "    for car_id in range(num_cars):\n",
    "        current_time = start_time\n",
    "\n",
    "        # lat y long random para cada auto\n",
    "        latitude = random.uniform(min_latitude, max_latitude)\n",
    "        longitude = random.uniform(min_longitude, max_longitude)\n",
    "\n",
    "        while current_time < end_time:\n",
    "            if current_time.weekday() < 5 and 9 <= current_time.hour < 17:\n",
    "                # horas de trabajo\n",
    "                interval = working_hours_interval\n",
    "            else:\n",
    "                # horas no laborables\n",
    "                interval = non_working_hours_interval\n",
    "\n",
    "            # generar notificacion con un 99 por ciento de prob\n",
    "            if random.random() < 0.99:\n",
    "                notification = random.choice([\"low_fuel\", \"tire_pressure\", \"engine_check\", None])\n",
    "                data.append((f\"car_{car_id}\", current_time.isoformat(), latitude, longitude, notification))\n",
    "\n",
    "            # generar notificaciones adicionales entre intervalos\n",
    "            while True:\n",
    "                additional_interval = random.expovariate(1 / (interval / 2))\n",
    "                additional_time = current_time + timedelta(minutes=additional_interval)\n",
    "                if additional_time >= current_time + timedelta(minutes=interval):\n",
    "                    break\n",
    "                notification = random.choice([\"low_fuel\", \"tire_pressure\", \"engine_check\", None])\n",
    "                data.append((f\"car_{car_id}\", additional_time.isoformat(), latitude, longitude, notification))\n",
    "\n",
    "            # actualizar lat y long con el movimiento del carro\n",
    "            latitude += random.uniform(-0.01, 0.01)\n",
    "            longitude += random.uniform(-0.01, 0.01)\n",
    "\n",
    "            # ver si el auto en el 1 por ciento tiene muchas notificaciones en menos de 5 minutos\n",
    "            if random.random() < 0.01:\n",
    "                burst_start_time = current_time + timedelta(minutes=random.uniform(0, interval))\n",
    "                burst_end_time = burst_start_time + timedelta(minutes=5)\n",
    "                while current_time < burst_end_time:\n",
    "                    notification = random.choice([\"low_fuel\", \"tire_pressure\", \"engine_check\", None])\n",
    "                    data.append((f\"car_{car_id}\", current_time.isoformat(), latitude, longitude, notification))\n",
    "                    current_time += timedelta(seconds=random.uniform(1, 10))\n",
    "\n",
    "            current_time += timedelta(minutes=interval)\n",
    "\n",
    "    # Crear un dataframe de polars\n",
    "    df = pl.DataFrame(\n",
    "        {\n",
    "            \"car_id\": [record[0] for record in data],\n",
    "            \"timestamp\": [record[1] for record in data],\n",
    "            \"latitude\": [record[2] for record in data],\n",
    "            \"longitude\": [record[3] for record in data],\n",
    "            \"notification\": [record[4] for record in data],\n",
    "        }\n",
    "    )\n",
    "\n",
    "    return df.lazy()\n",
    "\n",
    "# Generar datos dummy\n",
    "start_time = datetime(2024, 11, 27, 0, 0, 0)\n",
    "end_time = datetime(2024, 11, 28, 0, 0, 0)\n",
    "\n",
    "df_lazy = generate_dummy_data(\n",
    "    num_cars=10,\n",
    "    start_time=start_time,\n",
    "    end_time=end_time,\n",
    "    working_hours_interval=5,\n",
    "    non_working_hours_interval=30\n",
    ")\n",
    "\n",
    "# Convertir el timestamp a formato Datetime con soporte para microsegundos\n",
    "df_lazy = df_lazy.with_columns(\n",
    "    pl.col(\"timestamp\").str.strptime(pl.Datetime, format=\"%Y-%m-%dT%H:%M:%S.%f\", strict=False).alias(\"timestamp\")\n",
    ")\n",
    "\n",
    "# Collect para materializar y ver los resultados\n",
    "df = df_lazy.collect()\n",
    "print(df.head())\n"
   ]
  },
  {
   "cell_type": "markdown",
   "metadata": {},
   "source": [
    "### Ingenieria de variables"
   ]
  },
  {
   "cell_type": "markdown",
   "metadata": {},
   "source": [
    "Dado que va a entrar a un modelo de machine learning es necesario que todas las variables sean numericas, y esten en formato tidy. Cada observacion en una fila, y cada variable en una columna. Por lo tanto se decidio crear estadisticos y agregar los datos a intervalos uniformes de `x` minutos.  \n",
    "\n",
    "Por ejemplo, colapsar toda la informacion que ocurrion en el intervalo, como el numero de notificaciones en esos 5 minutos, el promedio entre notificaciones, y el tipo de notificaciones."
   ]
  },
  {
   "cell_type": "markdown",
   "metadata": {},
   "source": [
    "Existen varias formas de hacer esto, puedes hacerlo con `group_by` primero para crear las nuevas variables, o `group_by` (`rolling`, `dynamic`) usando operaciones sobre listas. Utiliza claude o chat_gpt"
   ]
  },
  {
   "cell_type": "markdown",
   "metadata": {},
   "source": [
    "1. Crea una nueva variable que compute la diferencia de tiempo entre notificaciones del mismo vehiculo. Piensa como lo vas a hacer. Llama a esta variable `notification_time`\n",
    "   \n"
   ]
  },
  {
   "cell_type": "code",
   "execution_count": 15,
   "metadata": {},
   "outputs": [
    {
     "name": "stdout",
     "output_type": "stream",
     "text": [
      "shape: (5, 6)\n",
      "┌────────┬────────────────────────────┬───────────┬────────────┬───────────────┬───────────────────┐\n",
      "│ car_id ┆ timestamp                  ┆ latitude  ┆ longitude  ┆ notification  ┆ notification_time │\n",
      "│ ---    ┆ ---                        ┆ ---       ┆ ---        ┆ ---           ┆ ---               │\n",
      "│ str    ┆ datetime[μs]               ┆ f64       ┆ f64        ┆ str           ┆ i64               │\n",
      "╞════════╪════════════════════════════╪═══════════╪════════════╪═══════════════╪═══════════════════╡\n",
      "│ car_0  ┆ null                       ┆ 18.219615 ┆ -93.297978 ┆ tire_pressure ┆ null              │\n",
      "│ car_0  ┆ 2024-11-27 00:04:15.000834 ┆ 18.219615 ┆ -93.297978 ┆ engine_check  ┆ null              │\n",
      "│ car_0  ┆ 2024-11-27 00:24:12.000774 ┆ 18.219615 ┆ -93.297978 ┆ low_fuel      ┆ 1196999940        │\n",
      "│ car_0  ┆ 2024-11-27 00:15:21.000015 ┆ 18.219615 ┆ -93.297978 ┆ tire_pressure ┆ -531000759        │\n",
      "│ car_0  ┆ 2024-11-27 00:27:42.000888 ┆ 18.219615 ┆ -93.297978 ┆ low_fuel      ┆ 741000873         │\n",
      "└────────┴────────────────────────────┴───────────┴────────────┴───────────────┴───────────────────┘\n"
     ]
    }
   ],
   "source": [
    "# Calcular la diferencia de tiempo entre notificaciones del mismo vehículo\n",
    "df_lazy = df_lazy.with_columns(\n",
    "    pl.col(\"timestamp\")\n",
    "    .diff()  # Calcula la diferencia de tiempo\n",
    "    .cast(pl.Int64)  # Convierte la duración a enteros (segundos)\n",
    "    .over(\"car_id\")  # Asegura que las diferencias se calculen por grupo de vehículos\n",
    "    .alias(\"notification_time\")  # Nombramos la nueva columna\n",
    ")\n",
    "\n",
    "# Collect para materializar el resultado\n",
    "df = df_lazy.collect()\n",
    "print(df.head())\n",
    "\n",
    "\n"
   ]
  },
  {
   "cell_type": "markdown",
   "metadata": {},
   "source": [
    "2. Crea una nueva variable que compute la distancia que viajo el vehiculo desde la ultima notificacion. Llamala `distance`"
   ]
  },
  {
   "cell_type": "code",
   "execution_count": 17,
   "metadata": {},
   "outputs": [
    {
     "name": "stderr",
     "output_type": "stream",
     "text": [
      "/usr/lib/python3.12/pty.py:95: RuntimeWarning: Using fork() can cause Polars to deadlock in the child process.\n",
      "In addition, using fork() with Python in general is a recipe for mysterious\n",
      "deadlocks and crashes.\n",
      "\n",
      "The most likely reason you are seeing this error is because you are using the\n",
      "multiprocessing module on Linux, which uses fork() by default. This will be\n",
      "fixed in Python 3.14. Until then, you want to use the \"spawn\" context instead.\n",
      "\n",
      "See https://docs.pola.rs/user-guide/misc/multiprocessing/ for details.\n",
      "\n",
      "  pid, fd = os.forkpty()\n"
     ]
    },
    {
     "name": "stdout",
     "output_type": "stream",
     "text": [
      "Collecting geopy\n",
      "  Downloading geopy-2.4.1-py3-none-any.whl.metadata (6.8 kB)\n",
      "Collecting geographiclib<3,>=1.52 (from geopy)\n",
      "  Downloading geographiclib-2.0-py3-none-any.whl.metadata (1.4 kB)\n",
      "Downloading geopy-2.4.1-py3-none-any.whl (125 kB)\n",
      "Downloading geographiclib-2.0-py3-none-any.whl (40 kB)\n",
      "Installing collected packages: geographiclib, geopy\n",
      "Successfully installed geographiclib-2.0 geopy-2.4.1\n"
     ]
    }
   ],
   "source": [
    "!pip install geopy"
   ]
  },
  {
   "cell_type": "code",
   "execution_count": 20,
   "metadata": {},
   "outputs": [
    {
     "name": "stderr",
     "output_type": "stream",
     "text": [
      "/tmp/ipykernel_6627/1169039272.py:20: MapWithoutReturnDtypeWarning: Calling `map_elements` without specifying `return_dtype` can lead to unpredictable results. Specify `return_dtype` to silence this warning.\n",
      "  df = df_lazy.collect()\n"
     ]
    },
    {
     "name": "stdout",
     "output_type": "stream",
     "text": [
      "shape: (5, 9)\n",
      "┌────────┬────────────┬───────────┬────────────┬───┬────────────┬───────────┬───────────┬──────────┐\n",
      "│ car_id ┆ timestamp  ┆ latitude  ┆ longitude  ┆ … ┆ notificati ┆ prev_lati ┆ prev_long ┆ distance │\n",
      "│ ---    ┆ ---        ┆ ---       ┆ ---        ┆   ┆ on_time    ┆ tude      ┆ itude     ┆ ---      │\n",
      "│ str    ┆ datetime[μ ┆ f64       ┆ f64        ┆   ┆ ---        ┆ ---       ┆ ---       ┆ f64      │\n",
      "│        ┆ s]         ┆           ┆            ┆   ┆ i64        ┆ f64       ┆ f64       ┆          │\n",
      "╞════════╪════════════╪═══════════╪════════════╪═══╪════════════╪═══════════╪═══════════╪══════════╡\n",
      "│ car_0  ┆ null       ┆ 18.219615 ┆ -93.297978 ┆ … ┆ null       ┆ null      ┆ null      ┆ null     │\n",
      "│ car_0  ┆ 2024-11-27 ┆ 18.219615 ┆ -93.297978 ┆ … ┆ null       ┆ 18.219615 ┆ -93.29797 ┆ 0.0      │\n",
      "│        ┆ 00:04:15.0 ┆           ┆            ┆   ┆            ┆           ┆ 8         ┆          │\n",
      "│        ┆ 00834      ┆           ┆            ┆   ┆            ┆           ┆           ┆          │\n",
      "│ car_0  ┆ 2024-11-27 ┆ 18.219615 ┆ -93.297978 ┆ … ┆ 1196999940 ┆ 18.219615 ┆ -93.29797 ┆ 0.0      │\n",
      "│        ┆ 00:24:12.0 ┆           ┆            ┆   ┆            ┆           ┆ 8         ┆          │\n",
      "│        ┆ 00774      ┆           ┆            ┆   ┆            ┆           ┆           ┆          │\n",
      "│ car_0  ┆ 2024-11-27 ┆ 18.219615 ┆ -93.297978 ┆ … ┆ -531000759 ┆ 18.219615 ┆ -93.29797 ┆ 0.0      │\n",
      "│        ┆ 00:15:21.0 ┆           ┆            ┆   ┆            ┆           ┆ 8         ┆          │\n",
      "│        ┆ 00015      ┆           ┆            ┆   ┆            ┆           ┆           ┆          │\n",
      "│ car_0  ┆ 2024-11-27 ┆ 18.219615 ┆ -93.297978 ┆ … ┆ 741000873  ┆ 18.219615 ┆ -93.29797 ┆ 0.0      │\n",
      "│        ┆ 00:27:42.0 ┆           ┆            ┆   ┆            ┆           ┆ 8         ┆          │\n",
      "│        ┆ 00888      ┆           ┆            ┆   ┆            ┆           ┆           ┆          │\n",
      "└────────┴────────────┴───────────┴────────────┴───┴────────────┴───────────┴───────────┴──────────┘\n"
     ]
    }
   ],
   "source": [
    "from geopy.distance import geodesic\n",
    "\n",
    "# Crear una función para calcular la distancia geodésica\n",
    "def calculate_distance(prev_lat, prev_lon, lat, lon):\n",
    "    if prev_lat is None or prev_lon is None:\n",
    "        return None  # No hay distancia para la primera fila\n",
    "    return geodesic((prev_lat, prev_lon), (lat, lon)).meters\n",
    "\n",
    "# Calcular la distancia en el LazyFrame\n",
    "df_lazy = df_lazy.with_columns([\n",
    "    pl.col(\"latitude\").shift(1).over(\"car_id\").alias(\"prev_latitude\"),\n",
    "    pl.col(\"longitude\").shift(1).over(\"car_id\").alias(\"prev_longitude\"),\n",
    "]).with_columns(\n",
    "    pl.struct([\"prev_latitude\", \"prev_longitude\", \"latitude\", \"longitude\"])\n",
    "    .map_elements(lambda row: calculate_distance(row[\"prev_latitude\"], row[\"prev_longitude\"], row[\"latitude\"], row[\"longitude\"]))\n",
    "    .alias(\"distance\")\n",
    ")\n",
    "\n",
    "# Collect para materializar el resultado\n",
    "df = df_lazy.collect()\n",
    "print(df.head())\n",
    "\n"
   ]
  },
  {
   "cell_type": "markdown",
   "metadata": {},
   "source": [
    "3. Crea intervalos de `x` minutos por carro. Como el numero de notificaciones en esos intervalos no es uniforme tienes que buscar funciones de polars especificas, pero ademas tienen que ser por vehiculo, pues tienen que ser del mismo. Revisa las funciones de `group_by` `dynamic` y `rolling`.\n",
    "   1. Computa la media, mediana, varianza, max y min de `notification_time` los intervalos de `x` minutos\n",
    "   2. Computa la media, mediana, varianza, max y min de `distance`\n"
   ]
  },
  {
   "cell_type": "code",
   "execution_count": 34,
   "metadata": {},
   "outputs": [
    {
     "name": "stdout",
     "output_type": "stream",
     "text": [
      "Esquema inicial:\n",
      "Schema({'car_id': String, 'timestamp': Datetime(time_unit='us', time_zone=None), 'latitude': Float64, 'longitude': Float64, 'notification': String, 'notification_time': Int64, 'prev_latitude': Float64, 'prev_longitude': Float64, 'distance': Unknown})\n",
      "Datos de 'notification_time':\n",
      "shape: (10_823, 1)\n",
      "┌───────────────────┐\n",
      "│ notification_time │\n",
      "│ ---               │\n",
      "│ i64               │\n",
      "╞═══════════════════╡\n",
      "│ null              │\n",
      "│ null              │\n",
      "│ 1196999940        │\n",
      "│ -531000759        │\n",
      "│ 741000873         │\n",
      "│ …                 │\n",
      "│ 96000220          │\n",
      "│ 835999950         │\n",
      "│ -869999754        │\n",
      "│ 997999415         │\n",
      "│ -1019999453       │\n",
      "└───────────────────┘\n",
      "Datos de 'distance':\n"
     ]
    },
    {
     "name": "stderr",
     "output_type": "stream",
     "text": [
      "/tmp/ipykernel_6627/2595081322.py:3: PerformanceWarning: Resolving the schema of a LazyFrame is a potentially expensive operation. Use `LazyFrame.collect_schema()` to get the schema without this warning.\n",
      "  print(df_lazy.schema)\n",
      "/tmp/ipykernel_6627/2595081322.py:14: MapWithoutReturnDtypeWarning: Calling `map_elements` without specifying `return_dtype` can lead to unpredictable results. Specify `return_dtype` to silence this warning.\n",
      "  print(df_lazy.select(\"distance\").collect())\n"
     ]
    },
    {
     "name": "stdout",
     "output_type": "stream",
     "text": [
      "shape: (10_823, 1)\n",
      "┌──────────┐\n",
      "│ distance │\n",
      "│ ---      │\n",
      "│ f64      │\n",
      "╞══════════╡\n",
      "│ null     │\n",
      "│ 0.0      │\n",
      "│ 0.0      │\n",
      "│ 0.0      │\n",
      "│ 0.0      │\n",
      "│ …        │\n",
      "│ 0.0      │\n",
      "│ 0.0      │\n",
      "│ 0.0      │\n",
      "│ 0.0      │\n",
      "│ 0.0      │\n",
      "└──────────┘\n",
      "Datos de 'timestamp':\n",
      "shape: (10_823, 1)\n",
      "┌────────────────────────────┐\n",
      "│ timestamp                  │\n",
      "│ ---                        │\n",
      "│ datetime[μs]               │\n",
      "╞════════════════════════════╡\n",
      "│ null                       │\n",
      "│ 2024-11-27 00:04:15.000834 │\n",
      "│ 2024-11-27 00:24:12.000774 │\n",
      "│ 2024-11-27 00:15:21.000015 │\n",
      "│ 2024-11-27 00:27:42.000888 │\n",
      "│ …                          │\n",
      "│ 2024-11-27 23:34:24.000408 │\n",
      "│ 2024-11-27 23:48:20.000358 │\n",
      "│ 2024-11-27 23:33:50.000604 │\n",
      "│ 2024-11-27 23:50:28.000019 │\n",
      "│ 2024-11-27 23:33:28.000566 │\n",
      "└────────────────────────────┘\n"
     ]
    }
   ],
   "source": [
    "# Validar esquema inicial\n",
    "print(\"Esquema inicial:\")\n",
    "print(df_lazy.schema)\n",
    "\n",
    "# Inspeccionar valores en columnas problemáticas\n",
    "try:\n",
    "    print(\"Datos de 'notification_time':\")\n",
    "    print(df_lazy.select(\"notification_time\").collect())\n",
    "except Exception as e:\n",
    "    print(f\"Error en 'notification_time': {e}\")\n",
    "\n",
    "try:\n",
    "    print(\"Datos de 'distance':\")\n",
    "    print(df_lazy.select(\"distance\").collect())\n",
    "except Exception as e:\n",
    "    print(f\"Error en 'distance': {e}\")\n",
    "\n",
    "try:\n",
    "    print(\"Datos de 'timestamp':\")\n",
    "    print(df_lazy.select(\"timestamp\").collect())\n",
    "except Exception as e:\n",
    "    print(f\"Error en 'timestamp': {e}\")\n",
    "\n"
   ]
  },
  {
   "cell_type": "code",
   "execution_count": 35,
   "metadata": {},
   "outputs": [
    {
     "name": "stdout",
     "output_type": "stream",
     "text": [
      "Esquema después de la limpieza:\n",
      "Schema({'car_id': String, 'timestamp': Datetime(time_unit='us', time_zone=None), 'latitude': Float64, 'longitude': Float64, 'notification': String, 'notification_time': Float64, 'prev_latitude': Float64, 'prev_longitude': Float64, 'distance': Float64})\n"
     ]
    },
    {
     "name": "stderr",
     "output_type": "stream",
     "text": [
      "/tmp/ipykernel_6627/2960713076.py:18: PerformanceWarning: Resolving the schema of a LazyFrame is a potentially expensive operation. Use `LazyFrame.collect_schema()` to get the schema without this warning.\n",
      "  print(df_lazy_cleaned.schema)\n",
      "/tmp/ipykernel_6627/2960713076.py:22: MapWithoutReturnDtypeWarning: Calling `map_elements` without specifying `return_dtype` can lead to unpredictable results. Specify `return_dtype` to silence this warning.\n",
      "  cleaned_data = df_lazy_cleaned.collect()\n",
      "thread '<unnamed>' panicked at crates/polars-core/src/series/mod.rs:1011:9:\n",
      "implementation error, cannot get ref Float64 from Int32\n"
     ]
    },
    {
     "ename": "PanicException",
     "evalue": "implementation error, cannot get ref Float64 from Int32",
     "output_type": "error",
     "traceback": [
      "\u001b[0;31m---------------------------------------------------------------------------\u001b[0m",
      "\u001b[0;31mPanicException\u001b[0m                            Traceback (most recent call last)",
      "Cell \u001b[0;32mIn[35], line 22\u001b[0m\n\u001b[1;32m     18\u001b[0m \u001b[38;5;28mprint\u001b[39m(df_lazy_cleaned\u001b[38;5;241m.\u001b[39mschema)\n\u001b[1;32m     20\u001b[0m \u001b[38;5;28;01mtry\u001b[39;00m:\n\u001b[1;32m     21\u001b[0m     \u001b[38;5;66;03m# Intentar recolectar datos\u001b[39;00m\n\u001b[0;32m---> 22\u001b[0m     cleaned_data \u001b[38;5;241m=\u001b[39m \u001b[43mdf_lazy_cleaned\u001b[49m\u001b[38;5;241;43m.\u001b[39;49m\u001b[43mcollect\u001b[49m\u001b[43m(\u001b[49m\u001b[43m)\u001b[49m\n\u001b[1;32m     23\u001b[0m     \u001b[38;5;28mprint\u001b[39m(\u001b[38;5;124m\"\u001b[39m\u001b[38;5;124mDatos después de la limpieza:\u001b[39m\u001b[38;5;124m\"\u001b[39m)\n\u001b[1;32m     24\u001b[0m     \u001b[38;5;28mprint\u001b[39m(cleaned_data\u001b[38;5;241m.\u001b[39mhead())\n",
      "File \u001b[0;32m~/fuentes/fdd_o24_Miguel_Palacios/tareas/209654/polars/.venv/lib/python3.12/site-packages/polars/lazyframe/frame.py:2029\u001b[0m, in \u001b[0;36mLazyFrame.collect\u001b[0;34m(self, type_coercion, predicate_pushdown, projection_pushdown, simplify_expression, slice_pushdown, comm_subplan_elim, comm_subexpr_elim, cluster_with_columns, collapse_joins, no_optimization, streaming, engine, background, _eager, **_kwargs)\u001b[0m\n\u001b[1;32m   2027\u001b[0m \u001b[38;5;66;03m# Only for testing purposes\u001b[39;00m\n\u001b[1;32m   2028\u001b[0m callback \u001b[38;5;241m=\u001b[39m _kwargs\u001b[38;5;241m.\u001b[39mget(\u001b[38;5;124m\"\u001b[39m\u001b[38;5;124mpost_opt_callback\u001b[39m\u001b[38;5;124m\"\u001b[39m, callback)\n\u001b[0;32m-> 2029\u001b[0m \u001b[38;5;28;01mreturn\u001b[39;00m wrap_df(\u001b[43mldf\u001b[49m\u001b[38;5;241;43m.\u001b[39;49m\u001b[43mcollect\u001b[49m\u001b[43m(\u001b[49m\u001b[43mcallback\u001b[49m\u001b[43m)\u001b[49m)\n",
      "\u001b[0;31mPanicException\u001b[0m: implementation error, cannot get ref Float64 from Int32"
     ]
    }
   ],
   "source": [
    "# Limpiar y convertir columnas problemáticas\n",
    "df_lazy_cleaned = (\n",
    "    df_lazy\n",
    "    .with_columns([\n",
    "        pl.col(\"car_id\"),  # Mantener como está\n",
    "        pl.col(\"timestamp\").cast(pl.Datetime),  # Convertir a Datetime\n",
    "        pl.col(\"notification_time\")\n",
    "        .fill_null(0)  # Rellenar nulos con 0\n",
    "        .cast(pl.Float64),  # Convertir a Float64\n",
    "        pl.col(\"distance\")\n",
    "        .fill_null(0)  # Rellenar nulos con 0\n",
    "        .cast(pl.Float64),  # Convertir a Float64\n",
    "    ])\n",
    ")\n",
    "\n",
    "# Verificar esquema y valores después de la limpieza\n",
    "print(\"Esquema después de la limpieza:\")\n",
    "print(df_lazy_cleaned.schema)\n",
    "\n",
    "try:\n",
    "    # Intentar recolectar datos\n",
    "    cleaned_data = df_lazy_cleaned.collect()\n",
    "    print(\"Datos después de la limpieza:\")\n",
    "    print(cleaned_data.head())\n",
    "except Exception as e:\n",
    "    print(f\"Error después de la limpieza: {e}\")\n",
    "\n"
   ]
  }
 ],
 "metadata": {
  "kernelspec": {
   "display_name": ".venv",
   "language": "python",
   "name": "python3"
  },
  "language_info": {
   "codemirror_mode": {
    "name": "ipython",
    "version": 3
   },
   "file_extension": ".py",
   "mimetype": "text/x-python",
   "name": "python",
   "nbconvert_exporter": "python",
   "pygments_lexer": "ipython3",
   "version": "3.12.3"
  }
 },
 "nbformat": 4,
 "nbformat_minor": 2
}
