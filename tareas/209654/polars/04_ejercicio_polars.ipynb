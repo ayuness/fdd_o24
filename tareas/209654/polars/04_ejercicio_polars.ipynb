{
 "cells": [
  {
   "cell_type": "markdown",
   "metadata": {},
   "source": [
    "<a target=\"_blank\" href=\"https://colab.research.google.com/github/sonder-art/fdd_o23/blob/main/codigo/polars/04_ejercicio_polars.ipynb\">\n",
    "  <img src=\"https://colab.research.google.com/assets/colab-badge.svg\" alt=\"Open In Colab\"/>\n",
    "</a>"
   ]
  },
  {
   "cell_type": "code",
   "execution_count": 1,
   "metadata": {},
   "outputs": [
    {
     "name": "stdout",
     "output_type": "stream",
     "text": [
      "Requirement already satisfied: polars in ./.venv/lib/python3.12/site-packages (1.12.0)\n"
     ]
    }
   ],
   "source": [
    "!pip install polars"
   ]
  },
  {
   "cell_type": "code",
   "execution_count": 2,
   "metadata": {},
   "outputs": [],
   "source": [
    "import polars as pl\n",
    "import random\n",
    "import string\n"
   ]
  },
  {
   "cell_type": "markdown",
   "metadata": {},
   "source": [
    "# Generacion de Datos"
   ]
  },
  {
   "cell_type": "code",
   "execution_count": 3,
   "metadata": {},
   "outputs": [
    {
     "data": {
      "text/html": [
       "<div><style>\n",
       ".dataframe > thead > tr,\n",
       ".dataframe > tbody > tr {\n",
       "  text-align: right;\n",
       "  white-space: pre-wrap;\n",
       "}\n",
       "</style>\n",
       "<small>shape: (5, 6)</small><table border=\"1\" class=\"dataframe\"><thead><tr><th>id_venta</th><th>producto</th><th>cantidad</th><th>precio_unitario</th><th>fecha_venta</th><th>cliente_id</th></tr><tr><td>i64</td><td>str</td><td>i64</td><td>f64</td><td>object</td><td>i64</td></tr></thead><tbody><tr><td>1</td><td>&quot;najtj&quot;</td><td>10</td><td>86.898849</td><td>2021-11-18 00:00:00.alias(&quot;datetime&quot;).strict_cast(Date).alias(&quot;date&quot;)</td><td>3682</td></tr><tr><td>2</td><td>&quot;nqlcn&quot;</td><td>4</td><td>81.580301</td><td>2017-11-24 00:00:00.alias(&quot;datetime&quot;).strict_cast(Date).alias(&quot;date&quot;)</td><td>2234</td></tr><tr><td>3</td><td>&quot;qekrj&quot;</td><td>13</td><td>16.912128</td><td>2012-02-26 00:00:00.alias(&quot;datetime&quot;).strict_cast(Date).alias(&quot;date&quot;)</td><td>2730</td></tr><tr><td>4</td><td>&quot;mkfih&quot;</td><td>11</td><td>22.840706</td><td>2013-12-25 00:00:00.alias(&quot;datetime&quot;).strict_cast(Date).alias(&quot;date&quot;)</td><td>4887</td></tr><tr><td>5</td><td>&quot;sodzc&quot;</td><td>8</td><td>48.395896</td><td>2014-11-01 00:00:00.alias(&quot;datetime&quot;).strict_cast(Date).alias(&quot;date&quot;)</td><td>1469</td></tr></tbody></table></div>"
      ],
      "text/plain": [
       "shape: (5, 6)\n",
       "┌──────────┬──────────┬──────────┬─────────────────┬─────────────────────────────────┬────────────┐\n",
       "│ id_venta ┆ producto ┆ cantidad ┆ precio_unitario ┆ fecha_venta                     ┆ cliente_id │\n",
       "│ ---      ┆ ---      ┆ ---      ┆ ---             ┆ ---                             ┆ ---        │\n",
       "│ i64      ┆ str      ┆ i64      ┆ f64             ┆ object                          ┆ i64        │\n",
       "╞══════════╪══════════╪══════════╪═════════════════╪═════════════════════════════════╪════════════╡\n",
       "│ 1        ┆ najtj    ┆ 10       ┆ 86.898849       ┆ 2021-11-18 00:00:00.alias(\"dat… ┆ 3682       │\n",
       "│ 2        ┆ nqlcn    ┆ 4        ┆ 81.580301       ┆ 2017-11-24 00:00:00.alias(\"dat… ┆ 2234       │\n",
       "│ 3        ┆ qekrj    ┆ 13       ┆ 16.912128       ┆ 2012-02-26 00:00:00.alias(\"dat… ┆ 2730       │\n",
       "│ 4        ┆ mkfih    ┆ 11       ┆ 22.840706       ┆ 2013-12-25 00:00:00.alias(\"dat… ┆ 4887       │\n",
       "│ 5        ┆ sodzc    ┆ 8        ┆ 48.395896       ┆ 2014-11-01 00:00:00.alias(\"dat… ┆ 1469       │\n",
       "└──────────┴──────────┴──────────┴─────────────────┴─────────────────────────────────┴────────────┘"
      ]
     },
     "execution_count": 3,
     "metadata": {},
     "output_type": "execute_result"
    }
   ],
   "source": [
    "# Funciones auxiliares para generar datos\n",
    "def random_string(length=5):\n",
    "    letters = string.ascii_lowercase\n",
    "    return ''.join(random.choice(letters) for i in range(length))\n",
    "\n",
    "def generate_data(n=1000):\n",
    "    data = {\n",
    "        \"id_venta\": list(range(1, n + 1)),\n",
    "        \"producto\": [random_string() for _ in range(n)],\n",
    "        \"cantidad\": [random.randint(1, 20) for _ in range(n)],\n",
    "        \"precio_unitario\": [random.uniform(10, 100) for _ in range(n)],\n",
    "        \"fecha_venta\": [pl.date(random.randint(2010, 2022), random.randint(1, 12), random.randint(1, 28)) for _ in range(n)],\n",
    "        \"cliente_id\": [random.randint(1000, 5000) for _ in range(n)]\n",
    "    }\n",
    "    return pl.DataFrame(data)\n",
    "\n",
    "# Generar el DataFrame\n",
    "df = generate_data()\n",
    "df.head()"
   ]
  },
  {
   "cell_type": "code",
   "execution_count": 4,
   "metadata": {},
   "outputs": [
    {
     "data": {
      "text/html": [
       "<i>naive plan: (run <b>LazyFrame.explain(optimized=True)</b> to see the optimized plan)</i>\n",
       "    <p></p>\n",
       "    <div>DF [\"id_venta\", \"producto\", \"cantidad\", \"precio_unitario\"]; PROJECT */6 COLUMNS; SELECTION: None</div>"
      ],
      "text/plain": [
       "<LazyFrame at 0x7F7E1E1189E0>"
      ]
     },
     "execution_count": 4,
     "metadata": {},
     "output_type": "execute_result"
    }
   ],
   "source": [
    "df = df.lazy()\n",
    "df"
   ]
  },
  {
   "cell_type": "markdown",
   "metadata": {},
   "source": [
    "# Limpieza de Datos"
   ]
  },
  {
   "cell_type": "markdown",
   "metadata": {},
   "source": [
    "Utilizando Polars en modo Lazy, realice las siguientes operaciones de limpieza y manipulación de datos:\n",
    "\n",
    "    1. `Filtrar` las ventas con cantidades menores a 5.\n",
    "    2. `Agregar` una nueva columna llamada total_venta, que sea el resultado de multiplicar cantidad por precio_unitario.\n",
    "    3. `Eliminar` la columna precio_unitario después de crear total_venta.\n",
    "    4. `Agrupar` los datos por producto y calcular el total vendido y la cantidad total vendida por producto.\n",
    "    5. `Ordenar` los resultados por el total vendido en orden descendente."
   ]
  },
  {
   "cell_type": "markdown",
   "metadata": {},
   "source": [
    "Todo esto lo debes de realizar en una sola linea de codigo"
   ]
  },
  {
   "cell_type": "code",
   "execution_count": 27,
   "metadata": {},
   "outputs": [
    {
     "name": "stdout",
     "output_type": "stream",
     "text": [
      "shape: (196, 3)\n",
      "┌──────────┬───────────────┬────────────────────────┐\n",
      "│ producto ┆ total_vendido ┆ cantidad_total_vendida │\n",
      "│ ---      ┆ ---           ┆ ---                    │\n",
      "│ str      ┆ f64           ┆ i64                    │\n",
      "╞══════════╪═══════════════╪════════════════════════╡\n",
      "│ rmfww    ┆ 376.134446    ┆ 4                      │\n",
      "│ lmews    ┆ 368.95855     ┆ 4                      │\n",
      "│ wtcyt    ┆ 368.077844    ┆ 4                      │\n",
      "│ umjto    ┆ 366.740083    ┆ 4                      │\n",
      "│ wfhzf    ┆ 363.266342    ┆ 4                      │\n",
      "│ …        ┆ …             ┆ …                      │\n",
      "│ kzxge    ┆ 16.238829     ┆ 1                      │\n",
      "│ uovwm    ┆ 15.136625     ┆ 1                      │\n",
      "│ colyu    ┆ 14.504259     ┆ 1                      │\n",
      "│ hbgdk    ┆ 14.289877     ┆ 1                      │\n",
      "│ slrtm    ┆ 11.76023      ┆ 1                      │\n",
      "└──────────┴───────────────┴────────────────────────┘\n"
     ]
    }
   ],
   "source": [
    "\n",
    "lazy_df = df.lazy()\n",
    "\n",
    "# Realizar las operaciones de limpieza y manipulación\n",
    "\n",
    "#resultado = lazy_df.filter(pl.col(\"cantidad\")<5).group_by(\"producto\").agg([\n",
    "#    pl.col(\"cantidad\").mul(pl.col(\"precio_unitario\")).alias(\"total_venta\")\n",
    "#])\n",
    "\n",
    "resultado = (\n",
    "    lazy_df.filter(pl.col(\"cantidad\")<5).with_columns((pl.col('cantidad') * pl.col('precio_unitario')).alias('total_venta'))\n",
    ".drop('precio_unitario').group_by('producto').agg([pl.col('total_venta').sum().alias('total_vendido'), \n",
    "        pl.col('cantidad').sum().alias('cantidad_total_vendida')]).sort('total_vendido', descending=True)\n",
    "\n",
    ")\n",
    "    \n",
    "\n",
    "\n",
    "# Ejecutar y mostrar los resultados\n",
    "resultado_df = resultado.collect()\n",
    "print(resultado_df)\n"
   ]
  },
  {
   "cell_type": "markdown",
   "metadata": {},
   "source": [
    "# Guarda el resultado en un archivo `parquet`"
   ]
  },
  {
   "cell_type": "markdown",
   "metadata": {},
   "source": [
    "Guarda el resultado en un archivo parquet que se llame `resultados.parquet`"
   ]
  },
  {
   "cell_type": "code",
   "execution_count": 28,
   "metadata": {},
   "outputs": [],
   "source": [
    "# Tu codigo aqui\n",
    "resultado_df.write_parquet(\"resultados.parquet\")"
   ]
  },
  {
   "cell_type": "markdown",
   "metadata": {},
   "source": [
    "# Lee Parquet"
   ]
  },
  {
   "cell_type": "markdown",
   "metadata": {},
   "source": [
    "Crea codigo para leer en polars el archivo parquet"
   ]
  },
  {
   "cell_type": "code",
   "execution_count": 29,
   "metadata": {},
   "outputs": [
    {
     "name": "stdout",
     "output_type": "stream",
     "text": [
      "shape: (196, 3)\n",
      "┌──────────┬───────────────┬────────────────────────┐\n",
      "│ producto ┆ total_vendido ┆ cantidad_total_vendida │\n",
      "│ ---      ┆ ---           ┆ ---                    │\n",
      "│ str      ┆ f64           ┆ i64                    │\n",
      "╞══════════╪═══════════════╪════════════════════════╡\n",
      "│ rmfww    ┆ 376.134446    ┆ 4                      │\n",
      "│ lmews    ┆ 368.95855     ┆ 4                      │\n",
      "│ wtcyt    ┆ 368.077844    ┆ 4                      │\n",
      "│ umjto    ┆ 366.740083    ┆ 4                      │\n",
      "│ wfhzf    ┆ 363.266342    ┆ 4                      │\n",
      "│ …        ┆ …             ┆ …                      │\n",
      "│ kzxge    ┆ 16.238829     ┆ 1                      │\n",
      "│ uovwm    ┆ 15.136625     ┆ 1                      │\n",
      "│ colyu    ┆ 14.504259     ┆ 1                      │\n",
      "│ hbgdk    ┆ 14.289877     ┆ 1                      │\n",
      "│ slrtm    ┆ 11.76023      ┆ 1                      │\n",
      "└──────────┴───────────────┴────────────────────────┘\n"
     ]
    }
   ],
   "source": [
    "# Tu codigo aqui\n",
    "df_resultados = pl.read_parquet(\"resultados.parquet\")\n",
    "print(df_resultados)"
   ]
  }
 ],
 "metadata": {
  "kernelspec": {
   "display_name": ".venv",
   "language": "python",
   "name": "python3"
  },
  "language_info": {
   "codemirror_mode": {
    "name": "ipython",
    "version": 3
   },
   "file_extension": ".py",
   "mimetype": "text/x-python",
   "name": "python",
   "nbconvert_exporter": "python",
   "pygments_lexer": "ipython3",
   "version": "3.12.3"
  }
 },
 "nbformat": 4,
 "nbformat_minor": 2
}
