{
 "cells": [
  {
   "cell_type": "code",
   "execution_count": 9,
   "metadata": {},
   "outputs": [],
   "source": [
    "import polars as pl\n",
    "import numpy as np\n",
    "import random\n",
    "from datetime import datetime, timedelta\n",
    "import math"
   ]
  },
  {
   "cell_type": "markdown",
   "metadata": {},
   "source": [
    "# Descripcion"
   ]
  },
  {
   "cell_type": "markdown",
   "metadata": {},
   "source": [
    "Los datos son notificaciones de dispositivos GPS en Mexico. En promedio generan notificaciones automatizadas cada 5 minutos si el carro esta encendido, y 30 si esta apagado.  \n",
    "\n",
    "Cada notificacion esta acompannada de un evento de lo que esta ocurriendo, y trae la latitud y longitud.  \n",
    "\n",
    "El objetico es predecir si un vehiculo esta siendo robado de acuerdo a sus notificaciones, por lo que el primer paso seria limpiar datos y hacer ingenieria de variables.\n",
    "\n",
    "Trata de hacerlo **lazy** si puedes."
   ]
  },
  {
   "cell_type": "code",
   "execution_count": 4,
   "metadata": {},
   "outputs": [],
   "source": [
    "def generate_dummy_data(num_cars, start_time, end_time, working_hours_interval, non_working_hours_interval):\n",
    "    data = []\n",
    "\n",
    "    # Define the latitude and longitude ranges for Mexico\n",
    "    min_latitude, max_latitude = 14.5388, 32.7186\n",
    "    min_longitude, max_longitude = -118.4662, -86.7104\n",
    "\n",
    "    for car_id in range(num_cars):\n",
    "        current_time = start_time\n",
    "\n",
    "        # Generate random initial latitude and longitude for each car\n",
    "        latitude = random.uniform(min_latitude, max_latitude)\n",
    "        longitude = random.uniform(min_longitude, max_longitude)\n",
    "\n",
    "        while current_time < end_time:\n",
    "            if current_time.weekday() < 5 and 9 <= current_time.hour < 17:\n",
    "                # Working hours (Monday to Friday, 9 AM to 5 PM)\n",
    "                interval = working_hours_interval\n",
    "            else:\n",
    "                # Non-working hours\n",
    "                interval = non_working_hours_interval\n",
    "\n",
    "            # Generate notification with 99% probability\n",
    "            if random.random() < 0.99:\n",
    "                notification = random.choice([\"low_fuel\", \"tire_pressure\", \"engine_check\", None])\n",
    "                data.append((f\"car_{car_id}\", current_time.isoformat(), latitude, longitude, notification))\n",
    "\n",
    "            # Generate additional notifications between intervals\n",
    "            while True:\n",
    "                additional_interval = random.expovariate(1 / (interval / 2))\n",
    "                additional_time = current_time + timedelta(minutes=additional_interval)\n",
    "                if additional_time >= current_time + timedelta(minutes=interval):\n",
    "                    break\n",
    "                notification = random.choice([\"low_fuel\", \"tire_pressure\", \"engine_check\", None])\n",
    "                data.append((f\"car_{car_id}\", additional_time.isoformat(), latitude, longitude, notification))\n",
    "\n",
    "            # Update latitude and longitude for car movement\n",
    "            latitude += random.uniform(-0.01, 0.01)\n",
    "            longitude += random.uniform(-0.01, 0.01)\n",
    "\n",
    "            # Check if the car is among the 1% that can have 100 notifications within 5 minutes\n",
    "            if random.random() < 0.01:\n",
    "                burst_start_time = current_time + timedelta(minutes=random.uniform(0, interval))\n",
    "                burst_end_time = burst_start_time + timedelta(minutes=5)\n",
    "                while current_time < burst_end_time:\n",
    "                    notification = random.choice([\"low_fuel\", \"tire_pressure\", \"engine_check\", None])\n",
    "                    data.append((f\"car_{car_id}\", current_time.isoformat(), latitude, longitude, notification))\n",
    "                    current_time += timedelta(seconds=random.uniform(1, 10))\n",
    "\n",
    "            current_time += timedelta(minutes=interval)\n",
    "\n",
    "    # Create a Polars DataFrame from the generated data\n",
    "    df = pl.DataFrame(\n",
    "        {\n",
    "            \"car_id\": [record[0] for record in data],\n",
    "            \"timestamp\": [record[1] for record in data],\n",
    "            \"latitude\": [record[2] for record in data],\n",
    "            \"longitude\": [record[3] for record in data],\n",
    "            \"notification\": [record[4] for record in data],\n",
    "        }\n",
    "    )\n",
    "\n",
    "    return df.lazy()"
   ]
  },
  {
   "cell_type": "code",
   "execution_count": 5,
   "metadata": {},
   "outputs": [
    {
     "name": "stdout",
     "output_type": "stream",
     "text": [
      "naive plan: (run LazyFrame.explain(optimized=True) to see the optimized plan)\n",
      "\n",
      "SLICE[offset: 0, len: 5]\n",
      "  DF [\"car_id\", \"timestamp\", \"latitude\", \"longitude\"]; PROJECT */5 COLUMNS; SELECTION: None\n",
      "shape: (6_296_549, 5)\n",
      "┌─────────┬────────────────────────────┬───────────┬─────────────┬───────────────┐\n",
      "│ car_id  ┆ timestamp                  ┆ latitude  ┆ longitude   ┆ notification  │\n",
      "│ ---     ┆ ---                        ┆ ---       ┆ ---         ┆ ---           │\n",
      "│ str     ┆ str                        ┆ f64       ┆ f64         ┆ str           │\n",
      "╞═════════╪════════════════════════════╪═══════════╪═════════════╪═══════════════╡\n",
      "│ car_0   ┆ 2023-01-01T00:00:00        ┆ 29.032661 ┆ -102.80159  ┆ engine_check  │\n",
      "│ car_0   ┆ 2023-01-01T00:30:00        ┆ 29.041326 ┆ -102.802262 ┆ null          │\n",
      "│ car_0   ┆ 2023-01-01T00:42:22.040548 ┆ 29.041326 ┆ -102.802262 ┆ low_fuel      │\n",
      "│ car_0   ┆ 2023-01-01T00:30:31.024572 ┆ 29.041326 ┆ -102.802262 ┆ low_fuel      │\n",
      "│ car_0   ┆ 2023-01-01T00:31:08.036875 ┆ 29.041326 ┆ -102.802262 ┆ tire_pressure │\n",
      "│ …       ┆ …                          ┆ …         ┆ …           ┆ …             │\n",
      "│ car_999 ┆ 2023-01-07T23:35:19.150172 ┆ 28.028522 ┆ -106.547487 ┆ tire_pressure │\n",
      "│ car_999 ┆ 2023-01-07T23:35:22.730137 ┆ 28.028522 ┆ -106.547487 ┆ low_fuel      │\n",
      "│ car_999 ┆ 2023-01-07T23:35:30.678437 ┆ 28.028522 ┆ -106.547487 ┆ null          │\n",
      "│ car_999 ┆ 2023-01-07T23:35:33.746668 ┆ 28.028522 ┆ -106.547487 ┆ null          │\n",
      "│ car_999 ┆ 2023-01-07T23:35:35.476197 ┆ 28.028522 ┆ -106.547487 ┆ low_fuel      │\n",
      "└─────────┴────────────────────────────┴───────────┴─────────────┴───────────────┘\n"
     ]
    }
   ],
   "source": [
    "num_cars = 1000\n",
    "start_time = datetime(2023, 1, 1, 0, 0, 0)  # Start of the week\n",
    "end_time = start_time + timedelta(weeks=1)  # End of the week\n",
    "working_hours_interval = 5  # Interval of 5 minutes during working hours\n",
    "non_working_hours_interval = 30  # Interval of 30 minutes during non-working hours\n",
    "\n",
    "# Generate the dummy data\n",
    "data = generate_dummy_data(num_cars, start_time, end_time, working_hours_interval, non_working_hours_interval)\n",
    "\n",
    "# Print the first few rows of the generated data\n",
    "print(data.head())\n",
    "print(data.collect())"
   ]
  },
  {
   "cell_type": "markdown",
   "metadata": {},
   "source": [
    "## Limpieza de datos"
   ]
  },
  {
   "cell_type": "markdown",
   "metadata": {},
   "source": [
    "### Timestamp"
   ]
  },
  {
   "cell_type": "markdown",
   "metadata": {},
   "source": [
    "Convierte el `timestamp` que actualmente es string a formato de tiempo en polars"
   ]
  },
  {
   "cell_type": "code",
   "execution_count": 6,
   "metadata": {},
   "outputs": [
    {
     "name": "stdout",
     "output_type": "stream",
     "text": [
      "shape: (6_296_549, 5)\n",
      "┌─────────┬────────────────────────────┬───────────┬─────────────┬───────────────┐\n",
      "│ car_id  ┆ timestamp                  ┆ latitude  ┆ longitude   ┆ notification  │\n",
      "│ ---     ┆ ---                        ┆ ---       ┆ ---         ┆ ---           │\n",
      "│ str     ┆ datetime[μs]               ┆ f64       ┆ f64         ┆ str           │\n",
      "╞═════════╪════════════════════════════╪═══════════╪═════════════╪═══════════════╡\n",
      "│ car_0   ┆ 2023-01-01 00:00:00        ┆ 29.032661 ┆ -102.80159  ┆ engine_check  │\n",
      "│ car_0   ┆ 2023-01-01 00:30:00        ┆ 29.041326 ┆ -102.802262 ┆ null          │\n",
      "│ car_0   ┆ 2023-01-01 00:42:22.040548 ┆ 29.041326 ┆ -102.802262 ┆ low_fuel      │\n",
      "│ car_0   ┆ 2023-01-01 00:30:31.024572 ┆ 29.041326 ┆ -102.802262 ┆ low_fuel      │\n",
      "│ car_0   ┆ 2023-01-01 00:31:08.036875 ┆ 29.041326 ┆ -102.802262 ┆ tire_pressure │\n",
      "│ …       ┆ …                          ┆ …         ┆ …           ┆ …             │\n",
      "│ car_999 ┆ 2023-01-07 23:35:19.150172 ┆ 28.028522 ┆ -106.547487 ┆ tire_pressure │\n",
      "│ car_999 ┆ 2023-01-07 23:35:22.730137 ┆ 28.028522 ┆ -106.547487 ┆ low_fuel      │\n",
      "│ car_999 ┆ 2023-01-07 23:35:30.678437 ┆ 28.028522 ┆ -106.547487 ┆ null          │\n",
      "│ car_999 ┆ 2023-01-07 23:35:33.746668 ┆ 28.028522 ┆ -106.547487 ┆ null          │\n",
      "│ car_999 ┆ 2023-01-07 23:35:35.476197 ┆ 28.028522 ┆ -106.547487 ┆ low_fuel      │\n",
      "└─────────┴────────────────────────────┴───────────┴─────────────┴───────────────┘\n"
     ]
    }
   ],
   "source": [
    "data = data.with_columns(pl.col(\"timestamp\").str.strptime(pl.Datetime))\n",
    "print(data.collect())"
   ]
  },
  {
   "cell_type": "markdown",
   "metadata": {},
   "source": [
    "### Ingenieria de variables"
   ]
  },
  {
   "cell_type": "markdown",
   "metadata": {},
   "source": [
    "Dado que va a entrar a un modelo de machine learning es encesario que todas las variables sean numericas, y esten en formnato tidy. Cada observacion en una fila, y cada variable en una columna. Por lo tanto se decidio crear estadisticos y agregar los datos a intervalos uniformes de `x` minutos.  \n",
    "\n",
    "Por ejemplo, colapsar toda la informacion que ocurrion en el intervalo, como el numero de notificaciones en esos 5 minutos, el promedio entre notificaciones, y el tipo de notificaciones."
   ]
  },
  {
   "cell_type": "markdown",
   "metadata": {},
   "source": [
    "Existen varias formas de hacer esto, puedes hacerlo con `group_by` primero para crear las nuevas variables, o `group_by` (`rolling`, `dynamic`) usando operaciones sobre listas. Utiliza claude o chat_gpt"
   ]
  },
  {
   "cell_type": "markdown",
   "metadata": {},
   "source": [
    "1. Crea una nueva variable que compute la diferencia de tiempo entre notificaciones del mismo vehiculo. Piensa como lo vas a hacer. Llama a esta variable `notification_time`\n",
    "   \n"
   ]
  },
  {
   "cell_type": "code",
   "execution_count": 10,
   "metadata": {},
   "outputs": [
    {
     "name": "stdout",
     "output_type": "stream",
     "text": [
      "shape: (6_296_549, 6)\n",
      "┌─────────┬─────────────────────┬───────────┬─────────────┬───────────────┬───────────────────┐\n",
      "│ car_id  ┆ timestamp           ┆ latitude  ┆ longitude   ┆ notification  ┆ notification_time │\n",
      "│ ---     ┆ ---                 ┆ ---       ┆ ---         ┆ ---           ┆ ---               │\n",
      "│ str     ┆ datetime[μs]        ┆ f64       ┆ f64         ┆ str           ┆ duration[μs]      │\n",
      "╞═════════╪═════════════════════╪═══════════╪═════════════╪═══════════════╪═══════════════════╡\n",
      "│ car_0   ┆ 2023-01-01 00:00:00 ┆ 29.032661 ┆ -102.80159  ┆ engine_check  ┆ null              │\n",
      "│ car_0   ┆ 2023-01-01 00:30:00 ┆ 29.041326 ┆ -102.802262 ┆ null          ┆ 30m               │\n",
      "│ car_0   ┆ 2023-01-01          ┆ 29.041326 ┆ -102.802262 ┆ null          ┆ 22s 586217µs      │\n",
      "│         ┆ 00:30:22.586217     ┆           ┆             ┆               ┆                   │\n",
      "│ car_0   ┆ 2023-01-01          ┆ 29.041326 ┆ -102.802262 ┆ low_fuel      ┆ 8s 438355µs       │\n",
      "│         ┆ 00:30:31.024572     ┆           ┆             ┆               ┆                   │\n",
      "│ car_0   ┆ 2023-01-01          ┆ 29.041326 ┆ -102.802262 ┆ tire_pressure ┆ 37s 12303µs       │\n",
      "│         ┆ 00:31:08.036875     ┆           ┆             ┆               ┆                   │\n",
      "│ …       ┆ …                   ┆ …         ┆ …           ┆ …             ┆ …                 │\n",
      "│ car_999 ┆ 2023-01-07          ┆ 28.025339 ┆ -106.5533   ┆ tire_pressure ┆ 1m 31s 78689µs    │\n",
      "│         ┆ 23:38:08.859898     ┆           ┆             ┆               ┆                   │\n",
      "│ car_999 ┆ 2023-01-07          ┆ 28.025339 ┆ -106.5533   ┆ low_fuel      ┆ 4m 29s 41258µs    │\n",
      "│         ┆ 23:42:37.901156     ┆           ┆             ┆               ┆                   │\n",
      "│ car_999 ┆ 2023-01-07          ┆ 28.025339 ┆ -106.5533   ┆ engine_check  ┆ 3m 9s 115700µs    │\n",
      "│         ┆ 23:45:47.016856     ┆           ┆             ┆               ┆                   │\n",
      "│ car_999 ┆ 2023-01-07          ┆ 28.025339 ┆ -106.5533   ┆ tire_pressure ┆ 3m 4s 190017µs    │\n",
      "│         ┆ 23:48:51.206873     ┆           ┆             ┆               ┆                   │\n",
      "│ car_999 ┆ 2023-01-07          ┆ 28.025339 ┆ -106.5533   ┆ engine_check  ┆ 2m 24s 109774µs   │\n",
      "│         ┆ 23:51:15.316647     ┆           ┆             ┆               ┆                   │\n",
      "└─────────┴─────────────────────┴───────────┴─────────────┴───────────────┴───────────────────┘\n"
     ]
    }
   ],
   "source": [
    "data = data.sort('car_id', 'timestamp')\n",
    "data = data.with_columns([pl.col(\"timestamp\").diff().over(\"car_id\").alias(\"notification_time\")])\n",
    "print(data.collect())"
   ]
  },
  {
   "cell_type": "markdown",
   "metadata": {},
   "source": [
    "2. Crea una nueva variable que compute la distancia que viajo el vehiculo desde la ultima notificacion. Llamala `distance`"
   ]
  },
  {
   "cell_type": "code",
   "execution_count": null,
   "metadata": {},
   "outputs": [
    {
     "name": "stdout",
     "output_type": "stream",
     "text": [
      "shape: (6_296_549, 8)\n",
      "┌─────────┬────────────┬───────────┬────────────┬────────────┬────────────┬────────────┬───────────┐\n",
      "│ car_id  ┆ timestamp  ┆ latitude  ┆ longitude  ┆ notificati ┆ notificati ┆ delta_lati ┆ delta_lon │\n",
      "│ ---     ┆ ---        ┆ ---       ┆ ---        ┆ on         ┆ on_time    ┆ tude       ┆ gitude    │\n",
      "│ str     ┆ datetime[μ ┆ f64       ┆ f64        ┆ ---        ┆ ---        ┆ ---        ┆ ---       │\n",
      "│         ┆ s]         ┆           ┆            ┆ str        ┆ duration[μ ┆ f64        ┆ f64       │\n",
      "│         ┆            ┆           ┆            ┆            ┆ s]         ┆            ┆           │\n",
      "╞═════════╪════════════╪═══════════╪════════════╪════════════╪════════════╪════════════╪═══════════╡\n",
      "│ car_0   ┆ 2023-01-01 ┆ 29.032661 ┆ -102.80159 ┆ engine_che ┆ null       ┆ null       ┆ null      │\n",
      "│         ┆ 00:00:00   ┆           ┆            ┆ ck         ┆            ┆            ┆           │\n",
      "│ car_0   ┆ 2023-01-01 ┆ 29.041326 ┆ -102.80226 ┆ null       ┆ 30m        ┆ 0.008666   ┆ -0.000672 │\n",
      "│         ┆ 00:30:00   ┆           ┆ 2          ┆            ┆            ┆            ┆           │\n",
      "│ car_0   ┆ 2023-01-01 ┆ 29.041326 ┆ -102.80226 ┆ null       ┆ 22s        ┆ 0.0        ┆ 0.0       │\n",
      "│         ┆ 00:30:22.5 ┆           ┆ 2          ┆            ┆ 586217µs   ┆            ┆           │\n",
      "│         ┆ 86217      ┆           ┆            ┆            ┆            ┆            ┆           │\n",
      "│ car_0   ┆ 2023-01-01 ┆ 29.041326 ┆ -102.80226 ┆ low_fuel   ┆ 8s         ┆ 0.0        ┆ 0.0       │\n",
      "│         ┆ 00:30:31.0 ┆           ┆ 2          ┆            ┆ 438355µs   ┆            ┆           │\n",
      "│         ┆ 24572      ┆           ┆            ┆            ┆            ┆            ┆           │\n",
      "│ car_0   ┆ 2023-01-01 ┆ 29.041326 ┆ -102.80226 ┆ tire_press ┆ 37s        ┆ 0.0        ┆ 0.0       │\n",
      "│         ┆ 00:31:08.0 ┆           ┆ 2          ┆ ure        ┆ 12303µs    ┆            ┆           │\n",
      "│         ┆ 36875      ┆           ┆            ┆            ┆            ┆            ┆           │\n",
      "│ …       ┆ …          ┆ …         ┆ …          ┆ …          ┆ …          ┆ …          ┆ …         │\n",
      "│ car_999 ┆ 2023-01-07 ┆ 28.025339 ┆ -106.5533  ┆ tire_press ┆ 1m 31s     ┆ 0.0        ┆ 0.0       │\n",
      "│         ┆ 23:38:08.8 ┆           ┆            ┆ ure        ┆ 78689µs    ┆            ┆           │\n",
      "│         ┆ 59898      ┆           ┆            ┆            ┆            ┆            ┆           │\n",
      "│ car_999 ┆ 2023-01-07 ┆ 28.025339 ┆ -106.5533  ┆ low_fuel   ┆ 4m 29s     ┆ 0.0        ┆ 0.0       │\n",
      "│         ┆ 23:42:37.9 ┆           ┆            ┆            ┆ 41258µs    ┆            ┆           │\n",
      "│         ┆ 01156      ┆           ┆            ┆            ┆            ┆            ┆           │\n",
      "│ car_999 ┆ 2023-01-07 ┆ 28.025339 ┆ -106.5533  ┆ engine_che ┆ 3m 9s      ┆ 0.0        ┆ 0.0       │\n",
      "│         ┆ 23:45:47.0 ┆           ┆            ┆ ck         ┆ 115700µs   ┆            ┆           │\n",
      "│         ┆ 16856      ┆           ┆            ┆            ┆            ┆            ┆           │\n",
      "│ car_999 ┆ 2023-01-07 ┆ 28.025339 ┆ -106.5533  ┆ tire_press ┆ 3m 4s      ┆ 0.0        ┆ 0.0       │\n",
      "│         ┆ 23:48:51.2 ┆           ┆            ┆ ure        ┆ 190017µs   ┆            ┆           │\n",
      "│         ┆ 06873      ┆           ┆            ┆            ┆            ┆            ┆           │\n",
      "│ car_999 ┆ 2023-01-07 ┆ 28.025339 ┆ -106.5533  ┆ engine_che ┆ 2m 24s     ┆ 0.0        ┆ 0.0       │\n",
      "│         ┆ 23:51:15.3 ┆           ┆            ┆ ck         ┆ 109774µs   ┆            ┆           │\n",
      "│         ┆ 16647      ┆           ┆            ┆            ┆            ┆            ┆           │\n",
      "└─────────┴────────────┴───────────┴────────────┴────────────┴────────────┴────────────┴───────────┘\n"
     ]
    }
   ],
   "source": [
    "data = data.with_columns([\n",
    "    pl.col(\"latitude\").diff().over(\"car_id\").alias(\"delta_latitude\"),\n",
    "    pl.col(\"longitude\").diff().over(\"car_id\").alias(\"delta_longitude\"),\n",
    "])\n",
    "print(data.collect())"
   ]
  },
  {
   "cell_type": "code",
   "execution_count": 12,
   "metadata": {},
   "outputs": [
    {
     "name": "stdout",
     "output_type": "stream",
     "text": [
      "shape: (6_296_549, 9)\n",
      "┌─────────┬────────────┬───────────┬────────────┬───┬───────────┬───────────┬───────────┬──────────┐\n",
      "│ car_id  ┆ timestamp  ┆ latitude  ┆ longitude  ┆ … ┆ notificat ┆ delta_lat ┆ delta_lon ┆ distance │\n",
      "│ ---     ┆ ---        ┆ ---       ┆ ---        ┆   ┆ ion_time  ┆ itude     ┆ gitude    ┆ ---      │\n",
      "│ str     ┆ datetime[μ ┆ f64       ┆ f64        ┆   ┆ ---       ┆ ---       ┆ ---       ┆ f64      │\n",
      "│         ┆ s]         ┆           ┆            ┆   ┆ duration[ ┆ f64       ┆ f64       ┆          │\n",
      "│         ┆            ┆           ┆            ┆   ┆ μs]       ┆           ┆           ┆          │\n",
      "╞═════════╪════════════╪═══════════╪════════════╪═══╪═══════════╪═══════════╪═══════════╪══════════╡\n",
      "│ car_0   ┆ 2023-01-01 ┆ 29.032661 ┆ -102.80159 ┆ … ┆ null      ┆ null      ┆ null      ┆ NaN      │\n",
      "│         ┆ 00:00:00   ┆           ┆            ┆   ┆           ┆           ┆           ┆          │\n",
      "│ car_0   ┆ 2023-01-01 ┆ 29.041326 ┆ -102.80226 ┆ … ┆ 30m       ┆ 0.008666  ┆ -0.000672 ┆ 0.966468 │\n",
      "│         ┆ 00:30:00   ┆           ┆ 2          ┆   ┆           ┆           ┆           ┆          │\n",
      "│ car_0   ┆ 2023-01-01 ┆ 29.041326 ┆ -102.80226 ┆ … ┆ 22s       ┆ 0.0       ┆ 0.0       ┆ 0.0      │\n",
      "│         ┆ 00:30:22.5 ┆           ┆ 2          ┆   ┆ 586217µs  ┆           ┆           ┆          │\n",
      "│         ┆ 86217      ┆           ┆            ┆   ┆           ┆           ┆           ┆          │\n",
      "│ car_0   ┆ 2023-01-01 ┆ 29.041326 ┆ -102.80226 ┆ … ┆ 8s        ┆ 0.0       ┆ 0.0       ┆ 0.0      │\n",
      "│         ┆ 00:30:31.0 ┆           ┆ 2          ┆   ┆ 438355µs  ┆           ┆           ┆          │\n",
      "│         ┆ 24572      ┆           ┆            ┆   ┆           ┆           ┆           ┆          │\n",
      "│ car_0   ┆ 2023-01-01 ┆ 29.041326 ┆ -102.80226 ┆ … ┆ 37s       ┆ 0.0       ┆ 0.0       ┆ 0.0      │\n",
      "│         ┆ 00:31:08.0 ┆           ┆ 2          ┆   ┆ 12303µs   ┆           ┆           ┆          │\n",
      "│         ┆ 36875      ┆           ┆            ┆   ┆           ┆           ┆           ┆          │\n",
      "│ …       ┆ …          ┆ …         ┆ …          ┆ … ┆ …         ┆ …         ┆ …         ┆ …        │\n",
      "│ car_999 ┆ 2023-01-07 ┆ 28.025339 ┆ -106.5533  ┆ … ┆ 1m 31s    ┆ 0.0       ┆ 0.0       ┆ 0.0      │\n",
      "│         ┆ 23:38:08.8 ┆           ┆            ┆   ┆ 78689µs   ┆           ┆           ┆          │\n",
      "│         ┆ 59898      ┆           ┆            ┆   ┆           ┆           ┆           ┆          │\n",
      "│ car_999 ┆ 2023-01-07 ┆ 28.025339 ┆ -106.5533  ┆ … ┆ 4m 29s    ┆ 0.0       ┆ 0.0       ┆ 0.0      │\n",
      "│         ┆ 23:42:37.9 ┆           ┆            ┆   ┆ 41258µs   ┆           ┆           ┆          │\n",
      "│         ┆ 01156      ┆           ┆            ┆   ┆           ┆           ┆           ┆          │\n",
      "│ car_999 ┆ 2023-01-07 ┆ 28.025339 ┆ -106.5533  ┆ … ┆ 3m 9s     ┆ 0.0       ┆ 0.0       ┆ 0.0      │\n",
      "│         ┆ 23:45:47.0 ┆           ┆            ┆   ┆ 115700µs  ┆           ┆           ┆          │\n",
      "│         ┆ 16856      ┆           ┆            ┆   ┆           ┆           ┆           ┆          │\n",
      "│ car_999 ┆ 2023-01-07 ┆ 28.025339 ┆ -106.5533  ┆ … ┆ 3m 4s     ┆ 0.0       ┆ 0.0       ┆ 0.0      │\n",
      "│         ┆ 23:48:51.2 ┆           ┆            ┆   ┆ 190017µs  ┆           ┆           ┆          │\n",
      "│         ┆ 06873      ┆           ┆            ┆   ┆           ┆           ┆           ┆          │\n",
      "│ car_999 ┆ 2023-01-07 ┆ 28.025339 ┆ -106.5533  ┆ … ┆ 2m 24s    ┆ 0.0       ┆ 0.0       ┆ 0.0      │\n",
      "│         ┆ 23:51:15.3 ┆           ┆            ┆   ┆ 109774µs  ┆           ┆           ┆          │\n",
      "│         ┆ 16647      ┆           ┆            ┆   ┆           ┆           ┆           ┆          │\n",
      "└─────────┴────────────┴───────────┴────────────┴───┴───────────┴───────────┴───────────┴──────────┘\n"
     ]
    }
   ],
   "source": [
    "def haversine_distance(groups):\n",
    "    earth_radius = 6371.0\n",
    "\n",
    "    delta_lat = groups[0].to_numpy()\n",
    "    delta_lon = groups[1].to_numpy()\n",
    "\n",
    "    delta_lat = [math.radians(x) for x in delta_lat]\n",
    "    delta_lon = [math.radians(x) for x in delta_lon]\n",
    "\n",
    "    a = [(math.sin(lat / 2))**2 + math.cos(lat) * (math.sin(lon / 2))**2 for lat, lon in zip(delta_lat, delta_lon)]\n",
    "    c = [2 * math.atan2(math.sqrt(x), math.sqrt(1 - x)) for x in a]\n",
    "    distance = [earth_radius * x for x in c]\n",
    "\n",
    "    return pl.Series(distance)\n",
    "\n",
    "data = data.with_columns([\n",
    "    pl.map_groups([\"delta_latitude\", \"delta_longitude\"], haversine_distance).alias(\"distance\")\n",
    "])\n",
    "\n",
    "print(data.collect())"
   ]
  },
  {
   "cell_type": "markdown",
   "metadata": {},
   "source": [
    "3. Crea intervalos de `x` minutos por carro. Como el numero de notificaciones en esos intervalos no es uniforme tienes que buscar funciones de polars especificas, pero ademas tienen que ser por vehiculo, pues tienen que ser del mismo. Revisa las funciones de `group_by` `dynamic` y `rolling`.\n",
    "   1. Computa la media, mediana, varianza, max y min de `notification_time` los intervalos de `x` minutos\n",
    "   2. Computa la media, mediana, varianza, max y min de `distance`\n"
   ]
  },
  {
   "cell_type": "code",
   "execution_count": 13,
   "metadata": {},
   "outputs": [
    {
     "name": "stdout",
     "output_type": "stream",
     "text": [
      "shape: (6_296_549, 10)\n",
      "┌─────────┬────────────┬───────────┬────────────┬───┬───────────┬───────────┬──────────┬───────────┐\n",
      "│ car_id  ┆ timestamp  ┆ latitude  ┆ longitude  ┆ … ┆ delta_lat ┆ delta_lon ┆ distance ┆ interval  │\n",
      "│ ---     ┆ ---        ┆ ---       ┆ ---        ┆   ┆ itude     ┆ gitude    ┆ ---      ┆ ---       │\n",
      "│ str     ┆ datetime[μ ┆ f64       ┆ f64        ┆   ┆ ---       ┆ ---       ┆ f64      ┆ datetime[ │\n",
      "│         ┆ s]         ┆           ┆            ┆   ┆ f64       ┆ f64       ┆          ┆ μs]       │\n",
      "╞═════════╪════════════╪═══════════╪════════════╪═══╪═══════════╪═══════════╪══════════╪═══════════╡\n",
      "│ car_0   ┆ 2023-01-01 ┆ 29.032661 ┆ -102.80159 ┆ … ┆ null      ┆ null      ┆ NaN      ┆ 2023-01-0 │\n",
      "│         ┆ 00:00:00   ┆           ┆            ┆   ┆           ┆           ┆          ┆ 1         │\n",
      "│         ┆            ┆           ┆            ┆   ┆           ┆           ┆          ┆ 00:00:00  │\n",
      "│ car_0   ┆ 2023-01-01 ┆ 29.041326 ┆ -102.80226 ┆ … ┆ 0.008666  ┆ -0.000672 ┆ 0.966468 ┆ 2023-01-0 │\n",
      "│         ┆ 00:30:00   ┆           ┆ 2          ┆   ┆           ┆           ┆          ┆ 1         │\n",
      "│         ┆            ┆           ┆            ┆   ┆           ┆           ┆          ┆ 00:00:00  │\n",
      "│ car_0   ┆ 2023-01-01 ┆ 29.041326 ┆ -102.80226 ┆ … ┆ 0.0       ┆ 0.0       ┆ 0.0      ┆ 2023-01-0 │\n",
      "│         ┆ 00:30:22.5 ┆           ┆ 2          ┆   ┆           ┆           ┆          ┆ 1         │\n",
      "│         ┆ 86217      ┆           ┆            ┆   ┆           ┆           ┆          ┆ 00:00:00  │\n",
      "│ car_0   ┆ 2023-01-01 ┆ 29.041326 ┆ -102.80226 ┆ … ┆ 0.0       ┆ 0.0       ┆ 0.0      ┆ 2023-01-0 │\n",
      "│         ┆ 00:30:31.0 ┆           ┆ 2          ┆   ┆           ┆           ┆          ┆ 1         │\n",
      "│         ┆ 24572      ┆           ┆            ┆   ┆           ┆           ┆          ┆ 00:00:00  │\n",
      "│ car_0   ┆ 2023-01-01 ┆ 29.041326 ┆ -102.80226 ┆ … ┆ 0.0       ┆ 0.0       ┆ 0.0      ┆ 2023-01-0 │\n",
      "│         ┆ 00:31:08.0 ┆           ┆ 2          ┆   ┆           ┆           ┆          ┆ 1         │\n",
      "│         ┆ 36875      ┆           ┆            ┆   ┆           ┆           ┆          ┆ 00:00:00  │\n",
      "│ …       ┆ …          ┆ …         ┆ …          ┆ … ┆ …         ┆ …         ┆ …        ┆ …         │\n",
      "│ car_999 ┆ 2023-01-07 ┆ 28.025339 ┆ -106.5533  ┆ … ┆ 0.0       ┆ 0.0       ┆ 0.0      ┆ 2023-01-0 │\n",
      "│         ┆ 23:38:08.8 ┆           ┆            ┆   ┆           ┆           ┆          ┆ 7         │\n",
      "│         ┆ 59898      ┆           ┆            ┆   ┆           ┆           ┆          ┆ 23:00:00  │\n",
      "│ car_999 ┆ 2023-01-07 ┆ 28.025339 ┆ -106.5533  ┆ … ┆ 0.0       ┆ 0.0       ┆ 0.0      ┆ 2023-01-0 │\n",
      "│         ┆ 23:42:37.9 ┆           ┆            ┆   ┆           ┆           ┆          ┆ 7         │\n",
      "│         ┆ 01156      ┆           ┆            ┆   ┆           ┆           ┆          ┆ 23:00:00  │\n",
      "│ car_999 ┆ 2023-01-07 ┆ 28.025339 ┆ -106.5533  ┆ … ┆ 0.0       ┆ 0.0       ┆ 0.0      ┆ 2023-01-0 │\n",
      "│         ┆ 23:45:47.0 ┆           ┆            ┆   ┆           ┆           ┆          ┆ 7         │\n",
      "│         ┆ 16856      ┆           ┆            ┆   ┆           ┆           ┆          ┆ 23:00:00  │\n",
      "│ car_999 ┆ 2023-01-07 ┆ 28.025339 ┆ -106.5533  ┆ … ┆ 0.0       ┆ 0.0       ┆ 0.0      ┆ 2023-01-0 │\n",
      "│         ┆ 23:48:51.2 ┆           ┆            ┆   ┆           ┆           ┆          ┆ 7         │\n",
      "│         ┆ 06873      ┆           ┆            ┆   ┆           ┆           ┆          ┆ 23:00:00  │\n",
      "│ car_999 ┆ 2023-01-07 ┆ 28.025339 ┆ -106.5533  ┆ … ┆ 0.0       ┆ 0.0       ┆ 0.0      ┆ 2023-01-0 │\n",
      "│         ┆ 23:51:15.3 ┆           ┆            ┆   ┆           ┆           ┆          ┆ 7         │\n",
      "│         ┆ 16647      ┆           ┆            ┆   ┆           ┆           ┆          ┆ 23:00:00  │\n",
      "└─────────┴────────────┴───────────┴────────────┴───┴───────────┴───────────┴──────────┴───────────┘\n"
     ]
    }
   ],
   "source": [
    "\n",
    "data = data.with_columns(pl.col('timestamp').dt.truncate('1h').alias('interval'))\n",
    "print(data.collect())"
   ]
  },
  {
   "cell_type": "code",
   "execution_count": 14,
   "metadata": {},
   "outputs": [
    {
     "name": "stdout",
     "output_type": "stream",
     "text": [
      "shape: (168_338, 10)\n",
      "┌─────────┬────────────┬───────────┬───────────┬───┬───────────┬───────────┬───────────┬───────────┐\n",
      "│ car_id  ┆ interval   ┆ notificat ┆ notificat ┆ … ┆ distance_ ┆ distance_ ┆ distance_ ┆ desviacio │\n",
      "│ ---     ┆ ---        ┆ ion_time_ ┆ ion_time_ ┆   ┆ promedio  ┆ minimo    ┆ maximo    ┆ n_distanc │\n",
      "│ str     ┆ datetime[μ ┆ promedio  ┆ minimo    ┆   ┆ ---       ┆ ---       ┆ ---       ┆ e         │\n",
      "│         ┆ s]         ┆ ---       ┆ ---       ┆   ┆ f64       ┆ f64       ┆ f64       ┆ ---       │\n",
      "│         ┆            ┆ duration[ ┆ duration[ ┆   ┆           ┆           ┆           ┆ f64       │\n",
      "│         ┆            ┆ μs]       ┆ μs]       ┆   ┆           ┆           ┆           ┆           │\n",
      "╞═════════╪════════════╪═══════════╪═══════════╪═══╪═══════════╪═══════════╪═══════════╪═══════════╡\n",
      "│ car_0   ┆ 2023-01-01 ┆ 4m 10s    ┆ 8s        ┆ … ┆ NaN       ┆ 0.0       ┆ 0.966468  ┆ NaN       │\n",
      "│         ┆ 00:00:00   ┆ 910935µs  ┆ 438355µs  ┆   ┆           ┆           ┆           ┆           │\n",
      "│ car_0   ┆ 2023-01-01 ┆ 3m 28s    ┆ 3s        ┆ … ┆ 0.040921  ┆ 0.0       ┆ 0.419912  ┆ 0.118293  │\n",
      "│         ┆ 01:00:00   ┆ 453177µs  ┆ 25359µs   ┆   ┆           ┆           ┆           ┆           │\n",
      "│ car_0   ┆ 2023-01-01 ┆ 6m 3s     ┆ 29s       ┆ … ┆ 0.144497  ┆ 0.0       ┆ 0.890055  ┆ 0.310791  │\n",
      "│         ┆ 02:00:00   ┆ 29695µs   ┆ 650387µs  ┆   ┆           ┆           ┆           ┆           │\n",
      "│ car_0   ┆ 2023-01-01 ┆ 5m 29s    ┆ 44710µs   ┆ … ┆ 0.169126  ┆ 0.0       ┆ 1.399982  ┆ 0.430692  │\n",
      "│         ┆ 03:00:00   ┆ 50891µs   ┆           ┆   ┆           ┆           ┆           ┆           │\n",
      "│ car_0   ┆ 2023-01-01 ┆ 3m 42s    ┆ 20s       ┆ … ┆ 0.158219  ┆ 0.0       ┆ 1.11745   ┆ 0.376411  │\n",
      "│         ┆ 04:00:00   ┆ 464939µs  ┆ 910313µs  ┆   ┆           ┆           ┆           ┆           │\n",
      "│ …       ┆ …          ┆ …         ┆ …         ┆ … ┆ …         ┆ …         ┆ …         ┆ …         │\n",
      "│ car_999 ┆ 2023-01-07 ┆ 12m 11s   ┆ 1m 50s    ┆ … ┆ 0.437768  ┆ 0.0       ┆ 1.436501  ┆ 0.646402  │\n",
      "│         ┆ 19:00:00   ┆ 944649µs  ┆ 886ms     ┆   ┆           ┆           ┆           ┆           │\n",
      "│ car_999 ┆ 2023-01-07 ┆ 6m 17s    ┆ 29s       ┆ … ┆ 0.083611  ┆ 0.0       ┆ 0.783812  ┆ 0.229359  │\n",
      "│         ┆ 20:00:00   ┆ 658237µs  ┆ 264430µs  ┆   ┆           ┆           ┆           ┆           │\n",
      "│ car_999 ┆ 2023-01-07 ┆ 18m 40s   ┆ 7m 20s    ┆ … ┆ 0.788281  ┆ 0.3718    ┆ 1.204761  ┆ 0.588992  │\n",
      "│         ┆ 21:00:00   ┆ 143835µs  ┆ 287670µs  ┆   ┆           ┆           ┆           ┆           │\n",
      "│ car_999 ┆ 2023-01-07 ┆ 4m 4s     ┆ 11s       ┆ … ┆ 0.100519  ┆ 0.0       ┆ 1.06516   ┆ 0.310002  │\n",
      "│         ┆ 22:00:00   ┆ 958203µs  ┆ 261949µs  ┆   ┆           ┆           ┆           ┆           │\n",
      "│ car_999 ┆ 2023-01-07 ┆ 39s       ┆ 0µs       ┆ … ┆ 0.098838  ┆ 0.0       ┆ 1.489963  ┆ 0.275778  │\n",
      "│         ┆ 23:00:00   ┆ 874876µs  ┆           ┆   ┆           ┆           ┆           ┆           │\n",
      "└─────────┴────────────┴───────────┴───────────┴───┴───────────┴───────────┴───────────┴───────────┘\n"
     ]
    }
   ],
   "source": [
    "resultado = data.group_by(\"car_id\", \"interval\", maintain_order=True).agg([\n",
    "    pl.col(\"notification_time\").mean().alias(\"notification_time_promedio\"),\n",
    "    pl.col(\"notification_time\").min().alias(\"notification_time_minimo\"),\n",
    "    pl.col(\"notification_time\").max().alias(\"notification_time_maximo\"),\n",
    "    pl.col(\"notification_time\").std().alias(\"desviacion_notification_time\"),\n",
    "    pl.col(\"distance\").mean().alias(\"distance_promedio\"),\n",
    "    pl.col(\"distance\").min().alias(\"distance_minimo\"),\n",
    "    pl.col(\"distance\").max().alias(\"distance_maximo\"),\n",
    "    pl.col(\"distance\").std().alias(\"desviacion_distance\")\n",
    "])\n",
    "\n",
    "print(resultado.collect())"
   ]
  }
 ],
 "metadata": {
  "kernelspec": {
   "display_name": "venv",
   "language": "python",
   "name": "python3"
  },
  "language_info": {
   "codemirror_mode": {
    "name": "ipython",
    "version": 3
   },
   "file_extension": ".py",
   "mimetype": "text/x-python",
   "name": "python",
   "nbconvert_exporter": "python",
   "pygments_lexer": "ipython3",
   "version": "3.12.4"
  }
 },
 "nbformat": 4,
 "nbformat_minor": 2
}
