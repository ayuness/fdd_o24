{
 "cells": [
  {
   "cell_type": "code",
   "execution_count": 1,
   "metadata": {},
   "outputs": [],
   "source": [
    "import polars as pl\n",
    "import numpy as np\n",
    "import random\n",
    "from datetime import datetime, timedelta"
   ]
  },
  {
   "cell_type": "markdown",
   "metadata": {},
   "source": [
    "# Descripcion"
   ]
  },
  {
   "cell_type": "markdown",
   "metadata": {},
   "source": [
    "Los datos son notificaciones de dispositivos GPS en Mexico. En promedio generan notificaciones automatizadas cada 5 minutos si el carro esta encendido, y 30 si esta apagado.  \n",
    "\n",
    "Cada notificacion esta acompannada de un evento de lo que esta ocurriendo, y trae la latitud y longitud.  \n",
    "\n",
    "El objetico es predecir si un vehiculo esta siendo robado de acuerdo a sus notificaciones, por lo que el primer paso seria limpiar datos y hacer ingenieria de variables.\n",
    "\n",
    "Trata de hacerlo **lazy** si puedes."
   ]
  },
  {
   "cell_type": "code",
   "execution_count": 32,
   "metadata": {},
   "outputs": [],
   "source": [
    "def generate_dummy_data(num_cars, start_time, end_time, working_hours_interval, non_working_hours_interval):\n",
    "    data = []\n",
    "\n",
    "    # Define the latitude and longitude ranges for Mexico\n",
    "    min_latitude, max_latitude = 14.5388, 32.7186\n",
    "    min_longitude, max_longitude = -118.4662, -86.7104\n",
    "\n",
    "    for car_id in range(num_cars):\n",
    "        current_time = start_time\n",
    "\n",
    "        # Generate random initial latitude and longitude for each car\n",
    "        latitude = random.uniform(min_latitude, max_latitude)\n",
    "        longitude = random.uniform(min_longitude, max_longitude)\n",
    "\n",
    "        while current_time < end_time:\n",
    "            if current_time.weekday() < 5 and 9 <= current_time.hour < 17:\n",
    "                # Working hours (Monday to Friday, 9 AM to 5 PM)\n",
    "                interval = working_hours_interval\n",
    "            else:\n",
    "                # Non-working hours\n",
    "                interval = non_working_hours_interval\n",
    "\n",
    "            # Generate notification with 99% probability\n",
    "            if random.random() < 0.99:\n",
    "                notification = random.choice([\"low_fuel\", \"tire_pressure\", \"engine_check\", None])\n",
    "                data.append((f\"car_{car_id}\", current_time.isoformat(), latitude, longitude, notification))\n",
    "\n",
    "            # Generate additional notifications between intervals\n",
    "            while True:\n",
    "                additional_interval = random.expovariate(1 / (interval / 2))\n",
    "                additional_time = current_time + timedelta(minutes=additional_interval)\n",
    "                if additional_time >= current_time + timedelta(minutes=interval):\n",
    "                    break\n",
    "                notification = random.choice([\"low_fuel\", \"tire_pressure\", \"engine_check\", None])\n",
    "                data.append((f\"car_{car_id}\", additional_time.isoformat(), latitude, longitude, notification))\n",
    "\n",
    "            # Update latitude and longitude for car movement\n",
    "            latitude += random.uniform(-0.01, 0.01)\n",
    "            longitude += random.uniform(-0.01, 0.01)\n",
    "\n",
    "            # Check if the car is among the 1% that can have 100 notifications within 5 minutes\n",
    "            if random.random() < 0.01:\n",
    "                burst_start_time = current_time + timedelta(minutes=random.uniform(0, interval))\n",
    "                burst_end_time = burst_start_time + timedelta(minutes=5)\n",
    "                while current_time < burst_end_time:\n",
    "                    notification = random.choice([\"low_fuel\", \"tire_pressure\", \"engine_check\", None])\n",
    "                    data.append((f\"car_{car_id}\", current_time.isoformat(), latitude, longitude, notification))\n",
    "                    current_time += timedelta(seconds=random.uniform(1, 10))\n",
    "\n",
    "            current_time += timedelta(minutes=interval)\n",
    "\n",
    "    # Create a Polars DataFrame from the generated data\n",
    "    df = pl.DataFrame(\n",
    "        {\n",
    "            \"car_id\": [record[0] for record in data],\n",
    "            \"timestamp\": [record[1] for record in data],\n",
    "            \"latitude\": [record[2] for record in data],\n",
    "            \"longitude\": [record[3] for record in data],\n",
    "            \"notification\": [record[4] for record in data],\n",
    "        }\n",
    "    )\n",
    "\n",
    "    return df.lazy()"
   ]
  },
  {
   "cell_type": "code",
   "execution_count": 51,
   "metadata": {},
   "outputs": [
    {
     "name": "stdout",
     "output_type": "stream",
     "text": [
      "shape: (5, 5)\n",
      "┌────────┬────────────────────────────┬───────────┬────────────┬───────────────┐\n",
      "│ car_id ┆ timestamp                  ┆ latitude  ┆ longitude  ┆ notification  │\n",
      "│ ---    ┆ ---                        ┆ ---       ┆ ---        ┆ ---           │\n",
      "│ str    ┆ str                        ┆ f64       ┆ f64        ┆ str           │\n",
      "╞════════╪════════════════════════════╪═══════════╪════════════╪═══════════════╡\n",
      "│ car_0  ┆ 2023-01-01T00:00:00        ┆ 31.619685 ┆ -88.849536 ┆ null          │\n",
      "│ car_0  ┆ 2023-01-01T00:19:16.934859 ┆ 31.619685 ┆ -88.849536 ┆ low_fuel      │\n",
      "│ car_0  ┆ 2023-01-01T00:30:00        ┆ 31.628011 ┆ -88.855186 ┆ null          │\n",
      "│ car_0  ┆ 2023-01-01T00:40:31.791731 ┆ 31.628011 ┆ -88.855186 ┆ tire_pressure │\n",
      "│ car_0  ┆ 2023-01-01T00:33:56.583517 ┆ 31.628011 ┆ -88.855186 ┆ null          │\n",
      "└────────┴────────────────────────────┴───────────┴────────────┴───────────────┘\n"
     ]
    }
   ],
   "source": [
    "num_cars = 1000\n",
    "start_time = datetime(2023, 1, 1, 0, 0, 0)  # Start of the week\n",
    "end_time = start_time + timedelta(weeks=1)  # End of the week\n",
    "working_hours_interval = 5  # Interval of 5 minutes during working hours\n",
    "non_working_hours_interval = 30  # Interval of 30 minutes during non-working hours\n",
    "\n",
    "# Generate the dummy data\n",
    "data = generate_dummy_data(num_cars, start_time, end_time, working_hours_interval, non_working_hours_interval)\n",
    "\n",
    "# Print the first few rows of the generated data\n",
    "print(data.head().collect())"
   ]
  },
  {
   "cell_type": "markdown",
   "metadata": {},
   "source": [
    "## Limpieza de datos"
   ]
  },
  {
   "cell_type": "markdown",
   "metadata": {},
   "source": [
    "### Timestamp"
   ]
  },
  {
   "cell_type": "markdown",
   "metadata": {},
   "source": [
    "Convierte el `timestamp` que actualmente es string a formato de tiempo en polars"
   ]
  },
  {
   "cell_type": "code",
   "execution_count": 52,
   "metadata": {},
   "outputs": [
    {
     "name": "stderr",
     "output_type": "stream",
     "text": [
      "/var/folders/19/9kqb3cd921sd204qnh8grxs40000gn/T/ipykernel_52942/3659594967.py:2: ChronoFormatWarning: Detected the pattern `.%f` in the chrono format string. This pattern should not be used to parse values after a decimal point. Use `%.f` instead. See the full specification: https://docs.rs/chrono/latest/chrono/format/strftime\n",
      "  pl.col(\"timestamp\").str.strptime(pl.Datetime, format=\"%Y-%m-%dT%H:%M:%S.%f\", strict=False).alias(\"timestamp\")\n"
     ]
    },
    {
     "name": "stdout",
     "output_type": "stream",
     "text": [
      "shape: (5, 5)\n",
      "┌────────┬────────────────────────────┬───────────┬────────────┬───────────────┐\n",
      "│ car_id ┆ timestamp                  ┆ latitude  ┆ longitude  ┆ notification  │\n",
      "│ ---    ┆ ---                        ┆ ---       ┆ ---        ┆ ---           │\n",
      "│ str    ┆ datetime[μs]               ┆ f64       ┆ f64        ┆ str           │\n",
      "╞════════╪════════════════════════════╪═══════════╪════════════╪═══════════════╡\n",
      "│ car_0  ┆ null                       ┆ 31.619685 ┆ -88.849536 ┆ null          │\n",
      "│ car_0  ┆ 2023-01-01 00:19:16.000934 ┆ 31.619685 ┆ -88.849536 ┆ low_fuel      │\n",
      "│ car_0  ┆ null                       ┆ 31.628011 ┆ -88.855186 ┆ null          │\n",
      "│ car_0  ┆ 2023-01-01 00:40:31.000791 ┆ 31.628011 ┆ -88.855186 ┆ tire_pressure │\n",
      "│ car_0  ┆ 2023-01-01 00:33:56.000583 ┆ 31.628011 ┆ -88.855186 ┆ null          │\n",
      "└────────┴────────────────────────────┴───────────┴────────────┴───────────────┘\n"
     ]
    }
   ],
   "source": [
    "data = data.with_columns(\n",
    "    pl.col(\"timestamp\").str.strptime(pl.Datetime, format=\"%Y-%m-%dT%H:%M:%S.%f\", strict=False).alias(\"timestamp\")\n",
    ")\n",
    "\n",
    "data = data.collect()\n",
    "print(data.head())"
   ]
  },
  {
   "cell_type": "markdown",
   "metadata": {},
   "source": [
    "### Ingenieria de variables"
   ]
  },
  {
   "cell_type": "markdown",
   "metadata": {},
   "source": [
    "Dado que va a entrar a un modelo de machine learning es encesario que todas las variables sean numericas, y esten en formnato tidy. Cada observacion en una fila, y cada variable en una columna. Por lo tanto se decidio crear estadisticos y agregar los datos a intervalos uniformes de `x` minutos.  \n",
    "\n",
    "Por ejemplo, colapsar toda la informacion que ocurrion en el intervalo, como el numero de notificaciones en esos 5 minutos, el promedio entre notificaciones, y el tipo de notificaciones."
   ]
  },
  {
   "cell_type": "markdown",
   "metadata": {},
   "source": [
    "Existen varias formas de hacer esto, puedes hacerlo con `group_by` primero para crear las nuevas variables, o `group_by` (`rolling`, `dynamic`) usando operaciones sobre listas. Utiliza claude o chat_gpt"
   ]
  },
  {
   "cell_type": "markdown",
   "metadata": {},
   "source": [
    "1. Crea una nueva variable que compute la diferencia de tiempo entre notificaciones del mismo vehiculo. Piensa como lo vas a hacer. Llama a esta variable `notification_time`\n",
    "   \n"
   ]
  },
  {
   "cell_type": "code",
   "execution_count": 53,
   "metadata": {},
   "outputs": [
    {
     "name": "stdout",
     "output_type": "stream",
     "text": [
      "shape: (5, 6)\n",
      "┌────────┬────────────────────────────┬───────────┬────────────┬───────────────┬───────────────────┐\n",
      "│ car_id ┆ timestamp                  ┆ latitude  ┆ longitude  ┆ notification  ┆ notification_time │\n",
      "│ ---    ┆ ---                        ┆ ---       ┆ ---        ┆ ---           ┆ ---               │\n",
      "│ str    ┆ datetime[μs]               ┆ f64       ┆ f64        ┆ str           ┆ i64               │\n",
      "╞════════╪════════════════════════════╪═══════════╪════════════╪═══════════════╪═══════════════════╡\n",
      "│ car_0  ┆ null                       ┆ 31.619685 ┆ -88.849536 ┆ null          ┆ null              │\n",
      "│ car_0  ┆ 2023-01-01 00:19:16.000934 ┆ 31.619685 ┆ -88.849536 ┆ low_fuel      ┆ null              │\n",
      "│ car_0  ┆ null                       ┆ 31.628011 ┆ -88.855186 ┆ null          ┆ null              │\n",
      "│ car_0  ┆ 2023-01-01 00:40:31.000791 ┆ 31.628011 ┆ -88.855186 ┆ tire_pressure ┆ null              │\n",
      "│ car_0  ┆ 2023-01-01 00:33:56.000583 ┆ 31.628011 ┆ -88.855186 ┆ null          ┆ -395000208        │\n",
      "└────────┴────────────────────────────┴───────────┴────────────┴───────────────┴───────────────────┘\n"
     ]
    }
   ],
   "source": [
    "data = data.with_columns(\n",
    "    pl.col(\"timestamp\")\n",
    "    .diff()  \n",
    "    .cast(pl.Int64)\n",
    "    .over(\"car_id\")\n",
    "    .alias(\"notification_time\")\n",
    ")\n",
    "\n",
    "print(data.head())"
   ]
  },
  {
   "cell_type": "markdown",
   "metadata": {},
   "source": [
    "2. Crea una nueva variable que compute la distancia que viajo el vehiculo desde la ultima notificacion. Llamala `distance`"
   ]
  },
  {
   "cell_type": "code",
   "execution_count": 54,
   "metadata": {},
   "outputs": [
    {
     "name": "stderr",
     "output_type": "stream",
     "text": [
      "/var/folders/19/9kqb3cd921sd204qnh8grxs40000gn/T/ipykernel_52942/3240703342.py:11: MapWithoutReturnDtypeWarning: Calling `map_elements` without specifying `return_dtype` can lead to unpredictable results. Specify `return_dtype` to silence this warning.\n",
      "  data = data.with_columns([\n"
     ]
    },
    {
     "name": "stdout",
     "output_type": "stream",
     "text": [
      "shape: (5, 9)\n",
      "┌────────┬────────────┬───────────┬────────────┬───┬───────────┬───────────┬───────────┬───────────┐\n",
      "│ car_id ┆ timestamp  ┆ latitude  ┆ longitude  ┆ … ┆ notificat ┆ prev_lati ┆ prev_long ┆ distance  │\n",
      "│ ---    ┆ ---        ┆ ---       ┆ ---        ┆   ┆ ion_time  ┆ tude      ┆ itude     ┆ ---       │\n",
      "│ str    ┆ datetime[μ ┆ f64       ┆ f64        ┆   ┆ ---       ┆ ---       ┆ ---       ┆ f64       │\n",
      "│        ┆ s]         ┆           ┆            ┆   ┆ i64       ┆ f64       ┆ f64       ┆           │\n",
      "╞════════╪════════════╪═══════════╪════════════╪═══╪═══════════╪═══════════╪═══════════╪═══════════╡\n",
      "│ car_0  ┆ null       ┆ 31.619685 ┆ -88.849536 ┆ … ┆ null      ┆ null      ┆ null      ┆ null      │\n",
      "│ car_0  ┆ 2023-01-01 ┆ 31.619685 ┆ -88.849536 ┆ … ┆ null      ┆ 31.619685 ┆ -88.84953 ┆ 0.0       │\n",
      "│        ┆ 00:19:16.0 ┆           ┆            ┆   ┆           ┆           ┆ 6         ┆           │\n",
      "│        ┆ 00934      ┆           ┆            ┆   ┆           ┆           ┆           ┆           │\n",
      "│ car_0  ┆ null       ┆ 31.628011 ┆ -88.855186 ┆ … ┆ null      ┆ 31.619685 ┆ -88.84953 ┆ 1067.5518 │\n",
      "│        ┆            ┆           ┆            ┆   ┆           ┆           ┆ 6         ┆ 02        │\n",
      "│ car_0  ┆ 2023-01-01 ┆ 31.628011 ┆ -88.855186 ┆ … ┆ null      ┆ 31.628011 ┆ -88.85518 ┆ 0.0       │\n",
      "│        ┆ 00:40:31.0 ┆           ┆            ┆   ┆           ┆           ┆ 6         ┆           │\n",
      "│        ┆ 00791      ┆           ┆            ┆   ┆           ┆           ┆           ┆           │\n",
      "│ car_0  ┆ 2023-01-01 ┆ 31.628011 ┆ -88.855186 ┆ … ┆ -39500020 ┆ 31.628011 ┆ -88.85518 ┆ 0.0       │\n",
      "│        ┆ 00:33:56.0 ┆           ┆            ┆   ┆ 8         ┆           ┆ 6         ┆           │\n",
      "│        ┆ 00583      ┆           ┆            ┆   ┆           ┆           ┆           ┆           │\n",
      "└────────┴────────────┴───────────┴────────────┴───┴───────────┴───────────┴───────────┴───────────┘\n"
     ]
    }
   ],
   "source": [
    "from geopy import distance\n",
    "\n",
    "def dist(prev_lat, prev_lon, lat, lon):\n",
    "    if prev_lat is None or prev_lon is None:\n",
    "        return None  \n",
    "    \n",
    "    aux = distance.geodesic((prev_lat, prev_lon), (lat, lon)).meters\n",
    "\n",
    "    return aux\n",
    "\n",
    "data = data.with_columns([\n",
    "    pl.col(\"latitude\").shift(1).over(\"car_id\").alias(\"prev_latitude\"),\n",
    "    pl.col(\"longitude\").shift(1).over(\"car_id\").alias(\"prev_longitude\"),]).with_columns(\n",
    "        pl.struct([\"prev_latitude\", \"prev_longitude\", \"latitude\", \"longitude\"])\n",
    "        .map_elements(lambda row: dist(row[\"prev_latitude\"], row[\"prev_longitude\"], row[\"latitude\"], row[\"longitude\"]))\n",
    "        .alias(\"distance\")\n",
    ")\n",
    "\n",
    "print(data.head())"
   ]
  },
  {
   "cell_type": "markdown",
   "metadata": {},
   "source": [
    "3. Crea intervalos de `x` minutos por carro. Como el numero de notificaciones en esos intervalos no es uniforme tienes que buscar funciones de polars especificas, pero ademas tienen que ser por vehiculo, pues tienen que ser del mismo. Revisa las funciones de `group_by` `dynamic` y `rolling`.\n",
    "   1. Computa la media, mediana, varianza, max y min de `notification_time` los intervalos de `x` minutos\n",
    "   2. Computa la media, mediana, varianza, max y min de `distance`\n"
   ]
  },
  {
   "cell_type": "code",
   "execution_count": 55,
   "metadata": {},
   "outputs": [
    {
     "name": "stderr",
     "output_type": "stream",
     "text": [
      "/var/folders/19/9kqb3cd921sd204qnh8grxs40000gn/T/ipykernel_52942/2416787850.py:3: DeprecationWarning: The argument `by` for `LazyFrame.group_by_dynamic` is deprecated. It has been renamed to `group_by`.\n",
      "  data\n"
     ]
    }
   ],
   "source": [
    "data = data.lazy()\n",
    "data = (\n",
    "    data\n",
    "    .with_columns([\n",
    "        pl.col(\"car_id\"),\n",
    "        pl.col(\"timestamp\"),\n",
    "        pl.col(\"notification_time\")\n",
    "        .fill_null(0) \n",
    "        .cast(pl.Float64),  \n",
    "        pl.col(\"distance\")\n",
    "        .fill_null(0) \n",
    "        .cast(pl.Float64),\n",
    "    ])\n",
    "    .group_by_dynamic(\n",
    "        index_column=\"timestamp\",\n",
    "        by=\"car_id\",  \n",
    "        every=\"5m\",\n",
    "        closed=\"left\"  \n",
    "    )\n",
    "    .agg([\n",
    "        pl.col(\"notification_time\").mean().alias(\"notification_time_mean\"),\n",
    "        pl.col(\"notification_time\").median().alias(\"notification_time_median\"),\n",
    "        pl.col(\"notification_time\").var().alias(\"notification_time_variance\"),\n",
    "        pl.col(\"notification_time\").max().alias(\"notification_time_max\"),\n",
    "        pl.col(\"notification_time\").min().alias(\"notification_time_min\"),\n",
    "        pl.col(\"distance\").mean().alias(\"distance_mean\"),\n",
    "        pl.col(\"distance\").median().alias(\"distance_median\"),\n",
    "        pl.col(\"distance\").var().alias(\"distance_variance\"),\n",
    "        pl.col(\"distance\").max().alias(\"distance_max\"),\n",
    "        pl.col(\"distance\").min().alias(\"distance_min\"),\n",
    "    ])\n",
    ")"
   ]
  },
  {
   "cell_type": "code",
   "execution_count": 57,
   "metadata": {},
   "outputs": [
    {
     "ename": "ComputeError",
     "evalue": "null values in dynamic group_by not supported, fill nulls.",
     "output_type": "error",
     "traceback": [
      "\u001b[0;31m---------------------------------------------------------------------------\u001b[0m",
      "\u001b[0;31mComputeError\u001b[0m                              Traceback (most recent call last)",
      "Cell \u001b[0;32mIn[57], line 1\u001b[0m\n\u001b[0;32m----> 1\u001b[0m \u001b[43mdata\u001b[49m\u001b[38;5;241;43m.\u001b[39;49m\u001b[43mcollect\u001b[49m\u001b[43m(\u001b[49m\u001b[43m)\u001b[49m\u001b[38;5;241m.\u001b[39mhead()\n",
      "File \u001b[0;32m~/Library/Python/3.9/lib/python/site-packages/polars/lazyframe/frame.py:2021\u001b[0m, in \u001b[0;36mLazyFrame.collect\u001b[0;34m(self, type_coercion, predicate_pushdown, projection_pushdown, simplify_expression, slice_pushdown, comm_subplan_elim, comm_subexpr_elim, cluster_with_columns, collapse_joins, no_optimization, streaming, engine, background, _eager, **_kwargs)\u001b[0m\n\u001b[1;32m   2019\u001b[0m \u001b[38;5;66;03m# Only for testing purposes\u001b[39;00m\n\u001b[1;32m   2020\u001b[0m callback \u001b[38;5;241m=\u001b[39m _kwargs\u001b[38;5;241m.\u001b[39mget(\u001b[38;5;124m\"\u001b[39m\u001b[38;5;124mpost_opt_callback\u001b[39m\u001b[38;5;124m\"\u001b[39m, callback)\n\u001b[0;32m-> 2021\u001b[0m \u001b[38;5;28;01mreturn\u001b[39;00m wrap_df(\u001b[43mldf\u001b[49m\u001b[38;5;241;43m.\u001b[39;49m\u001b[43mcollect\u001b[49m\u001b[43m(\u001b[49m\u001b[43mcallback\u001b[49m\u001b[43m)\u001b[49m)\n",
      "\u001b[0;31mComputeError\u001b[0m: null values in dynamic group_by not supported, fill nulls."
     ]
    }
   ],
   "source": [
    "data.collect().head()"
   ]
  }
 ],
 "metadata": {
  "kernelspec": {
   "display_name": "itam",
   "language": "python",
   "name": "python3"
  },
  "language_info": {
   "codemirror_mode": {
    "name": "ipython",
    "version": 3
   },
   "file_extension": ".py",
   "mimetype": "text/x-python",
   "name": "python",
   "nbconvert_exporter": "python",
   "pygments_lexer": "ipython3",
   "version": "3.10.9"
  }
 },
 "nbformat": 4,
 "nbformat_minor": 2
}
