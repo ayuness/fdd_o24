{
 "cells": [
  {
   "cell_type": "markdown",
   "metadata": {},
   "source": [
    "<a target=\"_blank\" href=\"https://colab.research.google.com/github/sonder-art/fdd_o23/blob/main/codigo/polars/04_ejercicio_polars.ipynb\">\n",
    "  <img src=\"https://colab.research.google.com/assets/colab-badge.svg\" alt=\"Open In Colab\"/>\n",
    "</a>"
   ]
  },
  {
   "cell_type": "code",
   "execution_count": 2,
   "metadata": {},
   "outputs": [
    {
     "name": "stdout",
     "output_type": "stream",
     "text": [
      "Defaulting to user installation because normal site-packages is not writeable\n",
      "Collecting polars\n",
      "  Downloading polars-1.13.1-cp39-abi3-macosx_11_0_arm64.whl.metadata (14 kB)\n",
      "Downloading polars-1.13.1-cp39-abi3-macosx_11_0_arm64.whl (30.1 MB)\n",
      "\u001b[2K   \u001b[90m━━━━━━━━━━━━━━━━━━━━━━━━━━━━━━━━━━━━━━━━\u001b[0m \u001b[32m30.1/30.1 MB\u001b[0m \u001b[31m4.5 MB/s\u001b[0m eta \u001b[36m0:00:00\u001b[0m00:01\u001b[0m00:01\u001b[0m\n",
      "\u001b[?25hInstalling collected packages: polars\n",
      "Successfully installed polars-1.13.1\n",
      "\n",
      "\u001b[1m[\u001b[0m\u001b[34;49mnotice\u001b[0m\u001b[1;39;49m]\u001b[0m\u001b[39;49m A new release of pip is available: \u001b[0m\u001b[31;49m24.2\u001b[0m\u001b[39;49m -> \u001b[0m\u001b[32;49m24.3.1\u001b[0m\n",
      "\u001b[1m[\u001b[0m\u001b[34;49mnotice\u001b[0m\u001b[1;39;49m]\u001b[0m\u001b[39;49m To update, run: \u001b[0m\u001b[32;49m/Library/Developer/CommandLineTools/usr/bin/python3 -m pip install --upgrade pip\u001b[0m\n"
     ]
    }
   ],
   "source": [
    "!pip install polars"
   ]
  },
  {
   "cell_type": "code",
   "execution_count": 3,
   "metadata": {},
   "outputs": [],
   "source": [
    "import polars as pl\n",
    "import random\n",
    "import string\n"
   ]
  },
  {
   "cell_type": "markdown",
   "metadata": {},
   "source": [
    "# Generacion de Datos"
   ]
  },
  {
   "cell_type": "code",
   "execution_count": 6,
   "metadata": {},
   "outputs": [
    {
     "data": {
      "text/html": [
       "<div><style>\n",
       ".dataframe > thead > tr,\n",
       ".dataframe > tbody > tr {\n",
       "  text-align: right;\n",
       "  white-space: pre-wrap;\n",
       "}\n",
       "</style>\n",
       "<small>shape: (5, 6)</small><table border=\"1\" class=\"dataframe\"><thead><tr><th>id_venta</th><th>producto</th><th>cantidad</th><th>precio_unitario</th><th>fecha_venta</th><th>cliente_id</th></tr><tr><td>i64</td><td>str</td><td>i64</td><td>f64</td><td>object</td><td>i64</td></tr></thead><tbody><tr><td>1</td><td>&quot;dlzom&quot;</td><td>18</td><td>54.630622</td><td>2015-10-14 00:00:00.alias(&quot;datetime&quot;).strict_cast(Date).alias(&quot;date&quot;)</td><td>1914</td></tr><tr><td>2</td><td>&quot;gdomh&quot;</td><td>2</td><td>87.946336</td><td>2011-04-10 00:00:00.alias(&quot;datetime&quot;).strict_cast(Date).alias(&quot;date&quot;)</td><td>4134</td></tr><tr><td>3</td><td>&quot;ljnkm&quot;</td><td>3</td><td>66.622685</td><td>2020-03-25 00:00:00.alias(&quot;datetime&quot;).strict_cast(Date).alias(&quot;date&quot;)</td><td>4943</td></tr><tr><td>4</td><td>&quot;bxvel&quot;</td><td>16</td><td>32.152501</td><td>2015-01-28 00:00:00.alias(&quot;datetime&quot;).strict_cast(Date).alias(&quot;date&quot;)</td><td>1599</td></tr><tr><td>5</td><td>&quot;wfhos&quot;</td><td>10</td><td>50.654158</td><td>2010-05-03 00:00:00.alias(&quot;datetime&quot;).strict_cast(Date).alias(&quot;date&quot;)</td><td>1176</td></tr></tbody></table></div>"
      ],
      "text/plain": [
       "shape: (5, 6)\n",
       "┌──────────┬──────────┬──────────┬─────────────────┬─────────────────────────────────┬────────────┐\n",
       "│ id_venta ┆ producto ┆ cantidad ┆ precio_unitario ┆ fecha_venta                     ┆ cliente_id │\n",
       "│ ---      ┆ ---      ┆ ---      ┆ ---             ┆ ---                             ┆ ---        │\n",
       "│ i64      ┆ str      ┆ i64      ┆ f64             ┆ object                          ┆ i64        │\n",
       "╞══════════╪══════════╪══════════╪═════════════════╪═════════════════════════════════╪════════════╡\n",
       "│ 1        ┆ dlzom    ┆ 18       ┆ 54.630622       ┆ 2015-10-14 00:00:00.alias(\"dat… ┆ 1914       │\n",
       "│ 2        ┆ gdomh    ┆ 2        ┆ 87.946336       ┆ 2011-04-10 00:00:00.alias(\"dat… ┆ 4134       │\n",
       "│ 3        ┆ ljnkm    ┆ 3        ┆ 66.622685       ┆ 2020-03-25 00:00:00.alias(\"dat… ┆ 4943       │\n",
       "│ 4        ┆ bxvel    ┆ 16       ┆ 32.152501       ┆ 2015-01-28 00:00:00.alias(\"dat… ┆ 1599       │\n",
       "│ 5        ┆ wfhos    ┆ 10       ┆ 50.654158       ┆ 2010-05-03 00:00:00.alias(\"dat… ┆ 1176       │\n",
       "└──────────┴──────────┴──────────┴─────────────────┴─────────────────────────────────┴────────────┘"
      ]
     },
     "execution_count": 6,
     "metadata": {},
     "output_type": "execute_result"
    }
   ],
   "source": [
    "# Funciones auxiliares para generar datos\n",
    "def random_string(length=5):\n",
    "    letters = string.ascii_lowercase\n",
    "    return ''.join(random.choice(letters) for i in range(length))\n",
    "\n",
    "def generate_data(n=1000):\n",
    "    data = {\n",
    "        \"id_venta\": list(range(1, n + 1)),\n",
    "        \"producto\": [random_string() for _ in range(n)],\n",
    "        \"cantidad\": [random.randint(1, 20) for _ in range(n)],\n",
    "        \"precio_unitario\": [random.uniform(10, 100) for _ in range(n)],\n",
    "        \"fecha_venta\": [pl.date(random.randint(2010, 2022), random.randint(1, 12), random.randint(1, 28)) for _ in range(n)],\n",
    "        \"cliente_id\": [random.randint(1000, 5000) for _ in range(n)]\n",
    "    }\n",
    "    return pl.DataFrame(data)\n",
    "\n",
    "# Generar el DataFrame\n",
    "df = generate_data()\n",
    "df.head()"
   ]
  },
  {
   "cell_type": "code",
   "execution_count": 7,
   "metadata": {},
   "outputs": [
    {
     "data": {
      "text/html": [
       "<i>naive plan: (run <b>LazyFrame.explain(optimized=True)</b> to see the optimized plan)</i>\n",
       "    <p></p>\n",
       "    <div>DF [\"id_venta\", \"producto\", \"cantidad\", \"precio_unitario\"]; PROJECT */6 COLUMNS; SELECTION: None</div>"
      ],
      "text/plain": [
       "<LazyFrame at 0x10C948B80>"
      ]
     },
     "execution_count": 7,
     "metadata": {},
     "output_type": "execute_result"
    }
   ],
   "source": [
    "df = df.lazy()\n",
    "df"
   ]
  },
  {
   "cell_type": "markdown",
   "metadata": {},
   "source": [
    "# Limpieza de Datos"
   ]
  },
  {
   "cell_type": "markdown",
   "metadata": {},
   "source": [
    "Utilizando Polars en modo Lazy, realice las siguientes operaciones de limpieza y manipulación de datos:\n",
    "\n",
    "    1. `Filtrar` las ventas con cantidades menores a 5.\n",
    "    2. `Agregar` una nueva columna llamada total_venta, que sea el resultado de multiplicar cantidad por precio_unitario.\n",
    "    3. `Eliminar` la columna precio_unitario después de crear total_venta.\n",
    "    4. `Agrupar` los datos por producto y calcular el total vendido y la cantidad total vendida por producto.\n",
    "    5. `Ordenar` los resultados por el total vendido en orden descendente."
   ]
  },
  {
   "cell_type": "markdown",
   "metadata": {},
   "source": [
    "Todo esto lo debes de realizar en una sola linea de codigo"
   ]
  },
  {
   "cell_type": "code",
   "execution_count": 24,
   "metadata": {},
   "outputs": [
    {
     "data": {
      "text/html": [
       "<div><style>\n",
       ".dataframe > thead > tr,\n",
       ".dataframe > tbody > tr {\n",
       "  text-align: right;\n",
       "  white-space: pre-wrap;\n",
       "}\n",
       "</style>\n",
       "<small>shape: (187, 3)</small><table border=\"1\" class=\"dataframe\"><thead><tr><th>producto</th><th>total_vendido</th><th>cantidad_total_vendida</th></tr><tr><td>str</td><td>f64</td><td>i64</td></tr></thead><tbody><tr><td>&quot;ijenf&quot;</td><td>391.488223</td><td>4</td></tr><tr><td>&quot;oagch&quot;</td><td>391.097361</td><td>4</td></tr><tr><td>&quot;rbqdw&quot;</td><td>387.015869</td><td>4</td></tr><tr><td>&quot;jopgf&quot;</td><td>358.665751</td><td>4</td></tr><tr><td>&quot;zaglg&quot;</td><td>347.515665</td><td>4</td></tr><tr><td>&hellip;</td><td>&hellip;</td><td>&hellip;</td></tr><tr><td>&quot;fwusk&quot;</td><td>22.968338</td><td>1</td></tr><tr><td>&quot;bgwqw&quot;</td><td>20.910128</td><td>1</td></tr><tr><td>&quot;gsguf&quot;</td><td>20.712569</td><td>2</td></tr><tr><td>&quot;uecsu&quot;</td><td>20.618779</td><td>2</td></tr><tr><td>&quot;lkooy&quot;</td><td>13.976782</td><td>1</td></tr></tbody></table></div>"
      ],
      "text/plain": [
       "shape: (187, 3)\n",
       "┌──────────┬───────────────┬────────────────────────┐\n",
       "│ producto ┆ total_vendido ┆ cantidad_total_vendida │\n",
       "│ ---      ┆ ---           ┆ ---                    │\n",
       "│ str      ┆ f64           ┆ i64                    │\n",
       "╞══════════╪═══════════════╪════════════════════════╡\n",
       "│ ijenf    ┆ 391.488223    ┆ 4                      │\n",
       "│ oagch    ┆ 391.097361    ┆ 4                      │\n",
       "│ rbqdw    ┆ 387.015869    ┆ 4                      │\n",
       "│ jopgf    ┆ 358.665751    ┆ 4                      │\n",
       "│ zaglg    ┆ 347.515665    ┆ 4                      │\n",
       "│ …        ┆ …             ┆ …                      │\n",
       "│ fwusk    ┆ 22.968338     ┆ 1                      │\n",
       "│ bgwqw    ┆ 20.910128     ┆ 1                      │\n",
       "│ gsguf    ┆ 20.712569     ┆ 2                      │\n",
       "│ uecsu    ┆ 20.618779     ┆ 2                      │\n",
       "│ lkooy    ┆ 13.976782     ┆ 1                      │\n",
       "└──────────┴───────────────┴────────────────────────┘"
      ]
     },
     "execution_count": 24,
     "metadata": {},
     "output_type": "execute_result"
    }
   ],
   "source": [
    "\n",
    "lazy_df = df.lazy()\n",
    "\n",
    "# Realizar las operaciones de limpieza y manipulación\n",
    "resultado = (\n",
    "    lazy_df\n",
    "    .filter(pl.col(\"cantidad\") < 5) # 1\n",
    "    .with_columns([\n",
    "        (pl.col(\"cantidad\") * pl.col(\"precio_unitario\")).alias(\"total_venta\") # 2\n",
    "    ])\n",
    "    .drop(\"precio_unitario\") # 3\n",
    "    .group_by(\"producto\")\n",
    "    .agg([\n",
    "        pl.sum(\"total_venta\").alias(\"total_vendido\"), # 4\n",
    "        pl.sum(\"cantidad\").alias(\"cantidad_total_vendida\")\n",
    "    ])\n",
    "    .sort(\"total_vendido\", descending=True) # 5\n",
    ")\n",
    "\n",
    "# Ejecutar y mostrar los resultados\n",
    "resultado_df = resultado.collect()\n",
    "resultado_df"
   ]
  },
  {
   "cell_type": "markdown",
   "metadata": {},
   "source": [
    "# Guarda el resultado en un archivo `parquet`"
   ]
  },
  {
   "cell_type": "markdown",
   "metadata": {},
   "source": [
    "Guarda el resultado en un archivo parquet que se llame `resultados.parquet`"
   ]
  },
  {
   "cell_type": "code",
   "execution_count": 25,
   "metadata": {},
   "outputs": [],
   "source": [
    "# Tu codigo aqui\n",
    "resultado_df.write_parquet(\"resultado.parquet\")"
   ]
  },
  {
   "cell_type": "markdown",
   "metadata": {},
   "source": [
    "# Lee Parquet"
   ]
  },
  {
   "cell_type": "markdown",
   "metadata": {},
   "source": [
    "Crea codigo para leer en polars el archivo parquet"
   ]
  },
  {
   "cell_type": "code",
   "execution_count": 26,
   "metadata": {},
   "outputs": [
    {
     "data": {
      "text/html": [
       "<div><style>\n",
       ".dataframe > thead > tr,\n",
       ".dataframe > tbody > tr {\n",
       "  text-align: right;\n",
       "  white-space: pre-wrap;\n",
       "}\n",
       "</style>\n",
       "<small>shape: (187, 3)</small><table border=\"1\" class=\"dataframe\"><thead><tr><th>producto</th><th>total_vendido</th><th>cantidad_total_vendida</th></tr><tr><td>str</td><td>f64</td><td>i64</td></tr></thead><tbody><tr><td>&quot;ijenf&quot;</td><td>391.488223</td><td>4</td></tr><tr><td>&quot;oagch&quot;</td><td>391.097361</td><td>4</td></tr><tr><td>&quot;rbqdw&quot;</td><td>387.015869</td><td>4</td></tr><tr><td>&quot;jopgf&quot;</td><td>358.665751</td><td>4</td></tr><tr><td>&quot;zaglg&quot;</td><td>347.515665</td><td>4</td></tr><tr><td>&hellip;</td><td>&hellip;</td><td>&hellip;</td></tr><tr><td>&quot;fwusk&quot;</td><td>22.968338</td><td>1</td></tr><tr><td>&quot;bgwqw&quot;</td><td>20.910128</td><td>1</td></tr><tr><td>&quot;gsguf&quot;</td><td>20.712569</td><td>2</td></tr><tr><td>&quot;uecsu&quot;</td><td>20.618779</td><td>2</td></tr><tr><td>&quot;lkooy&quot;</td><td>13.976782</td><td>1</td></tr></tbody></table></div>"
      ],
      "text/plain": [
       "shape: (187, 3)\n",
       "┌──────────┬───────────────┬────────────────────────┐\n",
       "│ producto ┆ total_vendido ┆ cantidad_total_vendida │\n",
       "│ ---      ┆ ---           ┆ ---                    │\n",
       "│ str      ┆ f64           ┆ i64                    │\n",
       "╞══════════╪═══════════════╪════════════════════════╡\n",
       "│ ijenf    ┆ 391.488223    ┆ 4                      │\n",
       "│ oagch    ┆ 391.097361    ┆ 4                      │\n",
       "│ rbqdw    ┆ 387.015869    ┆ 4                      │\n",
       "│ jopgf    ┆ 358.665751    ┆ 4                      │\n",
       "│ zaglg    ┆ 347.515665    ┆ 4                      │\n",
       "│ …        ┆ …             ┆ …                      │\n",
       "│ fwusk    ┆ 22.968338     ┆ 1                      │\n",
       "│ bgwqw    ┆ 20.910128     ┆ 1                      │\n",
       "│ gsguf    ┆ 20.712569     ┆ 2                      │\n",
       "│ uecsu    ┆ 20.618779     ┆ 2                      │\n",
       "│ lkooy    ┆ 13.976782     ┆ 1                      │\n",
       "└──────────┴───────────────┴────────────────────────┘"
      ]
     },
     "execution_count": 26,
     "metadata": {},
     "output_type": "execute_result"
    }
   ],
   "source": [
    "# Tu codigo aqui\n",
    "pl.read_parquet(\"resultado.parquet\")\n"
   ]
  }
 ],
 "metadata": {
  "kernelspec": {
   "display_name": "Python 3",
   "language": "python",
   "name": "python3"
  },
  "language_info": {
   "codemirror_mode": {
    "name": "ipython",
    "version": 3
   },
   "file_extension": ".py",
   "mimetype": "text/x-python",
   "name": "python",
   "nbconvert_exporter": "python",
   "pygments_lexer": "ipython3",
   "version": "3.9.6"
  }
 },
 "nbformat": 4,
 "nbformat_minor": 2
}
