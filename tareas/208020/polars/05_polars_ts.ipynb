{
 "cells": [
  {
   "cell_type": "code",
   "execution_count": 1,
   "metadata": {},
   "outputs": [],
   "source": [
    "import polars as pl\n",
    "import numpy as np\n",
    "import random\n",
    "from datetime import datetime, timedelta"
   ]
  },
  {
   "cell_type": "markdown",
   "metadata": {},
   "source": [
    "# Descripcion"
   ]
  },
  {
   "cell_type": "markdown",
   "metadata": {},
   "source": [
    "Los datos son notificaciones de dispositivos GPS en Mexico. En promedio generan notificaciones automatizadas cada 5 minutos si el carro esta encendido, y 30 si esta apagado.  \n",
    "\n",
    "Cada notificacion esta acompannada de un evento de lo que esta ocurriendo, y trae la latitud y longitud.  \n",
    "\n",
    "El objetico es predecir si un vehiculo esta siendo robado de acuerdo a sus notificaciones, por lo que el primer paso seria limpiar datos y hacer ingenieria de variables.\n",
    "\n",
    "Trata de hacerlo **lazy** si puedes."
   ]
  },
  {
   "cell_type": "code",
   "execution_count": 3,
   "metadata": {},
   "outputs": [],
   "source": [
    "def generate_dummy_data(num_cars, start_time, end_time, working_hours_interval, non_working_hours_interval):\n",
    "    data = []\n",
    "\n",
    "    # Define the latitude and longitude ranges for Mexico\n",
    "    min_latitude, max_latitude = 14.5388, 32.7186\n",
    "    min_longitude, max_longitude = -118.4662, -86.7104\n",
    "\n",
    "    for car_id in range(num_cars):\n",
    "        current_time = start_time\n",
    "\n",
    "        # Generate random initial latitude and longitude for each car\n",
    "        latitude = random.uniform(min_latitude, max_latitude)\n",
    "        longitude = random.uniform(min_longitude, max_longitude)\n",
    "\n",
    "        while current_time < end_time:\n",
    "            if current_time.weekday() < 5 and 9 <= current_time.hour < 17:\n",
    "                # Working hours (Monday to Friday, 9 AM to 5 PM)\n",
    "                interval = working_hours_interval\n",
    "            else:\n",
    "                # Non-working hours\n",
    "                interval = non_working_hours_interval\n",
    "\n",
    "            # Generate notification with 99% probability\n",
    "            if random.random() < 0.99:\n",
    "                notification = random.choice([\"low_fuel\", \"tire_pressure\", \"engine_check\", None])\n",
    "                data.append((f\"car_{car_id}\", current_time.isoformat(), latitude, longitude, notification))\n",
    "\n",
    "            # Generate additional notifications between intervals\n",
    "            while True:\n",
    "                additional_interval = random.expovariate(1 / (interval / 2))\n",
    "                additional_time = current_time + timedelta(minutes=additional_interval)\n",
    "                if additional_time >= current_time + timedelta(minutes=interval):\n",
    "                    break\n",
    "                notification = random.choice([\"low_fuel\", \"tire_pressure\", \"engine_check\", None])\n",
    "                data.append((f\"car_{car_id}\", additional_time.isoformat(), latitude, longitude, notification))\n",
    "\n",
    "            # Update latitude and longitude for car movement\n",
    "            latitude += random.uniform(-0.01, 0.01)\n",
    "            longitude += random.uniform(-0.01, 0.01)\n",
    "\n",
    "            # Check if the car is among the 1% that can have 100 notifications within 5 minutes\n",
    "            if random.random() < 0.01:\n",
    "                burst_start_time = current_time + timedelta(minutes=random.uniform(0, interval))\n",
    "                burst_end_time = burst_start_time + timedelta(minutes=5)\n",
    "                while current_time < burst_end_time:\n",
    "                    notification = random.choice([\"low_fuel\", \"tire_pressure\", \"engine_check\", None])\n",
    "                    data.append((f\"car_{car_id}\", current_time.isoformat(), latitude, longitude, notification))\n",
    "                    current_time += timedelta(seconds=random.uniform(1, 10))\n",
    "\n",
    "            current_time += timedelta(minutes=interval)\n",
    "\n",
    "    # Create a Polars DataFrame from the generated data\n",
    "    df = pl.DataFrame(\n",
    "        {\n",
    "            \"car_id\": [record[0] for record in data],\n",
    "            \"timestamp\": [record[1] for record in data],\n",
    "            \"latitude\": [record[2] for record in data],\n",
    "            \"longitude\": [record[3] for record in data],\n",
    "            \"notification\": [record[4] for record in data],\n",
    "        }\n",
    "    )\n",
    "\n",
    "    return df.lazy()"
   ]
  },
  {
   "cell_type": "code",
   "execution_count": 4,
   "metadata": {},
   "outputs": [
    {
     "name": "stdout",
     "output_type": "stream",
     "text": [
      "naive plan: (run LazyFrame.explain(optimized=True) to see the optimized plan)\n",
      "\n",
      "SLICE[offset: 0, len: 5]\n",
      "  DF [\"car_id\", \"timestamp\", \"latitude\", \"longitude\"]; PROJECT */5 COLUMNS; SELECTION: None\n"
     ]
    }
   ],
   "source": [
    "num_cars = 1000\n",
    "start_time = datetime(2023, 1, 1, 0, 0, 0)  # Start of the week\n",
    "end_time = start_time + timedelta(weeks=1)  # End of the week\n",
    "working_hours_interval = 5  # Interval of 5 minutes during working hours\n",
    "non_working_hours_interval = 30  # Interval of 30 minutes during non-working hours\n",
    "\n",
    "# Generate the dummy data\n",
    "data = generate_dummy_data(num_cars, start_time, end_time, working_hours_interval, non_working_hours_interval)\n",
    "\n",
    "# Print the first few rows of the generated data\n",
    "print(data.head())"
   ]
  },
  {
   "cell_type": "code",
   "execution_count": 5,
   "metadata": {},
   "outputs": [
    {
     "data": {
      "text/html": [
       "<div><style>\n",
       ".dataframe > thead > tr,\n",
       ".dataframe > tbody > tr {\n",
       "  text-align: right;\n",
       "  white-space: pre-wrap;\n",
       "}\n",
       "</style>\n",
       "<small>shape: (6_300_298, 5)</small><table border=\"1\" class=\"dataframe\"><thead><tr><th>car_id</th><th>timestamp</th><th>latitude</th><th>longitude</th><th>notification</th></tr><tr><td>str</td><td>str</td><td>f64</td><td>f64</td><td>str</td></tr></thead><tbody><tr><td>&quot;car_0&quot;</td><td>&quot;2023-01-01T00:00:00&quot;</td><td>24.692708</td><td>-100.687216</td><td>null</td></tr><tr><td>&quot;car_0&quot;</td><td>&quot;2023-01-01T00:02:53.545944&quot;</td><td>24.692708</td><td>-100.687216</td><td>&quot;tire_pressure&quot;</td></tr><tr><td>&quot;car_0&quot;</td><td>&quot;2023-01-01T00:21:58.165712&quot;</td><td>24.692708</td><td>-100.687216</td><td>null</td></tr><tr><td>&quot;car_0&quot;</td><td>&quot;2023-01-01T00:05:46.836696&quot;</td><td>24.692708</td><td>-100.687216</td><td>&quot;engine_check&quot;</td></tr><tr><td>&quot;car_0&quot;</td><td>&quot;2023-01-01T00:04:53.455242&quot;</td><td>24.692708</td><td>-100.687216</td><td>null</td></tr><tr><td>&hellip;</td><td>&hellip;</td><td>&hellip;</td><td>&hellip;</td><td>&hellip;</td></tr><tr><td>&quot;car_999&quot;</td><td>&quot;2023-01-08T00:09:14.174353&quot;</td><td>30.362038</td><td>-90.961233</td><td>&quot;engine_check&quot;</td></tr><tr><td>&quot;car_999&quot;</td><td>&quot;2023-01-07T23:54:27.573992&quot;</td><td>30.362038</td><td>-90.961233</td><td>&quot;low_fuel&quot;</td></tr><tr><td>&quot;car_999&quot;</td><td>&quot;2023-01-08T00:16:52.634620&quot;</td><td>30.362038</td><td>-90.961233</td><td>null</td></tr><tr><td>&quot;car_999&quot;</td><td>&quot;2023-01-07T23:52:36.826973&quot;</td><td>30.362038</td><td>-90.961233</td><td>&quot;low_fuel&quot;</td></tr><tr><td>&quot;car_999&quot;</td><td>&quot;2023-01-08T00:07:27.212819&quot;</td><td>30.362038</td><td>-90.961233</td><td>&quot;engine_check&quot;</td></tr></tbody></table></div>"
      ],
      "text/plain": [
       "shape: (6_300_298, 5)\n",
       "┌─────────┬────────────────────────────┬───────────┬─────────────┬───────────────┐\n",
       "│ car_id  ┆ timestamp                  ┆ latitude  ┆ longitude   ┆ notification  │\n",
       "│ ---     ┆ ---                        ┆ ---       ┆ ---         ┆ ---           │\n",
       "│ str     ┆ str                        ┆ f64       ┆ f64         ┆ str           │\n",
       "╞═════════╪════════════════════════════╪═══════════╪═════════════╪═══════════════╡\n",
       "│ car_0   ┆ 2023-01-01T00:00:00        ┆ 24.692708 ┆ -100.687216 ┆ null          │\n",
       "│ car_0   ┆ 2023-01-01T00:02:53.545944 ┆ 24.692708 ┆ -100.687216 ┆ tire_pressure │\n",
       "│ car_0   ┆ 2023-01-01T00:21:58.165712 ┆ 24.692708 ┆ -100.687216 ┆ null          │\n",
       "│ car_0   ┆ 2023-01-01T00:05:46.836696 ┆ 24.692708 ┆ -100.687216 ┆ engine_check  │\n",
       "│ car_0   ┆ 2023-01-01T00:04:53.455242 ┆ 24.692708 ┆ -100.687216 ┆ null          │\n",
       "│ …       ┆ …                          ┆ …         ┆ …           ┆ …             │\n",
       "│ car_999 ┆ 2023-01-08T00:09:14.174353 ┆ 30.362038 ┆ -90.961233  ┆ engine_check  │\n",
       "│ car_999 ┆ 2023-01-07T23:54:27.573992 ┆ 30.362038 ┆ -90.961233  ┆ low_fuel      │\n",
       "│ car_999 ┆ 2023-01-08T00:16:52.634620 ┆ 30.362038 ┆ -90.961233  ┆ null          │\n",
       "│ car_999 ┆ 2023-01-07T23:52:36.826973 ┆ 30.362038 ┆ -90.961233  ┆ low_fuel      │\n",
       "│ car_999 ┆ 2023-01-08T00:07:27.212819 ┆ 30.362038 ┆ -90.961233  ┆ engine_check  │\n",
       "└─────────┴────────────────────────────┴───────────┴─────────────┴───────────────┘"
      ]
     },
     "execution_count": 5,
     "metadata": {},
     "output_type": "execute_result"
    }
   ],
   "source": [
    "data.collect()"
   ]
  },
  {
   "cell_type": "markdown",
   "metadata": {},
   "source": [
    "## Limpieza de datos"
   ]
  },
  {
   "cell_type": "markdown",
   "metadata": {},
   "source": [
    "### Timestamp"
   ]
  },
  {
   "cell_type": "markdown",
   "metadata": {},
   "source": [
    "Convierte el `timestamp` que actualmente es string a formato de tiempo en polars"
   ]
  },
  {
   "cell_type": "code",
   "execution_count": 6,
   "metadata": {},
   "outputs": [],
   "source": [
    "'''\n",
    "Al incio, se lo puse a ChatGPT y me dio esto:\n",
    "# Generación de los datos\n",
    "num_cars = 1000\n",
    "start_time = datetime(2023, 1, 1, 0, 0, 0)  # Inicio de la semana\n",
    "end_time = start_time + timedelta(weeks=1)  # Fin de la semana\n",
    "working_hours_interval = 5  # Intervalo de 5 minutos durante horas laborales\n",
    "non_working_hours_interval = 30  # Intervalo de 30 minutos durante horas no laborales\n",
    "\n",
    "# Generar los datos falsos\n",
    "data = generate_dummy_data(num_cars, start_time, end_time, working_hours_interval, non_working_hours_interval)\n",
    "\n",
    "# Convertir la columna 'timestamp' de string a tipo datetime\n",
    "data_cleaned = data.with_columns(\n",
    "    pl.col(\"timestamp\").str.strptime(pl.Datetime, fmt=\"%Y-%m-%dT%H:%M:%S\").alias(\"timestamp\")\n",
    ")\n",
    "\n",
    "# Mostrar las primeras filas para verificar\n",
    "print(data_cleaned.head())\n",
    "\n",
    "No cumple con los requisitos. En la documentación venía que los datos en formato Y-M-D T H-M-S se pueden cambiar con %F T %T. El %.f es para los casos que tenga nanoseconds de la forma .X\n",
    "'''\n",
    "data = data.with_columns(pl.col(\"timestamp\").str.strptime(pl.Datetime, \"%FT%T%.f\"))"
   ]
  },
  {
   "cell_type": "code",
   "execution_count": 7,
   "metadata": {},
   "outputs": [
    {
     "data": {
      "text/html": [
       "<div><style>\n",
       ".dataframe > thead > tr,\n",
       ".dataframe > tbody > tr {\n",
       "  text-align: right;\n",
       "  white-space: pre-wrap;\n",
       "}\n",
       "</style>\n",
       "<small>shape: (6_300_298, 5)</small><table border=\"1\" class=\"dataframe\"><thead><tr><th>car_id</th><th>timestamp</th><th>latitude</th><th>longitude</th><th>notification</th></tr><tr><td>str</td><td>datetime[μs]</td><td>f64</td><td>f64</td><td>str</td></tr></thead><tbody><tr><td>&quot;car_0&quot;</td><td>2023-01-01 00:00:00</td><td>24.692708</td><td>-100.687216</td><td>null</td></tr><tr><td>&quot;car_0&quot;</td><td>2023-01-01 00:02:53.545944</td><td>24.692708</td><td>-100.687216</td><td>&quot;tire_pressure&quot;</td></tr><tr><td>&quot;car_0&quot;</td><td>2023-01-01 00:21:58.165712</td><td>24.692708</td><td>-100.687216</td><td>null</td></tr><tr><td>&quot;car_0&quot;</td><td>2023-01-01 00:05:46.836696</td><td>24.692708</td><td>-100.687216</td><td>&quot;engine_check&quot;</td></tr><tr><td>&quot;car_0&quot;</td><td>2023-01-01 00:04:53.455242</td><td>24.692708</td><td>-100.687216</td><td>null</td></tr><tr><td>&hellip;</td><td>&hellip;</td><td>&hellip;</td><td>&hellip;</td><td>&hellip;</td></tr><tr><td>&quot;car_999&quot;</td><td>2023-01-08 00:09:14.174353</td><td>30.362038</td><td>-90.961233</td><td>&quot;engine_check&quot;</td></tr><tr><td>&quot;car_999&quot;</td><td>2023-01-07 23:54:27.573992</td><td>30.362038</td><td>-90.961233</td><td>&quot;low_fuel&quot;</td></tr><tr><td>&quot;car_999&quot;</td><td>2023-01-08 00:16:52.634620</td><td>30.362038</td><td>-90.961233</td><td>null</td></tr><tr><td>&quot;car_999&quot;</td><td>2023-01-07 23:52:36.826973</td><td>30.362038</td><td>-90.961233</td><td>&quot;low_fuel&quot;</td></tr><tr><td>&quot;car_999&quot;</td><td>2023-01-08 00:07:27.212819</td><td>30.362038</td><td>-90.961233</td><td>&quot;engine_check&quot;</td></tr></tbody></table></div>"
      ],
      "text/plain": [
       "shape: (6_300_298, 5)\n",
       "┌─────────┬────────────────────────────┬───────────┬─────────────┬───────────────┐\n",
       "│ car_id  ┆ timestamp                  ┆ latitude  ┆ longitude   ┆ notification  │\n",
       "│ ---     ┆ ---                        ┆ ---       ┆ ---         ┆ ---           │\n",
       "│ str     ┆ datetime[μs]               ┆ f64       ┆ f64         ┆ str           │\n",
       "╞═════════╪════════════════════════════╪═══════════╪═════════════╪═══════════════╡\n",
       "│ car_0   ┆ 2023-01-01 00:00:00        ┆ 24.692708 ┆ -100.687216 ┆ null          │\n",
       "│ car_0   ┆ 2023-01-01 00:02:53.545944 ┆ 24.692708 ┆ -100.687216 ┆ tire_pressure │\n",
       "│ car_0   ┆ 2023-01-01 00:21:58.165712 ┆ 24.692708 ┆ -100.687216 ┆ null          │\n",
       "│ car_0   ┆ 2023-01-01 00:05:46.836696 ┆ 24.692708 ┆ -100.687216 ┆ engine_check  │\n",
       "│ car_0   ┆ 2023-01-01 00:04:53.455242 ┆ 24.692708 ┆ -100.687216 ┆ null          │\n",
       "│ …       ┆ …                          ┆ …         ┆ …           ┆ …             │\n",
       "│ car_999 ┆ 2023-01-08 00:09:14.174353 ┆ 30.362038 ┆ -90.961233  ┆ engine_check  │\n",
       "│ car_999 ┆ 2023-01-07 23:54:27.573992 ┆ 30.362038 ┆ -90.961233  ┆ low_fuel      │\n",
       "│ car_999 ┆ 2023-01-08 00:16:52.634620 ┆ 30.362038 ┆ -90.961233  ┆ null          │\n",
       "│ car_999 ┆ 2023-01-07 23:52:36.826973 ┆ 30.362038 ┆ -90.961233  ┆ low_fuel      │\n",
       "│ car_999 ┆ 2023-01-08 00:07:27.212819 ┆ 30.362038 ┆ -90.961233  ┆ engine_check  │\n",
       "└─────────┴────────────────────────────┴───────────┴─────────────┴───────────────┘"
      ]
     },
     "execution_count": 7,
     "metadata": {},
     "output_type": "execute_result"
    }
   ],
   "source": [
    "data.collect()"
   ]
  },
  {
   "cell_type": "markdown",
   "metadata": {},
   "source": [
    "### Ingenieria de variables"
   ]
  },
  {
   "cell_type": "markdown",
   "metadata": {},
   "source": [
    "Dado que va a entrar a un modelo de machine learning es encesario que todas las variables sean numericas, y esten en formnato tidy. Cada observacion en una fila, y cada variable en una columna. Por lo tanto se decidio crear estadisticos y agregar los datos a intervalos uniformes de `x` minutos.  \n",
    "\n",
    "Por ejemplo, colapsar toda la informacion que ocurrion en el intervalo, como el numero de notificaciones en esos 5 minutos, el promedio entre notificaciones, y el tipo de notificaciones."
   ]
  },
  {
   "cell_type": "markdown",
   "metadata": {},
   "source": [
    "Existen varias formas de hacer esto, puedes hacerlo con `group_by` primero para crear las nuevas variables, o `group_by` (`rolling`, `dynamic`) usando operaciones sobre listas. Utiliza claude o chat_gpt"
   ]
  },
  {
   "cell_type": "markdown",
   "metadata": {},
   "source": [
    "1. Crea una nueva variable que compute la diferencia de tiempo entre notificaciones del mismo vehiculo. Piensa como lo vas a hacer. Llama a esta variable `notification_time`\n",
    "   \n"
   ]
  },
  {
   "cell_type": "code",
   "execution_count": 11,
   "metadata": {},
   "outputs": [],
   "source": [
    "import polars as pl\n",
    "\n",
    "def add_notification_time(df: pl.DataFrame):\n",
    "    \"\"\"\n",
    "    Añade una columna 'notification_time' que contiene la diferencia de tiempo\n",
    "    en minutos entre notificaciones consecutivas del mismo vehículo.\n",
    "    \n",
    "    Args:\n",
    "        df: DataFrame de Polars con columnas 'car_id', 'timestamp'\n",
    "        \n",
    "    Returns:\n",
    "        DataFrame con la nueva columna 'notification_time'\n",
    "    \"\"\"\n",
    "    return (\n",
    "        df.sort([\"car_id\", \"timestamp\"])  # Ordenar por vehículo y tiempo\n",
    "        .with_columns([\n",
    "            pl.col(\"timestamp\")  # Seleccionar columna 'timestamp'\n",
    "            .diff()  # Calcular la diferencia con la notificación anterior\n",
    "            .over(\"car_id\")  # Reiniciar la diferencia entre vehículos\n",
    "            .alias(\"notification_time\")  # Crear y nombrar la nueva columna\n",
    "            .cast(pl.Int64)  # Convertir a tipo numérico (en segundos)\n",
    "            / 60  # Convertir a minutos\n",
    "        ])\n",
    "    )\n",
    "\n",
    "data = add_notification_time(data)\n"
   ]
  },
  {
   "cell_type": "code",
   "execution_count": 12,
   "metadata": {},
   "outputs": [
    {
     "name": "stdout",
     "output_type": "stream",
     "text": [
      "naive plan: (run LazyFrame.explain(optimized=True) to see the optimized plan)\n",
      "\n",
      "SLICE[offset: 0, len: 5]\n",
      "   WITH_COLUMNS:\n",
      "   [[(col(\"timestamp\").diff().over([col(\"car_id\")]).strict_cast(Int64)) / (60)].alias(\"notification_time\")] \n",
      "    SORT BY [col(\"car_id\"), col(\"timestamp\")]\n",
      "       WITH_COLUMNS:\n",
      "       [[(col(\"timestamp\").diff().over([col(\"car_id\")]).strict_cast(Int64)) / (60)].alias(\"notification_time\")] \n",
      "        SORT BY [col(\"car_id\"), col(\"timestamp\")]\n",
      "           WITH_COLUMNS:\n",
      "           [[(col(\"timestamp\").diff().over([col(\"car_id\")]).strict_cast(Int64)) / (60)].alias(\"notification_time\")] \n",
      "            SORT BY [col(\"car_id\"), col(\"timestamp\")]\n",
      "               WITH_COLUMNS:\n",
      "               [col(\"timestamp\").str.strptime([String(raise)])] \n",
      "                DF [\"car_id\", \"timestamp\", \"latitude\", \"longitude\"]; PROJECT */5 COLUMNS; SELECTION: None\n"
     ]
    },
    {
     "data": {
      "text/html": [
       "<div><style>\n",
       ".dataframe > thead > tr,\n",
       ".dataframe > tbody > tr {\n",
       "  text-align: right;\n",
       "  white-space: pre-wrap;\n",
       "}\n",
       "</style>\n",
       "<small>shape: (6_300_298, 6)</small><table border=\"1\" class=\"dataframe\"><thead><tr><th>car_id</th><th>timestamp</th><th>latitude</th><th>longitude</th><th>notification</th><th>notification_time</th></tr><tr><td>str</td><td>datetime[μs]</td><td>f64</td><td>f64</td><td>str</td><td>f64</td></tr></thead><tbody><tr><td>&quot;car_0&quot;</td><td>2023-01-01 00:00:00</td><td>24.692708</td><td>-100.687216</td><td>null</td><td>null</td></tr><tr><td>&quot;car_0&quot;</td><td>2023-01-01 00:02:53.545944</td><td>24.692708</td><td>-100.687216</td><td>&quot;tire_pressure&quot;</td><td>2892432.4</td></tr><tr><td>&quot;car_0&quot;</td><td>2023-01-01 00:04:53.455242</td><td>24.692708</td><td>-100.687216</td><td>null</td><td>1998488.3</td></tr><tr><td>&quot;car_0&quot;</td><td>2023-01-01 00:05:37.011111</td><td>24.692708</td><td>-100.687216</td><td>&quot;tire_pressure&quot;</td><td>725931.15</td></tr><tr><td>&quot;car_0&quot;</td><td>2023-01-01 00:05:46.836696</td><td>24.692708</td><td>-100.687216</td><td>&quot;engine_check&quot;</td><td>163759.75</td></tr><tr><td>&hellip;</td><td>&hellip;</td><td>&hellip;</td><td>&hellip;</td><td>&hellip;</td><td>&hellip;</td></tr><tr><td>&quot;car_999&quot;</td><td>2023-01-07 23:54:27.573992</td><td>30.362038</td><td>-90.961233</td><td>&quot;low_fuel&quot;</td><td>1.8458e6</td></tr><tr><td>&quot;car_999&quot;</td><td>2023-01-08 00:07:27.212819</td><td>30.362038</td><td>-90.961233</td><td>&quot;engine_check&quot;</td><td>1.2994e7</td></tr><tr><td>&quot;car_999&quot;</td><td>2023-01-08 00:09:14.174353</td><td>30.362038</td><td>-90.961233</td><td>&quot;engine_check&quot;</td><td>1.7827e6</td></tr><tr><td>&quot;car_999&quot;</td><td>2023-01-08 00:12:24.072577</td><td>30.362038</td><td>-90.961233</td><td>null</td><td>3164970.4</td></tr><tr><td>&quot;car_999&quot;</td><td>2023-01-08 00:16:52.634620</td><td>30.362038</td><td>-90.961233</td><td>null</td><td>4.4760e6</td></tr></tbody></table></div>"
      ],
      "text/plain": [
       "shape: (6_300_298, 6)\n",
       "┌─────────┬─────────────────────┬───────────┬─────────────┬───────────────┬───────────────────┐\n",
       "│ car_id  ┆ timestamp           ┆ latitude  ┆ longitude   ┆ notification  ┆ notification_time │\n",
       "│ ---     ┆ ---                 ┆ ---       ┆ ---         ┆ ---           ┆ ---               │\n",
       "│ str     ┆ datetime[μs]        ┆ f64       ┆ f64         ┆ str           ┆ f64               │\n",
       "╞═════════╪═════════════════════╪═══════════╪═════════════╪═══════════════╪═══════════════════╡\n",
       "│ car_0   ┆ 2023-01-01 00:00:00 ┆ 24.692708 ┆ -100.687216 ┆ null          ┆ null              │\n",
       "│ car_0   ┆ 2023-01-01          ┆ 24.692708 ┆ -100.687216 ┆ tire_pressure ┆ 2892432.4         │\n",
       "│         ┆ 00:02:53.545944     ┆           ┆             ┆               ┆                   │\n",
       "│ car_0   ┆ 2023-01-01          ┆ 24.692708 ┆ -100.687216 ┆ null          ┆ 1998488.3         │\n",
       "│         ┆ 00:04:53.455242     ┆           ┆             ┆               ┆                   │\n",
       "│ car_0   ┆ 2023-01-01          ┆ 24.692708 ┆ -100.687216 ┆ tire_pressure ┆ 725931.15         │\n",
       "│         ┆ 00:05:37.011111     ┆           ┆             ┆               ┆                   │\n",
       "│ car_0   ┆ 2023-01-01          ┆ 24.692708 ┆ -100.687216 ┆ engine_check  ┆ 163759.75         │\n",
       "│         ┆ 00:05:46.836696     ┆           ┆             ┆               ┆                   │\n",
       "│ …       ┆ …                   ┆ …         ┆ …           ┆ …             ┆ …                 │\n",
       "│ car_999 ┆ 2023-01-07          ┆ 30.362038 ┆ -90.961233  ┆ low_fuel      ┆ 1.8458e6          │\n",
       "│         ┆ 23:54:27.573992     ┆           ┆             ┆               ┆                   │\n",
       "│ car_999 ┆ 2023-01-08          ┆ 30.362038 ┆ -90.961233  ┆ engine_check  ┆ 1.2994e7          │\n",
       "│         ┆ 00:07:27.212819     ┆           ┆             ┆               ┆                   │\n",
       "│ car_999 ┆ 2023-01-08          ┆ 30.362038 ┆ -90.961233  ┆ engine_check  ┆ 1.7827e6          │\n",
       "│         ┆ 00:09:14.174353     ┆           ┆             ┆               ┆                   │\n",
       "│ car_999 ┆ 2023-01-08          ┆ 30.362038 ┆ -90.961233  ┆ null          ┆ 3164970.4         │\n",
       "│         ┆ 00:12:24.072577     ┆           ┆             ┆               ┆                   │\n",
       "│ car_999 ┆ 2023-01-08          ┆ 30.362038 ┆ -90.961233  ┆ null          ┆ 4.4760e6          │\n",
       "│         ┆ 00:16:52.634620     ┆           ┆             ┆               ┆                   │\n",
       "└─────────┴─────────────────────┴───────────┴─────────────┴───────────────┴───────────────────┘"
      ]
     },
     "execution_count": 12,
     "metadata": {},
     "output_type": "execute_result"
    }
   ],
   "source": [
    "# Mostrar las primeras filas para verificar\n",
    "print(data.head())\n",
    "\n",
    "data.collect()"
   ]
  },
  {
   "cell_type": "markdown",
   "metadata": {},
   "source": [
    "2. Crea una nueva variable que compute la distancia que viajo el vehiculo desde la ultima notificacion. Llamala `distance`"
   ]
  },
  {
   "cell_type": "code",
   "execution_count": 13,
   "metadata": {},
   "outputs": [],
   "source": [
    "def haversine_distance(lat1: float, lon1: float, lat2: float, lon2: float) -> float:\n",
    "    \"\"\"\n",
    "    Calcula la distancia en kilómetros entre dos puntos usando la fórmula de Haversine.\n",
    "    \"\"\"\n",
    "    R = 6371  # Radio de la Tierra en kilómetros\n",
    "    \n",
    "    # Convertir grados a radianes\n",
    "    lat1, lon1, lat2, lon2 = map(np.radians, [lat1, lon1, lat2, lon2])\n",
    "    \n",
    "    # Diferencias en coordenadas\n",
    "    dlat = lat2 - lat1\n",
    "    dlon = lon2 - lon1\n",
    "    \n",
    "    # Fórmula de Haversine\n",
    "    a = np.sin(dlat / 2.0)**2 + np.cos(lat1) * np.cos(lat2) * np.sin(dlon / 2.0)**2\n",
    "    c = 2 * np.arcsin(np.sqrt(a))\n",
    "    \n",
    "    return R * c  # Retornar la distancia en kilómetros\n",
    "\n",
    "def add_distance(df: pl.DataFrame) -> pl.DataFrame:\n",
    "    \"\"\"\n",
    "    Añade una columna 'distance' que contiene la distancia recorrida en kilómetros\n",
    "    desde la última notificación para cada vehículo.\n",
    "    \n",
    "    Args:\n",
    "        df: DataFrame de Polars con columnas 'car_id', 'latitude', 'longitude'\n",
    "        \n",
    "    Returns:\n",
    "        DataFrame con la nueva columna 'distance'\n",
    "    \"\"\"\n",
    "    return (\n",
    "        df.sort([\"car_id\", \"timestamp\"])  # Ordenar por 'car_id' y 'timestamp'\n",
    "        .with_columns([\n",
    "            pl.struct([\"latitude\", \"longitude\"])  # Crear una estructura con las coordenadas actuales\n",
    "            .shift()  # Desplazar para obtener las coordenadas anteriores\n",
    "            .over(\"car_id\")  # Aplicar el desplazamiento por vehículo\n",
    "            .alias(\"prev_coords\")\n",
    "        ])\n",
    "        .with_columns([\n",
    "            pl.col(\"prev_coords\").struct.field(\"latitude\").alias(\"prev_lat\"),\n",
    "            pl.col(\"prev_coords\").struct.field(\"longitude\").alias(\"prev_lon\")\n",
    "        ])\n",
    "        .with_columns([\n",
    "            # Calcular la distancia utilizando la función Haversine\n",
    "            pl.struct([\"latitude\", \"longitude\", \"prev_lat\", \"prev_lon\"])\n",
    "            .map_elements(lambda x: haversine_distance(\n",
    "                x[\"latitude\"], \n",
    "                x[\"longitude\"], \n",
    "                x[\"prev_lat\"] if x[\"prev_lat\"] is not None else x[\"latitude\"], \n",
    "                x[\"prev_lon\"] if x[\"prev_lon\"] is not None else x[\"longitude\"]\n",
    "            ))\n",
    "            .alias(\"distance\")\n",
    "        ])\n",
    "        .drop([\"prev_coords\", \"prev_lat\", \"prev_lon\"])  # Eliminar columnas intermedias\n",
    "    )\n",
    "\n",
    "data = add_distance(data)"
   ]
  },
  {
   "cell_type": "code",
   "execution_count": 14,
   "metadata": {},
   "outputs": [
    {
     "name": "stdout",
     "output_type": "stream",
     "text": [
      "naive plan: (run LazyFrame.explain(optimized=True) to see the optimized plan)\n",
      "\n",
      "SLICE[offset: 0, len: 5]\n",
      "  simple π 7/10 [\"car_id\", \"timestamp\", ... 5 other columns]\n",
      "     WITH_COLUMNS:\n",
      "     [col(\"latitude\").as_struct([col(\"longitude\"), col(\"prev_lat\"), col(\"prev_lon\")]).map_list().alias(\"distance\")] \n",
      "       WITH_COLUMNS:\n",
      "       [col(\"prev_coords\").struct.field_by_name(latitude)().alias(\"prev_lat\"), col(\"prev_coords\").struct.field_by_name(longitude)().alias(\"prev_lon\")] \n",
      "         WITH_COLUMNS:\n",
      "         [col(\"latitude\").as_struct([col(\"longitude\")]).shift([dyn int: 1]).over([col(\"car_id\")]).alias(\"prev_coords\")] \n",
      "          SORT BY [col(\"car_id\"), col(\"timestamp\")]\n",
      "             WITH_COLUMNS:\n",
      "             [[(col(\"timestamp\").diff().over([col(\"car_id\")]).strict_cast(Int64)) / (60)].alias(\"notification_time\")] \n",
      "              SORT BY [col(\"car_id\"), col(\"timestamp\")]\n",
      "                 WITH_COLUMNS:\n",
      "                 [[(col(\"timestamp\").diff().over([col(\"car_id\")]).strict_cast(Int64)) / (60)].alias(\"notification_time\")] \n",
      "                  SORT BY [col(\"car_id\"), col(\"timestamp\")]\n",
      "                     WITH_COLUMNS:\n",
      "                     [[(col(\"timestamp\").diff().over([col(\"car_id\")]).strict_cast(Int64)) / (60)].alias(\"notification_time\")] \n",
      "                      SORT BY [col(\"car_id\"), col(\"timestamp\")]\n",
      "                         WITH_COLUMNS:\n",
      "                         [col(\"timestamp\").str.strptime([String(raise)])] \n",
      "                          DF [\"car_id\", \"timestamp\", \"latitude\", \"longitude\"]; PROJECT */5 COLUMNS; SELECTION: None\n"
     ]
    },
    {
     "name": "stderr",
     "output_type": "stream",
     "text": [
      "/var/folders/t7/x59wmtvn5zz3dylxlv_fcch80000gn/T/ipykernel_28485/868646664.py:4: MapWithoutReturnDtypeWarning: Calling `map_elements` without specifying `return_dtype` can lead to unpredictable results. Specify `return_dtype` to silence this warning.\n",
      "  data.collect()\n"
     ]
    },
    {
     "data": {
      "text/html": [
       "<div><style>\n",
       ".dataframe > thead > tr,\n",
       ".dataframe > tbody > tr {\n",
       "  text-align: right;\n",
       "  white-space: pre-wrap;\n",
       "}\n",
       "</style>\n",
       "<small>shape: (6_300_298, 7)</small><table border=\"1\" class=\"dataframe\"><thead><tr><th>car_id</th><th>timestamp</th><th>latitude</th><th>longitude</th><th>notification</th><th>notification_time</th><th>distance</th></tr><tr><td>str</td><td>datetime[μs]</td><td>f64</td><td>f64</td><td>str</td><td>f64</td><td>f64</td></tr></thead><tbody><tr><td>&quot;car_0&quot;</td><td>2023-01-01 00:00:00</td><td>24.692708</td><td>-100.687216</td><td>null</td><td>null</td><td>0.0</td></tr><tr><td>&quot;car_0&quot;</td><td>2023-01-01 00:02:53.545944</td><td>24.692708</td><td>-100.687216</td><td>&quot;tire_pressure&quot;</td><td>2892432.4</td><td>0.0</td></tr><tr><td>&quot;car_0&quot;</td><td>2023-01-01 00:04:53.455242</td><td>24.692708</td><td>-100.687216</td><td>null</td><td>1998488.3</td><td>0.0</td></tr><tr><td>&quot;car_0&quot;</td><td>2023-01-01 00:05:37.011111</td><td>24.692708</td><td>-100.687216</td><td>&quot;tire_pressure&quot;</td><td>725931.15</td><td>0.0</td></tr><tr><td>&quot;car_0&quot;</td><td>2023-01-01 00:05:46.836696</td><td>24.692708</td><td>-100.687216</td><td>&quot;engine_check&quot;</td><td>163759.75</td><td>0.0</td></tr><tr><td>&hellip;</td><td>&hellip;</td><td>&hellip;</td><td>&hellip;</td><td>&hellip;</td><td>&hellip;</td><td>&hellip;</td></tr><tr><td>&quot;car_999&quot;</td><td>2023-01-07 23:54:27.573992</td><td>30.362038</td><td>-90.961233</td><td>&quot;low_fuel&quot;</td><td>1.8458e6</td><td>0.0</td></tr><tr><td>&quot;car_999&quot;</td><td>2023-01-08 00:07:27.212819</td><td>30.362038</td><td>-90.961233</td><td>&quot;engine_check&quot;</td><td>1.2994e7</td><td>0.0</td></tr><tr><td>&quot;car_999&quot;</td><td>2023-01-08 00:09:14.174353</td><td>30.362038</td><td>-90.961233</td><td>&quot;engine_check&quot;</td><td>1.7827e6</td><td>0.0</td></tr><tr><td>&quot;car_999&quot;</td><td>2023-01-08 00:12:24.072577</td><td>30.362038</td><td>-90.961233</td><td>null</td><td>3164970.4</td><td>0.0</td></tr><tr><td>&quot;car_999&quot;</td><td>2023-01-08 00:16:52.634620</td><td>30.362038</td><td>-90.961233</td><td>null</td><td>4.4760e6</td><td>0.0</td></tr></tbody></table></div>"
      ],
      "text/plain": [
       "shape: (6_300_298, 7)\n",
       "┌─────────┬─────────────────┬───────────┬─────────────┬───────────────┬─────────────────┬──────────┐\n",
       "│ car_id  ┆ timestamp       ┆ latitude  ┆ longitude   ┆ notification  ┆ notification_ti ┆ distance │\n",
       "│ ---     ┆ ---             ┆ ---       ┆ ---         ┆ ---           ┆ me              ┆ ---      │\n",
       "│ str     ┆ datetime[μs]    ┆ f64       ┆ f64         ┆ str           ┆ ---             ┆ f64      │\n",
       "│         ┆                 ┆           ┆             ┆               ┆ f64             ┆          │\n",
       "╞═════════╪═════════════════╪═══════════╪═════════════╪═══════════════╪═════════════════╪══════════╡\n",
       "│ car_0   ┆ 2023-01-01      ┆ 24.692708 ┆ -100.687216 ┆ null          ┆ null            ┆ 0.0      │\n",
       "│         ┆ 00:00:00        ┆           ┆             ┆               ┆                 ┆          │\n",
       "│ car_0   ┆ 2023-01-01      ┆ 24.692708 ┆ -100.687216 ┆ tire_pressure ┆ 2892432.4       ┆ 0.0      │\n",
       "│         ┆ 00:02:53.545944 ┆           ┆             ┆               ┆                 ┆          │\n",
       "│ car_0   ┆ 2023-01-01      ┆ 24.692708 ┆ -100.687216 ┆ null          ┆ 1998488.3       ┆ 0.0      │\n",
       "│         ┆ 00:04:53.455242 ┆           ┆             ┆               ┆                 ┆          │\n",
       "│ car_0   ┆ 2023-01-01      ┆ 24.692708 ┆ -100.687216 ┆ tire_pressure ┆ 725931.15       ┆ 0.0      │\n",
       "│         ┆ 00:05:37.011111 ┆           ┆             ┆               ┆                 ┆          │\n",
       "│ car_0   ┆ 2023-01-01      ┆ 24.692708 ┆ -100.687216 ┆ engine_check  ┆ 163759.75       ┆ 0.0      │\n",
       "│         ┆ 00:05:46.836696 ┆           ┆             ┆               ┆                 ┆          │\n",
       "│ …       ┆ …               ┆ …         ┆ …           ┆ …             ┆ …               ┆ …        │\n",
       "│ car_999 ┆ 2023-01-07      ┆ 30.362038 ┆ -90.961233  ┆ low_fuel      ┆ 1.8458e6        ┆ 0.0      │\n",
       "│         ┆ 23:54:27.573992 ┆           ┆             ┆               ┆                 ┆          │\n",
       "│ car_999 ┆ 2023-01-08      ┆ 30.362038 ┆ -90.961233  ┆ engine_check  ┆ 1.2994e7        ┆ 0.0      │\n",
       "│         ┆ 00:07:27.212819 ┆           ┆             ┆               ┆                 ┆          │\n",
       "│ car_999 ┆ 2023-01-08      ┆ 30.362038 ┆ -90.961233  ┆ engine_check  ┆ 1.7827e6        ┆ 0.0      │\n",
       "│         ┆ 00:09:14.174353 ┆           ┆             ┆               ┆                 ┆          │\n",
       "│ car_999 ┆ 2023-01-08      ┆ 30.362038 ┆ -90.961233  ┆ null          ┆ 3164970.4       ┆ 0.0      │\n",
       "│         ┆ 00:12:24.072577 ┆           ┆             ┆               ┆                 ┆          │\n",
       "│ car_999 ┆ 2023-01-08      ┆ 30.362038 ┆ -90.961233  ┆ null          ┆ 4.4760e6        ┆ 0.0      │\n",
       "│         ┆ 00:16:52.634620 ┆           ┆             ┆               ┆                 ┆          │\n",
       "└─────────┴─────────────────┴───────────┴─────────────┴───────────────┴─────────────────┴──────────┘"
      ]
     },
     "execution_count": 14,
     "metadata": {},
     "output_type": "execute_result"
    }
   ],
   "source": [
    "# Mostrar las primeras filas para verificar\n",
    "print(data.head())\n",
    "\n",
    "data.collect()"
   ]
  },
  {
   "cell_type": "markdown",
   "metadata": {},
   "source": [
    "3. Crea intervalos de `x` minutos por carro. Como el numero de notificaciones en esos intervalos no es uniforme tienes que buscar funciones de polars especificas, pero ademas tienen que ser por vehiculo, pues tienen que ser del mismo. Revisa las funciones de `group_by` `dynamic` y `rolling`.\n",
    "   1. Computa la media, mediana, varianza, max y min de `notification_time` los intervalos de `x` minutos\n",
    "   2. Computa la media, mediana, varianza, max y min de `distance`\n"
   ]
  },
  {
   "cell_type": "code",
   "execution_count": null,
   "metadata": {},
   "outputs": [],
   "source": [
    "# Función para calcular la diferencia de tiempo entre notificaciones consecutivas\n",
    "def add_notification_time(df: pl.DataFrame) -> pl.DataFrame:\n",
    "    return (\n",
    "        df.sort([\"car_id\", \"timestamp\"])  # Ordenar por vehículo y tiempo\n",
    "        .with_columns([\n",
    "            pl.col(\"timestamp\")\n",
    "            .diff()  # Calcular la diferencia con la anterior\n",
    "            .over(\"car_id\")  # Reiniciar el cálculo para cada vehículo\n",
    "            .alias(\"notification_time\")\n",
    "        ])\n",
    "    )\n",
    "\n",
    "# Función para calcular la distancia usando la fórmula de Haversine\n",
    "def haversine_distance(lat1: float, lon1: float, lat2: float, lon2: float) -> float:\n",
    "    R = 6371  # Radio de la Tierra en kilómetros\n",
    "    lat1, lon1, lat2, lon2 = map(np.radians, [lat1, lon1, lat2, lon2])\n",
    "    dlat = lat2 - lat1\n",
    "    dlon = lon2 - lon1\n",
    "    a = np.sin(dlat / 2.0) ** 2 + np.cos(lat1) * np.cos(lat2) * np.sin(dlon / 2.0) ** 2\n",
    "    c = 2 * np.arcsin(np.sqrt(a))\n",
    "    return R * c\n",
    "\n",
    "# Función para calcular la distancia recorrida desde la última notificación\n",
    "def add_distance(df: pl.DataFrame) -> pl.DataFrame:\n",
    "    return (\n",
    "        df.sort([\"car_id\", \"timestamp\"])\n",
    "        .with_columns([\n",
    "            pl.struct([\"latitude\", \"longitude\"])\n",
    "            .shift()\n",
    "            .over(\"car_id\")\n",
    "            .alias(\"prev_coords\")\n",
    "        ])\n",
    "        .with_columns([\n",
    "            pl.col(\"prev_coords\").struct.field(\"latitude\").alias(\"prev_lat\"),\n",
    "            pl.col(\"prev_coords\").struct.field(\"longitude\").alias(\"prev_lon\")\n",
    "        ])\n",
    "        .with_columns([\n",
    "            pl.struct([\"latitude\", \"longitude\", \"prev_lat\", \"prev_lon\"])\n",
    "            .map_elements(lambda x: haversine_distance(\n",
    "                x[\"latitude\"], \n",
    "                x[\"longitude\"], \n",
    "                x[\"prev_lat\"] if x[\"prev_lat\"] is not None else x[\"latitude\"], \n",
    "                x[\"prev_lon\"] if x[\"prev_lon\"] is not None else x[\"longitude\"]\n",
    "            ))\n",
    "            .alias(\"distance\")\n",
    "        ])\n",
    "        .drop([\"prev_coords\", \"prev_lat\", \"prev_lon\"])\n",
    "    )\n",
    "\n",
    "# Aplicar las transformaciones\n",
    "data = add_notification_time(data)\n",
    "data = add_distance(data)\n",
    "\n",
    "# Ahora calcular las estadísticas de intervalos\n",
    "def compute_interval_statistics(df: pl.DataFrame, interval_minutes: int = 5) -> pl.DataFrame:\n",
    "    return (\n",
    "        df.group_by(\n",
    "            \"car_id\"  # Agrupar por vehículo primero\n",
    "        ).agg([\n",
    "            # Agregar columnas para intervalos de tiempo\n",
    "            pl.col(\"timestamp\")\n",
    "            .floor(\"1m\")  # Redondear al minuto con el formato correcto\n",
    "            .alias(\"interval_timestamp\"),\n",
    "            \n",
    "            pl.col(\"notification_time\").mean().alias(\"notification_time_mean_minutes\"),\n",
    "            pl.col(\"notification_time\").median().alias(\"notification_time_median_minutes\"),\n",
    "            pl.col(\"notification_time\").dt.total_minutes().var().alias(\"notification_time_variance_minutes\"),\n",
    "            pl.col(\"notification_time\").max().alias(\"notification_time_max_minutes\"),\n",
    "            pl.col(\"notification_time\").min().alias(\"notification_time_min_minutes\"),\n",
    "            \n",
    "            # Estadísticas para distancia\n",
    "            pl.col(\"distance\").mean().alias(\"distance_mean\"),\n",
    "            pl.col(\"distance\").median().alias(\"distance_median\"),\n",
    "            pl.col(\"distance\").var().alias(\"distance_variance\"),\n",
    "            pl.col(\"distance\").max().alias(\"distance_max\"),\n",
    "            pl.col(\"distance\").min().alias(\"distance_min\"),\n",
    "            \n",
    "            # Opcional: contar el número de notificaciones en el intervalo\n",
    "            pl.len().alias(\"notifications_count\")  # Usar len en lugar de count\n",
    "        ])\n",
    "    )\n",
    "\n",
    "# Calcular las estadísticas\n",
    "data = compute_interval_statistics(data, interval_minutes=5)\n",
    "\n",
    "# Mostrar el resultado\n",
    "data.collect().head()"
   ]
  }
 ],
 "metadata": {
  "kernelspec": {
   "display_name": "itam",
   "language": "python",
   "name": "python3"
  },
  "language_info": {
   "codemirror_mode": {
    "name": "ipython",
    "version": 3
   },
   "file_extension": ".py",
   "mimetype": "text/x-python",
   "name": "python",
   "nbconvert_exporter": "python",
   "pygments_lexer": "ipython3",
   "version": "3.12.6"
  }
 },
 "nbformat": 4,
 "nbformat_minor": 2
}
