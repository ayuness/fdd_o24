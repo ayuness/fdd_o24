{
 "cells": [
  {
   "cell_type": "markdown",
   "metadata": {},
   "source": [
    "<a target=\"_blank\" href=\"https://colab.research.google.com/github/sonder-art/fdd_o23/blob/main/codigo/polars/04_ejercicio_polars.ipynb\">\n",
    "  <img src=\"https://colab.research.google.com/assets/colab-badge.svg\" alt=\"Open In Colab\"/>\n",
    "</a>"
   ]
  },
  {
   "cell_type": "code",
   "execution_count": null,
   "metadata": {},
   "outputs": [],
   "source": [
    "#!pip install polars"
   ]
  },
  {
   "cell_type": "code",
   "execution_count": 1,
   "metadata": {},
   "outputs": [],
   "source": [
    "import polars as pl\n",
    "import random\n",
    "import string\n"
   ]
  },
  {
   "cell_type": "markdown",
   "metadata": {},
   "source": [
    "# Generacion de Datos"
   ]
  },
  {
   "cell_type": "code",
   "execution_count": 3,
   "metadata": {},
   "outputs": [
    {
     "data": {
      "text/html": [
       "<div><style>\n",
       ".dataframe > thead > tr,\n",
       ".dataframe > tbody > tr {\n",
       "  text-align: right;\n",
       "  white-space: pre-wrap;\n",
       "}\n",
       "</style>\n",
       "<small>shape: (5, 6)</small><table border=\"1\" class=\"dataframe\"><thead><tr><th>id_venta</th><th>producto</th><th>cantidad</th><th>precio_unitario</th><th>fecha_venta</th><th>cliente_id</th></tr><tr><td>i64</td><td>str</td><td>i64</td><td>f64</td><td>object</td><td>i64</td></tr></thead><tbody><tr><td>1</td><td>&quot;skhji&quot;</td><td>15</td><td>55.760864</td><td>2014-01-13 00:00:00.alias(&quot;datetime&quot;).strict_cast(Date).alias(&quot;date&quot;)</td><td>1954</td></tr><tr><td>2</td><td>&quot;yjcbu&quot;</td><td>3</td><td>44.590108</td><td>2020-08-08 00:00:00.alias(&quot;datetime&quot;).strict_cast(Date).alias(&quot;date&quot;)</td><td>4268</td></tr><tr><td>3</td><td>&quot;bsmfy&quot;</td><td>2</td><td>33.875485</td><td>2020-06-01 00:00:00.alias(&quot;datetime&quot;).strict_cast(Date).alias(&quot;date&quot;)</td><td>3543</td></tr><tr><td>4</td><td>&quot;apwgf&quot;</td><td>20</td><td>65.586471</td><td>2017-05-02 00:00:00.alias(&quot;datetime&quot;).strict_cast(Date).alias(&quot;date&quot;)</td><td>4595</td></tr><tr><td>5</td><td>&quot;kecml&quot;</td><td>10</td><td>10.024797</td><td>2011-10-16 00:00:00.alias(&quot;datetime&quot;).strict_cast(Date).alias(&quot;date&quot;)</td><td>2694</td></tr></tbody></table></div>"
      ],
      "text/plain": [
       "shape: (5, 6)\n",
       "┌──────────┬──────────┬──────────┬─────────────────┬─────────────────────────────────┬────────────┐\n",
       "│ id_venta ┆ producto ┆ cantidad ┆ precio_unitario ┆ fecha_venta                     ┆ cliente_id │\n",
       "│ ---      ┆ ---      ┆ ---      ┆ ---             ┆ ---                             ┆ ---        │\n",
       "│ i64      ┆ str      ┆ i64      ┆ f64             ┆ object                          ┆ i64        │\n",
       "╞══════════╪══════════╪══════════╪═════════════════╪═════════════════════════════════╪════════════╡\n",
       "│ 1        ┆ skhji    ┆ 15       ┆ 55.760864       ┆ 2014-01-13 00:00:00.alias(\"dat… ┆ 1954       │\n",
       "│ 2        ┆ yjcbu    ┆ 3        ┆ 44.590108       ┆ 2020-08-08 00:00:00.alias(\"dat… ┆ 4268       │\n",
       "│ 3        ┆ bsmfy    ┆ 2        ┆ 33.875485       ┆ 2020-06-01 00:00:00.alias(\"dat… ┆ 3543       │\n",
       "│ 4        ┆ apwgf    ┆ 20       ┆ 65.586471       ┆ 2017-05-02 00:00:00.alias(\"dat… ┆ 4595       │\n",
       "│ 5        ┆ kecml    ┆ 10       ┆ 10.024797       ┆ 2011-10-16 00:00:00.alias(\"dat… ┆ 2694       │\n",
       "└──────────┴──────────┴──────────┴─────────────────┴─────────────────────────────────┴────────────┘"
      ]
     },
     "execution_count": 3,
     "metadata": {},
     "output_type": "execute_result"
    }
   ],
   "source": [
    "# Funciones auxiliares para generar datos\n",
    "def random_string(length=5):\n",
    "    letters = string.ascii_lowercase\n",
    "    return ''.join(random.choice(letters) for i in range(length))\n",
    "\n",
    "def generate_data(n=1000):\n",
    "    data = {\n",
    "        \"id_venta\": list(range(1, n + 1)),\n",
    "        \"producto\": [random_string() for _ in range(n)],\n",
    "        \"cantidad\": [random.randint(1, 20) for _ in range(n)],\n",
    "        \"precio_unitario\": [random.uniform(10, 100) for _ in range(n)],\n",
    "        \"fecha_venta\": [pl.date(random.randint(2010, 2022), random.randint(1, 12), random.randint(1, 28)) for _ in range(n)],\n",
    "        \"cliente_id\": [random.randint(1000, 5000) for _ in range(n)]\n",
    "    }\n",
    "    return pl.DataFrame(data)\n",
    "\n",
    "# Generar el DataFrame\n",
    "df = generate_data()\n",
    "df.head()"
   ]
  },
  {
   "cell_type": "code",
   "execution_count": 5,
   "metadata": {},
   "outputs": [
    {
     "data": {
      "text/html": [
       "<i>naive plan: (run <b>LazyFrame.explain(optimized=True)</b> to see the optimized plan)</i>\n",
       "    <p></p>\n",
       "    <div>DF [\"id_venta\", \"producto\", \"cantidad\", \"precio_unitario\"]; PROJECT */6 COLUMNS; SELECTION: \"None\"</div>"
      ],
      "text/plain": [
       "<LazyFrame [6 cols, {\"id_venta\": Int64 … \"cliente_id\": Int64}] at 0x7FCCDC3B6690>"
      ]
     },
     "execution_count": 5,
     "metadata": {},
     "output_type": "execute_result"
    }
   ],
   "source": [
    "df = df.lazy()\n",
    "df"
   ]
  },
  {
   "cell_type": "markdown",
   "metadata": {},
   "source": [
    "# Limpieza de Datos"
   ]
  },
  {
   "cell_type": "markdown",
   "metadata": {},
   "source": [
    "Utilizando Polars en modo Lazy, realice las siguientes operaciones de limpieza y manipulación de datos:\n",
    "\n",
    "    1. `Filtrar` las ventas con cantidades menores a 5.\n",
    "    2. `Agregar` una nueva columna llamada total_venta, que sea el resultado de multiplicar cantidad por precio_unitario.\n",
    "    3. `Eliminar` la columna precio_unitario después de crear total_venta.\n",
    "    4. `Agrupar` los datos por producto y calcular el total vendido y la cantidad total vendida por producto.\n",
    "    5. `Ordenar` los resultados por el total vendido en orden descendente."
   ]
  },
  {
   "cell_type": "markdown",
   "metadata": {},
   "source": [
    "Todo esto lo debes de realizar en una sola linea de codigo"
   ]
  },
  {
   "cell_type": "code",
   "execution_count": 18,
   "metadata": {},
   "outputs": [
    {
     "name": "stdout",
     "output_type": "stream",
     "text": [
      "shape: (193, 3)\n",
      "┌──────────┬───────────────┬────────────────────────┐\n",
      "│ producto ┆ total_vendido ┆ cantidad_total_vendida │\n",
      "│ ---      ┆ ---           ┆ ---                    │\n",
      "│ str      ┆ f64           ┆ i64                    │\n",
      "╞══════════╪═══════════════╪════════════════════════╡\n",
      "│ tfawk    ┆ 398.142873    ┆ 4                      │\n",
      "│ dqqig    ┆ 389.889814    ┆ 4                      │\n",
      "│ zcoez    ┆ 388.229993    ┆ 4                      │\n",
      "│ ngtqf    ┆ 378.353501    ┆ 4                      │\n",
      "│ gqnon    ┆ 378.081705    ┆ 4                      │\n",
      "│ …        ┆ …             ┆ …                      │\n",
      "│ abqqo    ┆ 19.846645     ┆ 1                      │\n",
      "│ pvawm    ┆ 17.319557     ┆ 1                      │\n",
      "│ wgesw    ┆ 13.97716      ┆ 1                      │\n",
      "│ inysi    ┆ 11.557242     ┆ 1                      │\n",
      "│ aawvp    ┆ 10.006594     ┆ 1                      │\n",
      "└──────────┴───────────────┴────────────────────────┘\n"
     ]
    }
   ],
   "source": [
    "\n",
    "lazy_df = df.lazy()\n",
    "\n",
    "# Realizar las operaciones de limpieza y manipulación\n",
    "\n",
    "resultado = (\n",
    "    lazy_df\n",
    "    .filter(pl.col('cantidad') < 5)\n",
    "    .with_columns((pl.col(\"cantidad\") * pl.col(\"precio_unitario\")).alias(\"total_venta\"))\n",
    "    .drop(\"precio_unitario\")\n",
    "    .group_by('producto')\n",
    "    .agg([\n",
    "        pl.sum(\"total_venta\").alias(\"total_vendido\"), \n",
    "        pl.sum(\"cantidad\").alias(\"cantidad_total_vendida\") \n",
    "    ])\n",
    "    .sort(\"total_vendido\", descending=True)\n",
    ")\n",
    "\n",
    "# Ejecutar y mostrar los resultados\n",
    "resultado_df = resultado.collect()\n",
    "print(resultado_df)\n"
   ]
  },
  {
   "cell_type": "markdown",
   "metadata": {},
   "source": [
    "# Guarda el resultado en un archivo `parquet`"
   ]
  },
  {
   "cell_type": "markdown",
   "metadata": {},
   "source": [
    "Guarda el resultado en un archivo parquet que se llame `resultados.parquet`"
   ]
  },
  {
   "cell_type": "code",
   "execution_count": 23,
   "metadata": {},
   "outputs": [],
   "source": [
    "with open(\"resultados_df.parquet\", \"wb\") as f: \n",
    "    resultado_df.write_parquet(f)"
   ]
  },
  {
   "cell_type": "markdown",
   "metadata": {},
   "source": [
    "# Lee Parquet"
   ]
  },
  {
   "cell_type": "markdown",
   "metadata": {},
   "source": [
    "Crea codigo para leer en polars el archivo parquet"
   ]
  },
  {
   "cell_type": "code",
   "execution_count": 25,
   "metadata": {},
   "outputs": [
    {
     "data": {
      "text/html": [
       "<div><style>\n",
       ".dataframe > thead > tr,\n",
       ".dataframe > tbody > tr {\n",
       "  text-align: right;\n",
       "  white-space: pre-wrap;\n",
       "}\n",
       "</style>\n",
       "<small>shape: (193, 3)</small><table border=\"1\" class=\"dataframe\"><thead><tr><th>producto</th><th>total_vendido</th><th>cantidad_total_vendida</th></tr><tr><td>str</td><td>f64</td><td>i64</td></tr></thead><tbody><tr><td>&quot;tfawk&quot;</td><td>398.142873</td><td>4</td></tr><tr><td>&quot;dqqig&quot;</td><td>389.889814</td><td>4</td></tr><tr><td>&quot;zcoez&quot;</td><td>388.229993</td><td>4</td></tr><tr><td>&quot;ngtqf&quot;</td><td>378.353501</td><td>4</td></tr><tr><td>&quot;gqnon&quot;</td><td>378.081705</td><td>4</td></tr><tr><td>&hellip;</td><td>&hellip;</td><td>&hellip;</td></tr><tr><td>&quot;abqqo&quot;</td><td>19.846645</td><td>1</td></tr><tr><td>&quot;pvawm&quot;</td><td>17.319557</td><td>1</td></tr><tr><td>&quot;wgesw&quot;</td><td>13.97716</td><td>1</td></tr><tr><td>&quot;inysi&quot;</td><td>11.557242</td><td>1</td></tr><tr><td>&quot;aawvp&quot;</td><td>10.006594</td><td>1</td></tr></tbody></table></div>"
      ],
      "text/plain": [
       "shape: (193, 3)\n",
       "┌──────────┬───────────────┬────────────────────────┐\n",
       "│ producto ┆ total_vendido ┆ cantidad_total_vendida │\n",
       "│ ---      ┆ ---           ┆ ---                    │\n",
       "│ str      ┆ f64           ┆ i64                    │\n",
       "╞══════════╪═══════════════╪════════════════════════╡\n",
       "│ tfawk    ┆ 398.142873    ┆ 4                      │\n",
       "│ dqqig    ┆ 389.889814    ┆ 4                      │\n",
       "│ zcoez    ┆ 388.229993    ┆ 4                      │\n",
       "│ ngtqf    ┆ 378.353501    ┆ 4                      │\n",
       "│ gqnon    ┆ 378.081705    ┆ 4                      │\n",
       "│ …        ┆ …             ┆ …                      │\n",
       "│ abqqo    ┆ 19.846645     ┆ 1                      │\n",
       "│ pvawm    ┆ 17.319557     ┆ 1                      │\n",
       "│ wgesw    ┆ 13.97716      ┆ 1                      │\n",
       "│ inysi    ┆ 11.557242     ┆ 1                      │\n",
       "│ aawvp    ┆ 10.006594     ┆ 1                      │\n",
       "└──────────┴───────────────┴────────────────────────┘"
      ]
     },
     "execution_count": 25,
     "metadata": {},
     "output_type": "execute_result"
    }
   ],
   "source": [
    "with open(\"resultados_df.parquet\", \"rb\") as f: \n",
    "    df_parquet = pl.read_parquet(f)\n",
    "    \n",
    "df_parquet"
   ]
  }
 ],
 "metadata": {
  "kernelspec": {
   "display_name": ".venv",
   "language": "python",
   "name": "python3"
  },
  "language_info": {
   "codemirror_mode": {
    "name": "ipython",
    "version": 3
   },
   "file_extension": ".py",
   "mimetype": "text/x-python",
   "name": "python",
   "nbconvert_exporter": "python",
   "pygments_lexer": "ipython3",
   "version": "3.12.5"
  }
 },
 "nbformat": 4,
 "nbformat_minor": 2
}
