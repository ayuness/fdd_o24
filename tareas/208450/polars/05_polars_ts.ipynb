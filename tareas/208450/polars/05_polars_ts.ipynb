{
 "cells": [
  {
   "cell_type": "code",
   "execution_count": 99,
   "metadata": {},
   "outputs": [],
   "source": [
    "import polars as pl\n",
    "import numpy as np\n",
    "import random\n",
    "from datetime import datetime, timedelta"
   ]
  },
  {
   "cell_type": "markdown",
   "metadata": {},
   "source": [
    "# Descripcion"
   ]
  },
  {
   "cell_type": "markdown",
   "metadata": {},
   "source": [
    "Los datos son notificaciones de dispositivos GPS en Mexico. En promedio generan notificaciones automatizadas cada 5 minutos si el carro esta encendido, y 30 si esta apagado.  \n",
    "\n",
    "Cada notificacion esta acompannada de un evento de lo que esta ocurriendo, y trae la latitud y longitud.  \n",
    "\n",
    "El objetico es predecir si un vehiculo esta siendo robado de acuerdo a sus notificaciones, por lo que el primer paso seria limpiar datos y hacer ingenieria de variables.\n",
    "\n",
    "Trata de hacerlo **lazy** si puedes."
   ]
  },
  {
   "cell_type": "code",
   "execution_count": 100,
   "metadata": {},
   "outputs": [],
   "source": [
    "def generate_dummy_data(num_cars, start_time, end_time, working_hours_interval, non_working_hours_interval):\n",
    "    data = []\n",
    "\n",
    "    # Define the latitude and longitude ranges for Mexico\n",
    "    min_latitude, max_latitude = 14.5388, 32.7186\n",
    "    min_longitude, max_longitude = -118.4662, -86.7104\n",
    "\n",
    "    for car_id in range(num_cars):\n",
    "        current_time = start_time\n",
    "\n",
    "        # Generate random initial latitude and longitude for each car\n",
    "        latitude = random.uniform(min_latitude, max_latitude)\n",
    "        longitude = random.uniform(min_longitude, max_longitude)\n",
    "\n",
    "        while current_time < end_time:\n",
    "            if current_time.weekday() < 5 and 9 <= current_time.hour < 17:\n",
    "                # Working hours (Monday to Friday, 9 AM to 5 PM)\n",
    "                interval = working_hours_interval\n",
    "            else:\n",
    "                # Non-working hours\n",
    "                interval = non_working_hours_interval\n",
    "\n",
    "            # Generate notification with 99% probability\n",
    "            if random.random() < 0.99:\n",
    "                notification = random.choice([\"low_fuel\", \"tire_pressure\", \"engine_check\", None])\n",
    "                data.append((f\"car_{car_id}\", current_time.isoformat(), latitude, longitude, notification))\n",
    "\n",
    "            # Generate additional notifications between intervals\n",
    "            while True:\n",
    "                additional_interval = random.expovariate(1 / (interval / 2))\n",
    "                additional_time = current_time + timedelta(minutes=additional_interval)\n",
    "                if additional_time >= current_time + timedelta(minutes=interval):\n",
    "                    break\n",
    "                notification = random.choice([\"low_fuel\", \"tire_pressure\", \"engine_check\", None])\n",
    "                data.append((f\"car_{car_id}\", additional_time.isoformat(), latitude, longitude, notification))\n",
    "\n",
    "            # Update latitude and longitude for car movement\n",
    "            latitude += random.uniform(-0.01, 0.01)\n",
    "            longitude += random.uniform(-0.01, 0.01)\n",
    "\n",
    "            # Check if the car is among the 1% that can have 100 notifications within 5 minutes\n",
    "            if random.random() < 0.01:\n",
    "                burst_start_time = current_time + timedelta(minutes=random.uniform(0, interval))\n",
    "                burst_end_time = burst_start_time + timedelta(minutes=5)\n",
    "                while current_time < burst_end_time:\n",
    "                    notification = random.choice([\"low_fuel\", \"tire_pressure\", \"engine_check\", None])\n",
    "                    data.append((f\"car_{car_id}\", current_time.isoformat(), latitude, longitude, notification))\n",
    "                    current_time += timedelta(seconds=random.uniform(1, 10))\n",
    "\n",
    "            current_time += timedelta(minutes=interval)\n",
    "\n",
    "    # Create a Polars DataFrame from the generated data\n",
    "    df = pl.DataFrame(\n",
    "        {\n",
    "            \"car_id\": [record[0] for record in data],\n",
    "            \"timestamp\": [record[1] for record in data],\n",
    "            \"latitude\": [record[2] for record in data],\n",
    "            \"longitude\": [record[3] for record in data],\n",
    "            \"notification\": [record[4] for record in data],\n",
    "        }\n",
    "    )\n",
    "\n",
    "    return df.lazy()"
   ]
  },
  {
   "cell_type": "code",
   "execution_count": 101,
   "metadata": {},
   "outputs": [
    {
     "name": "stdout",
     "output_type": "stream",
     "text": [
      "naive plan: (run LazyFrame.explain(optimized=True) to see the optimized plan)\n",
      "\n",
      "SLICE[offset: 0, len: 5]\n",
      "  DF [\"car_id\", \"timestamp\", \"latitude\", \"longitude\"]; PROJECT */5 COLUMNS; SELECTION: None\n",
      "shape: (5, 5)\n",
      "┌────────┬────────────────────────────┬───────────┬─────────────┬───────────────┐\n",
      "│ car_id ┆ timestamp                  ┆ latitude  ┆ longitude   ┆ notification  │\n",
      "│ ---    ┆ ---                        ┆ ---       ┆ ---         ┆ ---           │\n",
      "│ str    ┆ str                        ┆ f64       ┆ f64         ┆ str           │\n",
      "╞════════╪════════════════════════════╪═══════════╪═════════════╪═══════════════╡\n",
      "│ car_0  ┆ 2023-01-01T00:00:00        ┆ 28.121319 ┆ -100.386321 ┆ low_fuel      │\n",
      "│ car_0  ┆ 2023-01-01T00:04:19.278943 ┆ 28.121319 ┆ -100.386321 ┆ engine_check  │\n",
      "│ car_0  ┆ 2023-01-01T00:30:00        ┆ 28.131229 ┆ -100.386086 ┆ tire_pressure │\n",
      "│ car_0  ┆ 2023-01-01T00:31:27.308903 ┆ 28.131229 ┆ -100.386086 ┆ tire_pressure │\n",
      "│ car_0  ┆ 2023-01-01T00:33:09.603331 ┆ 28.131229 ┆ -100.386086 ┆ low_fuel      │\n",
      "└────────┴────────────────────────────┴───────────┴─────────────┴───────────────┘\n"
     ]
    }
   ],
   "source": [
    "num_cars = 1000\n",
    "start_time = datetime(2023, 1, 1, 0, 0, 0)  # Start of the week\n",
    "end_time = start_time + timedelta(weeks=1)  # End of the week\n",
    "working_hours_interval = 5  # Interval of 5 minutes during working hours\n",
    "non_working_hours_interval = 30  # Interval of 30 minutes during non-working hours\n",
    "\n",
    "# Generate the dummy data\n",
    "data = generate_dummy_data(num_cars, start_time, end_time, working_hours_interval, non_working_hours_interval)\n",
    "\n",
    "# Print the first few rows of the generated data\n",
    "print(data.head())\n",
    "print(data.collect().limit(5))"
   ]
  },
  {
   "cell_type": "markdown",
   "metadata": {},
   "source": [
    "## Limpieza de datos"
   ]
  },
  {
   "cell_type": "markdown",
   "metadata": {},
   "source": [
    "### Timestamp"
   ]
  },
  {
   "cell_type": "markdown",
   "metadata": {},
   "source": [
    "Convierte el `timestamp` que actualmente es string a formato de tiempo en polars"
   ]
  },
  {
   "cell_type": "code",
   "execution_count": 102,
   "metadata": {},
   "outputs": [
    {
     "name": "stdout",
     "output_type": "stream",
     "text": [
      "shape: (5, 5)\n",
      "┌────────┬────────────────────────────┬───────────┬─────────────┬───────────────┐\n",
      "│ car_id ┆ timestamp                  ┆ latitude  ┆ longitude   ┆ notification  │\n",
      "│ ---    ┆ ---                        ┆ ---       ┆ ---         ┆ ---           │\n",
      "│ str    ┆ datetime[μs]               ┆ f64       ┆ f64         ┆ str           │\n",
      "╞════════╪════════════════════════════╪═══════════╪═════════════╪═══════════════╡\n",
      "│ car_0  ┆ 2023-01-01 00:00:00        ┆ 28.121319 ┆ -100.386321 ┆ low_fuel      │\n",
      "│ car_0  ┆ 2023-01-01 00:04:19.278943 ┆ 28.121319 ┆ -100.386321 ┆ engine_check  │\n",
      "│ car_0  ┆ 2023-01-01 00:30:00        ┆ 28.131229 ┆ -100.386086 ┆ tire_pressure │\n",
      "│ car_0  ┆ 2023-01-01 00:31:27.308903 ┆ 28.131229 ┆ -100.386086 ┆ tire_pressure │\n",
      "│ car_0  ┆ 2023-01-01 00:33:09.603331 ┆ 28.131229 ┆ -100.386086 ┆ low_fuel      │\n",
      "└────────┴────────────────────────────┴───────────┴─────────────┴───────────────┘\n",
      "<class 'polars.lazyframe.frame.LazyFrame'>\n"
     ]
    }
   ],
   "source": [
    "# Asegurarte de que todos los valores sean cadenas\n",
    "df = data.with_columns(\n",
    "    pl.col(\"timestamp\").cast(pl.Utf8).alias(\"timestamp\")  # Forzar a que sean cadenas\n",
    ")\n",
    "\n",
    "# Manejar timestamps sin microsegundos\n",
    "df = df.with_columns(\n",
    "    pl.when(pl.col(\"timestamp\").str.contains(r\"\\.\"))\n",
    "    .then(pl.col(\"timestamp\"))\n",
    "    .otherwise(pl.col(\"timestamp\") + \".000000\")  # Agregar microsegundos si no están presentes\n",
    "    .alias(\"timestamp\")\n",
    ")\n",
    "\n",
    "# Convertir timestamp de string a datetime\n",
    "df = df.with_columns(\n",
    "    pl.col(\"timestamp\").str.strptime(pl.Datetime, format=\"%Y-%m-%dT%H:%M:%S%.f\").alias(\"timestamp\")\n",
    ")\n",
    "\n",
    "# Mostrar los primeros resultados\n",
    "print(df.collect().head(5))\n",
    "print(type(df))"
   ]
  },
  {
   "cell_type": "markdown",
   "metadata": {},
   "source": [
    "### Ingenieria de variables"
   ]
  },
  {
   "cell_type": "markdown",
   "metadata": {},
   "source": [
    "Dado que va a entrar a un modelo de machine learning es encesario que todas las variables sean numericas, y esten en formnato tidy. Cada observacion en una fila, y cada variable en una columna. Por lo tanto se decidio crear estadisticos y agregar los datos a intervalos uniformes de `x` minutos.  \n",
    "\n",
    "Por ejemplo, colapsar toda la informacion que ocurrion en el intervalo, como el numero de notificaciones en esos 5 minutos, el promedio entre notificaciones, y el tipo de notificaciones."
   ]
  },
  {
   "cell_type": "markdown",
   "metadata": {},
   "source": [
    "Existen varias formas de hacer esto, puedes hacerlo con `group_by` primero para crear las nuevas variables, o `group_by` (`rolling`, `dynamic`) usando operaciones sobre listas. Utiliza claude o chat_gpt"
   ]
  },
  {
   "cell_type": "markdown",
   "metadata": {},
   "source": [
    "1. Crea una nueva variable que compute la diferencia de tiempo entre notificaciones del mismo vehiculo. Piensa como lo vas a hacer. Llama a esta variable `notification_time`\n",
    "   \n"
   ]
  },
  {
   "cell_type": "code",
   "execution_count": 103,
   "metadata": {},
   "outputs": [
    {
     "name": "stdout",
     "output_type": "stream",
     "text": [
      "shape: (10, 6)\n",
      "┌────────┬─────────────────────┬───────────┬─────────────┬───────────────┬───────────────────┐\n",
      "│ car_id ┆ timestamp           ┆ latitude  ┆ longitude   ┆ notification  ┆ notification_time │\n",
      "│ ---    ┆ ---                 ┆ ---       ┆ ---         ┆ ---           ┆ ---               │\n",
      "│ str    ┆ datetime[μs]        ┆ f64       ┆ f64         ┆ str           ┆ duration[μs]      │\n",
      "╞════════╪═════════════════════╪═══════════╪═════════════╪═══════════════╪═══════════════════╡\n",
      "│ car_0  ┆ 2023-01-01 00:00:00 ┆ 28.121319 ┆ -100.386321 ┆ low_fuel      ┆ null              │\n",
      "│ car_0  ┆ 2023-01-01          ┆ 28.121319 ┆ -100.386321 ┆ engine_check  ┆ 4m 19s 278943µs   │\n",
      "│        ┆ 00:04:19.278943     ┆           ┆             ┆               ┆                   │\n",
      "│ car_0  ┆ 2023-01-01 00:30:00 ┆ 28.131229 ┆ -100.386086 ┆ tire_pressure ┆ 25m 40s 721057µs  │\n",
      "│ car_0  ┆ 2023-01-01          ┆ 28.131229 ┆ -100.386086 ┆ low_fuel      ┆ 6s 961005µs       │\n",
      "│        ┆ 00:30:06.961005     ┆           ┆             ┆               ┆                   │\n",
      "│ car_0  ┆ 2023-01-01          ┆ 28.131229 ┆ -100.386086 ┆ null          ┆ 10s 169571µs      │\n",
      "│        ┆ 00:30:17.130576     ┆           ┆             ┆               ┆                   │\n",
      "│ car_0  ┆ 2023-01-01          ┆ 28.131229 ┆ -100.386086 ┆ tire_pressure ┆ 1m 10s 178327µs   │\n",
      "│        ┆ 00:31:27.308903     ┆           ┆             ┆               ┆                   │\n",
      "│ car_0  ┆ 2023-01-01          ┆ 28.131229 ┆ -100.386086 ┆ low_fuel      ┆ 15s 888935µs      │\n",
      "│        ┆ 00:31:43.197838     ┆           ┆             ┆               ┆                   │\n",
      "│ car_0  ┆ 2023-01-01          ┆ 28.131229 ┆ -100.386086 ┆ null          ┆ 44s 70976µs       │\n",
      "│        ┆ 00:32:27.268814     ┆           ┆             ┆               ┆                   │\n",
      "│ car_0  ┆ 2023-01-01          ┆ 28.131229 ┆ -100.386086 ┆ low_fuel      ┆ 42s 334517µs      │\n",
      "│        ┆ 00:33:09.603331     ┆           ┆             ┆               ┆                   │\n",
      "│ car_0  ┆ 2023-01-01          ┆ 28.131229 ┆ -100.386086 ┆ tire_pressure ┆ 3m 7s 52859µs     │\n",
      "│        ┆ 00:36:16.656190     ┆           ┆             ┆               ┆                   │\n",
      "└────────┴─────────────────────┴───────────┴─────────────┴───────────────┴───────────────────┘\n",
      "<class 'polars.dataframe.frame.DataFrame'>\n"
     ]
    }
   ],
   "source": [
    "# Se hace una copia para observar los resultados\n",
    "df1 = df.clone()\n",
    "\n",
    "# Ordenar los datos por car_id y timestamp\n",
    "df1 = df1.sort([\"car_id\", \"timestamp\"])\n",
    "\n",
    "# Calcular la diferencia de tiempo entre notificaciones del mismo vehículo\n",
    "df1 = df1.with_columns(\n",
    "    (pl.col(\"timestamp\") - pl.col(\"timestamp\").shift(1)).alias(\"notification_time\")  # Diferencia entre timestamps\n",
    ")\n",
    "\n",
    "# Asegurar que la diferencia solo se calcula dentro de cada car_id\n",
    "df1 = df1.with_columns(\n",
    "    pl.when(pl.col(\"car_id\") != pl.col(\"car_id\").shift(1))\n",
    "    .then(None)\n",
    "    .otherwise(pl.col(\"notification_time\"))\n",
    "    .alias(\"notification_time\")\n",
    ")\n",
    "\n",
    "# Recolectar datos \n",
    "df1 = df1.collect()  # Convierte el LazyFrame en un DataFrame materializado\n",
    "\n",
    "# Mostrar los primeros resultados\n",
    "print(df1.head(10))\n",
    "print(type(df1))"
   ]
  },
  {
   "cell_type": "markdown",
   "metadata": {},
   "source": [
    "Después, podemos verificar que, los primeros coches (por `car_id`) según el timestamp, no tengan una diferencia de tiempo de notificación. Esto se debe a que no se tiene con que comparar para calcular la diferencia."
   ]
  },
  {
   "cell_type": "code",
   "execution_count": 104,
   "metadata": {},
   "outputs": [
    {
     "name": "stdout",
     "output_type": "stream",
     "text": [
      "shape: (10, 6)\n",
      "┌─────────┬─────────────────┬────────────────┬─────────────────┬─────────────────┬─────────────────┐\n",
      "│ car_id  ┆ first_timestamp ┆ first_latitude ┆ first_longitude ┆ first_notificat ┆ first_notificat │\n",
      "│ ---     ┆ ---             ┆ ---            ┆ ---             ┆ ion             ┆ ion_time        │\n",
      "│ str     ┆ datetime[μs]    ┆ f64            ┆ f64             ┆ ---             ┆ ---             │\n",
      "│         ┆                 ┆                ┆                 ┆ str             ┆ duration[μs]    │\n",
      "╞═════════╪═════════════════╪════════════════╪═════════════════╪═════════════════╪═════════════════╡\n",
      "│ car_0   ┆ 2023-01-01      ┆ 28.121319      ┆ -100.386321     ┆ low_fuel        ┆ null            │\n",
      "│         ┆ 00:00:00        ┆                ┆                 ┆                 ┆                 │\n",
      "│ car_1   ┆ 2023-01-01      ┆ 16.267287      ┆ -108.501117     ┆ tire_pressure   ┆ null            │\n",
      "│         ┆ 00:00:00        ┆                ┆                 ┆                 ┆                 │\n",
      "│ car_10  ┆ 2023-01-01      ┆ 15.896684      ┆ -88.455882      ┆ engine_check    ┆ null            │\n",
      "│         ┆ 00:00:00        ┆                ┆                 ┆                 ┆                 │\n",
      "│ car_100 ┆ 2023-01-01      ┆ 26.793236      ┆ -106.000834     ┆ null            ┆ null            │\n",
      "│         ┆ 00:00:00        ┆                ┆                 ┆                 ┆                 │\n",
      "│ car_101 ┆ 2023-01-01      ┆ 23.88928       ┆ -100.648584     ┆ low_fuel        ┆ null            │\n",
      "│         ┆ 00:00:00        ┆                ┆                 ┆                 ┆                 │\n",
      "│ car_102 ┆ 2023-01-01      ┆ 28.995922      ┆ -90.738477      ┆ null            ┆ null            │\n",
      "│         ┆ 00:00:00        ┆                ┆                 ┆                 ┆                 │\n",
      "│ car_103 ┆ 2023-01-01      ┆ 29.464612      ┆ -108.085776     ┆ low_fuel        ┆ null            │\n",
      "│         ┆ 00:00:00        ┆                ┆                 ┆                 ┆                 │\n",
      "│ car_104 ┆ 2023-01-01      ┆ 18.408377      ┆ -93.442295      ┆ low_fuel        ┆ null            │\n",
      "│         ┆ 00:00:00        ┆                ┆                 ┆                 ┆                 │\n",
      "│ car_105 ┆ 2023-01-01      ┆ 25.421361      ┆ -90.160998      ┆ engine_check    ┆ null            │\n",
      "│         ┆ 00:00:00        ┆                ┆                 ┆                 ┆                 │\n",
      "│ car_106 ┆ 2023-01-01      ┆ 20.648983      ┆ -116.012936     ┆ engine_check    ┆ null            │\n",
      "│         ┆ 00:00:00        ┆                ┆                 ┆                 ┆                 │\n",
      "└─────────┴─────────────────┴────────────────┴─────────────────┴─────────────────┴─────────────────┘\n",
      "<class 'polars.dataframe.frame.DataFrame'>\n"
     ]
    }
   ],
   "source": [
    "# Asegurarse de que los datos estén en un LazyFrame\n",
    "df1 = df1.lazy()\n",
    "\n",
    "# Agrupar por car_id y seleccionar la primera fila de cada grupo según el timestamp\n",
    "first_rows = df1.group_by(\"car_id\").agg([\n",
    "    pl.col(\"timestamp\").first().alias(\"first_timestamp\"),        # Primera marca de tiempo\n",
    "    pl.col(\"latitude\").first().alias(\"first_latitude\"),          # Primera latitud\n",
    "    pl.col(\"longitude\").first().alias(\"first_longitude\"),        # Primera longitud\n",
    "    pl.col(\"notification\").first().alias(\"first_notification\"),  # Primera notificación\n",
    "    pl.col(\"notification_time\").first().alias(\"first_notification_time\")  # Primera notification_time\n",
    "])\n",
    "\n",
    "# Ordenar por car_id después de recolectar\n",
    "result = first_rows.sort(\"car_id\").collect()\n",
    "\n",
    "# Mostrar los resultados\n",
    "print(result.head(10))\n",
    "print(type(result))"
   ]
  },
  {
   "cell_type": "markdown",
   "metadata": {},
   "source": [
    "2. Crea una nueva variable que compute la distancia que viajo el vehiculo desde la ultima notificacion. Llamala `distance`"
   ]
  },
  {
   "cell_type": "code",
   "execution_count": 105,
   "metadata": {},
   "outputs": [
    {
     "name": "stdout",
     "output_type": "stream",
     "text": [
      "shape: (5, 7)\n",
      "┌────────┬──────────────────┬───────────┬─────────────┬───────────────┬─────────────────┬──────────┐\n",
      "│ car_id ┆ timestamp        ┆ latitude  ┆ longitude   ┆ notification  ┆ notification_ti ┆ distance │\n",
      "│ ---    ┆ ---              ┆ ---       ┆ ---         ┆ ---           ┆ me              ┆ ---      │\n",
      "│ str    ┆ datetime[μs]     ┆ f64       ┆ f64         ┆ str           ┆ ---             ┆ f64      │\n",
      "│        ┆                  ┆           ┆             ┆               ┆ duration[μs]    ┆          │\n",
      "╞════════╪══════════════════╪═══════════╪═════════════╪═══════════════╪═════════════════╪══════════╡\n",
      "│ car_0  ┆ 2023-01-01       ┆ 28.121319 ┆ -100.386321 ┆ low_fuel      ┆ null            ┆ null     │\n",
      "│        ┆ 00:00:00         ┆           ┆             ┆               ┆                 ┆          │\n",
      "│ car_0  ┆ 2023-01-01       ┆ 28.121319 ┆ -100.386321 ┆ engine_check  ┆ 4m 19s 278943µs ┆ 0.0      │\n",
      "│        ┆ 00:04:19.278943  ┆           ┆             ┆               ┆                 ┆          │\n",
      "│ car_0  ┆ 2023-01-01       ┆ 28.131229 ┆ -100.386086 ┆ tire_pressure ┆ 25m 40s         ┆ 1.102235 │\n",
      "│        ┆ 00:30:00         ┆           ┆             ┆               ┆ 721057µs        ┆          │\n",
      "│ car_0  ┆ 2023-01-01       ┆ 28.131229 ┆ -100.386086 ┆ low_fuel      ┆ 6s 961005µs     ┆ 0.0      │\n",
      "│        ┆ 00:30:06.961005  ┆           ┆             ┆               ┆                 ┆          │\n",
      "│ car_0  ┆ 2023-01-01       ┆ 28.131229 ┆ -100.386086 ┆ null          ┆ 10s 169571µs    ┆ 0.0      │\n",
      "│        ┆ 00:30:17.130576  ┆           ┆             ┆               ┆                 ┆          │\n",
      "└────────┴──────────────────┴───────────┴─────────────┴───────────────┴─────────────────┴──────────┘\n"
     ]
    }
   ],
   "source": [
    "df2 = df1.clone()\n",
    "df2 = df2.lazy()\n",
    "\n",
    "# Función para calcular la distancia usando la fórmula de Haversine\n",
    "def haversine(lat1, lon1, lat2, lon2):\n",
    "    if lat1 is None or lon1 is None or lat2 is None or lon2 is None:\n",
    "        return None\n",
    "    R = 6371  # Radio de la Tierra en kilómetros\n",
    "    lat1, lon1, lat2, lon2 = map(np.radians, [lat1, lon1, lat2, lon2])  # Convertir a radianes\n",
    "    dlat = lat2 - lat1\n",
    "    dlon = lon2 - lon1\n",
    "    a = np.sin(dlat / 2) ** 2 + np.cos(lat1) * np.cos(lat2) * np.sin(dlon / 2) ** 2\n",
    "    c = 2 * np.arctan2(np.sqrt(a), np.sqrt(1 - a))\n",
    "    return R * c  # Distancia en kilómetros\n",
    "\n",
    "# Realizar el cálculo de la distancia, ordenado por vehículo y por tiempo\n",
    "df2 = (\n",
    "    df2.sort([\"car_id\", \"timestamp\"])  # Ordenar por vehículo y tiempo\n",
    "    .with_columns(\n",
    "        pl.col(\"latitude\").shift(1).over(\"car_id\").alias(\"prev_latitude\"),  # Latitud previa por grupo\n",
    "        pl.col(\"longitude\").shift(1).over(\"car_id\").alias(\"prev_longitude\")  # Longitud previa por grupo\n",
    "    )\n",
    "    .with_columns(\n",
    "        pl.struct([\"latitude\", \"longitude\", \"prev_latitude\", \"prev_longitude\"]).map_elements(\n",
    "            lambda row: haversine(\n",
    "                row[\"latitude\"], row[\"longitude\"], row[\"prev_latitude\"], row[\"prev_longitude\"]\n",
    "            ) if row[\"prev_latitude\"] is not None else None, return_dtype=pl.Float64\n",
    "        ).alias(\"distance\")\n",
    "    )\n",
    "    .drop([\"prev_latitude\", \"prev_longitude\"])  # Limpiar columnas temporales\n",
    ")\n",
    "\n",
    "# Recolectar datos para mostrar resultados\n",
    "df2 = df2.collect()\n",
    "print(df2.head(5))"
   ]
  },
  {
   "cell_type": "markdown",
   "metadata": {},
   "source": [
    "Ya hecho el código, podemos verificar si se realizan correctamente las distancias, ya que en los primeros registros el vehículo no se está moviendo."
   ]
  },
  {
   "cell_type": "code",
   "execution_count": 106,
   "metadata": {},
   "outputs": [
    {
     "name": "stdout",
     "output_type": "stream",
     "text": [
      "shape: (2, 7)\n",
      "┌────────┬──────────────┬───────────┬─────────────┬───────────────┬─────────────────────┬──────────┐\n",
      "│ car_id ┆ timestamp    ┆ latitude  ┆ longitude   ┆ notification  ┆ notification_time   ┆ distance │\n",
      "│ ---    ┆ ---          ┆ ---       ┆ ---         ┆ ---           ┆ ---                 ┆ ---      │\n",
      "│ str    ┆ datetime[μs] ┆ f64       ┆ f64         ┆ str           ┆ duration[μs]        ┆ f64      │\n",
      "╞════════╪══════════════╪═══════════╪═════════════╪═══════════════╪═════════════════════╪══════════╡\n",
      "│ car_0  ┆ 2023-01-01   ┆ 28.131229 ┆ -100.386086 ┆ tire_pressure ┆ 25m 40s 721057µs    ┆ 1.102235 │\n",
      "│        ┆ 00:30:00     ┆           ┆             ┆               ┆                     ┆          │\n",
      "│ car_0  ┆ 2023-01-01   ┆ 28.133137 ┆ -100.395682 ┆ low_fuel      ┆ 3m 52s 773328µs     ┆ 0.964643 │\n",
      "│        ┆ 01:00:00     ┆           ┆             ┆               ┆                     ┆          │\n",
      "└────────┴──────────────┴───────────┴─────────────┴───────────────┴─────────────────────┴──────────┘\n"
     ]
    }
   ],
   "source": [
    "# Filtrar las filas donde la distancia es mayor a 0\n",
    "filtered_df = df2.filter(pl.col(\"distance\") > 0)\n",
    "\n",
    "# Mostrar dos filas adjuntas\n",
    "print(filtered_df.limit(2))"
   ]
  },
  {
   "cell_type": "markdown",
   "metadata": {},
   "source": [
    "3. Crea intervalos de `x` minutos por carro. Como el numero de notificaciones en esos intervalos no es uniforme tienes que buscar funciones de polars especificas, pero ademas tienen que ser por vehiculo, pues tienen que ser del mismo. Revisa las funciones de `group_by` `dynamic` y `rolling`.\n",
    "   1. Computa la media, mediana, varianza, max y min de `notification_time` los intervalos de `x` minutos\n",
    "   2. Computa la media, mediana, varianza, max y min de `distance`\n"
   ]
  },
  {
   "cell_type": "code",
   "execution_count": 107,
   "metadata": {},
   "outputs": [
    {
     "name": "stdout",
     "output_type": "stream",
     "text": [
      "shape: (10, 12)\n",
      "┌────────┬────────────┬────────────┬───────────┬───┬───────────┬───────────┬───────────┬───────────┐\n",
      "│ car_id ┆ timestamp  ┆ notificati ┆ notificat ┆ … ┆ distance_ ┆ distance_ ┆ distance_ ┆ distance_ │\n",
      "│ ---    ┆ ---        ┆ on_time_me ┆ ion_time_ ┆   ┆ median    ┆ variance  ┆ max       ┆ min       │\n",
      "│ str    ┆ datetime[μ ┆ an         ┆ median    ┆   ┆ ---       ┆ ---       ┆ ---       ┆ ---       │\n",
      "│        ┆ s]         ┆ ---        ┆ ---       ┆   ┆ f64       ┆ f64       ┆ f64       ┆ f64       │\n",
      "│        ┆            ┆ duration[μ ┆ duration[ ┆   ┆           ┆           ┆           ┆           │\n",
      "│        ┆            ┆ s]         ┆ μs]       ┆   ┆           ┆           ┆           ┆           │\n",
      "╞════════╪════════════╪════════════╪═══════════╪═══╪═══════════╪═══════════╪═══════════╪═══════════╡\n",
      "│ car_0  ┆ 2022-12-31 ┆ null       ┆ null      ┆ … ┆ null      ┆ null      ┆ null      ┆ null      │\n",
      "│        ┆ 23:15:00   ┆            ┆           ┆   ┆           ┆           ┆           ┆           │\n",
      "│ car_0  ┆ 2023-01-01 ┆ 3m 22s     ┆ 59s       ┆ … ┆ 0.0       ┆ 0.101244  ┆ 1.102235  ┆ 0.0       │\n",
      "│        ┆ 00:00:00   ┆ 519810µs   ┆ 715072µs  ┆   ┆           ┆           ┆           ┆           │\n",
      "│ car_0  ┆ 2023-01-01 ┆ 2m 9s      ┆ 1m 14s    ┆ … ┆ 0.0       ┆ 0.116087  ┆ 1.363466  ┆ 0.0       │\n",
      "│        ┆ 00:45:00   ┆ 120099µs   ┆ 23297µs   ┆   ┆           ┆           ┆           ┆           │\n",
      "│ car_0  ┆ 2023-01-01 ┆ 6m         ┆ 2m 14s    ┆ … ┆ 0.0       ┆ 0.156552  ┆ 0.884736  ┆ 0.0       │\n",
      "│        ┆ 01:30:00   ┆            ┆ 402661µs  ┆   ┆           ┆           ┆           ┆           │\n",
      "│ car_0  ┆ 2023-01-01 ┆ 20m        ┆ 29m 31s   ┆ … ┆ 0.285477  ┆ 0.167585  ┆ 0.807292  ┆ 0.0       │\n",
      "│        ┆ 02:15:00   ┆            ┆ 165083µs  ┆   ┆           ┆           ┆           ┆           │\n",
      "│ car_0  ┆ 2023-01-01 ┆ 2m 19s     ┆ 1m 5s     ┆ … ┆ 0.0       ┆ 0.029916  ┆ 0.713148  ┆ 0.0       │\n",
      "│        ┆ 03:00:00   ┆ 583779µs   ┆ 726725µs  ┆   ┆           ┆           ┆           ┆           │\n",
      "│ car_0  ┆ 2023-01-01 ┆ 6m 18s     ┆ 5m        ┆ … ┆ 0.0       ┆ 0.192393  ┆ 0.984174  ┆ 0.0       │\n",
      "│        ┆ 03:45:00   ┆ 384469µs   ┆ 143259µs  ┆   ┆           ┆           ┆           ┆           │\n",
      "│ car_0  ┆ 2023-01-01 ┆ 2m 19s     ┆ 1m 35s    ┆ … ┆ 0.0       ┆ 0.019553  ┆ 0.59325   ┆ 0.0       │\n",
      "│        ┆ 04:30:00   ┆ 313934µs   ┆ 59970µs   ┆   ┆           ┆           ┆           ┆           │\n",
      "│ car_0  ┆ 2023-01-01 ┆ 4m 49s     ┆ 1m 58s    ┆ … ┆ 0.0       ┆ 0.091316  ┆ 0.960646  ┆ 0.0       │\n",
      "│        ┆ 05:15:00   ┆ 234917µs   ┆ 960147µs  ┆   ┆           ┆           ┆           ┆           │\n",
      "│ car_0  ┆ 2023-01-01 ┆ 2m 1s      ┆ 32s       ┆ … ┆ 0.0       ┆ 0.002799  ┆ 0.236605  ┆ 0.0       │\n",
      "│        ┆ 06:00:00   ┆ 85384µs    ┆ 137570µs  ┆   ┆           ┆           ┆           ┆           │\n",
      "└────────┴────────────┴────────────┴───────────┴───┴───────────┴───────────┴───────────┴───────────┘\n"
     ]
    }
   ],
   "source": [
    "df3 = df2.clone()\n",
    "df3 = df3.lazy()\n",
    "\n",
    "# Crear intervalos dinámicos por tiempo para cada car_id\n",
    "x = '45m'  # Intervalo de 10 minutos\n",
    "interval = x  \n",
    "\n",
    "result = (\n",
    "    df3\n",
    "    .group_by_dynamic(\n",
    "        index_column=\"timestamp\",\n",
    "        every=interval,    # Cada cuánto comienza un nuevo intervalo\n",
    "        period=interval,   # Duración del intervalo\n",
    "        closed=\"right\",    # Cerrar los intervalos hacia atrás\n",
    "        group_by=\"car_id\"        # Agrupación por car_id\n",
    "    )\n",
    "    .agg([\n",
    "        # Métricas para notification_time\n",
    "        pl.col(\"notification_time\").mean().alias(\"notification_time_mean\"),\n",
    "        pl.col(\"notification_time\").median().alias(\"notification_time_median\"),\n",
    "        pl.col(\"notification_time\").var().alias(\"notification_time_variance\"),\n",
    "        pl.col(\"notification_time\").max().alias(\"notification_time_max\"),\n",
    "        pl.col(\"notification_time\").min().alias(\"notification_time_min\"),\n",
    "        \n",
    "        # Métricas para distance\n",
    "        pl.col(\"distance\").mean().alias(\"distance_mean\"),\n",
    "        pl.col(\"distance\").median().alias(\"distance_median\"),\n",
    "        pl.col(\"distance\").var().alias(\"distance_variance\"),\n",
    "        pl.col(\"distance\").max().alias(\"distance_max\"),\n",
    "        pl.col(\"distance\").min().alias(\"distance_min\"),\n",
    "    ])\n",
    ")\n",
    "\n",
    "# Recolectar datos y mostrar resultados\n",
    "result = result.collect()\n",
    "print(result.head(10))\n"
   ]
  }
 ],
 "metadata": {
  "kernelspec": {
   "display_name": ".venv",
   "language": "python",
   "name": "python3"
  },
  "language_info": {
   "codemirror_mode": {
    "name": "ipython",
    "version": 3
   },
   "file_extension": ".py",
   "mimetype": "text/x-python",
   "name": "python",
   "nbconvert_exporter": "python",
   "pygments_lexer": "ipython3",
   "version": "3.12.7"
  }
 },
 "nbformat": 4,
 "nbformat_minor": 2
}
