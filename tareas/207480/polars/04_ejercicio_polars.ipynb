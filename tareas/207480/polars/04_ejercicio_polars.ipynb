{
 "cells": [
  {
   "cell_type": "markdown",
   "metadata": {},
   "source": [
    "<a target=\"_blank\" href=\"https://colab.research.google.com/github/sonder-art/fdd_o23/blob/main/codigo/polars/04_ejercicio_polars.ipynb\">\n",
    "  <img src=\"https://colab.research.google.com/assets/colab-badge.svg\" alt=\"Open In Colab\"/>\n",
    "</a>"
   ]
  },
  {
   "cell_type": "code",
   "execution_count": 17,
   "metadata": {},
   "outputs": [],
   "source": [
    "#!pip install polars"
   ]
  },
  {
   "cell_type": "code",
   "execution_count": 18,
   "metadata": {},
   "outputs": [],
   "source": [
    "import polars as pl\n",
    "import random\n",
    "import string\n"
   ]
  },
  {
   "cell_type": "markdown",
   "metadata": {},
   "source": [
    "# Generacion de Datos"
   ]
  },
  {
   "cell_type": "code",
   "execution_count": 19,
   "metadata": {},
   "outputs": [
    {
     "data": {
      "text/html": [
       "<div><style>\n",
       ".dataframe > thead > tr,\n",
       ".dataframe > tbody > tr {\n",
       "  text-align: right;\n",
       "  white-space: pre-wrap;\n",
       "}\n",
       "</style>\n",
       "<small>shape: (5, 6)</small><table border=\"1\" class=\"dataframe\"><thead><tr><th>id_venta</th><th>producto</th><th>cantidad</th><th>precio_unitario</th><th>fecha_venta</th><th>cliente_id</th></tr><tr><td>i64</td><td>str</td><td>i64</td><td>f64</td><td>object</td><td>i64</td></tr></thead><tbody><tr><td>1</td><td>&quot;drydt&quot;</td><td>13</td><td>54.404756</td><td>2013-05-23 00:00:00.alias(&quot;datetime&quot;).strict_cast(Date).alias(&quot;date&quot;)</td><td>4350</td></tr><tr><td>2</td><td>&quot;mvxuk&quot;</td><td>18</td><td>98.174145</td><td>2022-07-24 00:00:00.alias(&quot;datetime&quot;).strict_cast(Date).alias(&quot;date&quot;)</td><td>4445</td></tr><tr><td>3</td><td>&quot;ksrpz&quot;</td><td>9</td><td>69.726795</td><td>2016-05-02 00:00:00.alias(&quot;datetime&quot;).strict_cast(Date).alias(&quot;date&quot;)</td><td>4744</td></tr><tr><td>4</td><td>&quot;ztdoi&quot;</td><td>2</td><td>85.910555</td><td>2021-01-26 00:00:00.alias(&quot;datetime&quot;).strict_cast(Date).alias(&quot;date&quot;)</td><td>1191</td></tr><tr><td>5</td><td>&quot;vmsfj&quot;</td><td>18</td><td>23.469495</td><td>2010-04-24 00:00:00.alias(&quot;datetime&quot;).strict_cast(Date).alias(&quot;date&quot;)</td><td>2402</td></tr></tbody></table></div>"
      ],
      "text/plain": [
       "shape: (5, 6)\n",
       "┌──────────┬──────────┬──────────┬─────────────────┬─────────────────────────────────┬────────────┐\n",
       "│ id_venta ┆ producto ┆ cantidad ┆ precio_unitario ┆ fecha_venta                     ┆ cliente_id │\n",
       "│ ---      ┆ ---      ┆ ---      ┆ ---             ┆ ---                             ┆ ---        │\n",
       "│ i64      ┆ str      ┆ i64      ┆ f64             ┆ object                          ┆ i64        │\n",
       "╞══════════╪══════════╪══════════╪═════════════════╪═════════════════════════════════╪════════════╡\n",
       "│ 1        ┆ drydt    ┆ 13       ┆ 54.404756       ┆ 2013-05-23 00:00:00.alias(\"dat… ┆ 4350       │\n",
       "│ 2        ┆ mvxuk    ┆ 18       ┆ 98.174145       ┆ 2022-07-24 00:00:00.alias(\"dat… ┆ 4445       │\n",
       "│ 3        ┆ ksrpz    ┆ 9        ┆ 69.726795       ┆ 2016-05-02 00:00:00.alias(\"dat… ┆ 4744       │\n",
       "│ 4        ┆ ztdoi    ┆ 2        ┆ 85.910555       ┆ 2021-01-26 00:00:00.alias(\"dat… ┆ 1191       │\n",
       "│ 5        ┆ vmsfj    ┆ 18       ┆ 23.469495       ┆ 2010-04-24 00:00:00.alias(\"dat… ┆ 2402       │\n",
       "└──────────┴──────────┴──────────┴─────────────────┴─────────────────────────────────┴────────────┘"
      ]
     },
     "execution_count": 19,
     "metadata": {},
     "output_type": "execute_result"
    }
   ],
   "source": [
    "# Funciones auxiliares para generar datos\n",
    "def random_string(length=5):\n",
    "    letters = string.ascii_lowercase\n",
    "    return ''.join(random.choice(letters) for i in range(length))\n",
    "\n",
    "def generate_data(n=1000):\n",
    "    data = {\n",
    "        \"id_venta\": list(range(1, n + 1)),\n",
    "        \"producto\": [random_string() for _ in range(n)],\n",
    "        \"cantidad\": [random.randint(1, 20) for _ in range(n)],\n",
    "        \"precio_unitario\": [random.uniform(10, 100) for _ in range(n)],\n",
    "        \"fecha_venta\": [pl.date(random.randint(2010, 2022), random.randint(1, 12), random.randint(1, 28)) for _ in range(n)],\n",
    "        \"cliente_id\": [random.randint(1000, 5000) for _ in range(n)]\n",
    "    }\n",
    "    return pl.DataFrame(data)\n",
    "\n",
    "# Generar el DataFrame\n",
    "df = generate_data()\n",
    "df.head()"
   ]
  },
  {
   "cell_type": "code",
   "execution_count": 20,
   "metadata": {},
   "outputs": [
    {
     "data": {
      "text/html": [
       "<i>naive plan: (run <b>LazyFrame.explain(optimized=True)</b> to see the optimized plan)</i>\n",
       "    <p></p>\n",
       "    <div>DF [\"id_venta\", \"producto\", \"cantidad\", \"precio_unitario\"]; PROJECT */6 COLUMNS; SELECTION: None</div>"
      ],
      "text/plain": [
       "<LazyFrame at 0x7F604D7A11C0>"
      ]
     },
     "execution_count": 20,
     "metadata": {},
     "output_type": "execute_result"
    }
   ],
   "source": [
    "df = df.lazy()\n",
    "df"
   ]
  },
  {
   "cell_type": "markdown",
   "metadata": {},
   "source": [
    "# Limpieza de Datos"
   ]
  },
  {
   "cell_type": "markdown",
   "metadata": {},
   "source": [
    "Utilizando Polars en modo Lazy, realice las siguientes operaciones de limpieza y manipulación de datos:\n",
    "\n",
    "    1. `Filtrar` las ventas con cantidades menores a 5.\n",
    "    2. `Agregar` una nueva columna llamada total_venta, que sea el resultado de multiplicar cantidad por precio_unitario.\n",
    "    3. `Eliminar` la columna precio_unitario después de crear total_venta.\n",
    "    4. `Agrupar` los datos por producto y calcular el total vendido y la cantidad total vendida por producto.\n",
    "    5. `Ordenar` los resultados por el total vendido en orden descendente."
   ]
  },
  {
   "cell_type": "markdown",
   "metadata": {},
   "source": [
    "Todo esto lo debes de realizar en una sola linea de codigo"
   ]
  },
  {
   "cell_type": "code",
   "execution_count": 21,
   "metadata": {},
   "outputs": [
    {
     "name": "stdout",
     "output_type": "stream",
     "text": [
      "shape: (219, 3)\n",
      "┌──────────┬───────────────┬────────────────────────┐\n",
      "│ producto ┆ total_vendido ┆ cantidad_total_vendida │\n",
      "│ ---      ┆ ---           ┆ ---                    │\n",
      "│ str      ┆ f64           ┆ i64                    │\n",
      "╞══════════╪═══════════════╪════════════════════════╡\n",
      "│ wopmo    ┆ 10.611182     ┆ 1                      │\n",
      "│ sbiiq    ┆ 11.857285     ┆ 1                      │\n",
      "│ jlolk    ┆ 15.967401     ┆ 1                      │\n",
      "│ wpffr    ┆ 20.501723     ┆ 1                      │\n",
      "│ oweij    ┆ 21.666265     ┆ 1                      │\n",
      "│ …        ┆ …             ┆ …                      │\n",
      "│ okgro    ┆ 379.694083    ┆ 4                      │\n",
      "│ sxuxa    ┆ 381.413264    ┆ 4                      │\n",
      "│ upakp    ┆ 384.601241    ┆ 4                      │\n",
      "│ sphjc    ┆ 384.63735     ┆ 4                      │\n",
      "│ uital    ┆ 393.096908    ┆ 4                      │\n",
      "└──────────┴───────────────┴────────────────────────┘\n"
     ]
    }
   ],
   "source": [
    "\n",
    "lazy_df = df.lazy()\n",
    "\n",
    "# Realizar las operaciones de limpieza y manipulación\n",
    "\n",
    "resultado = (\n",
    "    lazy_df\n",
    "    .filter(pl.col(\"cantidad\")<5)\n",
    "    .with_columns([(pl.col(\"cantidad\")*pl.col(\"precio_unitario\")).alias(\"total_venta\")])\n",
    "    .drop(\"precio_unitario\")\n",
    "    .group_by(\"producto\").agg([\n",
    "        pl.col(\"total_venta\").sum().alias(\"total_vendido\"),\n",
    "        pl.col(\"cantidad\").sum().alias(\"cantidad_total_vendida\")\n",
    "    ])\n",
    "    .sort(\"total_vendido\")\n",
    "\n",
    ")\n",
    "\n",
    "# Ejecutar y mostrar los resultados\n",
    "resultado_df = resultado.collect()\n",
    "print(resultado_df)\n"
   ]
  },
  {
   "cell_type": "markdown",
   "metadata": {},
   "source": [
    "# Guarda el resultado en un archivo `parquet`"
   ]
  },
  {
   "cell_type": "markdown",
   "metadata": {},
   "source": [
    "Guarda el resultado en un archivo parquet que se llame `resultados.parquet`"
   ]
  },
  {
   "cell_type": "code",
   "execution_count": 22,
   "metadata": {},
   "outputs": [],
   "source": [
    "# Tu codigo aqui\n",
    "# Save the DataFrame to a Parquet file\n",
    "resultado_df.write_parquet(\"resultados.parquet\")"
   ]
  },
  {
   "cell_type": "markdown",
   "metadata": {},
   "source": [
    "# Lee Parquet"
   ]
  },
  {
   "cell_type": "markdown",
   "metadata": {},
   "source": [
    "Crea codigo para leer en polars el archivo parquet"
   ]
  },
  {
   "cell_type": "code",
   "execution_count": 23,
   "metadata": {},
   "outputs": [
    {
     "name": "stdout",
     "output_type": "stream",
     "text": [
      "shape: (219, 3)\n",
      "┌──────────┬───────────────┬────────────────────────┐\n",
      "│ producto ┆ total_vendido ┆ cantidad_total_vendida │\n",
      "│ ---      ┆ ---           ┆ ---                    │\n",
      "│ str      ┆ f64           ┆ i64                    │\n",
      "╞══════════╪═══════════════╪════════════════════════╡\n",
      "│ wopmo    ┆ 10.611182     ┆ 1                      │\n",
      "│ sbiiq    ┆ 11.857285     ┆ 1                      │\n",
      "│ jlolk    ┆ 15.967401     ┆ 1                      │\n",
      "│ wpffr    ┆ 20.501723     ┆ 1                      │\n",
      "│ oweij    ┆ 21.666265     ┆ 1                      │\n",
      "│ …        ┆ …             ┆ …                      │\n",
      "│ okgro    ┆ 379.694083    ┆ 4                      │\n",
      "│ sxuxa    ┆ 381.413264    ┆ 4                      │\n",
      "│ upakp    ┆ 384.601241    ┆ 4                      │\n",
      "│ sphjc    ┆ 384.63735     ┆ 4                      │\n",
      "│ uital    ┆ 393.096908    ┆ 4                      │\n",
      "└──────────┴───────────────┴────────────────────────┘\n"
     ]
    }
   ],
   "source": [
    "# Tu codigo aqui\n",
    "# Read the Parquet file into a Polars DataFrame\n",
    "df = pl.read_parquet(\"resultados.parquet\")\n",
    "\n",
    "# Display the DataFrame\n",
    "print(df)"
   ]
  }
 ],
 "metadata": {
  "kernelspec": {
   "display_name": ".venv",
   "language": "python",
   "name": "python3"
  },
  "language_info": {
   "codemirror_mode": {
    "name": "ipython",
    "version": 3
   },
   "file_extension": ".py",
   "mimetype": "text/x-python",
   "name": "python",
   "nbconvert_exporter": "python",
   "pygments_lexer": "ipython3",
   "version": "3.12.3"
  }
 },
 "nbformat": 4,
 "nbformat_minor": 2
}
