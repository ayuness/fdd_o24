{
 "cells": [
  {
   "cell_type": "code",
   "execution_count": 44,
   "metadata": {},
   "outputs": [],
   "source": [
    "import polars as pl\n",
    "import numpy as np\n",
    "import random\n",
    "from datetime import datetime, timedelta"
   ]
  },
  {
   "cell_type": "markdown",
   "metadata": {},
   "source": [
    "# Descripcion"
   ]
  },
  {
   "cell_type": "markdown",
   "metadata": {},
   "source": [
    "Los datos son notificaciones de dispositivos GPS en Mexico. En promedio generan notificaciones automatizadas cada 5 minutos si el carro esta encendido, y 30 si esta apagado.  \n",
    "\n",
    "Cada notificacion esta acompannada de un evento de lo que esta ocurriendo, y trae la latitud y longitud.  \n",
    "\n",
    "El objetico es predecir si un vehiculo esta siendo robado de acuerdo a sus notificaciones, por lo que el primer paso seria limpiar datos y hacer ingenieria de variables.\n",
    "\n",
    "Trata de hacerlo **lazy** si puedes."
   ]
  },
  {
   "cell_type": "code",
   "execution_count": 45,
   "metadata": {},
   "outputs": [],
   "source": [
    "def generate_dummy_data(num_cars, start_time, end_time, working_hours_interval, non_working_hours_interval):\n",
    "    data = []\n",
    "\n",
    "    # Define the latitude and longitude ranges for Mexico\n",
    "    min_latitude, max_latitude = 14.5388, 32.7186\n",
    "    min_longitude, max_longitude = -118.4662, -86.7104\n",
    "\n",
    "    for car_id in range(num_cars):\n",
    "        current_time = start_time\n",
    "\n",
    "        # Generate random initial latitude and longitude for each car\n",
    "        latitude = random.uniform(min_latitude, max_latitude)\n",
    "        longitude = random.uniform(min_longitude, max_longitude)\n",
    "\n",
    "        while current_time < end_time:\n",
    "            if current_time.weekday() < 5 and 9 <= current_time.hour < 17:\n",
    "                # Working hours (Monday to Friday, 9 AM to 5 PM)\n",
    "                interval = working_hours_interval\n",
    "            else:\n",
    "                # Non-working hours\n",
    "                interval = non_working_hours_interval\n",
    "\n",
    "            # Generate notification with 99% probability\n",
    "            if random.random() < 0.99:\n",
    "                notification = random.choice([\"low_fuel\", \"tire_pressure\", \"engine_check\", None])\n",
    "                data.append((f\"car_{car_id}\", current_time.isoformat(), latitude, longitude, notification))\n",
    "\n",
    "            # Generate additional notifications between intervals\n",
    "            while True:\n",
    "                additional_interval = random.expovariate(1 / (interval / 2))\n",
    "                additional_time = current_time + timedelta(minutes=additional_interval)\n",
    "                if additional_time >= current_time + timedelta(minutes=interval):\n",
    "                    break\n",
    "                notification = random.choice([\"low_fuel\", \"tire_pressure\", \"engine_check\", None])\n",
    "                data.append((f\"car_{car_id}\", additional_time.isoformat(), latitude, longitude, notification))\n",
    "\n",
    "            # Update latitude and longitude for car movement\n",
    "            latitude += random.uniform(-0.01, 0.01)\n",
    "            longitude += random.uniform(-0.01, 0.01)\n",
    "\n",
    "            # Check if the car is among the 1% that can have 100 notifications within 5 minutes\n",
    "            if random.random() < 0.01:\n",
    "                burst_start_time = current_time + timedelta(minutes=random.uniform(0, interval))\n",
    "                burst_end_time = burst_start_time + timedelta(minutes=5)\n",
    "                while current_time < burst_end_time:\n",
    "                    notification = random.choice([\"low_fuel\", \"tire_pressure\", \"engine_check\", None])\n",
    "                    data.append((f\"car_{car_id}\", current_time.isoformat(), latitude, longitude, notification))\n",
    "                    current_time += timedelta(seconds=random.uniform(1, 10))\n",
    "\n",
    "            current_time += timedelta(minutes=interval)\n",
    "\n",
    "    # Create a Polars DataFrame from the generated data\n",
    "    df = pl.DataFrame(\n",
    "        {\n",
    "            \"car_id\": [record[0] for record in data],\n",
    "            \"timestamp\": [record[1] for record in data],\n",
    "            \"latitude\": [record[2] for record in data],\n",
    "            \"longitude\": [record[3] for record in data],\n",
    "            \"notification\": [record[4] for record in data],\n",
    "        }\n",
    "    )\n",
    "\n",
    "    return df.lazy()"
   ]
  },
  {
   "cell_type": "code",
   "execution_count": 46,
   "metadata": {},
   "outputs": [
    {
     "name": "stdout",
     "output_type": "stream",
     "text": [
      "naive plan: (run LazyFrame.explain(optimized=True) to see the optimized plan)\n",
      "\n",
      "SLICE[offset: 0, len: 5]\n",
      "  DF [\"car_id\", \"timestamp\", \"latitude\", \"longitude\"]; PROJECT */5 COLUMNS; SELECTION: None\n"
     ]
    }
   ],
   "source": [
    "num_cars = 1000\n",
    "start_time = datetime(2023, 1, 1, 0, 0, 0)  # Start of the week\n",
    "end_time = start_time + timedelta(weeks=1)  # End of the week\n",
    "working_hours_interval = 5  # Interval of 5 minutes during working hours\n",
    "non_working_hours_interval = 30  # Interval of 30 minutes during non-working hours\n",
    "\n",
    "# Generate the dummy data\n",
    "data = generate_dummy_data(num_cars, start_time, end_time, working_hours_interval, non_working_hours_interval)\n",
    "\n",
    "# Print the first few rows of the generated data\n",
    "print(data.head())"
   ]
  },
  {
   "cell_type": "code",
   "execution_count": 47,
   "metadata": {},
   "outputs": [
    {
     "data": {
      "text/html": [
       "<div><style>\n",
       ".dataframe > thead > tr,\n",
       ".dataframe > tbody > tr {\n",
       "  text-align: right;\n",
       "  white-space: pre-wrap;\n",
       "}\n",
       "</style>\n",
       "<small>shape: (6_280_519, 5)</small><table border=\"1\" class=\"dataframe\"><thead><tr><th>car_id</th><th>timestamp</th><th>latitude</th><th>longitude</th><th>notification</th></tr><tr><td>str</td><td>str</td><td>f64</td><td>f64</td><td>str</td></tr></thead><tbody><tr><td>&quot;car_0&quot;</td><td>&quot;2023-01-01T00:00:00&quot;</td><td>17.682309</td><td>-108.399908</td><td>&quot;engine_check&quot;</td></tr><tr><td>&quot;car_0&quot;</td><td>&quot;2023-01-01T00:03:44.922217&quot;</td><td>17.682309</td><td>-108.399908</td><td>null</td></tr><tr><td>&quot;car_0&quot;</td><td>&quot;2023-01-01T00:04:50.113028&quot;</td><td>17.682309</td><td>-108.399908</td><td>&quot;tire_pressure&quot;</td></tr><tr><td>&quot;car_0&quot;</td><td>&quot;2023-01-01T00:04:08.891034&quot;</td><td>17.682309</td><td>-108.399908</td><td>&quot;engine_check&quot;</td></tr><tr><td>&quot;car_0&quot;</td><td>&quot;2023-01-01T00:01:47.255901&quot;</td><td>17.682309</td><td>-108.399908</td><td>&quot;low_fuel&quot;</td></tr><tr><td>&hellip;</td><td>&hellip;</td><td>&hellip;</td><td>&hellip;</td><td>&hellip;</td></tr><tr><td>&quot;car_999&quot;</td><td>&quot;2023-01-07T23:05:38.026463&quot;</td><td>23.48918</td><td>-88.752422</td><td>&quot;engine_check&quot;</td></tr><tr><td>&quot;car_999&quot;</td><td>&quot;2023-01-07T23:02:42.248360&quot;</td><td>23.48918</td><td>-88.752422</td><td>&quot;low_fuel&quot;</td></tr><tr><td>&quot;car_999&quot;</td><td>&quot;2023-01-07T23:31:52.109844&quot;</td><td>23.495319</td><td>-88.758702</td><td>&quot;low_fuel&quot;</td></tr><tr><td>&quot;car_999&quot;</td><td>&quot;2023-01-07T23:34:16.143560&quot;</td><td>23.495319</td><td>-88.758702</td><td>null</td></tr><tr><td>&quot;car_999&quot;</td><td>&quot;2023-01-07T23:32:59.751506&quot;</td><td>23.495319</td><td>-88.758702</td><td>&quot;low_fuel&quot;</td></tr></tbody></table></div>"
      ],
      "text/plain": [
       "shape: (6_280_519, 5)\n",
       "┌─────────┬────────────────────────────┬───────────┬─────────────┬───────────────┐\n",
       "│ car_id  ┆ timestamp                  ┆ latitude  ┆ longitude   ┆ notification  │\n",
       "│ ---     ┆ ---                        ┆ ---       ┆ ---         ┆ ---           │\n",
       "│ str     ┆ str                        ┆ f64       ┆ f64         ┆ str           │\n",
       "╞═════════╪════════════════════════════╪═══════════╪═════════════╪═══════════════╡\n",
       "│ car_0   ┆ 2023-01-01T00:00:00        ┆ 17.682309 ┆ -108.399908 ┆ engine_check  │\n",
       "│ car_0   ┆ 2023-01-01T00:03:44.922217 ┆ 17.682309 ┆ -108.399908 ┆ null          │\n",
       "│ car_0   ┆ 2023-01-01T00:04:50.113028 ┆ 17.682309 ┆ -108.399908 ┆ tire_pressure │\n",
       "│ car_0   ┆ 2023-01-01T00:04:08.891034 ┆ 17.682309 ┆ -108.399908 ┆ engine_check  │\n",
       "│ car_0   ┆ 2023-01-01T00:01:47.255901 ┆ 17.682309 ┆ -108.399908 ┆ low_fuel      │\n",
       "│ …       ┆ …                          ┆ …         ┆ …           ┆ …             │\n",
       "│ car_999 ┆ 2023-01-07T23:05:38.026463 ┆ 23.48918  ┆ -88.752422  ┆ engine_check  │\n",
       "│ car_999 ┆ 2023-01-07T23:02:42.248360 ┆ 23.48918  ┆ -88.752422  ┆ low_fuel      │\n",
       "│ car_999 ┆ 2023-01-07T23:31:52.109844 ┆ 23.495319 ┆ -88.758702  ┆ low_fuel      │\n",
       "│ car_999 ┆ 2023-01-07T23:34:16.143560 ┆ 23.495319 ┆ -88.758702  ┆ null          │\n",
       "│ car_999 ┆ 2023-01-07T23:32:59.751506 ┆ 23.495319 ┆ -88.758702  ┆ low_fuel      │\n",
       "└─────────┴────────────────────────────┴───────────┴─────────────┴───────────────┘"
      ]
     },
     "execution_count": 47,
     "metadata": {},
     "output_type": "execute_result"
    }
   ],
   "source": [
    "data.collect()"
   ]
  },
  {
   "cell_type": "markdown",
   "metadata": {},
   "source": [
    "## Limpieza de datos"
   ]
  },
  {
   "cell_type": "markdown",
   "metadata": {},
   "source": [
    "### Timestamp"
   ]
  },
  {
   "cell_type": "markdown",
   "metadata": {},
   "source": [
    "Convierte el `timestamp` que actualmente es string a formato de tiempo en polars"
   ]
  },
  {
   "cell_type": "code",
   "execution_count": 48,
   "metadata": {},
   "outputs": [],
   "source": [
    "\n",
    "#datos formato Y-M-D T H-M-S por eso %F T %T y el %.f es para los casos que tenga nanoseconds de la forma .X\n",
    "\n",
    "data = data.with_columns(pl.col(\"timestamp\").str.strptime(pl.Datetime, \"%FT%T%.f\"))\n"
   ]
  },
  {
   "cell_type": "markdown",
   "metadata": {},
   "source": [
    "### Ingenieria de variables"
   ]
  },
  {
   "cell_type": "markdown",
   "metadata": {},
   "source": [
    "Dado que va a entrar a un modelo de machine learning es encesario que todas las variables sean numericas, y esten en formnato tidy. Cada observacion en una fila, y cada variable en una columna. Por lo tanto se decidio crear estadisticos y agregar los datos a intervalos uniformes de `x` minutos.  \n",
    "\n",
    "Por ejemplo, colapsar toda la informacion que ocurrion en el intervalo, como el numero de notificaciones en esos 5 minutos, el promedio entre notificaciones, y el tipo de notificaciones."
   ]
  },
  {
   "cell_type": "markdown",
   "metadata": {},
   "source": [
    "Existen varias formas de hacer esto, puedes hacerlo con `group_by` primero para crear las nuevas variables, o `group_by` (`rolling`, `dynamic`) usando operaciones sobre listas. Utiliza claude o chat_gpt.\n",
    "Rolling ve hacia atras\n",
    "Dynamic divide dia en segmentos de 5 min"
   ]
  },
  {
   "cell_type": "markdown",
   "metadata": {},
   "source": [
    "1. Crea una nueva variable que compute la diferencia de tiempo entre notificaciones del mismo vehiculo. Piensa como lo vas a hacer. Llama a esta variable `notification_time`\n",
    "   \n"
   ]
  },
  {
   "cell_type": "code",
   "execution_count": 49,
   "metadata": {},
   "outputs": [],
   "source": [
    "def add_notification_time(df: pl.DataFrame):\n",
    "    \"\"\"\n",
    "    Añade una columna 'notification_time' que contiene la diferencia de tiempo\n",
    "    en minutos entre notificaciones consecutivas del mismo vehículo.\n",
    "    \n",
    "    Args:\n",
    "        df: DataFrame de Polars con columnas 'car_id', 'timestamp'\n",
    "        \n",
    "    Returns:\n",
    "        DataFrame con la nueva columna 'notification_time'\n",
    "    \"\"\"\n",
    "    return (\n",
    "        df.sort([\"car_id\", \"timestamp\"])#lo ordenamos por carro y tiempo\n",
    "        .with_columns([\n",
    "            pl.col(\"timestamp\")# selecciona columna\n",
    "            .diff()# calcula dif con anterior\n",
    "            .over(\"car_id\")#reinicia entre cada vehiculo\n",
    "            .alias(\"notification_time\")#crear y nombrar nueva columna\n",
    "        ])\n",
    "    )\n",
    "    \n",
    "data = add_notification_time(data)"
   ]
  },
  {
   "cell_type": "code",
   "execution_count": 50,
   "metadata": {},
   "outputs": [
    {
     "data": {
      "text/html": [
       "<div><style>\n",
       ".dataframe > thead > tr,\n",
       ".dataframe > tbody > tr {\n",
       "  text-align: right;\n",
       "  white-space: pre-wrap;\n",
       "}\n",
       "</style>\n",
       "<small>shape: (6_280_519, 6)</small><table border=\"1\" class=\"dataframe\"><thead><tr><th>car_id</th><th>timestamp</th><th>latitude</th><th>longitude</th><th>notification</th><th>notification_time</th></tr><tr><td>str</td><td>datetime[μs]</td><td>f64</td><td>f64</td><td>str</td><td>duration[μs]</td></tr></thead><tbody><tr><td>&quot;car_0&quot;</td><td>2023-01-01 00:00:00</td><td>17.682309</td><td>-108.399908</td><td>&quot;engine_check&quot;</td><td>null</td></tr><tr><td>&quot;car_0&quot;</td><td>2023-01-01 00:01:47.255901</td><td>17.682309</td><td>-108.399908</td><td>&quot;low_fuel&quot;</td><td>1m 47s 255901µs</td></tr><tr><td>&quot;car_0&quot;</td><td>2023-01-01 00:03:44.922217</td><td>17.682309</td><td>-108.399908</td><td>null</td><td>1m 57s 666316µs</td></tr><tr><td>&quot;car_0&quot;</td><td>2023-01-01 00:03:59.330581</td><td>17.682309</td><td>-108.399908</td><td>&quot;engine_check&quot;</td><td>14s 408364µs</td></tr><tr><td>&quot;car_0&quot;</td><td>2023-01-01 00:04:08.891034</td><td>17.682309</td><td>-108.399908</td><td>&quot;engine_check&quot;</td><td>9s 560453µs</td></tr><tr><td>&hellip;</td><td>&hellip;</td><td>&hellip;</td><td>&hellip;</td><td>&hellip;</td><td>&hellip;</td></tr><tr><td>&quot;car_999&quot;</td><td>2023-01-07 23:19:20.181986</td><td>23.48918</td><td>-88.752422</td><td>&quot;engine_check&quot;</td><td>1m 57s 334601µs</td></tr><tr><td>&quot;car_999&quot;</td><td>2023-01-07 23:21:03.154102</td><td>23.48918</td><td>-88.752422</td><td>null</td><td>1m 42s 972116µs</td></tr><tr><td>&quot;car_999&quot;</td><td>2023-01-07 23:31:52.109844</td><td>23.495319</td><td>-88.758702</td><td>&quot;low_fuel&quot;</td><td>10m 48s 955742µs</td></tr><tr><td>&quot;car_999&quot;</td><td>2023-01-07 23:32:59.751506</td><td>23.495319</td><td>-88.758702</td><td>&quot;low_fuel&quot;</td><td>1m 7s 641662µs</td></tr><tr><td>&quot;car_999&quot;</td><td>2023-01-07 23:34:16.143560</td><td>23.495319</td><td>-88.758702</td><td>null</td><td>1m 16s 392054µs</td></tr></tbody></table></div>"
      ],
      "text/plain": [
       "shape: (6_280_519, 6)\n",
       "┌─────────┬─────────────────────┬───────────┬─────────────┬──────────────┬───────────────────┐\n",
       "│ car_id  ┆ timestamp           ┆ latitude  ┆ longitude   ┆ notification ┆ notification_time │\n",
       "│ ---     ┆ ---                 ┆ ---       ┆ ---         ┆ ---          ┆ ---               │\n",
       "│ str     ┆ datetime[μs]        ┆ f64       ┆ f64         ┆ str          ┆ duration[μs]      │\n",
       "╞═════════╪═════════════════════╪═══════════╪═════════════╪══════════════╪═══════════════════╡\n",
       "│ car_0   ┆ 2023-01-01 00:00:00 ┆ 17.682309 ┆ -108.399908 ┆ engine_check ┆ null              │\n",
       "│ car_0   ┆ 2023-01-01          ┆ 17.682309 ┆ -108.399908 ┆ low_fuel     ┆ 1m 47s 255901µs   │\n",
       "│         ┆ 00:01:47.255901     ┆           ┆             ┆              ┆                   │\n",
       "│ car_0   ┆ 2023-01-01          ┆ 17.682309 ┆ -108.399908 ┆ null         ┆ 1m 57s 666316µs   │\n",
       "│         ┆ 00:03:44.922217     ┆           ┆             ┆              ┆                   │\n",
       "│ car_0   ┆ 2023-01-01          ┆ 17.682309 ┆ -108.399908 ┆ engine_check ┆ 14s 408364µs      │\n",
       "│         ┆ 00:03:59.330581     ┆           ┆             ┆              ┆                   │\n",
       "│ car_0   ┆ 2023-01-01          ┆ 17.682309 ┆ -108.399908 ┆ engine_check ┆ 9s 560453µs       │\n",
       "│         ┆ 00:04:08.891034     ┆           ┆             ┆              ┆                   │\n",
       "│ …       ┆ …                   ┆ …         ┆ …           ┆ …            ┆ …                 │\n",
       "│ car_999 ┆ 2023-01-07          ┆ 23.48918  ┆ -88.752422  ┆ engine_check ┆ 1m 57s 334601µs   │\n",
       "│         ┆ 23:19:20.181986     ┆           ┆             ┆              ┆                   │\n",
       "│ car_999 ┆ 2023-01-07          ┆ 23.48918  ┆ -88.752422  ┆ null         ┆ 1m 42s 972116µs   │\n",
       "│         ┆ 23:21:03.154102     ┆           ┆             ┆              ┆                   │\n",
       "│ car_999 ┆ 2023-01-07          ┆ 23.495319 ┆ -88.758702  ┆ low_fuel     ┆ 10m 48s 955742µs  │\n",
       "│         ┆ 23:31:52.109844     ┆           ┆             ┆              ┆                   │\n",
       "│ car_999 ┆ 2023-01-07          ┆ 23.495319 ┆ -88.758702  ┆ low_fuel     ┆ 1m 7s 641662µs    │\n",
       "│         ┆ 23:32:59.751506     ┆           ┆             ┆              ┆                   │\n",
       "│ car_999 ┆ 2023-01-07          ┆ 23.495319 ┆ -88.758702  ┆ null         ┆ 1m 16s 392054µs   │\n",
       "│         ┆ 23:34:16.143560     ┆           ┆             ┆              ┆                   │\n",
       "└─────────┴─────────────────────┴───────────┴─────────────┴──────────────┴───────────────────┘"
      ]
     },
     "execution_count": 50,
     "metadata": {},
     "output_type": "execute_result"
    }
   ],
   "source": [
    "data.collect()"
   ]
  },
  {
   "cell_type": "markdown",
   "metadata": {},
   "source": [
    "2. Crea una nueva variable que compute la distancia que viajo el vehiculo desde la ultima notificacion. Llamala `distance`"
   ]
  },
  {
   "cell_type": "code",
   "execution_count": 51,
   "metadata": {},
   "outputs": [],
   "source": [
    "def haversine_distance(lat1: float, lon1: float, lat2: float, lon2: float) -> float:\n",
    "    \"\"\"\n",
    "    Calcula la distancia en kilómetros entre dos puntos usando la fórmula de Haversine.\n",
    "    \"\"\"\n",
    "    R = 6371  # Radio de la Tierra en kilómetros\n",
    "    \n",
    "    # Convertir grados a radianes\n",
    "    lat1, lon1, lat2, lon2 = map(np.radians, [lat1, lon1, lat2, lon2])\n",
    "    \n",
    "    # Diferencias en coordenadas\n",
    "    dlat = lat2 - lat1\n",
    "    dlon = lon2 - lon1\n",
    "    \n",
    "    # Fórmula de Haversine\n",
    "    a = np.sin(dlat/2.0)**2 + np.cos(lat1) * np.cos(lat2) * np.sin(dlon/2.0)**2\n",
    "    c = 2 * np.arcsin(np.sqrt(a))\n",
    "    \n",
    "    return R * c\n",
    "\n",
    "def add_distance(df: pl.DataFrame) -> pl.DataFrame:\n",
    "    \"\"\"\n",
    "    Añade una columna 'distance' que contiene la distancia recorrida en kilómetros\n",
    "    desde la última notificación para cada vehículo.\n",
    "    \n",
    "    Args:\n",
    "        df: DataFrame de Polars con columnas 'car_id', 'latitude', 'longitude'\n",
    "        \n",
    "    Returns:\n",
    "        DataFrame con la nueva columna 'distance'\n",
    "    \"\"\"\n",
    "    return (\n",
    "        df.sort([\"car_id\", \"timestamp\"])\n",
    "        .with_columns([\n",
    "            pl.struct([\"latitude\", \"longitude\"])\n",
    "            .shift()\n",
    "            .over(\"car_id\")\n",
    "            .alias(\"prev_coords\")\n",
    "        ])\n",
    "        .with_columns([\n",
    "            pl.col(\"prev_coords\").struct.field(\"latitude\").alias(\"prev_lat\"),\n",
    "            pl.col(\"prev_coords\").struct.field(\"longitude\").alias(\"prev_lon\")\n",
    "        ])\n",
    "        .with_columns([\n",
    "            pl.struct([\"latitude\", \"longitude\", \"prev_lat\", \"prev_lon\"])\n",
    "            .map_elements(lambda x: haversine_distance(\n",
    "                x[\"latitude\"], \n",
    "                x[\"longitude\"], \n",
    "                x[\"prev_lat\"] if x[\"prev_lat\"] is not None else x[\"latitude\"], \n",
    "                x[\"prev_lon\"] if x[\"prev_lon\"] is not None else x[\"longitude\"]\n",
    "            ))\n",
    "            .alias(\"distance\")\n",
    "        ])\n",
    "        .drop([\"prev_coords\", \"prev_lat\", \"prev_lon\"])\n",
    "    )\n",
    "data = add_distance(data)"
   ]
  },
  {
   "cell_type": "code",
   "execution_count": 52,
   "metadata": {},
   "outputs": [
    {
     "name": "stderr",
     "output_type": "stream",
     "text": [
      "/tmp/ipykernel_998/1239791909.py:1: MapWithoutReturnDtypeWarning: Calling `map_elements` without specifying `return_dtype` can lead to unpredictable results. Specify `return_dtype` to silence this warning.\n",
      "  data.collect()\n"
     ]
    },
    {
     "data": {
      "text/html": [
       "<div><style>\n",
       ".dataframe > thead > tr,\n",
       ".dataframe > tbody > tr {\n",
       "  text-align: right;\n",
       "  white-space: pre-wrap;\n",
       "}\n",
       "</style>\n",
       "<small>shape: (6_280_519, 7)</small><table border=\"1\" class=\"dataframe\"><thead><tr><th>car_id</th><th>timestamp</th><th>latitude</th><th>longitude</th><th>notification</th><th>notification_time</th><th>distance</th></tr><tr><td>str</td><td>datetime[μs]</td><td>f64</td><td>f64</td><td>str</td><td>duration[μs]</td><td>f64</td></tr></thead><tbody><tr><td>&quot;car_0&quot;</td><td>2023-01-01 00:00:00</td><td>17.682309</td><td>-108.399908</td><td>&quot;engine_check&quot;</td><td>null</td><td>0.0</td></tr><tr><td>&quot;car_0&quot;</td><td>2023-01-01 00:01:47.255901</td><td>17.682309</td><td>-108.399908</td><td>&quot;low_fuel&quot;</td><td>1m 47s 255901µs</td><td>0.0</td></tr><tr><td>&quot;car_0&quot;</td><td>2023-01-01 00:03:44.922217</td><td>17.682309</td><td>-108.399908</td><td>null</td><td>1m 57s 666316µs</td><td>0.0</td></tr><tr><td>&quot;car_0&quot;</td><td>2023-01-01 00:03:59.330581</td><td>17.682309</td><td>-108.399908</td><td>&quot;engine_check&quot;</td><td>14s 408364µs</td><td>0.0</td></tr><tr><td>&quot;car_0&quot;</td><td>2023-01-01 00:04:08.891034</td><td>17.682309</td><td>-108.399908</td><td>&quot;engine_check&quot;</td><td>9s 560453µs</td><td>0.0</td></tr><tr><td>&hellip;</td><td>&hellip;</td><td>&hellip;</td><td>&hellip;</td><td>&hellip;</td><td>&hellip;</td><td>&hellip;</td></tr><tr><td>&quot;car_999&quot;</td><td>2023-01-07 23:19:20.181986</td><td>23.48918</td><td>-88.752422</td><td>&quot;engine_check&quot;</td><td>1m 57s 334601µs</td><td>0.0</td></tr><tr><td>&quot;car_999&quot;</td><td>2023-01-07 23:21:03.154102</td><td>23.48918</td><td>-88.752422</td><td>null</td><td>1m 42s 972116µs</td><td>0.0</td></tr><tr><td>&quot;car_999&quot;</td><td>2023-01-07 23:31:52.109844</td><td>23.495319</td><td>-88.758702</td><td>&quot;low_fuel&quot;</td><td>10m 48s 955742µs</td><td>0.93605</td></tr><tr><td>&quot;car_999&quot;</td><td>2023-01-07 23:32:59.751506</td><td>23.495319</td><td>-88.758702</td><td>&quot;low_fuel&quot;</td><td>1m 7s 641662µs</td><td>0.0</td></tr><tr><td>&quot;car_999&quot;</td><td>2023-01-07 23:34:16.143560</td><td>23.495319</td><td>-88.758702</td><td>null</td><td>1m 16s 392054µs</td><td>0.0</td></tr></tbody></table></div>"
      ],
      "text/plain": [
       "shape: (6_280_519, 7)\n",
       "┌─────────┬──────────────────┬───────────┬─────────────┬──────────────┬─────────────────┬──────────┐\n",
       "│ car_id  ┆ timestamp        ┆ latitude  ┆ longitude   ┆ notification ┆ notification_ti ┆ distance │\n",
       "│ ---     ┆ ---              ┆ ---       ┆ ---         ┆ ---          ┆ me              ┆ ---      │\n",
       "│ str     ┆ datetime[μs]     ┆ f64       ┆ f64         ┆ str          ┆ ---             ┆ f64      │\n",
       "│         ┆                  ┆           ┆             ┆              ┆ duration[μs]    ┆          │\n",
       "╞═════════╪══════════════════╪═══════════╪═════════════╪══════════════╪═════════════════╪══════════╡\n",
       "│ car_0   ┆ 2023-01-01       ┆ 17.682309 ┆ -108.399908 ┆ engine_check ┆ null            ┆ 0.0      │\n",
       "│         ┆ 00:00:00         ┆           ┆             ┆              ┆                 ┆          │\n",
       "│ car_0   ┆ 2023-01-01       ┆ 17.682309 ┆ -108.399908 ┆ low_fuel     ┆ 1m 47s 255901µs ┆ 0.0      │\n",
       "│         ┆ 00:01:47.255901  ┆           ┆             ┆              ┆                 ┆          │\n",
       "│ car_0   ┆ 2023-01-01       ┆ 17.682309 ┆ -108.399908 ┆ null         ┆ 1m 57s 666316µs ┆ 0.0      │\n",
       "│         ┆ 00:03:44.922217  ┆           ┆             ┆              ┆                 ┆          │\n",
       "│ car_0   ┆ 2023-01-01       ┆ 17.682309 ┆ -108.399908 ┆ engine_check ┆ 14s 408364µs    ┆ 0.0      │\n",
       "│         ┆ 00:03:59.330581  ┆           ┆             ┆              ┆                 ┆          │\n",
       "│ car_0   ┆ 2023-01-01       ┆ 17.682309 ┆ -108.399908 ┆ engine_check ┆ 9s 560453µs     ┆ 0.0      │\n",
       "│         ┆ 00:04:08.891034  ┆           ┆             ┆              ┆                 ┆          │\n",
       "│ …       ┆ …                ┆ …         ┆ …           ┆ …            ┆ …               ┆ …        │\n",
       "│ car_999 ┆ 2023-01-07       ┆ 23.48918  ┆ -88.752422  ┆ engine_check ┆ 1m 57s 334601µs ┆ 0.0      │\n",
       "│         ┆ 23:19:20.181986  ┆           ┆             ┆              ┆                 ┆          │\n",
       "│ car_999 ┆ 2023-01-07       ┆ 23.48918  ┆ -88.752422  ┆ null         ┆ 1m 42s 972116µs ┆ 0.0      │\n",
       "│         ┆ 23:21:03.154102  ┆           ┆             ┆              ┆                 ┆          │\n",
       "│ car_999 ┆ 2023-01-07       ┆ 23.495319 ┆ -88.758702  ┆ low_fuel     ┆ 10m 48s         ┆ 0.93605  │\n",
       "│         ┆ 23:31:52.109844  ┆           ┆             ┆              ┆ 955742µs        ┆          │\n",
       "│ car_999 ┆ 2023-01-07       ┆ 23.495319 ┆ -88.758702  ┆ low_fuel     ┆ 1m 7s 641662µs  ┆ 0.0      │\n",
       "│         ┆ 23:32:59.751506  ┆           ┆             ┆              ┆                 ┆          │\n",
       "│ car_999 ┆ 2023-01-07       ┆ 23.495319 ┆ -88.758702  ┆ null         ┆ 1m 16s 392054µs ┆ 0.0      │\n",
       "│         ┆ 23:34:16.143560  ┆           ┆             ┆              ┆                 ┆          │\n",
       "└─────────┴──────────────────┴───────────┴─────────────┴──────────────┴─────────────────┴──────────┘"
      ]
     },
     "execution_count": 52,
     "metadata": {},
     "output_type": "execute_result"
    }
   ],
   "source": [
    "data.collect()"
   ]
  },
  {
   "cell_type": "markdown",
   "metadata": {},
   "source": [
    "3. Crea intervalos de `x` minutos por carro. Como el numero de notificaciones en esos intervalos no es uniforme tienes que buscar funciones de polars especificas, pero ademas tienen que ser por vehiculo, pues tienen que ser del mismo. Revisa las funciones de `group_by` `dynamic` y `rolling`.\n",
    "   1. Computa la media, mediana, varianza, max y min de `notification_time` los intervalos de `x` minutos\n",
    "   2. Computa la media, mediana, varianza, max y min de `distance`\n"
   ]
  },
  {
   "cell_type": "code",
   "execution_count": 53,
   "metadata": {},
   "outputs": [
    {
     "name": "stderr",
     "output_type": "stream",
     "text": [
      "/tmp/ipykernel_998/2560277083.py:14: DeprecationWarning: The argument `by` for `LazyFrame.group_by_dynamic` is deprecated. It has been renamed to `group_by`.\n",
      "  df.group_by_dynamic(\n",
      "/tmp/ipykernel_998/2560277083.py:35: DeprecationWarning: `pl.count()` is deprecated. Please use `pl.len()` instead.\n",
      "  pl.count().alias(\"notifications_count\")\n"
     ]
    }
   ],
   "source": [
    "#Intervalos 5 minutos\n",
    "def compute_interval_statistics(df: pl.DataFrame, interval_minutes: int = 5) -> pl.DataFrame:\n",
    "    \"\"\"\n",
    "    Computa estadísticas por intervalos de tiempo para cada vehículo.\n",
    "    \n",
    "    Args:\n",
    "        df: DataFrame de Polars con las columnas necesarias\n",
    "        interval_minutes: Tamaño del intervalo en minutos\n",
    "        \n",
    "    Returns:\n",
    "        DataFrame con las estadísticas por intervalo\n",
    "    \"\"\"\n",
    "    return (\n",
    "        df.group_by_dynamic(\n",
    "            index_column=\"timestamp\",\n",
    "            by=\"car_id\",\n",
    "            every=f\"{interval_minutes}m\",\n",
    "            closed=\"both\"\n",
    "        ).agg([\n",
    "            # Estadísticas para notification_time (convertido a minutos varianza)\n",
    "            pl.col(\"notification_time\").mean().alias(\"notification_time_mean_minutes\"),\n",
    "            pl.col(\"notification_time\").median().alias(\"notification_time_median_minutes\"),\n",
    "            pl.col(\"notification_time\").dt.total_minutes().var().alias(\"notification_time_variance_minutes\"),\n",
    "            pl.col(\"notification_time\").max().alias(\"notification_time_max_minutes\"),\n",
    "            pl.col(\"notification_time\").min().alias(\"notification_time_min_minutes\"),\n",
    "            \n",
    "            # Estadísticas para distance\n",
    "            pl.col(\"distance\").mean().alias(\"distance_mean\"),\n",
    "            pl.col(\"distance\").median().alias(\"distance_median\"),\n",
    "            pl.col(\"distance\").var().alias(\"distance_variance\"),\n",
    "            pl.col(\"distance\").max().alias(\"distance_max\"),\n",
    "            pl.col(\"distance\").min().alias(\"distance_min\"),\n",
    "            \n",
    "            # Opcional: contar número de notificaciones en el intervalo\n",
    "            pl.count().alias(\"notifications_count\")\n",
    "        ])\n",
    "    )\n",
    "\n",
    "data = compute_interval_statistics(data, interval_minutes=5)"
   ]
  },
  {
   "cell_type": "code",
   "execution_count": 54,
   "metadata": {},
   "outputs": [
    {
     "name": "stderr",
     "output_type": "stream",
     "text": [
      "/tmp/ipykernel_998/1239791909.py:1: MapWithoutReturnDtypeWarning: Calling `map_elements` without specifying `return_dtype` can lead to unpredictable results. Specify `return_dtype` to silence this warning.\n",
      "  data.collect()\n"
     ]
    },
    {
     "data": {
      "text/html": [
       "<div><style>\n",
       ".dataframe > thead > tr,\n",
       ".dataframe > tbody > tr {\n",
       "  text-align: right;\n",
       "  white-space: pre-wrap;\n",
       "}\n",
       "</style>\n",
       "<small>shape: (1_375_516, 13)</small><table border=\"1\" class=\"dataframe\"><thead><tr><th>car_id</th><th>timestamp</th><th>notification_time_mean_minutes</th><th>notification_time_median_minutes</th><th>notification_time_variance_minutes</th><th>notification_time_max_minutes</th><th>notification_time_min_minutes</th><th>distance_mean</th><th>distance_median</th><th>distance_variance</th><th>distance_max</th><th>distance_min</th><th>notifications_count</th></tr><tr><td>str</td><td>datetime[μs]</td><td>duration[μs]</td><td>duration[μs]</td><td>f64</td><td>duration[μs]</td><td>duration[μs]</td><td>f64</td><td>f64</td><td>f64</td><td>f64</td><td>f64</td><td>u32</td></tr></thead><tbody><tr><td>&quot;car_0&quot;</td><td>2023-01-01 00:00:00</td><td>48s 352171µs</td><td>21s 498167µs</td><td>0.266667</td><td>1m 57s 666316µs</td><td>9s 560453µs</td><td>0.0</td><td>0.0</td><td>0.0</td><td>0.0</td><td>0.0</td><td>7</td></tr><tr><td>&quot;car_0&quot;</td><td>2023-01-01 00:05:00</td><td>1m 51s 640217µs</td><td>1m 51s 640217µs</td><td>0.5</td><td>2m 5s 560794µs</td><td>1m 37s 719641µs</td><td>0.0</td><td>0.0</td><td>0.0</td><td>0.0</td><td>0.0</td><td>2</td></tr><tr><td>&quot;car_0&quot;</td><td>2023-01-01 00:10:00</td><td>51s 262751µs</td><td>56s 895936µs</td><td>0.2</td><td>1m 29s 305959µs</td><td>9s 242290µs</td><td>0.0</td><td>0.0</td><td>0.0</td><td>0.0</td><td>0.0</td><td>5</td></tr><tr><td>&quot;car_0&quot;</td><td>2023-01-01 00:15:00</td><td>3m 15s 525299µs</td><td>3m 15s 525299µs</td><td>null</td><td>3m 15s 525299µs</td><td>3m 15s 525299µs</td><td>0.0</td><td>0.0</td><td>null</td><td>0.0</td><td>0.0</td><td>1</td></tr><tr><td>&quot;car_0&quot;</td><td>2023-01-01 00:20:00</td><td>4m 17s 843348µs</td><td>4m 17s 843348µs</td><td>18.0</td><td>7m 4s 466551µs</td><td>1m 31s 220146µs</td><td>0.0</td><td>0.0</td><td>0.0</td><td>0.0</td><td>0.0</td><td>2</td></tr><tr><td>&hellip;</td><td>&hellip;</td><td>&hellip;</td><td>&hellip;</td><td>&hellip;</td><td>&hellip;</td><td>&hellip;</td><td>&hellip;</td><td>&hellip;</td><td>&hellip;</td><td>&hellip;</td><td>&hellip;</td><td>&hellip;</td></tr><tr><td>&quot;car_999&quot;</td><td>2023-01-07 23:05:00</td><td>24s 17745µs</td><td>14s 337349µs</td><td>0.083333</td><td>1m 13s 706773µs</td><td>1s 862658µs</td><td>0.0</td><td>0.0</td><td>0.0</td><td>0.0</td><td>0.0</td><td>12</td></tr><tr><td>&quot;car_999&quot;</td><td>2023-01-07 23:10:00</td><td>1m 54s 193213µs</td><td>1m 15s 706218µs</td><td>1.333333</td><td>3m 13s 348969µs</td><td>1m 13s 524454µs</td><td>0.0</td><td>0.0</td><td>0.0</td><td>0.0</td><td>0.0</td><td>3</td></tr><tr><td>&quot;car_999&quot;</td><td>2023-01-07 23:15:00</td><td>1m 28s 568144µs</td><td>1m 57s 334601µs</td><td>1.0</td><td>2m 3s 249992µs</td><td>25s 119841µs</td><td>0.0</td><td>0.0</td><td>0.0</td><td>0.0</td><td>0.0</td><td>3</td></tr><tr><td>&quot;car_999&quot;</td><td>2023-01-07 23:20:00</td><td>1m 42s 972116µs</td><td>1m 42s 972116µs</td><td>null</td><td>1m 42s 972116µs</td><td>1m 42s 972116µs</td><td>0.0</td><td>0.0</td><td>null</td><td>0.0</td><td>0.0</td><td>1</td></tr><tr><td>&quot;car_999&quot;</td><td>2023-01-07 23:30:00</td><td>4m 24s 329819µs</td><td>1m 16s 392054µs</td><td>27.0</td><td>10m 48s 955742µs</td><td>1m 7s 641662µs</td><td>0.312017</td><td>0.0</td><td>0.292063</td><td>0.93605</td><td>0.0</td><td>3</td></tr></tbody></table></div>"
      ],
      "text/plain": [
       "shape: (1_375_516, 13)\n",
       "┌─────────┬────────────┬───────────┬───────────┬───┬───────────┬───────────┬───────────┬───────────┐\n",
       "│ car_id  ┆ timestamp  ┆ notificat ┆ notificat ┆ … ┆ distance_ ┆ distance_ ┆ distance_ ┆ notificat │\n",
       "│ ---     ┆ ---        ┆ ion_time_ ┆ ion_time_ ┆   ┆ variance  ┆ max       ┆ min       ┆ ions_coun │\n",
       "│ str     ┆ datetime[μ ┆ mean_minu ┆ median_mi ┆   ┆ ---       ┆ ---       ┆ ---       ┆ t         │\n",
       "│         ┆ s]         ┆ tes       ┆ nut…      ┆   ┆ f64       ┆ f64       ┆ f64       ┆ ---       │\n",
       "│         ┆            ┆ ---       ┆ ---       ┆   ┆           ┆           ┆           ┆ u32       │\n",
       "│         ┆            ┆ duration[ ┆ duration[ ┆   ┆           ┆           ┆           ┆           │\n",
       "│         ┆            ┆ μs]       ┆ μs]       ┆   ┆           ┆           ┆           ┆           │\n",
       "╞═════════╪════════════╪═══════════╪═══════════╪═══╪═══════════╪═══════════╪═══════════╪═══════════╡\n",
       "│ car_0   ┆ 2023-01-01 ┆ 48s       ┆ 21s       ┆ … ┆ 0.0       ┆ 0.0       ┆ 0.0       ┆ 7         │\n",
       "│         ┆ 00:00:00   ┆ 352171µs  ┆ 498167µs  ┆   ┆           ┆           ┆           ┆           │\n",
       "│ car_0   ┆ 2023-01-01 ┆ 1m 51s    ┆ 1m 51s    ┆ … ┆ 0.0       ┆ 0.0       ┆ 0.0       ┆ 2         │\n",
       "│         ┆ 00:05:00   ┆ 640217µs  ┆ 640217µs  ┆   ┆           ┆           ┆           ┆           │\n",
       "│ car_0   ┆ 2023-01-01 ┆ 51s       ┆ 56s       ┆ … ┆ 0.0       ┆ 0.0       ┆ 0.0       ┆ 5         │\n",
       "│         ┆ 00:10:00   ┆ 262751µs  ┆ 895936µs  ┆   ┆           ┆           ┆           ┆           │\n",
       "│ car_0   ┆ 2023-01-01 ┆ 3m 15s    ┆ 3m 15s    ┆ … ┆ null      ┆ 0.0       ┆ 0.0       ┆ 1         │\n",
       "│         ┆ 00:15:00   ┆ 525299µs  ┆ 525299µs  ┆   ┆           ┆           ┆           ┆           │\n",
       "│ car_0   ┆ 2023-01-01 ┆ 4m 17s    ┆ 4m 17s    ┆ … ┆ 0.0       ┆ 0.0       ┆ 0.0       ┆ 2         │\n",
       "│         ┆ 00:20:00   ┆ 843348µs  ┆ 843348µs  ┆   ┆           ┆           ┆           ┆           │\n",
       "│ …       ┆ …          ┆ …         ┆ …         ┆ … ┆ …         ┆ …         ┆ …         ┆ …         │\n",
       "│ car_999 ┆ 2023-01-07 ┆ 24s       ┆ 14s       ┆ … ┆ 0.0       ┆ 0.0       ┆ 0.0       ┆ 12        │\n",
       "│         ┆ 23:05:00   ┆ 17745µs   ┆ 337349µs  ┆   ┆           ┆           ┆           ┆           │\n",
       "│ car_999 ┆ 2023-01-07 ┆ 1m 54s    ┆ 1m 15s    ┆ … ┆ 0.0       ┆ 0.0       ┆ 0.0       ┆ 3         │\n",
       "│         ┆ 23:10:00   ┆ 193213µs  ┆ 706218µs  ┆   ┆           ┆           ┆           ┆           │\n",
       "│ car_999 ┆ 2023-01-07 ┆ 1m 28s    ┆ 1m 57s    ┆ … ┆ 0.0       ┆ 0.0       ┆ 0.0       ┆ 3         │\n",
       "│         ┆ 23:15:00   ┆ 568144µs  ┆ 334601µs  ┆   ┆           ┆           ┆           ┆           │\n",
       "│ car_999 ┆ 2023-01-07 ┆ 1m 42s    ┆ 1m 42s    ┆ … ┆ null      ┆ 0.0       ┆ 0.0       ┆ 1         │\n",
       "│         ┆ 23:20:00   ┆ 972116µs  ┆ 972116µs  ┆   ┆           ┆           ┆           ┆           │\n",
       "│ car_999 ┆ 2023-01-07 ┆ 4m 24s    ┆ 1m 16s    ┆ … ┆ 0.292063  ┆ 0.93605   ┆ 0.0       ┆ 3         │\n",
       "│         ┆ 23:30:00   ┆ 329819µs  ┆ 392054µs  ┆   ┆           ┆           ┆           ┆           │\n",
       "└─────────┴────────────┴───────────┴───────────┴───┴───────────┴───────────┴───────────┴───────────┘"
      ]
     },
     "execution_count": 54,
     "metadata": {},
     "output_type": "execute_result"
    }
   ],
   "source": [
    "data.collect()"
   ]
  }
 ],
 "metadata": {
  "kernelspec": {
   "display_name": ".venv",
   "language": "python",
   "name": "python3"
  },
  "language_info": {
   "codemirror_mode": {
    "name": "ipython",
    "version": 3
   },
   "file_extension": ".py",
   "mimetype": "text/x-python",
   "name": "python",
   "nbconvert_exporter": "python",
   "pygments_lexer": "ipython3",
   "version": "3.12.3"
  }
 },
 "nbformat": 4,
 "nbformat_minor": 2
}
