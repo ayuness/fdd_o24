{
 "cells": [
  {
   "cell_type": "markdown",
   "metadata": {},
   "source": [
    "<a target=\"_blank\" href=\"https://colab.research.google.com/github/sonder-art/fdd_o23/blob/main/codigo/polars/02_sintaxis_polars.ipynb\">\n",
    "  <img src=\"https://colab.research.google.com/assets/colab-badge.svg\" alt=\"Open In Colab\"/>\n",
    "</a>"
   ]
  },
  {
   "cell_type": "code",
   "execution_count": 9,
   "metadata": {},
   "outputs": [
    {
     "name": "stdout",
     "output_type": "stream",
     "text": [
      "Requirement already satisfied: polars in /home/uumami/itam/fdd_o23/.venv/lib/python3.11/site-packages (0.19.13)\n"
     ]
    }
   ],
   "source": [
    "! pip install polars -U"
   ]
  },
  {
   "cell_type": "markdown",
   "metadata": {},
   "source": [
    "# Lazy & Collect"
   ]
  },
  {
   "cell_type": "code",
   "execution_count": 1,
   "metadata": {},
   "outputs": [],
   "source": [
    "import polars as pl"
   ]
  },
  {
   "cell_type": "markdown",
   "metadata": {},
   "source": [
    "Creemos un dataframe que se conporte a nivel `sintaxis` como `lazy` aunque realmente las operaciones de creacion ya han sido ejecutadas.  \n",
    "En estricto sentido peudes leer los datos como `lazy` desde el disco, pero para entender como funciona haremos un mock."
   ]
  },
  {
   "cell_type": "code",
   "execution_count": 2,
   "metadata": {},
   "outputs": [],
   "source": [
    "# Crear un DataFrame con evaluación perezosa\n",
    "lazy_df = pl.DataFrame({\n",
    "    \"nombre\": [\"Ana\", \"Luis\", \"Marta\"],\n",
    "    \"edad\": [25, 32, 18],\n",
    "    \"ciudad\": [\"Madrid\", \"Barcelona\", \"Sevilla\"]\n",
    "}).lazy()\n"
   ]
  },
  {
   "cell_type": "code",
   "execution_count": 10,
   "metadata": {},
   "outputs": [],
   "source": [
    "# Seleccionar solo la columna 'nombre'\n",
    "seleccion = lazy_df.select(\"nombre\")\n"
   ]
  },
  {
   "cell_type": "markdown",
   "metadata": {},
   "source": [
    "Que esta haciendo el `select`?"
   ]
  },
  {
   "cell_type": "markdown",
   "metadata": {},
   "source": [
    "`collect` ejectuta todas las operaciones lazy que no han sido ejecutadas hasta es momento. Digamos que es un comando que indica a `polars` que es momento de ejecutar."
   ]
  },
  {
   "cell_type": "code",
   "execution_count": 9,
   "metadata": {},
   "outputs": [
    {
     "name": "stdout",
     "output_type": "stream",
     "text": [
      "shape: (3, 1)\n",
      "┌────────┐\n",
      "│ nombre │\n",
      "│ ---    │\n",
      "│ str    │\n",
      "╞════════╡\n",
      "│ Ana    │\n",
      "│ Luis   │\n",
      "│ Marta  │\n",
      "└────────┘\n"
     ]
    }
   ],
   "source": [
    "# Ejecutar y mostrar los resultados\n",
    "print(seleccion.collect())"
   ]
  },
  {
   "cell_type": "markdown",
   "metadata": {},
   "source": [
    "# Filtrado y Operaciones Columna"
   ]
  },
  {
   "cell_type": "code",
   "execution_count": 8,
   "metadata": {},
   "outputs": [
    {
     "data": {
      "text/html": [
       "<div><style>\n",
       ".dataframe > thead > tr,\n",
       ".dataframe > tbody > tr {\n",
       "  text-align: right;\n",
       "  white-space: pre-wrap;\n",
       "}\n",
       "</style>\n",
       "<small>shape: (2, 3)</small><table border=\"1\" class=\"dataframe\"><thead><tr><th>nombre</th><th>edad</th><th>ciudad</th></tr><tr><td>str</td><td>i64</td><td>str</td></tr></thead><tbody><tr><td>&quot;Ana&quot;</td><td>25</td><td>&quot;Madrid&quot;</td></tr><tr><td>&quot;Luis&quot;</td><td>32</td><td>&quot;Barcelona&quot;</td></tr></tbody></table></div>"
      ],
      "text/plain": [
       "shape: (2, 3)\n",
       "┌────────┬──────┬───────────┐\n",
       "│ nombre ┆ edad ┆ ciudad    │\n",
       "│ ---    ┆ ---  ┆ ---       │\n",
       "│ str    ┆ i64  ┆ str       │\n",
       "╞════════╪══════╪═══════════╡\n",
       "│ Ana    ┆ 25   ┆ Madrid    │\n",
       "│ Luis   ┆ 32   ┆ Barcelona │\n",
       "└────────┴──────┴───────────┘"
      ]
     },
     "execution_count": 8,
     "metadata": {},
     "output_type": "execute_result"
    }
   ],
   "source": [
    "# Filtrar el DataFrame donde la edad es mayor a 20\n",
    "filtrado = lazy_df.filter(pl.col(\"edad\") > 20)\n",
    "filtrado.collect()"
   ]
  },
  {
   "cell_type": "markdown",
   "metadata": {},
   "source": [
    "Que esta haciendo `filter`?  \n",
    "Que esta haciendo `pl.col`?"
   ]
  },
  {
   "cell_type": "code",
   "execution_count": 12,
   "metadata": {},
   "outputs": [],
   "source": [
    "# Crear una nueva columna que sea la longitud del nombre\n",
    "nueva_columna = filtrado.with_columns(pl.col(\"nombre\").str.len_chars().alias(\"longitud_nombre\"))"
   ]
  },
  {
   "cell_type": "markdown",
   "metadata": {},
   "source": [
    "Que esta haciendo `with_columns`?  \n",
    "Por que aparece un `pl.col`?"
   ]
  },
  {
   "cell_type": "code",
   "execution_count": 13,
   "metadata": {},
   "outputs": [
    {
     "name": "stdout",
     "output_type": "stream",
     "text": [
      "shape: (2, 4)\n",
      "┌────────┬──────┬───────────┬─────────────────┐\n",
      "│ nombre ┆ edad ┆ ciudad    ┆ longitud_nombre │\n",
      "│ ---    ┆ ---  ┆ ---       ┆ ---             │\n",
      "│ str    ┆ i64  ┆ str       ┆ u32             │\n",
      "╞════════╪══════╪═══════════╪═════════════════╡\n",
      "│ Ana    ┆ 25   ┆ Madrid    ┆ 3               │\n",
      "│ Luis   ┆ 32   ┆ Barcelona ┆ 4               │\n",
      "└────────┴──────┴───────────┴─────────────────┘\n"
     ]
    }
   ],
   "source": [
    "# Ejecutar y mostrar los resultados\n",
    "print(nueva_columna.collect())"
   ]
  },
  {
   "cell_type": "markdown",
   "metadata": {},
   "source": [
    "$$\n",
    "\n",
    "$$"
   ]
  },
  {
   "cell_type": "markdown",
   "metadata": {},
   "source": [
    "# Operaciones de agregacion"
   ]
  },
  {
   "cell_type": "code",
   "execution_count": null,
   "metadata": {},
   "outputs": [
    {
     "data": {
      "text/html": [
       "<i>naive plan: (run <b>LazyFrame.explain(optimized=True)</b> to see the optimized plan)</i>\n",
       "    <p></p>\n",
       "    <div>AGGREGATE<p></p>\t[col(\"edad\").mean().alias(\"edad_promedio\")] BY [col(\"ciudad\")] FROM<p></p>  DF [\"nombre\", \"edad\", \"ciudad\"]; PROJECT */3 COLUMNS; SELECTION: None</div>"
      ],
      "text/plain": [
       "<LazyFrame at 0x7FE076ED7230>"
      ]
     },
     "execution_count": 15,
     "metadata": {},
     "output_type": "execute_result"
    }
   ],
   "source": [
    "# Agrupar por 'ciudad' y calcular la edad promedio\n",
    "agregacion = lazy_df.group_by(\"ciudad\").agg([\n",
    "    pl.col(\"edad\").mean().alias(\"edad_promedio\")\n",
    "])"
   ]
  },
  {
   "cell_type": "markdown",
   "metadata": {},
   "source": [
    "Que esta haciendo el `agg` en el `groupby`?  \n",
    "Que esta haciendo el `alias`?"
   ]
  },
  {
   "cell_type": "code",
   "execution_count": 16,
   "metadata": {},
   "outputs": [
    {
     "name": "stdout",
     "output_type": "stream",
     "text": [
      "shape: (3, 2)\n",
      "┌───────────┬───────────────┐\n",
      "│ ciudad    ┆ edad_promedio │\n",
      "│ ---       ┆ ---           │\n",
      "│ str       ┆ f64           │\n",
      "╞═══════════╪═══════════════╡\n",
      "│ Sevilla   ┆ 18.0          │\n",
      "│ Barcelona ┆ 32.0          │\n",
      "│ Madrid    ┆ 25.0          │\n",
      "└───────────┴───────────────┘\n"
     ]
    }
   ],
   "source": [
    "# Ejecutar y mostrar los resultados\n",
    "print(agregacion.collect())"
   ]
  },
  {
   "cell_type": "markdown",
   "metadata": {},
   "source": [
    "# Combinar Operaciones"
   ]
  },
  {
   "cell_type": "code",
   "execution_count": 18,
   "metadata": {},
   "outputs": [],
   "source": [
    "# Combinar filtrado, agregación y selección de columnas\n",
    "combinado = lazy_df.filter(pl.col(\"edad\") > 20).group_by(\"ciudad\").agg([\n",
    "    pl.col(\"edad\").mean().alias(\"edad_promedio\")\n",
    "]).select([\"ciudad\", \"edad_promedio\"])\n"
   ]
  },
  {
   "cell_type": "code",
   "execution_count": 19,
   "metadata": {},
   "outputs": [
    {
     "name": "stdout",
     "output_type": "stream",
     "text": [
      "shape: (2, 2)\n",
      "┌───────────┬───────────────┐\n",
      "│ ciudad    ┆ edad_promedio │\n",
      "│ ---       ┆ ---           │\n",
      "│ str       ┆ f64           │\n",
      "╞═══════════╪═══════════════╡\n",
      "│ Barcelona ┆ 32.0          │\n",
      "│ Madrid    ┆ 25.0          │\n",
      "└───────────┴───────────────┘\n"
     ]
    }
   ],
   "source": [
    "# Ejecutar y mostrar los resultados\n",
    "print(combinado.collect())\n"
   ]
  }
 ],
 "metadata": {
  "kernelspec": {
   "display_name": ".venv",
   "language": "python",
   "name": "python3"
  },
  "language_info": {
   "codemirror_mode": {
    "name": "ipython",
    "version": 3
   },
   "file_extension": ".py",
   "mimetype": "text/x-python",
   "name": "python",
   "nbconvert_exporter": "python",
   "pygments_lexer": "ipython3",
   "version": "3.12.3"
  }
 },
 "nbformat": 4,
 "nbformat_minor": 2
}
