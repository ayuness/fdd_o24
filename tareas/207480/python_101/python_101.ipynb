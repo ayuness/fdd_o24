{
  "nbformat": 4,
  "nbformat_minor": 0,
  "metadata": {
    "colab": {
      "provenance": []
    },
    "kernelspec": {
      "name": "python3",
      "display_name": "Python 3"
    },
    "language_info": {
      "name": "python"
    }
  },
  "cells": [
    {
      "cell_type": "code",
      "source": [
        "import numpy as np\n",
        "import time\n",
        "from joblib import Parallel, delayed\n",
        "import multiprocessing\n",
        "import matplotlib.pyplot as plt\n"
      ],
      "metadata": {
        "id": "s7HjvTuWda6i"
      },
      "execution_count": 1,
      "outputs": []
    },
    {
      "cell_type": "code",
      "source": [
        "# Creamos un conjunto grande de puntos en un espacio de 3 dimensiones\n",
        "num_points = 10**2\n",
        "points = np.random.rand(num_points, 3)\n",
        "\n",
        "# Inicializamos una matriz para almacenar las distancias\n",
        "distances = np.zeros((num_points, num_points))\n",
        "\n",
        "# Función para calcular la distancia euclidiana entre dos puntos\n",
        "def compute_distance(i, j):\n",
        "  return np.sqrt(np.sum((points[i] - points[j]) ** 2))\n",
        "\n",
        "# Función para calcular las distancias usando bucles for anidados\n",
        "def using_for_loops():\n",
        "  start_time = time.time()\n",
        "  for i in range(num_points):\n",
        "      for j in range(num_points):\n",
        "          distances[i, j] = np.sqrt(np.sum((points[i] - points[j]) ** 2))\n",
        "  end_time = time.time()\n",
        "  return end_time - start_time\n",
        "\n",
        "# Función para calcular las distancias usando vectorización\n",
        "def using_vectorization():\n",
        "  start_time = time.time()\n",
        "  diff = points[:, np.newaxis, :] - points[np.newaxis, :, :]\n",
        "  distances = np.sqrt(np.sum(diff ** 2, axis=-1))\n",
        "  end_time = time.time()\n",
        "  return end_time - start_time\n",
        "\n",
        "# Función para calcular las distancias usando Joblib\n",
        "def using_joblib():\n",
        "  start_time = time.time()\n",
        "  Parallel(n_jobs=-1)(\n",
        "      delayed(compute_distance)(i, j) for i in range(num_points) for j in range(num_points)\n",
        "  )\n",
        "  end_time = time.time()\n",
        "  return end_time - start_time\n",
        "\n",
        "# Función para calcular las distancias usando multiprocessing\n",
        "def using_multiprocessing():\n",
        "  start_time = time.time()\n",
        "  args = [(i, j) for i in range(num_points) for j in range(num_points)]\n",
        "  with multiprocessing.Pool() as pool:\n",
        "      results = pool.starmap(compute_distance, args)\n",
        "  distances = np.array(results).reshape((num_points, num_points))\n",
        "  end_time = time.time()\n",
        "  return end_time - start_time\n",
        "\n",
        "# Llamamos a las funciones de temporización\n",
        "using_for_loops()\n",
        "using_vectorization()\n",
        "using_joblib()\n",
        "using_multiprocessing()"
      ],
      "metadata": {
        "colab": {
          "base_uri": "https://localhost:8080/"
        },
        "id": "fZ2ckdNdfCA9",
        "outputId": "66eb890e-8817-486b-ad5d-3547bca52b61"
      },
      "execution_count": 9,
      "outputs": [
        {
          "output_type": "execute_result",
          "data": {
            "text/plain": [
              "0.14968013763427734"
            ]
          },
          "metadata": {},
          "execution_count": 9
        }
      ]
    },
    {
      "cell_type": "code",
      "source": [
        "# Número de simulaciones\n",
        "num_simulations = 20\n",
        "\n",
        "# Listas para almacenar los tiempos de ejecución de cada función\n",
        "for_loops_times = []\n",
        "vectorization_times = []\n",
        "joblib_times = []\n",
        "multiprocessing_times = []\n",
        "\n",
        "# Ejecutamos las simulaciones\n",
        "for _ in range(num_simulations):\n",
        "  for_loops_times.append(using_for_loops())\n",
        "  vectorization_times.append(using_vectorization())\n",
        "  joblib_times.append(using_joblib())\n",
        "  multiprocessing_times.append(using_multiprocessing())\n",
        "\n",
        "# Calculamos las estadísticas básicas\n",
        "for_loops_mean = np.mean(for_loops_times)\n",
        "vectorization_mean = np.mean(vectorization_times)\n",
        "joblib_mean = np.mean(joblib_times)\n",
        "multiprocessing_mean = np.mean(multiprocessing_times)\n",
        "\n",
        "for_loops_std = np.std(for_loops_times)\n",
        "vectorization_std = np.std(vectorization_times)\n",
        "joblib_std = np.std(joblib_times)\n",
        "multiprocessing_std = np.std(multiprocessing_times)\n",
        "\n",
        "# Imprimimos las estadísticas básicas\n",
        "print(\"For loops: mean =\", for_loops_mean, \", std =\", for_loops_std)\n",
        "print(\"Vectorization: mean =\", vectorization_mean, \", std =\", vectorization_std)\n",
        "print(\"Joblib: mean =\", joblib_mean, \", std =\", joblib_std)\n",
        "print(\"Multiprocessing: mean =\", multiprocessing_mean, \", std =\", multiprocessing_std)\n",
        "\n",
        "# Graficamos los tiempos de ejecución\n",
        "plt.boxplot([for_loops_times, vectorization_times, joblib_times, multiprocessing_times])\n",
        "plt.xticks([1, 2, 3, 4], [\"For loops\", \"Vectorization\", \"Joblib\", \"Multiprocessing\"])\n",
        "plt.ylabel(\"Tiempo de ejecución (segundos)\")\n",
        "plt.show()"
      ],
      "metadata": {
        "colab": {
          "base_uri": "https://localhost:8080/",
          "height": 499
        },
        "id": "lQwjlHrJfi7L",
        "outputId": "8e80916a-9a84-4f04-9671-06ef8a73daed"
      },
      "execution_count": 12,
      "outputs": [
        {
          "output_type": "stream",
          "name": "stdout",
          "text": [
            "For loops: mean = 0.08336560726165772 , std = 0.031062025671858937\n",
            "Vectorization: mean = 0.0006624937057495117 , std = 0.00017093814215400497\n",
            "Joblib: mean = 0.2623038053512573 , std = 0.07623934197845442\n",
            "Multiprocessing: mean = 0.17110395431518555 , std = 0.03879685336406477\n"
          ]
        },
        {
          "output_type": "display_data",
          "data": {
            "text/plain": [
              "<Figure size 640x480 with 1 Axes>"
            ],
            "image/png": "[encoded data removed]"
          },
          "metadata": {}
        }
      ]
    }
  ]
}