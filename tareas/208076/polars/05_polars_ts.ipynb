{
  "cells": [
    {
      "cell_type": "code",
      "execution_count": null,
      "metadata": {
        "id": "iLJ7xfCXcJ4N"
      },
      "outputs": [],
      "source": [
        "import polars as pl\n",
        "import numpy as np\n",
        "import random\n",
        "from datetime import datetime, timedelta"
      ]
    },
    {
      "cell_type": "markdown",
      "metadata": {
        "id": "TbTvJ6kdcJ4P"
      },
      "source": [
        "# Descripcion"
      ]
    },
    {
      "cell_type": "markdown",
      "metadata": {
        "id": "HRCtatQCcJ4Q"
      },
      "source": [
        "Los datos son notificaciones de dispositivos GPS en Mexico. En promedio generan notificaciones automatizadas cada 5 minutos si el carro esta encendido, y 30 si esta apagado.  \n",
        "\n",
        "Cada notificacion esta acompannada de un evento de lo que esta ocurriendo, y trae la latitud y longitud.  \n",
        "\n",
        "El objetico es predecir si un vehiculo esta siendo robado de acuerdo a sus notificaciones, por lo que el primer paso seria limpiar datos y hacer ingenieria de variables.\n",
        "\n",
        "Trata de hacerlo **lazy** si puedes."
      ]
    },
    {
      "cell_type": "code",
      "execution_count": 35,
      "metadata": {
        "id": "uyuRMhc0cJ4Q"
      },
      "outputs": [],
      "source": [
        "def generate_dummy_data(num_cars, start_time, end_time, working_hours_interval, non_working_hours_interval):\n",
        "    data = []\n",
        "\n",
        "    # Define the latitude and longitude ranges for Mexico\n",
        "    min_latitude, max_latitude = 14.5388, 32.7186\n",
        "    min_longitude, max_longitude = -118.4662, -86.7104\n",
        "\n",
        "    for car_id in range(num_cars):\n",
        "        current_time = start_time\n",
        "\n",
        "        # Generate random initial latitude and longitude for each car\n",
        "        latitude = random.uniform(min_latitude, max_latitude)\n",
        "        longitude = random.uniform(min_longitude, max_longitude)\n",
        "\n",
        "        while current_time < end_time:\n",
        "            if current_time.weekday() < 5 and 9 <= current_time.hour < 17:\n",
        "                # Working hours (Monday to Friday, 9 AM to 5 PM)\n",
        "                interval = working_hours_interval\n",
        "            else:\n",
        "                # Non-working hours\n",
        "                interval = non_working_hours_interval\n",
        "\n",
        "            # Generate notification with 99% probability\n",
        "            if random.random() < 0.99:\n",
        "                notification = random.choice([\"low_fuel\", \"tire_pressure\", \"engine_check\", None])\n",
        "                data.append((f\"car_{car_id}\", current_time.isoformat(), latitude, longitude, notification))\n",
        "\n",
        "            # Generate additional notifications between intervals\n",
        "            while True:\n",
        "                additional_interval = random.expovariate(1 / (interval / 2))\n",
        "                additional_time = current_time + timedelta(minutes=additional_interval)\n",
        "                if additional_time >= current_time + timedelta(minutes=interval):\n",
        "                    break\n",
        "                notification = random.choice([\"low_fuel\", \"tire_pressure\", \"engine_check\", None])\n",
        "                data.append((f\"car_{car_id}\", additional_time.isoformat(), latitude, longitude, notification))\n",
        "\n",
        "            # Update latitude and longitude for car movement\n",
        "            latitude += random.uniform(-0.01, 0.01)\n",
        "            longitude += random.uniform(-0.01, 0.01)\n",
        "\n",
        "            # Check if the car is among the 1% that can have 100 notifications within 5 minutes\n",
        "            if random.random() < 0.01:\n",
        "                burst_start_time = current_time + timedelta(minutes=random.uniform(0, interval))\n",
        "                burst_end_time = burst_start_time + timedelta(minutes=5)\n",
        "                while current_time < burst_end_time:\n",
        "                    notification = random.choice([\"low_fuel\", \"tire_pressure\", \"engine_check\", None])\n",
        "                    data.append((f\"car_{car_id}\", current_time.isoformat(), latitude, longitude, notification))\n",
        "                    current_time += timedelta(seconds=random.uniform(1, 10))\n",
        "\n",
        "            current_time += timedelta(minutes=interval)\n",
        "\n",
        "    # Create a Polars DataFrame from the generated data\n",
        "    df = pl.DataFrame(\n",
        "        {\n",
        "            \"car_id\": [record[0] for record in data],\n",
        "            \"timestamp\": [record[1] for record in data],\n",
        "            \"latitude\": [record[2] for record in data],\n",
        "            \"longitude\": [record[3] for record in data],\n",
        "            \"notification\": [record[4] for record in data],\n",
        "        }\n",
        "    )\n",
        "\n",
        "    return df.lazy()"
      ]
    },
    {
      "cell_type": "code",
      "execution_count": 36,
      "metadata": {
        "colab": {
          "base_uri": "https://localhost:8080/"
        },
        "id": "akPaRJ50cJ4S",
        "outputId": "8e4dec22-d92b-4ea3-9f71-75f2595cf9fd"
      },
      "outputs": [
        {
          "output_type": "stream",
          "name": "stdout",
          "text": [
            "naive plan: (run LazyFrame.explain(optimized=True) to see the optimized plan)\n",
            "\n",
            "SLICE[offset: 0, len: 5]\n",
            "  DF [\"car_id\", \"timestamp\", \"latitude\", \"longitude\"]; PROJECT */5 COLUMNS; SELECTION: None\n"
          ]
        }
      ],
      "source": [
        "num_cars = 1000\n",
        "start_time = datetime(2023, 1, 1, 0, 0, 0)  # Start of the week\n",
        "end_time = start_time + timedelta(weeks=1)  # End of the week\n",
        "working_hours_interval = 5  # Interval of 5 minutes during working hours\n",
        "non_working_hours_interval = 30  # Interval of 30 minutes during non-working hours\n",
        "\n",
        "# Generate the dummy data\n",
        "data = generate_dummy_data(num_cars, start_time, end_time, working_hours_interval, non_working_hours_interval)\n",
        "\n",
        "# Print the first few rows of the generated data\n",
        "print(data.head())"
      ]
    },
    {
      "cell_type": "code",
      "source": [
        "data.collect()"
      ],
      "metadata": {
        "colab": {
          "base_uri": "https://localhost:8080/",
          "height": 443
        },
        "id": "qubCZ6C8lvkL",
        "outputId": "b25ecaff-1531-486b-ded4-d69a1b599b65"
      },
      "execution_count": 37,
      "outputs": [
        {
          "output_type": "execute_result",
          "data": {
            "text/plain": [
              "shape: (6_269_784, 5)\n",
              "┌─────────┬────────────────────────────┬───────────┬─────────────┬───────────────┐\n",
              "│ car_id  ┆ timestamp                  ┆ latitude  ┆ longitude   ┆ notification  │\n",
              "│ ---     ┆ ---                        ┆ ---       ┆ ---         ┆ ---           │\n",
              "│ str     ┆ str                        ┆ f64       ┆ f64         ┆ str           │\n",
              "╞═════════╪════════════════════════════╪═══════════╪═════════════╪═══════════════╡\n",
              "│ car_0   ┆ 2023-01-01T00:00:00        ┆ 24.617418 ┆ -109.680471 ┆ low_fuel      │\n",
              "│ car_0   ┆ 2023-01-01T00:05:06.551439 ┆ 24.617418 ┆ -109.680471 ┆ low_fuel      │\n",
              "│ car_0   ┆ 2023-01-01T00:01:41.209414 ┆ 24.617418 ┆ -109.680471 ┆ null          │\n",
              "│ car_0   ┆ 2023-01-01T00:12:47.552830 ┆ 24.617418 ┆ -109.680471 ┆ low_fuel      │\n",
              "│ car_0   ┆ 2023-01-01T00:04:19.571139 ┆ 24.617418 ┆ -109.680471 ┆ engine_check  │\n",
              "│ …       ┆ …                          ┆ …         ┆ …           ┆ …             │\n",
              "│ car_999 ┆ 2023-01-07T23:51:33.711250 ┆ 29.901413 ┆ -105.636558 ┆ engine_check  │\n",
              "│ car_999 ┆ 2023-01-07T23:51:55.970698 ┆ 29.901413 ┆ -105.636558 ┆ engine_check  │\n",
              "│ car_999 ┆ 2023-01-07T23:38:27.248632 ┆ 29.901413 ┆ -105.636558 ┆ null          │\n",
              "│ car_999 ┆ 2023-01-07T23:42:09.582425 ┆ 29.901413 ┆ -105.636558 ┆ null          │\n",
              "│ car_999 ┆ 2023-01-07T23:45:13.166246 ┆ 29.901413 ┆ -105.636558 ┆ tire_pressure │\n",
              "└─────────┴────────────────────────────┴───────────┴─────────────┴───────────────┘"
            ],
            "text/html": [
              "<div><style>\n",
              ".dataframe > thead > tr,\n",
              ".dataframe > tbody > tr {\n",
              "  text-align: right;\n",
              "  white-space: pre-wrap;\n",
              "}\n",
              "</style>\n",
              "<small>shape: (6_269_784, 5)</small><table border=\"1\" class=\"dataframe\"><thead><tr><th>car_id</th><th>timestamp</th><th>latitude</th><th>longitude</th><th>notification</th></tr><tr><td>str</td><td>str</td><td>f64</td><td>f64</td><td>str</td></tr></thead><tbody><tr><td>&quot;car_0&quot;</td><td>&quot;2023-01-01T00:00:00&quot;</td><td>24.617418</td><td>-109.680471</td><td>&quot;low_fuel&quot;</td></tr><tr><td>&quot;car_0&quot;</td><td>&quot;2023-01-01T00:05:06.551439&quot;</td><td>24.617418</td><td>-109.680471</td><td>&quot;low_fuel&quot;</td></tr><tr><td>&quot;car_0&quot;</td><td>&quot;2023-01-01T00:01:41.209414&quot;</td><td>24.617418</td><td>-109.680471</td><td>null</td></tr><tr><td>&quot;car_0&quot;</td><td>&quot;2023-01-01T00:12:47.552830&quot;</td><td>24.617418</td><td>-109.680471</td><td>&quot;low_fuel&quot;</td></tr><tr><td>&quot;car_0&quot;</td><td>&quot;2023-01-01T00:04:19.571139&quot;</td><td>24.617418</td><td>-109.680471</td><td>&quot;engine_check&quot;</td></tr><tr><td>&hellip;</td><td>&hellip;</td><td>&hellip;</td><td>&hellip;</td><td>&hellip;</td></tr><tr><td>&quot;car_999&quot;</td><td>&quot;2023-01-07T23:51:33.711250&quot;</td><td>29.901413</td><td>-105.636558</td><td>&quot;engine_check&quot;</td></tr><tr><td>&quot;car_999&quot;</td><td>&quot;2023-01-07T23:51:55.970698&quot;</td><td>29.901413</td><td>-105.636558</td><td>&quot;engine_check&quot;</td></tr><tr><td>&quot;car_999&quot;</td><td>&quot;2023-01-07T23:38:27.248632&quot;</td><td>29.901413</td><td>-105.636558</td><td>null</td></tr><tr><td>&quot;car_999&quot;</td><td>&quot;2023-01-07T23:42:09.582425&quot;</td><td>29.901413</td><td>-105.636558</td><td>null</td></tr><tr><td>&quot;car_999&quot;</td><td>&quot;2023-01-07T23:45:13.166246&quot;</td><td>29.901413</td><td>-105.636558</td><td>&quot;tire_pressure&quot;</td></tr></tbody></table></div>"
            ]
          },
          "metadata": {},
          "execution_count": 37
        }
      ]
    },
    {
      "cell_type": "markdown",
      "metadata": {
        "id": "LJeimtdvcJ4S"
      },
      "source": [
        "## Limpieza de datos"
      ]
    },
    {
      "cell_type": "markdown",
      "metadata": {
        "id": "thqIx4EVcJ4S"
      },
      "source": [
        "### Timestamp"
      ]
    },
    {
      "cell_type": "markdown",
      "metadata": {
        "id": "YrXlkmuOcJ4T"
      },
      "source": [
        "Convierte el `timestamp` que actualmente es string a formato de tiempo en polars"
      ]
    },
    {
      "cell_type": "code",
      "execution_count": 50,
      "metadata": {
        "id": "W-kATRrccJ4T"
      },
      "outputs": [],
      "source": [
        "data = (\n",
        "    data\n",
        "    .with_columns([\n",
        "        pl.col(\"timestamp\").str.to_datetime()\n",
        "    ])\n",
        ")\n",
        "\n"
      ]
    },
    {
      "cell_type": "markdown",
      "metadata": {
        "id": "eZaCBDBIcJ4T"
      },
      "source": [
        "### Ingenieria de variables"
      ]
    },
    {
      "cell_type": "markdown",
      "metadata": {
        "id": "t27O1TV_cJ4T"
      },
      "source": [
        "Dado que va a entrar a un modelo de machine learning es encesario que todas las variables sean numericas, y esten en formnato tidy. Cada observacion en una fila, y cada variable en una columna. Por lo tanto se decidio crear estadisticos y agregar los datos a intervalos uniformes de `x` minutos.  \n",
        "\n",
        "Por ejemplo, colapsar toda la informacion que ocurrion en el intervalo, como el numero de notificaciones en esos 5 minutos, el promedio entre notificaciones, y el tipo de notificaciones."
      ]
    },
    {
      "cell_type": "markdown",
      "metadata": {
        "id": "ZbebbTCLcJ4T"
      },
      "source": [
        "Existen varias formas de hacer esto, puedes hacerlo con `group_by` primero para crear las nuevas variables, o `group_by` (`rolling`, `dynamic`) usando operaciones sobre listas. Utiliza claude o chat_gpt"
      ]
    },
    {
      "cell_type": "markdown",
      "metadata": {
        "id": "KaMtpbqQcJ4T"
      },
      "source": [
        "1. Crea una nueva variable que compute la diferencia de tiempo entre notificaciones del mismo vehiculo. Piensa como lo vas a hacer. Llama a esta variable `notification_time`\n",
        "   \n"
      ]
    },
    {
      "cell_type": "code",
      "execution_count": 52,
      "metadata": {
        "id": "jFEsJ7aNcJ4U"
      },
      "outputs": [],
      "source": [
        "data = (\n",
        "    data\n",
        "    # Ordenamos por car_id y timestamp para asegurar el orden temporal\n",
        "    .sort([\"car_id\", \"timestamp\"])\n",
        "    .with_columns([\n",
        "        # Calculamos la diferencia entre notificaciones\n",
        "        pl.col(\"timestamp\").diff().over(\"car_id\").alias(\"notification_time\")\n",
        "    ])\n",
        ")\n"
      ]
    },
    {
      "cell_type": "markdown",
      "metadata": {
        "id": "I6ivdrN-cJ4U"
      },
      "source": [
        "2. Crea una nueva variable que compute la distancia que viajo el vehiculo desde la ultima notificacion. Llamala `distance`"
      ]
    },
    {
      "cell_type": "code",
      "execution_count": null,
      "metadata": {
        "id": "rI99qAvAcJ4U"
      },
      "outputs": [],
      "source": [
        "import math\n",
        "import polars as pl\n",
        "\n",
        "data = (\n",
        "    data\n",
        "    # Aseguramos el orden\n",
        "    .sort([\"car_id\", \"timestamp\"])\n",
        "    # Obtenemos la notificación previa por vehículo\n",
        "    .with_columns([\n",
        "        pl.col(\"latitude\").shift(1).over(\"car_id\").alias(\"latitude_prev\"),\n",
        "        pl.col(\"longitude\").shift(1).over(\"car_id\").alias(\"longitude_prev\"),\n",
        "    ])\n",
        "    # Calculamos la distancia con haversine\n",
        "    .with_columns(\n",
        "        (\n",
        "            pl.struct([\"latitude\", \"longitude\", \"latitude_prev\", \"longitude_prev\"])\n",
        "            .map(\n",
        "                lambda x: 0.0 if x[\"latitude_prev\"] is None else (\n",
        "                    (lambda lat1, lon1, lat2, lon2:\n",
        "                        2 * 6371 * math.asin(\n",
        "                            math.sqrt(\n",
        "                                math.sin((lat2 - lat1) / 2)**2 +\n",
        "                                math.cos(lat1) * math.cos(lat2) * math.sin((lon2 - lon1) / 2)**2\n",
        "                            )\n",
        "                        )\n",
        "                    )(\n",
        "                        x[\"latitude\"] * math.pi / 180,\n",
        "                        x[\"longitude\"] * math.pi / 180,\n",
        "                        x[\"latitude_prev\"] * math.pi / 180,\n",
        "                        x[\"longitude_prev\"] * math.pi / 180,\n",
        "                    )\n",
        "                )\n",
        "            )\n",
        "        ).alias(\"distance\")\n",
        "    )\n",
        "    .drop([\"latitude_prev\", \"longitude_prev\"])\n",
        ")\n",
        "\n",
        "\n"
      ]
    },
    {
      "cell_type": "markdown",
      "metadata": {
        "id": "56wBcJxKcJ4U"
      },
      "source": [
        "3. Crea intervalos de `x` minutos por carro. Como el numero de notificaciones en esos intervalos no es uniforme tienes que buscar funciones de polars especificas, pero ademas tienen que ser por vehiculo, pues tienen que ser del mismo. Revisa las funciones de `group_by` `dynamic` y `rolling`.\n",
        "   1. Computa la media, mediana, varianza, max y min de `notification_time` los intervalos de `x` minutos\n",
        "   2. Computa la media, mediana, varianza, max y min de `distance`\n"
      ]
    },
    {
      "cell_type": "code",
      "execution_count": null,
      "metadata": {
        "id": "IT4hz0f2cJ4U"
      },
      "outputs": [],
      "source": [
        "interval_minutes = 5  # Define el tamaño del intervalo en minutos\n",
        "\n",
        "# Calculamos los agregados dinámicos\n",
        "data_aggregated = (\n",
        "    data\n",
        "    # Aseguramos que los datos están ordenados para la operación dinámica\n",
        "    .sort([\"car_id\", \"timestamp\"])\n",
        "    # Creamos los intervalos dinámicos\n",
        "    .group_by_dynamic(\n",
        "        index_column=\"timestamp\",  # Columna base para los intervalos\n",
        "        every=f\"{interval_minutes}m\",  # Tamaño del intervalo\n",
        "        by=\"car_id\",  # Agrupación adicional por vehículo\n",
        "        closed=\"right\"  # Intervalos cerrados por la derecha\n",
        "    )\n",
        "    .agg([\n",
        "        # Estadísticas de notification_time\n",
        "        pl.col(\"notification_time\").mean().alias(\"notification_time_mean\"),\n",
        "        pl.col(\"notification_time\").median().alias(\"notification_time_median\"),\n",
        "        pl.col(\"notification_time\").var().alias(\"notification_time_var\"),\n",
        "        pl.col(\"notification_time\").max().alias(\"notification_time_max\"),\n",
        "        pl.col(\"notification_time\").min().alias(\"notification_time_min\"),\n",
        "\n",
        "        # Estadísticas de distance\n",
        "        pl.col(\"distance\").mean().alias(\"distance_mean\"),\n",
        "        pl.col(\"distance\").median().alias(\"distance_median\"),\n",
        "        pl.col(\"distance\").var().alias(\"distance_var\"),\n",
        "        pl.col(\"distance\").max().alias(\"distance_max\"),\n",
        "        pl.col(\"distance\").min().alias(\"distance_min\")\n",
        "    ])\n",
        ")\n",
        "\n",
        "# Materializamos el resultado\n",
        "result = data_aggregated.collect()"
      ]
    }
  ],
  "metadata": {
    "colab": {
      "provenance": []
    },
    "kernelspec": {
      "display_name": "itam",
      "language": "python",
      "name": "python3"
    },
    "language_info": {
      "codemirror_mode": {
        "name": "ipython",
        "version": 3
      },
      "file_extension": ".py",
      "mimetype": "text/x-python",
      "name": "python",
      "nbconvert_exporter": "python",
      "pygments_lexer": "ipython3",
      "version": "3.10.9"
    }
  },
  "nbformat": 4,
  "nbformat_minor": 0
}