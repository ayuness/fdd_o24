{
  "cells": [
    {
      "cell_type": "markdown",
      "metadata": {
        "id": "7q9n-nsWTpOi"
      },
      "source": [
        "<a target=\"_blank\" href=\"https://colab.research.google.com/github/sonder-art/fdd_o23/blob/main/codigo/polars/04_ejercicio_polars.ipynb\">\n",
        "  <img src=\"https://colab.research.google.com/assets/colab-badge.svg\" alt=\"Open In Colab\"/>\n",
        "</a>"
      ]
    },
    {
      "cell_type": "code",
      "execution_count": 1,
      "metadata": {
        "colab": {
          "base_uri": "https://localhost:8080/"
        },
        "id": "EO8GcFdUTpOj",
        "outputId": "5183a8f6-b477-4db0-cdc5-81090acb3d7d"
      },
      "outputs": [
        {
          "output_type": "stream",
          "name": "stdout",
          "text": [
            "Requirement already satisfied: polars in /usr/local/lib/python3.10/dist-packages (1.9.0)\n"
          ]
        }
      ],
      "source": [
        "pip install polars"
      ]
    },
    {
      "cell_type": "code",
      "execution_count": 2,
      "metadata": {
        "id": "5HObMZDmTpOk"
      },
      "outputs": [],
      "source": [
        "import polars as pl\n",
        "import random\n",
        "import string\n"
      ]
    },
    {
      "cell_type": "markdown",
      "metadata": {
        "id": "6eVHQG9mTpOk"
      },
      "source": [
        "# Generacion de Datos"
      ]
    },
    {
      "cell_type": "code",
      "execution_count": 4,
      "metadata": {
        "colab": {
          "base_uri": "https://localhost:8080/",
          "height": 255
        },
        "id": "w9D_FXdxTpOk",
        "outputId": "f47461b7-6f11-4a7b-c179-a006d423e45f"
      },
      "outputs": [
        {
          "output_type": "execute_result",
          "data": {
            "text/plain": [
              "shape: (5, 6)\n",
              "┌──────────┬──────────┬──────────┬─────────────────┬─────────────────────────────────┬────────────┐\n",
              "│ id_venta ┆ producto ┆ cantidad ┆ precio_unitario ┆ fecha_venta                     ┆ cliente_id │\n",
              "│ ---      ┆ ---      ┆ ---      ┆ ---             ┆ ---                             ┆ ---        │\n",
              "│ i64      ┆ str      ┆ i64      ┆ f64             ┆ object                          ┆ i64        │\n",
              "╞══════════╪══════════╪══════════╪═════════════════╪═════════════════════════════════╪════════════╡\n",
              "│ 1        ┆ dekgo    ┆ 11       ┆ 43.586835       ┆ 2014-02-16 00:00:00.alias(\"dat… ┆ 4138       │\n",
              "│ 2        ┆ sjnjg    ┆ 11       ┆ 91.541314       ┆ 2015-06-23 00:00:00.alias(\"dat… ┆ 4884       │\n",
              "│ 3        ┆ bnhco    ┆ 14       ┆ 57.376142       ┆ 2015-02-20 00:00:00.alias(\"dat… ┆ 1784       │\n",
              "│ 4        ┆ cudxa    ┆ 1        ┆ 39.513228       ┆ 2019-07-21 00:00:00.alias(\"dat… ┆ 1382       │\n",
              "│ 5        ┆ yrzth    ┆ 11       ┆ 89.460785       ┆ 2015-09-09 00:00:00.alias(\"dat… ┆ 2091       │\n",
              "└──────────┴──────────┴──────────┴─────────────────┴─────────────────────────────────┴────────────┘"
            ],
            "text/html": [
              "<div><style>\n",
              ".dataframe > thead > tr,\n",
              ".dataframe > tbody > tr {\n",
              "  text-align: right;\n",
              "  white-space: pre-wrap;\n",
              "}\n",
              "</style>\n",
              "<small>shape: (5, 6)</small><table border=\"1\" class=\"dataframe\"><thead><tr><th>id_venta</th><th>producto</th><th>cantidad</th><th>precio_unitario</th><th>fecha_venta</th><th>cliente_id</th></tr><tr><td>i64</td><td>str</td><td>i64</td><td>f64</td><td>object</td><td>i64</td></tr></thead><tbody><tr><td>1</td><td>&quot;dekgo&quot;</td><td>11</td><td>43.586835</td><td>2014-02-16 00:00:00.alias(&quot;datetime&quot;).strict_cast(Date).alias(&quot;date&quot;)</td><td>4138</td></tr><tr><td>2</td><td>&quot;sjnjg&quot;</td><td>11</td><td>91.541314</td><td>2015-06-23 00:00:00.alias(&quot;datetime&quot;).strict_cast(Date).alias(&quot;date&quot;)</td><td>4884</td></tr><tr><td>3</td><td>&quot;bnhco&quot;</td><td>14</td><td>57.376142</td><td>2015-02-20 00:00:00.alias(&quot;datetime&quot;).strict_cast(Date).alias(&quot;date&quot;)</td><td>1784</td></tr><tr><td>4</td><td>&quot;cudxa&quot;</td><td>1</td><td>39.513228</td><td>2019-07-21 00:00:00.alias(&quot;datetime&quot;).strict_cast(Date).alias(&quot;date&quot;)</td><td>1382</td></tr><tr><td>5</td><td>&quot;yrzth&quot;</td><td>11</td><td>89.460785</td><td>2015-09-09 00:00:00.alias(&quot;datetime&quot;).strict_cast(Date).alias(&quot;date&quot;)</td><td>2091</td></tr></tbody></table></div>"
            ]
          },
          "metadata": {},
          "execution_count": 4
        }
      ],
      "source": [
        "# Funciones auxiliares para generar datos\n",
        "def random_string(length=5):\n",
        "    letters = string.ascii_lowercase\n",
        "    return ''.join(random.choice(letters) for i in range(length))\n",
        "\n",
        "def generate_data(n=1000):\n",
        "    data = {\n",
        "        \"id_venta\": list(range(1, n + 1)),\n",
        "        \"producto\": [random_string() for _ in range(n)],\n",
        "        \"cantidad\": [random.randint(1, 20) for _ in range(n)],\n",
        "        \"precio_unitario\": [random.uniform(10, 100) for _ in range(n)],\n",
        "        # Use the correct way to create dates in Polars\n",
        "        \"fecha_venta\": [pl.date(random.randint(2010, 2022), random.randint(1, 12), random.randint(1, 28)) for _ in range(n)],\n",
        "        \"cliente_id\": [random.randint(1000, 5000) for _ in range(n)]\n",
        "    }\n",
        "    return pl.DataFrame(data)\n",
        "\n",
        "# Generar el DataFrame\n",
        "df = generate_data()\n",
        "df.head()"
      ]
    },
    {
      "cell_type": "code",
      "execution_count": 5,
      "metadata": {
        "colab": {
          "base_uri": "https://localhost:8080/",
          "height": 168
        },
        "id": "IJsK9-JrTpOl",
        "outputId": "19109307-9429-4229-f25e-2d0b3d9cd140"
      },
      "outputs": [
        {
          "output_type": "execute_result",
          "data": {
            "text/plain": [
              "<LazyFrame at 0x7904F8B33640>"
            ],
            "text/html": [
              "<h4>NAIVE QUERY PLAN</h4><p>run <b>LazyFrame.show_graph()</b> to see the optimized version</p><?xml version=\"1.0\" encoding=\"UTF-8\" standalone=\"no\"?>\n",
              "<!DOCTYPE svg PUBLIC \"-//W3C//DTD SVG 1.1//EN\"\n",
              " \"http://www.w3.org/Graphics/SVG/1.1/DTD/svg11.dtd\">\n",
              "<!-- Generated by graphviz version 2.43.0 (0)\n",
              " -->\n",
              "<!-- Title: polars_query Pages: 1 -->\n",
              "<svg width=\"67pt\" height=\"61pt\"\n",
              " viewBox=\"0.00 0.00 67.00 61.00\" xmlns=\"http://www.w3.org/2000/svg\" xmlns:xlink=\"http://www.w3.org/1999/xlink\">\n",
              "<g id=\"graph0\" class=\"graph\" transform=\"scale(1 1) rotate(0) translate(4 57)\">\n",
              "<title>polars_query</title>\n",
              "<polygon fill=\"white\" stroke=\"transparent\" points=\"-4,4 -4,-57 63,-57 63,4 -4,4\"/>\n",
              "<!-- p1 -->\n",
              "<g id=\"node1\" class=\"node\">\n",
              "<title>p1</title>\n",
              "<polygon fill=\"none\" stroke=\"black\" points=\"59,-53 0,-53 0,0 59,0 59,-53\"/>\n",
              "<text text-anchor=\"middle\" x=\"29.5\" y=\"-37.8\" font-family=\"Times,serif\" font-size=\"14.00\">TABLE</text>\n",
              "<text text-anchor=\"middle\" x=\"29.5\" y=\"-22.8\" font-family=\"Times,serif\" font-size=\"14.00\">π */6;</text>\n",
              "<text text-anchor=\"middle\" x=\"29.5\" y=\"-7.8\" font-family=\"Times,serif\" font-size=\"14.00\">σ None</text>\n",
              "</g>\n",
              "</g>\n",
              "</svg>\n"
            ]
          },
          "metadata": {},
          "execution_count": 5
        }
      ],
      "source": [
        "df = df.lazy()\n",
        "df"
      ]
    },
    {
      "cell_type": "markdown",
      "metadata": {
        "id": "3CLvY8iSTpOl"
      },
      "source": [
        "# Limpieza de Datos"
      ]
    },
    {
      "cell_type": "markdown",
      "metadata": {
        "id": "I2fnzNisTpOl"
      },
      "source": [
        "Utilizando Polars en modo Lazy, realice las siguientes operaciones de limpieza y manipulación de datos:\n",
        "\n",
        "    1. `Filtrar` las ventas con cantidades menores a 5.\n",
        "    2. `Agregar` una nueva columna llamada total_venta, que sea el resultado de multiplicar cantidad por precio_unitario.\n",
        "    3. `Eliminar` la columna precio_unitario después de crear total_venta.\n",
        "    4. `Agrupar` los datos por producto y calcular el total vendido y la cantidad total vendida por producto.\n",
        "    5. `Ordenar` los resultados por el total vendido en orden descendente."
      ]
    },
    {
      "cell_type": "markdown",
      "metadata": {
        "id": "sssmNFHxTpOm"
      },
      "source": [
        "Todo esto lo debes de realizar en una sola linea de codigo"
      ]
    },
    {
      "cell_type": "code",
      "execution_count": 8,
      "metadata": {
        "colab": {
          "base_uri": "https://localhost:8080/"
        },
        "id": "IVFkZYWPTpOm",
        "outputId": "0e092bdd-8074-406b-9355-f277095c9eb2"
      },
      "outputs": [
        {
          "output_type": "stream",
          "name": "stdout",
          "text": [
            "shape: (781, 3)\n",
            "┌──────────┬───────────────┬────────────────────────┐\n",
            "│ producto ┆ total_vendido ┆ cantidad_total_vendida │\n",
            "│ ---      ┆ ---           ┆ ---                    │\n",
            "│ str      ┆ f64           ┆ i64                    │\n",
            "╞══════════╪═══════════════╪════════════════════════╡\n",
            "│ flozj    ┆ 1985.21488    ┆ 20                     │\n",
            "│ rrfsr    ┆ 1941.097165   ┆ 20                     │\n",
            "│ yvsax    ┆ 1904.127959   ┆ 20                     │\n",
            "│ ejpgv    ┆ 1855.572677   ┆ 19                     │\n",
            "│ bzlsi    ┆ 1852.498243   ┆ 19                     │\n",
            "│ …        ┆ …             ┆ …                      │\n",
            "│ rwzox    ┆ 74.487515     ┆ 7                      │\n",
            "│ ccjii    ┆ 67.796229     ┆ 5                      │\n",
            "│ nwyoe    ┆ 66.022442     ┆ 6                      │\n",
            "│ fdbkf    ┆ 65.873692     ┆ 6                      │\n",
            "│ bsowc    ┆ 58.564495     ┆ 5                      │\n",
            "└──────────┴───────────────┴────────────────────────┘\n"
          ]
        }
      ],
      "source": [
        "# Realizar las operaciones de limpieza y manipulación\n",
        "resultado = (\n",
        "    df\n",
        "    .filter(pl.col(\"cantidad\") >= 5)  # Filtrar las ventas con cantidades menores a 5\n",
        "    .with_columns((pl.col(\"cantidad\") * pl.col(\"precio_unitario\")).alias(\"total_venta\"))  # Agregar columna total_venta\n",
        "    .drop(\"precio_unitario\")  # Eliminar la columna precio_unitario\n",
        "    .group_by(\"producto\")  # Agrupar los datos por producto using group_by instead of groupby\n",
        "    .agg([\n",
        "        pl.sum(\"total_venta\").alias(\"total_vendido\"),  # Calcular el total vendido por producto\n",
        "        pl.sum(\"cantidad\").alias(\"cantidad_total_vendida\")  # Calcular la cantidad total vendida por producto\n",
        "    ])\n",
        "    .sort(\"total_vendido\", descending=True)  # Ordenar los resultados por el total vendido en orden descendente\n",
        ")\n",
        "\n",
        "# Ejecutar y mostrar los resultados\n",
        "resultado_df = resultado.collect()\n",
        "print(resultado_df)\n"
      ]
    },
    {
      "cell_type": "markdown",
      "metadata": {
        "id": "Dn-PUzmtTpOm"
      },
      "source": [
        "# Guarda el resultado en un archivo `parquet`"
      ]
    },
    {
      "cell_type": "markdown",
      "metadata": {
        "id": "lzAlEKc3TpOm"
      },
      "source": [
        "Guarda el resultado en un archivo parquet que se llame `resultados.parquet`"
      ]
    },
    {
      "cell_type": "code",
      "execution_count": 9,
      "metadata": {
        "id": "tY8X4eywTpOm"
      },
      "outputs": [],
      "source": [
        "# Tu codigo aqui# Guardar el resultado en un archivo parquet\n",
        "resultado_df.write_parquet(\"resultados.parquet\")\n"
      ]
    },
    {
      "cell_type": "markdown",
      "metadata": {
        "id": "mFzGGQsbTpOn"
      },
      "source": [
        "# Lee Parquet"
      ]
    },
    {
      "cell_type": "markdown",
      "metadata": {
        "id": "zGdv7imyTpOn"
      },
      "source": [
        "Crea codigo para leer en polars el archivo parquet"
      ]
    },
    {
      "cell_type": "code",
      "execution_count": 10,
      "metadata": {
        "colab": {
          "base_uri": "https://localhost:8080/"
        },
        "id": "zuwC62XjTpOn",
        "outputId": "32a4245a-bae6-40bf-eaac-dc1bf173d474"
      },
      "outputs": [
        {
          "output_type": "stream",
          "name": "stdout",
          "text": [
            "shape: (781, 3)\n",
            "┌──────────┬───────────────┬────────────────────────┐\n",
            "│ producto ┆ total_vendido ┆ cantidad_total_vendida │\n",
            "│ ---      ┆ ---           ┆ ---                    │\n",
            "│ str      ┆ f64           ┆ i64                    │\n",
            "╞══════════╪═══════════════╪════════════════════════╡\n",
            "│ flozj    ┆ 1985.21488    ┆ 20                     │\n",
            "│ rrfsr    ┆ 1941.097165   ┆ 20                     │\n",
            "│ yvsax    ┆ 1904.127959   ┆ 20                     │\n",
            "│ ejpgv    ┆ 1855.572677   ┆ 19                     │\n",
            "│ bzlsi    ┆ 1852.498243   ┆ 19                     │\n",
            "│ …        ┆ …             ┆ …                      │\n",
            "│ rwzox    ┆ 74.487515     ┆ 7                      │\n",
            "│ ccjii    ┆ 67.796229     ┆ 5                      │\n",
            "│ nwyoe    ┆ 66.022442     ┆ 6                      │\n",
            "│ fdbkf    ┆ 65.873692     ┆ 6                      │\n",
            "│ bsowc    ┆ 58.564495     ┆ 5                      │\n",
            "└──────────┴───────────────┴────────────────────────┘\n"
          ]
        }
      ],
      "source": [
        "# Leer el archivo Parquet en Polars\n",
        "df_leido = pl.read_parquet(\"resultados.parquet\")\n",
        "\n",
        "# Mostrar los primeros registros del DataFrame\n",
        "print(df_leido)"
      ]
    }
  ],
  "metadata": {
    "kernelspec": {
      "display_name": ".venv",
      "language": "python",
      "name": "python3"
    },
    "language_info": {
      "codemirror_mode": {
        "name": "ipython",
        "version": 3
      },
      "file_extension": ".py",
      "mimetype": "text/x-python",
      "name": "python",
      "nbconvert_exporter": "python",
      "pygments_lexer": "ipython3",
      "version": "3.11.5"
    },
    "colab": {
      "provenance": []
    }
  },
  "nbformat": 4,
  "nbformat_minor": 0
}