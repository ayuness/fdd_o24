{
 "cells": [
  {
   "cell_type": "code",
   "execution_count": 1,
   "metadata": {},
   "outputs": [],
   "source": [
    "import polars as pl\n",
    "import numpy as np\n",
    "import random\n",
    "from datetime import datetime, timedelta"
   ]
  },
  {
   "cell_type": "markdown",
   "metadata": {},
   "source": [
    "# Descripcion"
   ]
  },
  {
   "cell_type": "markdown",
   "metadata": {},
   "source": [
    "Los datos son notificaciones de dispositivos GPS en Mexico. En promedio generan notificaciones automatizadas cada 5 minutos si el carro esta encendido, y 30 si esta apagado.  \n",
    "\n",
    "Cada notificacion esta acompannada de un evento de lo que esta ocurriendo, y trae la latitud y longitud.  \n",
    "\n",
    "El objetico es predecir si un vehiculo esta siendo robado de acuerdo a sus notificaciones, por lo que el primer paso seria limpiar datos y hacer ingenieria de variables.\n",
    "\n",
    "Trata de hacerlo **lazy** si puedes."
   ]
  },
  {
   "cell_type": "code",
   "execution_count": 2,
   "metadata": {},
   "outputs": [],
   "source": [
    "def generate_dummy_data(num_cars, start_time, end_time, working_hours_interval, non_working_hours_interval):\n",
    "    data = []\n",
    "\n",
    "    # Define the latitude and longitude ranges for Mexico\n",
    "    min_latitude, max_latitude = 14.5388, 32.7186\n",
    "    min_longitude, max_longitude = -118.4662, -86.7104\n",
    "\n",
    "    for car_id in range(num_cars):\n",
    "        current_time = start_time\n",
    "\n",
    "        # Generate random initial latitude and longitude for each car\n",
    "        latitude = random.uniform(min_latitude, max_latitude)\n",
    "        longitude = random.uniform(min_longitude, max_longitude)\n",
    "\n",
    "        while current_time < end_time:\n",
    "            if current_time.weekday() < 5 and 9 <= current_time.hour < 17:\n",
    "                # Working hours (Monday to Friday, 9 AM to 5 PM)\n",
    "                interval = working_hours_interval\n",
    "            else:\n",
    "                # Non-working hours\n",
    "                interval = non_working_hours_interval\n",
    "\n",
    "            # Generate notification with 99% probability\n",
    "            if random.random() < 0.99:\n",
    "                notification = random.choice([\"low_fuel\", \"tire_pressure\", \"engine_check\", None])\n",
    "                data.append((f\"car_{car_id}\", current_time.isoformat(), latitude, longitude, notification))\n",
    "\n",
    "            # Generate additional notifications between intervals\n",
    "            while True:\n",
    "                additional_interval = random.expovariate(1 / (interval / 2))\n",
    "                additional_time = current_time + timedelta(minutes=additional_interval)\n",
    "                if additional_time >= current_time + timedelta(minutes=interval):\n",
    "                    break\n",
    "                notification = random.choice([\"low_fuel\", \"tire_pressure\", \"engine_check\", None])\n",
    "                data.append((f\"car_{car_id}\", additional_time.isoformat(), latitude, longitude, notification))\n",
    "\n",
    "            # Update latitude and longitude for car movement\n",
    "            latitude += random.uniform(-0.01, 0.01)\n",
    "            longitude += random.uniform(-0.01, 0.01)\n",
    "\n",
    "            # Check if the car is among the 1% that can have 100 notifications within 5 minutes\n",
    "            if random.random() < 0.01:\n",
    "                burst_start_time = current_time + timedelta(minutes=random.uniform(0, interval))\n",
    "                burst_end_time = burst_start_time + timedelta(minutes=5)\n",
    "                while current_time < burst_end_time:\n",
    "                    notification = random.choice([\"low_fuel\", \"tire_pressure\", \"engine_check\", None])\n",
    "                    data.append((f\"car_{car_id}\", current_time.isoformat(), latitude, longitude, notification))\n",
    "                    current_time += timedelta(seconds=random.uniform(1, 10))\n",
    "\n",
    "            current_time += timedelta(minutes=interval)\n",
    "\n",
    "    # Create a Polars DataFrame from the generated data\n",
    "    df = pl.DataFrame(\n",
    "        {\n",
    "            \"car_id\": [record[0] for record in data],\n",
    "            \"timestamp\": [record[1] for record in data],\n",
    "            \"latitude\": [record[2] for record in data],\n",
    "            \"longitude\": [record[3] for record in data],\n",
    "            \"notification\": [record[4] for record in data],\n",
    "        }\n",
    "    )\n",
    "\n",
    "    return df.lazy()"
   ]
  },
  {
   "cell_type": "code",
   "execution_count": 3,
   "metadata": {},
   "outputs": [
    {
     "name": "stdout",
     "output_type": "stream",
     "text": [
      "naive plan: (run LazyFrame.explain(optimized=True) to see the optimized plan)\n",
      "\n",
      "SLICE[offset: 0, len: 5]\n",
      "  DF [\"car_id\", \"timestamp\", \"latitude\", \"longitude\"]; PROJECT */5 COLUMNS; SELECTION: None\n"
     ]
    }
   ],
   "source": [
    "num_cars = 1000\n",
    "start_time = datetime(2023, 1, 1, 0, 0, 0)  # Start of the week\n",
    "end_time = start_time + timedelta(weeks=1)  # End of the week\n",
    "working_hours_interval = 5  # Interval of 5 minutes during working hours\n",
    "non_working_hours_interval = 30  # Interval of 30 minutes during non-working hours\n",
    "\n",
    "# Generate the dummy data\n",
    "data = generate_dummy_data(num_cars, start_time, end_time, working_hours_interval, non_working_hours_interval)\n",
    "\n",
    "# Print the first few rows of the generated data\n",
    "print(data.head())"
   ]
  },
  {
   "cell_type": "markdown",
   "metadata": {},
   "source": [
    "## Limpieza de datos"
   ]
  },
  {
   "cell_type": "markdown",
   "metadata": {},
   "source": [
    "### Timestamp"
   ]
  },
  {
   "cell_type": "markdown",
   "metadata": {},
   "source": [
    "Convierte el `timestamp` que actualmente es string a formato de tiempo en polars"
   ]
  },
  {
   "cell_type": "code",
   "execution_count": 4,
   "metadata": {},
   "outputs": [
    {
     "name": "stderr",
     "output_type": "stream",
     "text": [
      "/tmp/ipykernel_49379/421030682.py:2: ChronoFormatWarning: Detected the pattern `.%f` in the chrono format string. This pattern should not be used to parse values after a decimal point. Use `%.f` instead. See the full specification: https://docs.rs/chrono/latest/chrono/format/strftime\n",
      "  pl.col(\"timestamp\")\n"
     ]
    }
   ],
   "source": [
    "data = data.with_columns(\n",
    "    pl.col(\"timestamp\")\n",
    "    .str.strptime(pl.Datetime, format=\"%Y-%m-%dT%H:%M:%S.%f\", strict=False)\n",
    "    .alias(\"timestamp\")\n",
    ")"
   ]
  },
  {
   "cell_type": "code",
   "execution_count": 5,
   "metadata": {},
   "outputs": [
    {
     "data": {
      "text/html": [
       "<div><style>\n",
       ".dataframe > thead > tr,\n",
       ".dataframe > tbody > tr {\n",
       "  text-align: right;\n",
       "  white-space: pre-wrap;\n",
       "}\n",
       "</style>\n",
       "<small>shape: (6_298_335, 5)</small><table border=\"1\" class=\"dataframe\"><thead><tr><th>car_id</th><th>timestamp</th><th>latitude</th><th>longitude</th><th>notification</th></tr><tr><td>str</td><td>datetime[μs]</td><td>f64</td><td>f64</td><td>str</td></tr></thead><tbody><tr><td>&quot;car_0&quot;</td><td>null</td><td>24.533157</td><td>-108.595081</td><td>null</td></tr><tr><td>&quot;car_0&quot;</td><td>2023-01-01 00:01:33.000991</td><td>24.533157</td><td>-108.595081</td><td>&quot;low_fuel&quot;</td></tr><tr><td>&quot;car_0&quot;</td><td>2023-01-01 00:03:12.000208</td><td>24.533157</td><td>-108.595081</td><td>&quot;tire_pressure&quot;</td></tr><tr><td>&quot;car_0&quot;</td><td>2023-01-01 00:03:12.000612</td><td>24.533157</td><td>-108.595081</td><td>null</td></tr><tr><td>&quot;car_0&quot;</td><td>null</td><td>24.542875</td><td>-108.596283</td><td>&quot;engine_check&quot;</td></tr><tr><td>&hellip;</td><td>&hellip;</td><td>&hellip;</td><td>&hellip;</td><td>&hellip;</td></tr><tr><td>&quot;car_999&quot;</td><td>2023-01-07 23:07:09.000601</td><td>28.023287</td><td>-96.601204</td><td>&quot;engine_check&quot;</td></tr><tr><td>&quot;car_999&quot;</td><td>2023-01-07 23:02:42.000997</td><td>28.023287</td><td>-96.601204</td><td>&quot;tire_pressure&quot;</td></tr><tr><td>&quot;car_999&quot;</td><td>2023-01-07 23:06:26.000857</td><td>28.023287</td><td>-96.601204</td><td>&quot;engine_check&quot;</td></tr><tr><td>&quot;car_999&quot;</td><td>2023-01-07 23:30:09.000282</td><td>28.023287</td><td>-96.601204</td><td>null</td></tr><tr><td>&quot;car_999&quot;</td><td>2023-01-07 23:30:52.000365</td><td>28.019638</td><td>-96.607621</td><td>&quot;low_fuel&quot;</td></tr></tbody></table></div>"
      ],
      "text/plain": [
       "shape: (6_298_335, 5)\n",
       "┌─────────┬────────────────────────────┬───────────┬─────────────┬───────────────┐\n",
       "│ car_id  ┆ timestamp                  ┆ latitude  ┆ longitude   ┆ notification  │\n",
       "│ ---     ┆ ---                        ┆ ---       ┆ ---         ┆ ---           │\n",
       "│ str     ┆ datetime[μs]               ┆ f64       ┆ f64         ┆ str           │\n",
       "╞═════════╪════════════════════════════╪═══════════╪═════════════╪═══════════════╡\n",
       "│ car_0   ┆ null                       ┆ 24.533157 ┆ -108.595081 ┆ null          │\n",
       "│ car_0   ┆ 2023-01-01 00:01:33.000991 ┆ 24.533157 ┆ -108.595081 ┆ low_fuel      │\n",
       "│ car_0   ┆ 2023-01-01 00:03:12.000208 ┆ 24.533157 ┆ -108.595081 ┆ tire_pressure │\n",
       "│ car_0   ┆ 2023-01-01 00:03:12.000612 ┆ 24.533157 ┆ -108.595081 ┆ null          │\n",
       "│ car_0   ┆ null                       ┆ 24.542875 ┆ -108.596283 ┆ engine_check  │\n",
       "│ …       ┆ …                          ┆ …         ┆ …           ┆ …             │\n",
       "│ car_999 ┆ 2023-01-07 23:07:09.000601 ┆ 28.023287 ┆ -96.601204  ┆ engine_check  │\n",
       "│ car_999 ┆ 2023-01-07 23:02:42.000997 ┆ 28.023287 ┆ -96.601204  ┆ tire_pressure │\n",
       "│ car_999 ┆ 2023-01-07 23:06:26.000857 ┆ 28.023287 ┆ -96.601204  ┆ engine_check  │\n",
       "│ car_999 ┆ 2023-01-07 23:30:09.000282 ┆ 28.023287 ┆ -96.601204  ┆ null          │\n",
       "│ car_999 ┆ 2023-01-07 23:30:52.000365 ┆ 28.019638 ┆ -96.607621  ┆ low_fuel      │\n",
       "└─────────┴────────────────────────────┴───────────┴─────────────┴───────────────┘"
      ]
     },
     "execution_count": 5,
     "metadata": {},
     "output_type": "execute_result"
    }
   ],
   "source": [
    "data.collect()"
   ]
  },
  {
   "cell_type": "markdown",
   "metadata": {},
   "source": [
    "### Ingenieria de variables"
   ]
  },
  {
   "cell_type": "markdown",
   "metadata": {},
   "source": [
    "Dado que va a entrar a un modelo de machine learning es encesario que todas las variables sean numericas, y esten en formnato tidy. Cada observacion en una fila, y cada variable en una columna. Por lo tanto se decidio crear estadisticos y agregar los datos a intervalos uniformes de `x` minutos.  \n",
    "\n",
    "Por ejemplo, colapsar toda la informacion que ocurrion en el intervalo, como el numero de notificaciones en esos 5 minutos, el promedio entre notificaciones, y el tipo de notificaciones."
   ]
  },
  {
   "cell_type": "markdown",
   "metadata": {},
   "source": [
    "Existen varias formas de hacer esto, puedes hacerlo con `group_by` primero para crear las nuevas variables, o `group_by` (`rolling`, `dynamic`) usando operaciones sobre listas. Utiliza claude o chat_gpt"
   ]
  },
  {
   "cell_type": "markdown",
   "metadata": {},
   "source": [
    "1. Crea una nueva variable que compute la diferencia de tiempo entre notificaciones del mismo vehiculo. Piensa como lo vas a hacer. Llama a esta variable `notification_time`\n",
    "   \n"
   ]
  },
  {
   "cell_type": "code",
   "execution_count": 8,
   "metadata": {},
   "outputs": [
    {
     "data": {
      "text/html": [
       "<div><style>\n",
       ".dataframe > thead > tr,\n",
       ".dataframe > tbody > tr {\n",
       "  text-align: right;\n",
       "  white-space: pre-wrap;\n",
       "}\n",
       "</style>\n",
       "<small>shape: (6_298_335, 7)</small><table border=\"1\" class=\"dataframe\"><thead><tr><th>car_id</th><th>timestamp</th><th>latitude</th><th>longitude</th><th>notification</th><th>distance</th><th>notification_time</th></tr><tr><td>str</td><td>datetime[μs]</td><td>f64</td><td>f64</td><td>str</td><td>f64</td><td>duration[μs]</td></tr></thead><tbody><tr><td>&quot;car_0&quot;</td><td>null</td><td>24.533157</td><td>-108.595081</td><td>null</td><td>0.0</td><td>null</td></tr><tr><td>&quot;car_0&quot;</td><td>2023-01-01 00:01:33.000991</td><td>24.533157</td><td>-108.595081</td><td>&quot;low_fuel&quot;</td><td>0.0</td><td>null</td></tr><tr><td>&quot;car_0&quot;</td><td>2023-01-01 00:03:12.000208</td><td>24.533157</td><td>-108.595081</td><td>&quot;tire_pressure&quot;</td><td>0.0</td><td>1m 38s 999217µs</td></tr><tr><td>&quot;car_0&quot;</td><td>2023-01-01 00:03:12.000612</td><td>24.533157</td><td>-108.595081</td><td>null</td><td>2.174802</td><td>404µs</td></tr><tr><td>&quot;car_0&quot;</td><td>null</td><td>24.542875</td><td>-108.596283</td><td>&quot;engine_check&quot;</td><td>0.0</td><td>null</td></tr><tr><td>&hellip;</td><td>&hellip;</td><td>&hellip;</td><td>&hellip;</td><td>&hellip;</td><td>&hellip;</td><td>&hellip;</td></tr><tr><td>&quot;car_999&quot;</td><td>2023-01-07 23:07:09.000601</td><td>28.023287</td><td>-96.601204</td><td>&quot;engine_check&quot;</td><td>0.0</td><td>-3m -58s -999538µs</td></tr><tr><td>&quot;car_999&quot;</td><td>2023-01-07 23:02:42.000997</td><td>28.023287</td><td>-96.601204</td><td>&quot;tire_pressure&quot;</td><td>0.0</td><td>-4m -26s -999604µs</td></tr><tr><td>&quot;car_999&quot;</td><td>2023-01-07 23:06:26.000857</td><td>28.023287</td><td>-96.601204</td><td>&quot;engine_check&quot;</td><td>0.0</td><td>3m 43s 999860µs</td></tr><tr><td>&quot;car_999&quot;</td><td>2023-01-07 23:30:09.000282</td><td>28.023287</td><td>-96.601204</td><td>null</td><td>1.498461</td><td>23m 42s 999425µs</td></tr><tr><td>&quot;car_999&quot;</td><td>2023-01-07 23:30:52.000365</td><td>28.019638</td><td>-96.607621</td><td>&quot;low_fuel&quot;</td><td>null</td><td>43s 83µs</td></tr></tbody></table></div>"
      ],
      "text/plain": [
       "shape: (6_298_335, 7)\n",
       "┌─────────┬─────────────────┬───────────┬─────────────┬───────────────┬──────────┬─────────────────┐\n",
       "│ car_id  ┆ timestamp       ┆ latitude  ┆ longitude   ┆ notification  ┆ distance ┆ notification_ti │\n",
       "│ ---     ┆ ---             ┆ ---       ┆ ---         ┆ ---           ┆ ---      ┆ me              │\n",
       "│ str     ┆ datetime[μs]    ┆ f64       ┆ f64         ┆ str           ┆ f64      ┆ ---             │\n",
       "│         ┆                 ┆           ┆             ┆               ┆          ┆ duration[μs]    │\n",
       "╞═════════╪═════════════════╪═══════════╪═════════════╪═══════════════╪══════════╪═════════════════╡\n",
       "│ car_0   ┆ null            ┆ 24.533157 ┆ -108.595081 ┆ null          ┆ 0.0      ┆ null            │\n",
       "│ car_0   ┆ 2023-01-01      ┆ 24.533157 ┆ -108.595081 ┆ low_fuel      ┆ 0.0      ┆ null            │\n",
       "│         ┆ 00:01:33.000991 ┆           ┆             ┆               ┆          ┆                 │\n",
       "│ car_0   ┆ 2023-01-01      ┆ 24.533157 ┆ -108.595081 ┆ tire_pressure ┆ 0.0      ┆ 1m 38s 999217µs │\n",
       "│         ┆ 00:03:12.000208 ┆           ┆             ┆               ┆          ┆                 │\n",
       "│ car_0   ┆ 2023-01-01      ┆ 24.533157 ┆ -108.595081 ┆ null          ┆ 2.174802 ┆ 404µs           │\n",
       "│         ┆ 00:03:12.000612 ┆           ┆             ┆               ┆          ┆                 │\n",
       "│ car_0   ┆ null            ┆ 24.542875 ┆ -108.596283 ┆ engine_check  ┆ 0.0      ┆ null            │\n",
       "│ …       ┆ …               ┆ …         ┆ …           ┆ …             ┆ …        ┆ …               │\n",
       "│ car_999 ┆ 2023-01-07      ┆ 28.023287 ┆ -96.601204  ┆ engine_check  ┆ 0.0      ┆ -3m -58s        │\n",
       "│         ┆ 23:07:09.000601 ┆           ┆             ┆               ┆          ┆ -999538µs       │\n",
       "│ car_999 ┆ 2023-01-07      ┆ 28.023287 ┆ -96.601204  ┆ tire_pressure ┆ 0.0      ┆ -4m -26s        │\n",
       "│         ┆ 23:02:42.000997 ┆           ┆             ┆               ┆          ┆ -999604µs       │\n",
       "│ car_999 ┆ 2023-01-07      ┆ 28.023287 ┆ -96.601204  ┆ engine_check  ┆ 0.0      ┆ 3m 43s 999860µs │\n",
       "│         ┆ 23:06:26.000857 ┆           ┆             ┆               ┆          ┆                 │\n",
       "│ car_999 ┆ 2023-01-07      ┆ 28.023287 ┆ -96.601204  ┆ null          ┆ 1.498461 ┆ 23m 42s         │\n",
       "│         ┆ 23:30:09.000282 ┆           ┆             ┆               ┆          ┆ 999425µs        │\n",
       "│ car_999 ┆ 2023-01-07      ┆ 28.019638 ┆ -96.607621  ┆ low_fuel      ┆ null     ┆ 43s 83µs        │\n",
       "│         ┆ 23:30:52.000365 ┆           ┆             ┆               ┆          ┆                 │\n",
       "└─────────┴─────────────────┴───────────┴─────────────┴───────────────┴──────────┴─────────────────┘"
      ]
     },
     "execution_count": 8,
     "metadata": {},
     "output_type": "execute_result"
    }
   ],
   "source": [
    "data = data.with_columns(\n",
    "    pl.col(\"timestamp\").diff().over(\"car_id\").alias(\"notification_time\")\n",
    " )\n",
    "data.collect()"
   ]
  },
  {
   "cell_type": "markdown",
   "metadata": {},
   "source": [
    "2. Crea una nueva variable que compute la distancia que viajo el vehiculo desde la ultima notificacion. Llamala `distance`"
   ]
  },
  {
   "cell_type": "code",
   "execution_count": 6,
   "metadata": {},
   "outputs": [
    {
     "data": {
      "text/html": [
       "<div><style>\n",
       ".dataframe > thead > tr,\n",
       ".dataframe > tbody > tr {\n",
       "  text-align: right;\n",
       "  white-space: pre-wrap;\n",
       "}\n",
       "</style>\n",
       "<small>shape: (6_298_335, 6)</small><table border=\"1\" class=\"dataframe\"><thead><tr><th>car_id</th><th>timestamp</th><th>latitude</th><th>longitude</th><th>notification</th><th>distance</th></tr><tr><td>str</td><td>datetime[μs]</td><td>f64</td><td>f64</td><td>str</td><td>f64</td></tr></thead><tbody><tr><td>&quot;car_0&quot;</td><td>null</td><td>24.533157</td><td>-108.595081</td><td>null</td><td>0.0</td></tr><tr><td>&quot;car_0&quot;</td><td>2023-01-01 00:01:33.000991</td><td>24.533157</td><td>-108.595081</td><td>&quot;low_fuel&quot;</td><td>0.0</td></tr><tr><td>&quot;car_0&quot;</td><td>2023-01-01 00:03:12.000208</td><td>24.533157</td><td>-108.595081</td><td>&quot;tire_pressure&quot;</td><td>0.0</td></tr><tr><td>&quot;car_0&quot;</td><td>2023-01-01 00:03:12.000612</td><td>24.533157</td><td>-108.595081</td><td>null</td><td>2.174802</td></tr><tr><td>&quot;car_0&quot;</td><td>null</td><td>24.542875</td><td>-108.596283</td><td>&quot;engine_check&quot;</td><td>0.0</td></tr><tr><td>&hellip;</td><td>&hellip;</td><td>&hellip;</td><td>&hellip;</td><td>&hellip;</td><td>&hellip;</td></tr><tr><td>&quot;car_999&quot;</td><td>2023-01-07 23:07:09.000601</td><td>28.023287</td><td>-96.601204</td><td>&quot;engine_check&quot;</td><td>0.0</td></tr><tr><td>&quot;car_999&quot;</td><td>2023-01-07 23:02:42.000997</td><td>28.023287</td><td>-96.601204</td><td>&quot;tire_pressure&quot;</td><td>0.0</td></tr><tr><td>&quot;car_999&quot;</td><td>2023-01-07 23:06:26.000857</td><td>28.023287</td><td>-96.601204</td><td>&quot;engine_check&quot;</td><td>0.0</td></tr><tr><td>&quot;car_999&quot;</td><td>2023-01-07 23:30:09.000282</td><td>28.023287</td><td>-96.601204</td><td>null</td><td>1.498461</td></tr><tr><td>&quot;car_999&quot;</td><td>2023-01-07 23:30:52.000365</td><td>28.019638</td><td>-96.607621</td><td>&quot;low_fuel&quot;</td><td>null</td></tr></tbody></table></div>"
      ],
      "text/plain": [
       "shape: (6_298_335, 6)\n",
       "┌─────────┬────────────────────────────┬───────────┬─────────────┬───────────────┬──────────┐\n",
       "│ car_id  ┆ timestamp                  ┆ latitude  ┆ longitude   ┆ notification  ┆ distance │\n",
       "│ ---     ┆ ---                        ┆ ---       ┆ ---         ┆ ---           ┆ ---      │\n",
       "│ str     ┆ datetime[μs]               ┆ f64       ┆ f64         ┆ str           ┆ f64      │\n",
       "╞═════════╪════════════════════════════╪═══════════╪═════════════╪═══════════════╪══════════╡\n",
       "│ car_0   ┆ null                       ┆ 24.533157 ┆ -108.595081 ┆ null          ┆ 0.0      │\n",
       "│ car_0   ┆ 2023-01-01 00:01:33.000991 ┆ 24.533157 ┆ -108.595081 ┆ low_fuel      ┆ 0.0      │\n",
       "│ car_0   ┆ 2023-01-01 00:03:12.000208 ┆ 24.533157 ┆ -108.595081 ┆ tire_pressure ┆ 0.0      │\n",
       "│ car_0   ┆ 2023-01-01 00:03:12.000612 ┆ 24.533157 ┆ -108.595081 ┆ null          ┆ 2.174802 │\n",
       "│ car_0   ┆ null                       ┆ 24.542875 ┆ -108.596283 ┆ engine_check  ┆ 0.0      │\n",
       "│ …       ┆ …                          ┆ …         ┆ …           ┆ …             ┆ …        │\n",
       "│ car_999 ┆ 2023-01-07 23:07:09.000601 ┆ 28.023287 ┆ -96.601204  ┆ engine_check  ┆ 0.0      │\n",
       "│ car_999 ┆ 2023-01-07 23:02:42.000997 ┆ 28.023287 ┆ -96.601204  ┆ tire_pressure ┆ 0.0      │\n",
       "│ car_999 ┆ 2023-01-07 23:06:26.000857 ┆ 28.023287 ┆ -96.601204  ┆ engine_check  ┆ 0.0      │\n",
       "│ car_999 ┆ 2023-01-07 23:30:09.000282 ┆ 28.023287 ┆ -96.601204  ┆ null          ┆ 1.498461 │\n",
       "│ car_999 ┆ 2023-01-07 23:30:52.000365 ┆ 28.019638 ┆ -96.607621  ┆ low_fuel      ┆ null     │\n",
       "└─────────┴────────────────────────────┴───────────┴─────────────┴───────────────┴──────────┘"
      ]
     },
     "execution_count": 6,
     "metadata": {},
     "output_type": "execute_result"
    }
   ],
   "source": [
    "# Radius of Earth in kilometers\n",
    "R = 6371.0\n",
    "\n",
    "# Convert latitude and longitude columns to radians\n",
    "data = data.with_columns([\n",
    "    (pl.col(\"latitude\") * np.pi / 180).alias(\"lat_rad\"),\n",
    "    (pl.col(\"longitude\") * np.pi / 180).alias(\"lon_rad\"),\n",
    "])\n",
    "\n",
    "# Calculate Haversine distance with correct usage of sin, cos, and arcsin as chained methods\n",
    "data = data.with_columns([\n",
    "    (2 * R * (\n",
    "        (pl.col(\"lat_rad\").shift(-1) - pl.col(\"lat_rad\")).sin().pow(2) +\n",
    "        (pl.col(\"lat_rad\").cos() * pl.col(\"lat_rad\").shift(-1).cos() *\n",
    "         (pl.col(\"lon_rad\").shift(-1) - pl.col(\"lon_rad\")).sin().pow(2))\n",
    "    ).sqrt().arcsin()).over(\"car_id\").alias(\"distance\")\n",
    "])\n",
    "\n",
    "# Drop the intermediate columns if no longer needed\n",
    "data = data.drop([\"lat_rad\", \"lon_rad\"])\n",
    "\n",
    "# Collect and display the results\n",
    "data_df = data.collect()\n",
    "data_df"
   ]
  },
  {
   "cell_type": "code",
   "execution_count": 9,
   "metadata": {},
   "outputs": [
    {
     "data": {
      "text/html": [
       "<div><style>\n",
       ".dataframe > thead > tr,\n",
       ".dataframe > tbody > tr {\n",
       "  text-align: right;\n",
       "  white-space: pre-wrap;\n",
       "}\n",
       "</style>\n",
       "<small>shape: (722_617, 7)</small><table border=\"1\" class=\"dataframe\"><thead><tr><th>car_id</th><th>timestamp</th><th>latitude</th><th>longitude</th><th>notification</th><th>distance</th><th>notification_time</th></tr><tr><td>str</td><td>datetime[μs]</td><td>f64</td><td>f64</td><td>str</td><td>f64</td><td>duration[μs]</td></tr></thead><tbody><tr><td>&quot;car_0&quot;</td><td>2023-01-01 00:03:12.000612</td><td>24.533157</td><td>-108.595081</td><td>null</td><td>2.174802</td><td>404µs</td></tr><tr><td>&quot;car_0&quot;</td><td>2023-01-01 00:43:09.000533</td><td>24.542875</td><td>-108.596283</td><td>&quot;low_fuel&quot;</td><td>1.628738</td><td>7m 9s 999538µs</td></tr><tr><td>&quot;car_0&quot;</td><td>2023-01-01 01:01:40.000805</td><td>24.540011</td><td>-108.588873</td><td>&quot;tire_pressure&quot;</td><td>1.482681</td><td>-11m -38s -999623µs</td></tr><tr><td>&quot;car_0&quot;</td><td>2023-01-01 01:37:50.000369</td><td>24.538638</td><td>-108.581701</td><td>&quot;tire_pressure&quot;</td><td>1.848402</td><td>-1m -52s -999635µs</td></tr><tr><td>&quot;car_0&quot;</td><td>2023-01-01 02:03:45.000365</td><td>24.530336</td><td>-108.582129</td><td>null</td><td>0.62616</td><td>-2m -45s -349µs</td></tr><tr><td>&hellip;</td><td>&hellip;</td><td>&hellip;</td><td>&hellip;</td><td>&hellip;</td><td>&hellip;</td><td>&hellip;</td></tr><tr><td>&quot;car_999&quot;</td><td>2023-01-07 21:07:06.000336</td><td>28.016826</td><td>-96.609589</td><td>null</td><td>2.569785</td><td>-13m -29s -300µs</td></tr><tr><td>&quot;car_999&quot;</td><td>2023-01-07 21:35:03.000770</td><td>28.026443</td><td>-96.602332</td><td>&quot;engine_check&quot;</td><td>2.328463</td><td>3m 11s 468µs</td></tr><tr><td>&quot;car_999&quot;</td><td>2023-01-07 22:11:13.000595</td><td>28.035543</td><td>-96.608197</td><td>&quot;tire_pressure&quot;</td><td>1.407846</td><td>10m 21s 230µs</td></tr><tr><td>&quot;car_999&quot;</td><td>2023-01-07 22:38:03.000457</td><td>28.029405</td><td>-96.609952</td><td>&quot;low_fuel&quot;</td><td>2.19104</td><td>-4m -10s -133µs</td></tr><tr><td>&quot;car_999&quot;</td><td>2023-01-07 23:30:09.000282</td><td>28.023287</td><td>-96.601204</td><td>null</td><td>1.498461</td><td>23m 42s 999425µs</td></tr></tbody></table></div>"
      ],
      "text/plain": [
       "shape: (722_617, 7)\n",
       "┌─────────┬─────────────────┬───────────┬─────────────┬───────────────┬──────────┬─────────────────┐\n",
       "│ car_id  ┆ timestamp       ┆ latitude  ┆ longitude   ┆ notification  ┆ distance ┆ notification_ti │\n",
       "│ ---     ┆ ---             ┆ ---       ┆ ---         ┆ ---           ┆ ---      ┆ me              │\n",
       "│ str     ┆ datetime[μs]    ┆ f64       ┆ f64         ┆ str           ┆ f64      ┆ ---             │\n",
       "│         ┆                 ┆           ┆             ┆               ┆          ┆ duration[μs]    │\n",
       "╞═════════╪═════════════════╪═══════════╪═════════════╪═══════════════╪══════════╪═════════════════╡\n",
       "│ car_0   ┆ 2023-01-01      ┆ 24.533157 ┆ -108.595081 ┆ null          ┆ 2.174802 ┆ 404µs           │\n",
       "│         ┆ 00:03:12.000612 ┆           ┆             ┆               ┆          ┆                 │\n",
       "│ car_0   ┆ 2023-01-01      ┆ 24.542875 ┆ -108.596283 ┆ low_fuel      ┆ 1.628738 ┆ 7m 9s 999538µs  │\n",
       "│         ┆ 00:43:09.000533 ┆           ┆             ┆               ┆          ┆                 │\n",
       "│ car_0   ┆ 2023-01-01      ┆ 24.540011 ┆ -108.588873 ┆ tire_pressure ┆ 1.482681 ┆ -11m -38s       │\n",
       "│         ┆ 01:01:40.000805 ┆           ┆             ┆               ┆          ┆ -999623µs       │\n",
       "│ car_0   ┆ 2023-01-01      ┆ 24.538638 ┆ -108.581701 ┆ tire_pressure ┆ 1.848402 ┆ -1m -52s        │\n",
       "│         ┆ 01:37:50.000369 ┆           ┆             ┆               ┆          ┆ -999635µs       │\n",
       "│ car_0   ┆ 2023-01-01      ┆ 24.530336 ┆ -108.582129 ┆ null          ┆ 0.62616  ┆ -2m -45s -349µs │\n",
       "│         ┆ 02:03:45.000365 ┆           ┆             ┆               ┆          ┆                 │\n",
       "│ …       ┆ …               ┆ …         ┆ …           ┆ …             ┆ …        ┆ …               │\n",
       "│ car_999 ┆ 2023-01-07      ┆ 28.016826 ┆ -96.609589  ┆ null          ┆ 2.569785 ┆ -13m -29s       │\n",
       "│         ┆ 21:07:06.000336 ┆           ┆             ┆               ┆          ┆ -300µs          │\n",
       "│ car_999 ┆ 2023-01-07      ┆ 28.026443 ┆ -96.602332  ┆ engine_check  ┆ 2.328463 ┆ 3m 11s 468µs    │\n",
       "│         ┆ 21:35:03.000770 ┆           ┆             ┆               ┆          ┆                 │\n",
       "│ car_999 ┆ 2023-01-07      ┆ 28.035543 ┆ -96.608197  ┆ tire_pressure ┆ 1.407846 ┆ 10m 21s 230µs   │\n",
       "│         ┆ 22:11:13.000595 ┆           ┆             ┆               ┆          ┆                 │\n",
       "│ car_999 ┆ 2023-01-07      ┆ 28.029405 ┆ -96.609952  ┆ low_fuel      ┆ 2.19104  ┆ -4m -10s -133µs │\n",
       "│         ┆ 22:38:03.000457 ┆           ┆             ┆               ┆          ┆                 │\n",
       "│ car_999 ┆ 2023-01-07      ┆ 28.023287 ┆ -96.601204  ┆ null          ┆ 1.498461 ┆ 23m 42s         │\n",
       "│         ┆ 23:30:09.000282 ┆           ┆             ┆               ┆          ┆ 999425µs        │\n",
       "└─────────┴─────────────────┴───────────┴─────────────┴───────────────┴──────────┴─────────────────┘"
      ]
     },
     "execution_count": 9,
     "metadata": {},
     "output_type": "execute_result"
    }
   ],
   "source": [
    "data.filter(pl.col(\"distance\") > 0).collect()"
   ]
  },
  {
   "cell_type": "markdown",
   "metadata": {},
   "source": [
    "3. Crea intervalos de `x` minutos por carro. Como el numero de notificaciones en esos intervalos no es uniforme tienes que buscar funciones de polars especificas, pero ademas tienen que ser por vehiculo, pues tienen que ser del mismo. Revisa las funciones de `group_by` `dynamic` y `rolling`.\n",
    "   1. Computa la media, mediana, varianza, max y min de `notification_time` los intervalos de `x` minutos\n",
    "   2. Computa la media, mediana, varianza, max y min de `distance`\n"
   ]
  },
  {
   "cell_type": "code",
   "execution_count": 10,
   "metadata": {},
   "outputs": [
    {
     "name": "stdout",
     "output_type": "stream",
     "text": [
      "Rows with null timestamps: 1\n"
     ]
    }
   ],
   "source": [
    "data = data.with_columns([\n",
    "    pl.col(\"timestamp\").fill_null(strategy=\"forward\").cast(pl.Datetime)\n",
    "])\n",
    "null_timestamps = data.filter(pl.col(\"timestamp\").is_null()).collect()\n",
    "print(\"Rows with null timestamps:\", null_timestamps.shape[0])"
   ]
  },
  {
   "cell_type": "code",
   "execution_count": 11,
   "metadata": {},
   "outputs": [
    {
     "data": {
      "text/html": [
       "<div><style>\n",
       ".dataframe > thead > tr,\n",
       ".dataframe > tbody > tr {\n",
       "  text-align: right;\n",
       "  white-space: pre-wrap;\n",
       "}\n",
       "</style>\n",
       "<small>shape: (1, 7)</small><table border=\"1\" class=\"dataframe\"><thead><tr><th>car_id</th><th>timestamp</th><th>latitude</th><th>longitude</th><th>notification</th><th>distance</th><th>notification_time</th></tr><tr><td>str</td><td>datetime[μs]</td><td>f64</td><td>f64</td><td>str</td><td>f64</td><td>duration[μs]</td></tr></thead><tbody><tr><td>&quot;car_0&quot;</td><td>null</td><td>24.533157</td><td>-108.595081</td><td>null</td><td>0.0</td><td>null</td></tr></tbody></table></div>"
      ],
      "text/plain": [
       "shape: (1, 7)\n",
       "┌────────┬──────────────┬───────────┬─────────────┬──────────────┬──────────┬───────────────────┐\n",
       "│ car_id ┆ timestamp    ┆ latitude  ┆ longitude   ┆ notification ┆ distance ┆ notification_time │\n",
       "│ ---    ┆ ---          ┆ ---       ┆ ---         ┆ ---          ┆ ---      ┆ ---               │\n",
       "│ str    ┆ datetime[μs] ┆ f64       ┆ f64         ┆ str          ┆ f64      ┆ duration[μs]      │\n",
       "╞════════╪══════════════╪═══════════╪═════════════╪══════════════╪══════════╪═══════════════════╡\n",
       "│ car_0  ┆ null         ┆ 24.533157 ┆ -108.595081 ┆ null         ┆ 0.0      ┆ null              │\n",
       "└────────┴──────────────┴───────────┴─────────────┴──────────────┴──────────┴───────────────────┘"
      ]
     },
     "execution_count": 11,
     "metadata": {},
     "output_type": "execute_result"
    }
   ],
   "source": [
    "null_timestamps"
   ]
  },
  {
   "cell_type": "code",
   "execution_count": 12,
   "metadata": {},
   "outputs": [],
   "source": [
    "data = data.with_columns([\n",
    "    pl.col(\"timestamp\").fill_null(strategy=\"backward\").cast(pl.Datetime)\n",
    "])"
   ]
  },
  {
   "cell_type": "code",
   "execution_count": 13,
   "metadata": {},
   "outputs": [
    {
     "name": "stdout",
     "output_type": "stream",
     "text": [
      "Rows with null timestamps: 0\n"
     ]
    },
    {
     "data": {
      "text/html": [
       "<div><style>\n",
       ".dataframe > thead > tr,\n",
       ".dataframe > tbody > tr {\n",
       "  text-align: right;\n",
       "  white-space: pre-wrap;\n",
       "}\n",
       "</style>\n",
       "<small>shape: (0, 7)</small><table border=\"1\" class=\"dataframe\"><thead><tr><th>car_id</th><th>timestamp</th><th>latitude</th><th>longitude</th><th>notification</th><th>distance</th><th>notification_time</th></tr><tr><td>str</td><td>datetime[μs]</td><td>f64</td><td>f64</td><td>str</td><td>f64</td><td>duration[μs]</td></tr></thead><tbody></tbody></table></div>"
      ],
      "text/plain": [
       "shape: (0, 7)\n",
       "┌────────┬──────────────┬──────────┬───────────┬──────────────┬──────────┬───────────────────┐\n",
       "│ car_id ┆ timestamp    ┆ latitude ┆ longitude ┆ notification ┆ distance ┆ notification_time │\n",
       "│ ---    ┆ ---          ┆ ---      ┆ ---       ┆ ---          ┆ ---      ┆ ---               │\n",
       "│ str    ┆ datetime[μs] ┆ f64      ┆ f64       ┆ str          ┆ f64      ┆ duration[μs]      │\n",
       "╞════════╪══════════════╪══════════╪═══════════╪══════════════╪══════════╪═══════════════════╡\n",
       "└────────┴──────────────┴──────────┴───────────┴──────────────┴──────────┴───────────────────┘"
      ]
     },
     "execution_count": 13,
     "metadata": {},
     "output_type": "execute_result"
    }
   ],
   "source": [
    "null_timestamps = data.filter(pl.col(\"timestamp\").is_null()).collect()\n",
    "print(\"Rows with null timestamps:\", null_timestamps.shape[0])\n",
    "null_timestamps"
   ]
  },
  {
   "cell_type": "code",
   "execution_count": 14,
   "metadata": {},
   "outputs": [
    {
     "data": {
      "text/html": [
       "<div><style>\n",
       ".dataframe > thead > tr,\n",
       ".dataframe > tbody > tr {\n",
       "  text-align: right;\n",
       "  white-space: pre-wrap;\n",
       "}\n",
       "</style>\n",
       "<small>shape: (6_298_335, 7)</small><table border=\"1\" class=\"dataframe\"><thead><tr><th>car_id</th><th>timestamp</th><th>latitude</th><th>longitude</th><th>notification</th><th>distance</th><th>notification_time</th></tr><tr><td>str</td><td>datetime[μs]</td><td>f64</td><td>f64</td><td>str</td><td>f64</td><td>duration[μs]</td></tr></thead><tbody><tr><td>&quot;car_0&quot;</td><td>2023-01-01 00:01:33.000991</td><td>24.533157</td><td>-108.595081</td><td>null</td><td>0.0</td><td>0µs</td></tr><tr><td>&quot;car_0&quot;</td><td>2023-01-01 00:01:33.000991</td><td>24.533157</td><td>-108.595081</td><td>&quot;low_fuel&quot;</td><td>0.0</td><td>0µs</td></tr><tr><td>&quot;car_0&quot;</td><td>2023-01-01 00:03:12.000208</td><td>24.533157</td><td>-108.595081</td><td>&quot;tire_pressure&quot;</td><td>0.0</td><td>1m 38s 999217µs</td></tr><tr><td>&quot;car_0&quot;</td><td>2023-01-01 00:03:12.000612</td><td>24.533157</td><td>-108.595081</td><td>null</td><td>2.174802</td><td>404µs</td></tr><tr><td>&quot;car_0&quot;</td><td>2023-01-01 00:03:12.000612</td><td>24.542875</td><td>-108.596283</td><td>&quot;engine_check&quot;</td><td>0.0</td><td>0µs</td></tr><tr><td>&hellip;</td><td>&hellip;</td><td>&hellip;</td><td>&hellip;</td><td>&hellip;</td><td>&hellip;</td><td>&hellip;</td></tr><tr><td>&quot;car_999&quot;</td><td>2023-01-07 23:07:09.000601</td><td>28.023287</td><td>-96.601204</td><td>&quot;engine_check&quot;</td><td>0.0</td><td>-3m -58s -999538µs</td></tr><tr><td>&quot;car_999&quot;</td><td>2023-01-07 23:02:42.000997</td><td>28.023287</td><td>-96.601204</td><td>&quot;tire_pressure&quot;</td><td>0.0</td><td>-4m -26s -999604µs</td></tr><tr><td>&quot;car_999&quot;</td><td>2023-01-07 23:06:26.000857</td><td>28.023287</td><td>-96.601204</td><td>&quot;engine_check&quot;</td><td>0.0</td><td>3m 43s 999860µs</td></tr><tr><td>&quot;car_999&quot;</td><td>2023-01-07 23:30:09.000282</td><td>28.023287</td><td>-96.601204</td><td>null</td><td>1.498461</td><td>23m 42s 999425µs</td></tr><tr><td>&quot;car_999&quot;</td><td>2023-01-07 23:30:52.000365</td><td>28.019638</td><td>-96.607621</td><td>&quot;low_fuel&quot;</td><td>0.0</td><td>43s 83µs</td></tr></tbody></table></div>"
      ],
      "text/plain": [
       "shape: (6_298_335, 7)\n",
       "┌─────────┬─────────────────┬───────────┬─────────────┬───────────────┬──────────┬─────────────────┐\n",
       "│ car_id  ┆ timestamp       ┆ latitude  ┆ longitude   ┆ notification  ┆ distance ┆ notification_ti │\n",
       "│ ---     ┆ ---             ┆ ---       ┆ ---         ┆ ---           ┆ ---      ┆ me              │\n",
       "│ str     ┆ datetime[μs]    ┆ f64       ┆ f64         ┆ str           ┆ f64      ┆ ---             │\n",
       "│         ┆                 ┆           ┆             ┆               ┆          ┆ duration[μs]    │\n",
       "╞═════════╪═════════════════╪═══════════╪═════════════╪═══════════════╪══════════╪═════════════════╡\n",
       "│ car_0   ┆ 2023-01-01      ┆ 24.533157 ┆ -108.595081 ┆ null          ┆ 0.0      ┆ 0µs             │\n",
       "│         ┆ 00:01:33.000991 ┆           ┆             ┆               ┆          ┆                 │\n",
       "│ car_0   ┆ 2023-01-01      ┆ 24.533157 ┆ -108.595081 ┆ low_fuel      ┆ 0.0      ┆ 0µs             │\n",
       "│         ┆ 00:01:33.000991 ┆           ┆             ┆               ┆          ┆                 │\n",
       "│ car_0   ┆ 2023-01-01      ┆ 24.533157 ┆ -108.595081 ┆ tire_pressure ┆ 0.0      ┆ 1m 38s 999217µs │\n",
       "│         ┆ 00:03:12.000208 ┆           ┆             ┆               ┆          ┆                 │\n",
       "│ car_0   ┆ 2023-01-01      ┆ 24.533157 ┆ -108.595081 ┆ null          ┆ 2.174802 ┆ 404µs           │\n",
       "│         ┆ 00:03:12.000612 ┆           ┆             ┆               ┆          ┆                 │\n",
       "│ car_0   ┆ 2023-01-01      ┆ 24.542875 ┆ -108.596283 ┆ engine_check  ┆ 0.0      ┆ 0µs             │\n",
       "│         ┆ 00:03:12.000612 ┆           ┆             ┆               ┆          ┆                 │\n",
       "│ …       ┆ …               ┆ …         ┆ …           ┆ …             ┆ …        ┆ …               │\n",
       "│ car_999 ┆ 2023-01-07      ┆ 28.023287 ┆ -96.601204  ┆ engine_check  ┆ 0.0      ┆ -3m -58s        │\n",
       "│         ┆ 23:07:09.000601 ┆           ┆             ┆               ┆          ┆ -999538µs       │\n",
       "│ car_999 ┆ 2023-01-07      ┆ 28.023287 ┆ -96.601204  ┆ tire_pressure ┆ 0.0      ┆ -4m -26s        │\n",
       "│         ┆ 23:02:42.000997 ┆           ┆             ┆               ┆          ┆ -999604µs       │\n",
       "│ car_999 ┆ 2023-01-07      ┆ 28.023287 ┆ -96.601204  ┆ engine_check  ┆ 0.0      ┆ 3m 43s 999860µs │\n",
       "│         ┆ 23:06:26.000857 ┆           ┆             ┆               ┆          ┆                 │\n",
       "│ car_999 ┆ 2023-01-07      ┆ 28.023287 ┆ -96.601204  ┆ null          ┆ 1.498461 ┆ 23m 42s         │\n",
       "│         ┆ 23:30:09.000282 ┆           ┆             ┆               ┆          ┆ 999425µs        │\n",
       "│ car_999 ┆ 2023-01-07      ┆ 28.019638 ┆ -96.607621  ┆ low_fuel      ┆ 0.0      ┆ 43s 83µs        │\n",
       "│         ┆ 23:30:52.000365 ┆           ┆             ┆               ┆          ┆                 │\n",
       "└─────────┴─────────────────┴───────────┴─────────────┴───────────────┴──────────┴─────────────────┘"
      ]
     },
     "execution_count": 14,
     "metadata": {},
     "output_type": "execute_result"
    }
   ],
   "source": [
    "data = data.with_columns([\n",
    "    pl.col(\"notification_time\").fill_null(pl.duration(microseconds=0)),\n",
    "    pl.col(\"distance\").fill_null(0.0)\n",
    "])\n",
    "data.collect()"
   ]
  },
  {
   "cell_type": "code",
   "execution_count": 15,
   "metadata": {},
   "outputs": [
    {
     "data": {
      "text/html": [
       "<div><style>\n",
       ".dataframe > thead > tr,\n",
       ".dataframe > tbody > tr {\n",
       "  text-align: right;\n",
       "  white-space: pre-wrap;\n",
       "}\n",
       "</style>\n",
       "<small>shape: (0, 7)</small><table border=\"1\" class=\"dataframe\"><thead><tr><th>car_id</th><th>timestamp</th><th>latitude</th><th>longitude</th><th>notification</th><th>distance</th><th>notification_time</th></tr><tr><td>str</td><td>datetime[μs]</td><td>f64</td><td>f64</td><td>str</td><td>f64</td><td>duration[μs]</td></tr></thead><tbody></tbody></table></div>"
      ],
      "text/plain": [
       "shape: (0, 7)\n",
       "┌────────┬──────────────┬──────────┬───────────┬──────────────┬──────────┬───────────────────┐\n",
       "│ car_id ┆ timestamp    ┆ latitude ┆ longitude ┆ notification ┆ distance ┆ notification_time │\n",
       "│ ---    ┆ ---          ┆ ---      ┆ ---       ┆ ---          ┆ ---      ┆ ---               │\n",
       "│ str    ┆ datetime[μs] ┆ f64      ┆ f64       ┆ str          ┆ f64      ┆ duration[μs]      │\n",
       "╞════════╪══════════════╪══════════╪═══════════╪══════════════╪══════════╪═══════════════════╡\n",
       "└────────┴──────────────┴──────────┴───────────┴──────────────┴──────────┴───────────────────┘"
      ]
     },
     "execution_count": 15,
     "metadata": {},
     "output_type": "execute_result"
    }
   ],
   "source": [
    "data.filter(pl.col(\"notification_time\").is_null()).collect()"
   ]
  },
  {
   "cell_type": "code",
   "execution_count": 16,
   "metadata": {},
   "outputs": [
    {
     "data": {
      "text/html": [
       "<div><style>\n",
       ".dataframe > thead > tr,\n",
       ".dataframe > tbody > tr {\n",
       "  text-align: right;\n",
       "  white-space: pre-wrap;\n",
       "}\n",
       "</style>\n",
       "<small>shape: (0, 7)</small><table border=\"1\" class=\"dataframe\"><thead><tr><th>car_id</th><th>timestamp</th><th>latitude</th><th>longitude</th><th>notification</th><th>distance</th><th>notification_time</th></tr><tr><td>str</td><td>datetime[μs]</td><td>f64</td><td>f64</td><td>str</td><td>f64</td><td>duration[μs]</td></tr></thead><tbody></tbody></table></div>"
      ],
      "text/plain": [
       "shape: (0, 7)\n",
       "┌────────┬──────────────┬──────────┬───────────┬──────────────┬──────────┬───────────────────┐\n",
       "│ car_id ┆ timestamp    ┆ latitude ┆ longitude ┆ notification ┆ distance ┆ notification_time │\n",
       "│ ---    ┆ ---          ┆ ---      ┆ ---       ┆ ---          ┆ ---      ┆ ---               │\n",
       "│ str    ┆ datetime[μs] ┆ f64      ┆ f64       ┆ str          ┆ f64      ┆ duration[μs]      │\n",
       "╞════════╪══════════════╪══════════╪═══════════╪══════════════╪══════════╪═══════════════════╡\n",
       "└────────┴──────────────┴──────────┴───────────┴──────────────┴──────────┴───────────────────┘"
      ]
     },
     "execution_count": 16,
     "metadata": {},
     "output_type": "execute_result"
    }
   ],
   "source": [
    "data.filter(pl.col(\"distance\").is_null()).collect()"
   ]
  },
  {
   "cell_type": "code",
   "execution_count": 17,
   "metadata": {},
   "outputs": [
    {
     "data": {
      "text/html": [
       "<div><style>\n",
       ".dataframe > thead > tr,\n",
       ".dataframe > tbody > tr {\n",
       "  text-align: right;\n",
       "  white-space: pre-wrap;\n",
       "}\n",
       "</style>\n",
       "<small>shape: (6_298_335, 7)</small><table border=\"1\" class=\"dataframe\"><thead><tr><th>car_id</th><th>timestamp</th><th>latitude</th><th>longitude</th><th>notification</th><th>distance</th><th>notification_time</th></tr><tr><td>str</td><td>datetime[μs]</td><td>f64</td><td>f64</td><td>str</td><td>f64</td><td>duration[μs]</td></tr></thead><tbody><tr><td>&quot;car_0&quot;</td><td>2023-01-01 00:01:33.000991</td><td>24.533157</td><td>-108.595081</td><td>null</td><td>0.0</td><td>0µs</td></tr><tr><td>&quot;car_0&quot;</td><td>2023-01-01 00:01:33.000991</td><td>24.533157</td><td>-108.595081</td><td>&quot;low_fuel&quot;</td><td>0.0</td><td>0µs</td></tr><tr><td>&quot;car_0&quot;</td><td>2023-01-01 00:03:12.000208</td><td>24.533157</td><td>-108.595081</td><td>&quot;tire_pressure&quot;</td><td>0.0</td><td>1m 38s 999217µs</td></tr><tr><td>&quot;car_0&quot;</td><td>2023-01-01 00:03:12.000612</td><td>24.533157</td><td>-108.595081</td><td>null</td><td>2.174802</td><td>404µs</td></tr><tr><td>&quot;car_0&quot;</td><td>2023-01-01 00:03:12.000612</td><td>24.542875</td><td>-108.596283</td><td>&quot;engine_check&quot;</td><td>0.0</td><td>0µs</td></tr><tr><td>&hellip;</td><td>&hellip;</td><td>&hellip;</td><td>&hellip;</td><td>&hellip;</td><td>&hellip;</td><td>&hellip;</td></tr><tr><td>&quot;car_999&quot;</td><td>2023-01-07 23:07:09.000601</td><td>28.023287</td><td>-96.601204</td><td>&quot;engine_check&quot;</td><td>0.0</td><td>-3m -58s -999538µs</td></tr><tr><td>&quot;car_999&quot;</td><td>2023-01-07 23:02:42.000997</td><td>28.023287</td><td>-96.601204</td><td>&quot;tire_pressure&quot;</td><td>0.0</td><td>-4m -26s -999604µs</td></tr><tr><td>&quot;car_999&quot;</td><td>2023-01-07 23:06:26.000857</td><td>28.023287</td><td>-96.601204</td><td>&quot;engine_check&quot;</td><td>0.0</td><td>3m 43s 999860µs</td></tr><tr><td>&quot;car_999&quot;</td><td>2023-01-07 23:30:09.000282</td><td>28.023287</td><td>-96.601204</td><td>null</td><td>1.498461</td><td>23m 42s 999425µs</td></tr><tr><td>&quot;car_999&quot;</td><td>2023-01-07 23:30:52.000365</td><td>28.019638</td><td>-96.607621</td><td>&quot;low_fuel&quot;</td><td>0.0</td><td>43s 83µs</td></tr></tbody></table></div>"
      ],
      "text/plain": [
       "shape: (6_298_335, 7)\n",
       "┌─────────┬─────────────────┬───────────┬─────────────┬───────────────┬──────────┬─────────────────┐\n",
       "│ car_id  ┆ timestamp       ┆ latitude  ┆ longitude   ┆ notification  ┆ distance ┆ notification_ti │\n",
       "│ ---     ┆ ---             ┆ ---       ┆ ---         ┆ ---           ┆ ---      ┆ me              │\n",
       "│ str     ┆ datetime[μs]    ┆ f64       ┆ f64         ┆ str           ┆ f64      ┆ ---             │\n",
       "│         ┆                 ┆           ┆             ┆               ┆          ┆ duration[μs]    │\n",
       "╞═════════╪═════════════════╪═══════════╪═════════════╪═══════════════╪══════════╪═════════════════╡\n",
       "│ car_0   ┆ 2023-01-01      ┆ 24.533157 ┆ -108.595081 ┆ null          ┆ 0.0      ┆ 0µs             │\n",
       "│         ┆ 00:01:33.000991 ┆           ┆             ┆               ┆          ┆                 │\n",
       "│ car_0   ┆ 2023-01-01      ┆ 24.533157 ┆ -108.595081 ┆ low_fuel      ┆ 0.0      ┆ 0µs             │\n",
       "│         ┆ 00:01:33.000991 ┆           ┆             ┆               ┆          ┆                 │\n",
       "│ car_0   ┆ 2023-01-01      ┆ 24.533157 ┆ -108.595081 ┆ tire_pressure ┆ 0.0      ┆ 1m 38s 999217µs │\n",
       "│         ┆ 00:03:12.000208 ┆           ┆             ┆               ┆          ┆                 │\n",
       "│ car_0   ┆ 2023-01-01      ┆ 24.533157 ┆ -108.595081 ┆ null          ┆ 2.174802 ┆ 404µs           │\n",
       "│         ┆ 00:03:12.000612 ┆           ┆             ┆               ┆          ┆                 │\n",
       "│ car_0   ┆ 2023-01-01      ┆ 24.542875 ┆ -108.596283 ┆ engine_check  ┆ 0.0      ┆ 0µs             │\n",
       "│         ┆ 00:03:12.000612 ┆           ┆             ┆               ┆          ┆                 │\n",
       "│ …       ┆ …               ┆ …         ┆ …           ┆ …             ┆ …        ┆ …               │\n",
       "│ car_999 ┆ 2023-01-07      ┆ 28.023287 ┆ -96.601204  ┆ engine_check  ┆ 0.0      ┆ -3m -58s        │\n",
       "│         ┆ 23:07:09.000601 ┆           ┆             ┆               ┆          ┆ -999538µs       │\n",
       "│ car_999 ┆ 2023-01-07      ┆ 28.023287 ┆ -96.601204  ┆ tire_pressure ┆ 0.0      ┆ -4m -26s        │\n",
       "│         ┆ 23:02:42.000997 ┆           ┆             ┆               ┆          ┆ -999604µs       │\n",
       "│ car_999 ┆ 2023-01-07      ┆ 28.023287 ┆ -96.601204  ┆ engine_check  ┆ 0.0      ┆ 3m 43s 999860µs │\n",
       "│         ┆ 23:06:26.000857 ┆           ┆             ┆               ┆          ┆                 │\n",
       "│ car_999 ┆ 2023-01-07      ┆ 28.023287 ┆ -96.601204  ┆ null          ┆ 1.498461 ┆ 23m 42s         │\n",
       "│         ┆ 23:30:09.000282 ┆           ┆             ┆               ┆          ┆ 999425µs        │\n",
       "│ car_999 ┆ 2023-01-07      ┆ 28.019638 ┆ -96.607621  ┆ low_fuel      ┆ 0.0      ┆ 43s 83µs        │\n",
       "│         ┆ 23:30:52.000365 ┆           ┆             ┆               ┆          ┆                 │\n",
       "└─────────┴─────────────────┴───────────┴─────────────┴───────────────┴──────────┴─────────────────┘"
      ]
     },
     "execution_count": 17,
     "metadata": {},
     "output_type": "execute_result"
    }
   ],
   "source": [
    "data.sort([\"car_id\", \"timestamp\"])\n",
    "data.collect()"
   ]
  },
  {
   "cell_type": "code",
   "execution_count": 18,
   "metadata": {},
   "outputs": [],
   "source": [
    "data = data.with_columns([\n",
    "    pl.col(\"timestamp\").fill_null(strategy=\"forward\").cast(pl.Datetime),\n",
    "    pl.col(\"notification_time\").fill_null(pl.duration(microseconds=0)),\n",
    "    pl.col(\"distance\").fill_null(0.0).cast(pl.Float64)\n",
    "]).sort([\"car_id\", \"timestamp\"]).collect() "
   ]
  },
  {
   "cell_type": "code",
   "execution_count": 19,
   "metadata": {},
   "outputs": [],
   "source": [
    "data = data.lazy()"
   ]
  },
  {
   "cell_type": "code",
   "execution_count": 20,
   "metadata": {},
   "outputs": [
    {
     "name": "stderr",
     "output_type": "stream",
     "text": [
      "/tmp/ipykernel_49379/2324486689.py:2: DeprecationWarning: The argument `by` for `LazyFrame.group_by_dynamic` is deprecated. It has been renamed to `group_by`.\n",
      "  data_aggregated = (data\n"
     ]
    },
    {
     "data": {
      "text/html": [
       "<div><style>\n",
       ".dataframe > thead > tr,\n",
       ".dataframe > tbody > tr {\n",
       "  text-align: right;\n",
       "  white-space: pre-wrap;\n",
       "}\n",
       "</style>\n",
       "<small>shape: (1_311_697, 12)</small><table border=\"1\" class=\"dataframe\"><thead><tr><th>car_id</th><th>timestamp</th><th>mean_notification_time</th><th>median_notification_time</th><th>var_notification_time</th><th>max_notification_time</th><th>min_notification_time</th><th>mean_distance</th><th>median_distance</th><th>var_distance</th><th>max_distance</th><th>min_distance</th></tr><tr><td>str</td><td>datetime[μs]</td><td>duration[μs]</td><td>duration[μs]</td><td>duration[μs]</td><td>duration[μs]</td><td>duration[μs]</td><td>f64</td><td>f64</td><td>f64</td><td>f64</td><td>f64</td></tr></thead><tbody><tr><td>&quot;car_0&quot;</td><td>2023-01-01 00:00:00</td><td>19s 799924µs</td><td>0µs</td><td>22687d 2h 16m 33s 786894µs</td><td>1m 38s 999217µs</td><td>0µs</td><td>0.43496</td><td>0.0</td><td>0.945953</td><td>2.174802</td><td>0.0</td></tr><tr><td>&quot;car_0&quot;</td><td>2023-01-01 00:30:00</td><td>-9m -9s -571µs</td><td>-9m -9s -571µs</td><td>null</td><td>-9m -9s -571µs</td><td>-9m -9s -571µs</td><td>0.0</td><td>0.0</td><td>null</td><td>0.0</td><td>0.0</td></tr><tr><td>&quot;car_0&quot;</td><td>2023-01-01 00:35:00</td><td>2m 15s 500479µs</td><td>2m 15s 500479µs</td><td>1940050d 11h 14m 21s 29056µs</td><td>7m 5s 359µs</td><td>-2m -33s -999400µs</td><td>0.0</td><td>0.0</td><td>0.0</td><td>0.0</td><td>0.0</td></tr><tr><td>&quot;car_0&quot;</td><td>2023-01-01 00:40:00</td><td>-2m -42s -250362µs</td><td>-2m -54s -340µs</td><td>2835898d 3h 54m 35s 915264µs</td><td>7m 9s 999538µs</td><td>-12m -11s -306µs</td><td>0.407184</td><td>0.0</td><td>0.663197</td><td>1.628738</td><td>0.0</td></tr><tr><td>&quot;car_0&quot;</td><td>2023-01-01 00:45:00</td><td>3m 43s 500054µs</td><td>3m 43s 500054µs</td><td>1156302d 15h 24m 36s 5824µs</td><td>7m 27s 108µs</td><td>0µs</td><td>0.0</td><td>0.0</td><td>0.0</td><td>0.0</td><td>0.0</td></tr><tr><td>&hellip;</td><td>&hellip;</td><td>&hellip;</td><td>&hellip;</td><td>&hellip;</td><td>&hellip;</td><td>&hellip;</td><td>&hellip;</td><td>&hellip;</td><td>&hellip;</td><td>&hellip;</td><td>&hellip;</td></tr><tr><td>&quot;car_999&quot;</td><td>2023-01-07 22:45:00</td><td>6m 326µs</td><td>6m 326µs</td><td>null</td><td>6m 326µs</td><td>6m 326µs</td><td>0.0</td><td>0.0</td><td>null</td><td>0.0</td><td>0.0</td></tr><tr><td>&quot;car_999&quot;</td><td>2023-01-07 23:00:00</td><td>6m 24s 95µs</td><td>49s 999983µs</td><td>8712854d 19h 54m 22s 68992µs</td><td>22m 48s 999908µs</td><td>-4m -26s -999604µs</td><td>0.0</td><td>0.0</td><td>0.0</td><td>0.0</td><td>0.0</td></tr><tr><td>&quot;car_999&quot;</td><td>2023-01-07 23:05:00</td><td>1m 29s 666762µs</td><td>3m 43s 999860µs</td><td>948103d 15h 44m 41s 103408µs</td><td>4m 43s 999965µs</td><td>-3m -58s -999538µs</td><td>0.0</td><td>0.0</td><td>0.0</td><td>0.0</td><td>0.0</td></tr><tr><td>&quot;car_999&quot;</td><td>2023-01-07 23:10:00</td><td>4m 41s 999826µs</td><td>4m 41s 999826µs</td><td>null</td><td>4m 41s 999826µs</td><td>4m 41s 999826µs</td><td>0.0</td><td>0.0</td><td>null</td><td>0.0</td><td>0.0</td></tr><tr><td>&quot;car_999&quot;</td><td>2023-01-07 23:30:00</td><td>8m 8s 666502µs</td><td>43s 83µs</td><td>7583284d 5h 58m 21s 461760µs</td><td>23m 42s 999425µs</td><td>0µs</td><td>0.499487</td><td>0.0</td><td>0.748462</td><td>1.498461</td><td>0.0</td></tr></tbody></table></div>"
      ],
      "text/plain": [
       "shape: (1_311_697, 12)\n",
       "┌─────────┬────────────┬───────────┬───────────┬───┬───────────┬───────────┬───────────┬───────────┐\n",
       "│ car_id  ┆ timestamp  ┆ mean_noti ┆ median_no ┆ … ┆ median_di ┆ var_dista ┆ max_dista ┆ min_dista │\n",
       "│ ---     ┆ ---        ┆ fication_ ┆ tificatio ┆   ┆ stance    ┆ nce       ┆ nce       ┆ nce       │\n",
       "│ str     ┆ datetime[μ ┆ time      ┆ n_time    ┆   ┆ ---       ┆ ---       ┆ ---       ┆ ---       │\n",
       "│         ┆ s]         ┆ ---       ┆ ---       ┆   ┆ f64       ┆ f64       ┆ f64       ┆ f64       │\n",
       "│         ┆            ┆ duration[ ┆ duration[ ┆   ┆           ┆           ┆           ┆           │\n",
       "│         ┆            ┆ μs]       ┆ μs]       ┆   ┆           ┆           ┆           ┆           │\n",
       "╞═════════╪════════════╪═══════════╪═══════════╪═══╪═══════════╪═══════════╪═══════════╪═══════════╡\n",
       "│ car_0   ┆ 2023-01-01 ┆ 19s       ┆ 0µs       ┆ … ┆ 0.0       ┆ 0.945953  ┆ 2.174802  ┆ 0.0       │\n",
       "│         ┆ 00:00:00   ┆ 799924µs  ┆           ┆   ┆           ┆           ┆           ┆           │\n",
       "│ car_0   ┆ 2023-01-01 ┆ -9m -9s   ┆ -9m -9s   ┆ … ┆ 0.0       ┆ null      ┆ 0.0       ┆ 0.0       │\n",
       "│         ┆ 00:30:00   ┆ -571µs    ┆ -571µs    ┆   ┆           ┆           ┆           ┆           │\n",
       "│ car_0   ┆ 2023-01-01 ┆ 2m 15s    ┆ 2m 15s    ┆ … ┆ 0.0       ┆ 0.0       ┆ 0.0       ┆ 0.0       │\n",
       "│         ┆ 00:35:00   ┆ 500479µs  ┆ 500479µs  ┆   ┆           ┆           ┆           ┆           │\n",
       "│ car_0   ┆ 2023-01-01 ┆ -2m -42s  ┆ -2m -54s  ┆ … ┆ 0.0       ┆ 0.663197  ┆ 1.628738  ┆ 0.0       │\n",
       "│         ┆ 00:40:00   ┆ -250362µs ┆ -340µs    ┆   ┆           ┆           ┆           ┆           │\n",
       "│ car_0   ┆ 2023-01-01 ┆ 3m 43s    ┆ 3m 43s    ┆ … ┆ 0.0       ┆ 0.0       ┆ 0.0       ┆ 0.0       │\n",
       "│         ┆ 00:45:00   ┆ 500054µs  ┆ 500054µs  ┆   ┆           ┆           ┆           ┆           │\n",
       "│ …       ┆ …          ┆ …         ┆ …         ┆ … ┆ …         ┆ …         ┆ …         ┆ …         │\n",
       "│ car_999 ┆ 2023-01-07 ┆ 6m 326µs  ┆ 6m 326µs  ┆ … ┆ 0.0       ┆ null      ┆ 0.0       ┆ 0.0       │\n",
       "│         ┆ 22:45:00   ┆           ┆           ┆   ┆           ┆           ┆           ┆           │\n",
       "│ car_999 ┆ 2023-01-07 ┆ 6m 24s    ┆ 49s       ┆ … ┆ 0.0       ┆ 0.0       ┆ 0.0       ┆ 0.0       │\n",
       "│         ┆ 23:00:00   ┆ 95µs      ┆ 999983µs  ┆   ┆           ┆           ┆           ┆           │\n",
       "│ car_999 ┆ 2023-01-07 ┆ 1m 29s    ┆ 3m 43s    ┆ … ┆ 0.0       ┆ 0.0       ┆ 0.0       ┆ 0.0       │\n",
       "│         ┆ 23:05:00   ┆ 666762µs  ┆ 999860µs  ┆   ┆           ┆           ┆           ┆           │\n",
       "│ car_999 ┆ 2023-01-07 ┆ 4m 41s    ┆ 4m 41s    ┆ … ┆ 0.0       ┆ null      ┆ 0.0       ┆ 0.0       │\n",
       "│         ┆ 23:10:00   ┆ 999826µs  ┆ 999826µs  ┆   ┆           ┆           ┆           ┆           │\n",
       "│ car_999 ┆ 2023-01-07 ┆ 8m 8s     ┆ 43s 83µs  ┆ … ┆ 0.0       ┆ 0.748462  ┆ 1.498461  ┆ 0.0       │\n",
       "│         ┆ 23:30:00   ┆ 666502µs  ┆           ┆   ┆           ┆           ┆           ┆           │\n",
       "└─────────┴────────────┴───────────┴───────────┴───┴───────────┴───────────┴───────────┴───────────┘"
      ]
     },
     "execution_count": 20,
     "metadata": {},
     "output_type": "execute_result"
    }
   ],
   "source": [
    "x_minutes = 5\n",
    "data_aggregated = (data\n",
    "    .group_by_dynamic(\n",
    "        index_column=\"timestamp\",\n",
    "        every=f\"{x_minutes}m\",\n",
    "        by=\"car_id\"\n",
    "    )\n",
    "    .agg([\n",
    "        pl.col(\"notification_time\").mean().alias(\"mean_notification_time\"),\n",
    "        pl.col(\"notification_time\").median().alias(\"median_notification_time\"),\n",
    "        pl.col(\"notification_time\").var().alias(\"var_notification_time\"),\n",
    "        pl.col(\"notification_time\").max().alias(\"max_notification_time\"),\n",
    "        pl.col(\"notification_time\").min().alias(\"min_notification_time\"),\n",
    "        pl.col(\"distance\").mean().alias(\"mean_distance\"),\n",
    "        pl.col(\"distance\").median().alias(\"median_distance\"),\n",
    "        pl.col(\"distance\").var().alias(\"var_distance\"),\n",
    "        pl.col(\"distance\").max().alias(\"max_distance\"),\n",
    "        pl.col(\"distance\").min().alias(\"min_distance\"),\n",
    "    ])\n",
    ")\n",
    "\n",
    "result = data_aggregated.collect()\n",
    "result"
   ]
  }
 ],
 "metadata": {
  "kernelspec": {
   "display_name": ".venv",
   "language": "python",
   "name": "python3"
  },
  "language_info": {
   "codemirror_mode": {
    "name": "ipython",
    "version": 3
   },
   "file_extension": ".py",
   "mimetype": "text/x-python",
   "name": "python",
   "nbconvert_exporter": "python",
   "pygments_lexer": "ipython3",
   "version": "3.10.12"
  }
 },
 "nbformat": 4,
 "nbformat_minor": 2
}
