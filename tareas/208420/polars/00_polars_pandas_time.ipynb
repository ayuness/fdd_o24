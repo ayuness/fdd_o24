{
 "cells": [
  {
   "cell_type": "markdown",
   "metadata": {},
   "source": [
    "<a target=\"_blank\" href=\"https://colab.research.google.com/github/sonder-art/fdd_o23/blob/main/codigo/polars/00_polars_pandas_time.ipynb\">\n",
    "  <img src=\"https://colab.research.google.com/assets/colab-badge.svg\" alt=\"Open In Colab\"/>\n",
    "</a>"
   ]
  },
  {
   "cell_type": "code",
   "execution_count": 9,
   "metadata": {},
   "outputs": [],
   "source": [
    "#!pip install polars\n",
    "#! pip install pyarrow"
   ]
  },
  {
   "cell_type": "code",
   "execution_count": 10,
   "metadata": {},
   "outputs": [],
   "source": [
    "import pandas as pd\n",
    "import polars as pl\n",
    "import numpy as np\n"
   ]
  },
  {
   "cell_type": "code",
   "execution_count": 11,
   "metadata": {},
   "outputs": [],
   "source": [
    "# Configuramos el número de filas\n",
    "num_rows = 10_000_000\n",
    "\n",
    "# Creamos un DataFrame de pandas\n",
    "df_pandas = pd.DataFrame({\n",
    "    \"A\": np.random.rand(num_rows),\n",
    "    \"B\": np.random.randint(0, 100, num_rows)\n",
    "})\n",
    "\n",
    "# Convertimos el DataFrame de pandas a un DataFrame de Polars\n",
    "df_polars = pl.from_pandas(df_pandas)\n"
   ]
  },
  {
   "cell_type": "markdown",
   "metadata": {},
   "source": [
    "# Operaciones a comparar"
   ]
  },
  {
   "cell_type": "code",
   "execution_count": 12,
   "metadata": {},
   "outputs": [],
   "source": [
    "import timeit\n"
   ]
  },
  {
   "cell_type": "markdown",
   "metadata": {},
   "source": [
    "## Filtrado"
   ]
  },
  {
   "cell_type": "code",
   "execution_count": 13,
   "metadata": {},
   "outputs": [
    {
     "name": "stdout",
     "output_type": "stream",
     "text": [
      "Pandas Filtrado: 0.18990711303194985 segundos\n",
      "Polars Filtrado: 0.03473447897704318 segundos\n"
     ]
    }
   ],
   "source": [
    "\n",
    "# Filtrado en pandas\n",
    "def filter_pandas():\n",
    "    return df_pandas[df_pandas[\"A\"] < 0.5]\n",
    "\n",
    "# Filtrado en Polars\n",
    "def filter_polars():\n",
    "    return df_polars.filter(pl.col(\"A\") < 0.5)\n",
    "\n",
    "time_pandas_filter = timeit.timeit(filter_pandas, number=1)\n",
    "time_polars_filter = timeit.timeit(filter_polars, number=1)\n",
    "\n",
    "print(f\"Pandas Filtrado: {time_pandas_filter} segundos\")\n",
    "print(f\"Polars Filtrado: {time_polars_filter} segundos\")\n"
   ]
  },
  {
   "cell_type": "markdown",
   "metadata": {},
   "source": [
    "## Agregacion"
   ]
  },
  {
   "cell_type": "code",
   "execution_count": 14,
   "metadata": {},
   "outputs": [
    {
     "ename": "AttributeError",
     "evalue": "'DataFrame' object has no attribute 'groupby'",
     "output_type": "error",
     "traceback": [
      "\u001b[0;31m---------------------------------------------------------------------------\u001b[0m",
      "\u001b[0;31mAttributeError\u001b[0m                            Traceback (most recent call last)",
      "Cell \u001b[0;32mIn[14], line 10\u001b[0m\n\u001b[1;32m      7\u001b[0m     \u001b[38;5;28;01mreturn\u001b[39;00m df_polars\u001b[38;5;241m.\u001b[39mgroupby(\u001b[38;5;124m\"\u001b[39m\u001b[38;5;124mB\u001b[39m\u001b[38;5;124m\"\u001b[39m)\u001b[38;5;241m.\u001b[39magg(pl\u001b[38;5;241m.\u001b[39mcol(\u001b[38;5;124m\"\u001b[39m\u001b[38;5;124mA\u001b[39m\u001b[38;5;124m\"\u001b[39m)\u001b[38;5;241m.\u001b[39mmean())\n\u001b[1;32m      9\u001b[0m time_pandas_agg \u001b[38;5;241m=\u001b[39m timeit\u001b[38;5;241m.\u001b[39mtimeit(aggregate_pandas, number\u001b[38;5;241m=\u001b[39m\u001b[38;5;241m1\u001b[39m)\n\u001b[0;32m---> 10\u001b[0m time_polars_agg \u001b[38;5;241m=\u001b[39m \u001b[43mtimeit\u001b[49m\u001b[38;5;241;43m.\u001b[39;49m\u001b[43mtimeit\u001b[49m\u001b[43m(\u001b[49m\u001b[43maggregate_polars\u001b[49m\u001b[43m,\u001b[49m\u001b[43m \u001b[49m\u001b[43mnumber\u001b[49m\u001b[38;5;241;43m=\u001b[39;49m\u001b[38;5;241;43m1\u001b[39;49m\u001b[43m)\u001b[49m\n\u001b[1;32m     12\u001b[0m \u001b[38;5;28mprint\u001b[39m(\u001b[38;5;124mf\u001b[39m\u001b[38;5;124m\"\u001b[39m\u001b[38;5;124mPandas Agregación: \u001b[39m\u001b[38;5;132;01m{\u001b[39;00mtime_pandas_agg\u001b[38;5;132;01m}\u001b[39;00m\u001b[38;5;124m segundos\u001b[39m\u001b[38;5;124m\"\u001b[39m)\n\u001b[1;32m     13\u001b[0m \u001b[38;5;28mprint\u001b[39m(\u001b[38;5;124mf\u001b[39m\u001b[38;5;124m\"\u001b[39m\u001b[38;5;124mPolars Agregación: \u001b[39m\u001b[38;5;132;01m{\u001b[39;00mtime_polars_agg\u001b[38;5;132;01m}\u001b[39;00m\u001b[38;5;124m segundos\u001b[39m\u001b[38;5;124m\"\u001b[39m)\n",
      "File \u001b[0;32m/usr/lib/python3.10/timeit.py:234\u001b[0m, in \u001b[0;36mtimeit\u001b[0;34m(stmt, setup, timer, number, globals)\u001b[0m\n\u001b[1;32m    231\u001b[0m \u001b[38;5;28;01mdef\u001b[39;00m \u001b[38;5;21mtimeit\u001b[39m(stmt\u001b[38;5;241m=\u001b[39m\u001b[38;5;124m\"\u001b[39m\u001b[38;5;124mpass\u001b[39m\u001b[38;5;124m\"\u001b[39m, setup\u001b[38;5;241m=\u001b[39m\u001b[38;5;124m\"\u001b[39m\u001b[38;5;124mpass\u001b[39m\u001b[38;5;124m\"\u001b[39m, timer\u001b[38;5;241m=\u001b[39mdefault_timer,\n\u001b[1;32m    232\u001b[0m            number\u001b[38;5;241m=\u001b[39mdefault_number, \u001b[38;5;28mglobals\u001b[39m\u001b[38;5;241m=\u001b[39m\u001b[38;5;28;01mNone\u001b[39;00m):\n\u001b[1;32m    233\u001b[0m \u001b[38;5;250m    \u001b[39m\u001b[38;5;124;03m\"\"\"Convenience function to create Timer object and call timeit method.\"\"\"\u001b[39;00m\n\u001b[0;32m--> 234\u001b[0m     \u001b[38;5;28;01mreturn\u001b[39;00m \u001b[43mTimer\u001b[49m\u001b[43m(\u001b[49m\u001b[43mstmt\u001b[49m\u001b[43m,\u001b[49m\u001b[43m \u001b[49m\u001b[43msetup\u001b[49m\u001b[43m,\u001b[49m\u001b[43m \u001b[49m\u001b[43mtimer\u001b[49m\u001b[43m,\u001b[49m\u001b[43m \u001b[49m\u001b[38;5;28;43mglobals\u001b[39;49m\u001b[43m)\u001b[49m\u001b[38;5;241;43m.\u001b[39;49m\u001b[43mtimeit\u001b[49m\u001b[43m(\u001b[49m\u001b[43mnumber\u001b[49m\u001b[43m)\u001b[49m\n",
      "File \u001b[0;32m/usr/lib/python3.10/timeit.py:178\u001b[0m, in \u001b[0;36mTimer.timeit\u001b[0;34m(self, number)\u001b[0m\n\u001b[1;32m    176\u001b[0m gc\u001b[38;5;241m.\u001b[39mdisable()\n\u001b[1;32m    177\u001b[0m \u001b[38;5;28;01mtry\u001b[39;00m:\n\u001b[0;32m--> 178\u001b[0m     timing \u001b[38;5;241m=\u001b[39m \u001b[38;5;28;43mself\u001b[39;49m\u001b[38;5;241;43m.\u001b[39;49m\u001b[43minner\u001b[49m\u001b[43m(\u001b[49m\u001b[43mit\u001b[49m\u001b[43m,\u001b[49m\u001b[43m \u001b[49m\u001b[38;5;28;43mself\u001b[39;49m\u001b[38;5;241;43m.\u001b[39;49m\u001b[43mtimer\u001b[49m\u001b[43m)\u001b[49m\n\u001b[1;32m    179\u001b[0m \u001b[38;5;28;01mfinally\u001b[39;00m:\n\u001b[1;32m    180\u001b[0m     \u001b[38;5;28;01mif\u001b[39;00m gcold:\n",
      "File \u001b[0;32m<timeit-src>:6\u001b[0m, in \u001b[0;36minner\u001b[0;34m(_it, _timer, _stmt)\u001b[0m\n",
      "Cell \u001b[0;32mIn[14], line 7\u001b[0m, in \u001b[0;36maggregate_polars\u001b[0;34m()\u001b[0m\n\u001b[1;32m      6\u001b[0m \u001b[38;5;28;01mdef\u001b[39;00m \u001b[38;5;21maggregate_polars\u001b[39m():\n\u001b[0;32m----> 7\u001b[0m     \u001b[38;5;28;01mreturn\u001b[39;00m \u001b[43mdf_polars\u001b[49m\u001b[38;5;241;43m.\u001b[39;49m\u001b[43mgroupby\u001b[49m(\u001b[38;5;124m\"\u001b[39m\u001b[38;5;124mB\u001b[39m\u001b[38;5;124m\"\u001b[39m)\u001b[38;5;241m.\u001b[39magg(pl\u001b[38;5;241m.\u001b[39mcol(\u001b[38;5;124m\"\u001b[39m\u001b[38;5;124mA\u001b[39m\u001b[38;5;124m\"\u001b[39m)\u001b[38;5;241m.\u001b[39mmean())\n",
      "\u001b[0;31mAttributeError\u001b[0m: 'DataFrame' object has no attribute 'groupby'"
     ]
    }
   ],
   "source": [
    "# Agregación en pandas\n",
    "def aggregate_pandas():\n",
    "    return df_pandas.groupby(\"B\").agg({\"A\": \"mean\"})\n",
    "\n",
    "# Agregación en Polars\n",
    "def aggregate_polars():\n",
    "    return df_polars.groupby(\"B\").agg(pl.col(\"A\").mean())\n",
    "\n",
    "time_pandas_agg = timeit.timeit(aggregate_pandas, number=1)\n",
    "time_polars_agg = timeit.timeit(aggregate_polars, number=1)\n",
    "\n",
    "print(f\"Pandas Agregación: {time_pandas_agg} segundos\")\n",
    "print(f\"Polars Agregación: {time_polars_agg} segundos\")\n"
   ]
  },
  {
   "cell_type": "markdown",
   "metadata": {},
   "source": [
    "## Operaciones Columna"
   ]
  },
  {
   "cell_type": "code",
   "execution_count": 15,
   "metadata": {},
   "outputs": [
    {
     "name": "stdout",
     "output_type": "stream",
     "text": [
      "Pandas Operaciones de Columna: 0.14228721900144592 segundos\n",
      "Polars Operaciones de Columna: 0.06727091100765392 segundos\n"
     ]
    }
   ],
   "source": [
    "# Operaciones de columna en pandas\n",
    "def column_ops_pandas():\n",
    "    df_pandas[\"C\"] = df_pandas[\"A\"] + df_pandas[\"B\"]\n",
    "\n",
    "# Operaciones de columna en Polars\n",
    "def column_ops_polars():\n",
    "    df_polars.with_columns((pl.col(\"A\") + pl.col(\"B\")).alias(\"C\"))\n",
    "\n",
    "time_pandas_col_ops = timeit.timeit(column_ops_pandas, number=1)\n",
    "time_polars_col_ops = timeit.timeit(column_ops_polars, number=1)\n",
    "\n",
    "print(f\"Pandas Operaciones de Columna: {time_pandas_col_ops} segundos\")\n",
    "print(f\"Polars Operaciones de Columna: {time_polars_col_ops} segundos\")\n"
   ]
  },
  {
   "cell_type": "markdown",
   "metadata": {},
   "source": [
    "# Guardar Datos"
   ]
  },
  {
   "cell_type": "code",
   "execution_count": 16,
   "metadata": {},
   "outputs": [],
   "source": [
    "import os"
   ]
  },
  {
   "cell_type": "code",
   "execution_count": 17,
   "metadata": {},
   "outputs": [
    {
     "name": "stdout",
     "output_type": "stream",
     "text": [
      "Tiempo de escritura en CSV (pandas): 36.866755882045254 segundos\n",
      "Tamaño del archivo CSV: 403526203 bytes\n"
     ]
    }
   ],
   "source": [
    "def write_csv_pandas():\n",
    "    df_pandas.to_csv(\"data_pandas.csv\", index=False)\n",
    "\n",
    "time_write_csv_pandas = timeit.timeit(write_csv_pandas, number=1)\n",
    "print(f\"Tiempo de escritura en CSV (pandas): {time_write_csv_pandas} segundos\")\n",
    "\n",
    "# Tamaño del archivo CSV\n",
    "size_csv = os.path.getsize(\"data_pandas.csv\")\n",
    "print(f\"Tamaño del archivo CSV: {size_csv} bytes\")\n"
   ]
  },
  {
   "cell_type": "code",
   "execution_count": null,
   "metadata": {},
   "outputs": [
    {
     "name": "stdout",
     "output_type": "stream",
     "text": [
      "Tiempo de escritura en Parquet (Polars): 0.2970542149996618 segundos\n",
      "Tamaño del archivo Parquet: 86475968 bytes\n"
     ]
    }
   ],
   "source": [
    "def write_parquet_polars():\n",
    "    df_polars.write_parquet(\"data_polars.parquet\")\n",
    "\n",
    "time_write_parquet_polars = timeit.timeit(write_parquet_polars, number=1)\n",
    "print(f\"Tiempo de escritura en Parquet (Polars): {time_write_parquet_polars} segundos\")\n",
    "\n",
    "# Tamaño del archivo Parquet\n",
    "size_parquet = os.path.getsize(\"data_polars.parquet\")\n",
    "print(f\"Tamaño del archivo Parquet: {size_parquet} bytes\")\n"
   ]
  },
  {
   "cell_type": "markdown",
   "metadata": {},
   "source": [
    "## Leer Datos"
   ]
  },
  {
   "cell_type": "code",
   "execution_count": null,
   "metadata": {},
   "outputs": [
    {
     "name": "stdout",
     "output_type": "stream",
     "text": [
      "Tiempo de lectura desde CSV (pandas): 3.0806981419991644 segundos\n"
     ]
    }
   ],
   "source": [
    "def read_csv_pandas():\n",
    "    pd.read_csv(\"data_pandas.csv\")\n",
    "\n",
    "time_read_csv_pandas = timeit.timeit(read_csv_pandas, number=1)\n",
    "print(f\"Tiempo de lectura desde CSV (pandas): {time_read_csv_pandas} segundos\")\n"
   ]
  },
  {
   "cell_type": "code",
   "execution_count": null,
   "metadata": {},
   "outputs": [
    {
     "name": "stdout",
     "output_type": "stream",
     "text": [
      "Tiempo de lectura desde Parquet (Polars): 0.08447328300098889 segundos\n"
     ]
    }
   ],
   "source": [
    "def read_parquet_polars():\n",
    "    pl.read_parquet(\"data_polars.parquet\")\n",
    "\n",
    "time_read_parquet_polars = timeit.timeit(read_parquet_polars, number=1)\n",
    "print(f\"Tiempo de lectura desde Parquet (Polars): {time_read_parquet_polars} segundos\")\n"
   ]
  }
 ],
 "metadata": {
  "kernelspec": {
   "display_name": ".venv",
   "language": "python",
   "name": "python3"
  },
  "language_info": {
   "codemirror_mode": {
    "name": "ipython",
    "version": 3
   },
   "file_extension": ".py",
   "mimetype": "text/x-python",
   "name": "python",
   "nbconvert_exporter": "python",
   "pygments_lexer": "ipython3",
   "version": "3.10.12"
  }
 },
 "nbformat": 4,
 "nbformat_minor": 2
}
